{
 "cells": [
  {
   "cell_type": "markdown",
   "id": "33b5bc9c-e656-4616-980d-61aba162a78e",
   "metadata": {},
   "source": [
    "# LIBRARIES"
   ]
  },
  {
   "cell_type": "markdown",
   "id": "ceaeaab5-42af-477a-b970-fae29aeb4e8c",
   "metadata": {},
   "source": [
    "* Execute this cell to import the libraries we need."
   ]
  },
  {
   "cell_type": "code",
   "execution_count": null,
   "id": "27102aa0-3a83-4c08-bb72-8f665ee9a90d",
   "metadata": {},
   "outputs": [],
   "source": [
    "import numpy as np\n",
    "import pandas as pd\n",
    "import matplotlib.pyplot as plt\n",
    "import scipy"
   ]
  },
  {
   "cell_type": "markdown",
   "id": "199f581b-f929-4637-a706-184b37968e78",
   "metadata": {},
   "source": [
    "<br/><br/>\n",
    "<!--  -->"
   ]
  },
  {
   "cell_type": "markdown",
   "id": "2ded0f94-0d9c-4ebb-9f1a-55ea411929ad",
   "metadata": {},
   "source": [
    "# WARMUP"
   ]
  },
  {
   "cell_type": "markdown",
   "id": "b070ce7e-7451-422d-8a49-7db179f866aa",
   "metadata": {},
   "source": [
    "## HERON'S METHOD \n",
    "<!-- TIGHTEN UP PHRASING HERE -->\n",
    "Iterative numerical algorithms are a pillar of computational science, and we will use them throughout this virtual lab.  \n",
    "Here, you will write a Python function implementing one of the simplest ones.  \n",
    "  \n",
    "Heron's algorithm for iteratively calculating the square root of a number N is as follows:\n",
    "1. Start with a positive guess, $g$.\n",
    "2. Generate a new guess, $g_{new}$, with the following formula:  \n",
    "       $g_{new} = \\frac{( g + \\frac{N}{g} )}{2}$  \n",
    "3. Repeat step 2 until desired convergence is achieved."
   ]
  },
  {
   "cell_type": "markdown",
   "id": "5ac476af-5b38-4b7e-8aa3-ce264ace180a",
   "metadata": {},
   "source": [
    "### CODE\n",
    "* Write two functions to approximate the square root of a number using Heron's method.\n",
    "* The first should use three iterations.\n",
    "* The second should use ten iterations. \n",
    "* Test each function using the numbers 10, 27, 81, and 2401."
   ]
  },
  {
   "cell_type": "code",
   "execution_count": null,
   "id": "6a99a77c-bc47-4d92-b307-6bf3fc031454",
   "metadata": {},
   "outputs": [],
   "source": []
  },
  {
   "cell_type": "code",
   "execution_count": null,
   "id": "cd75d78f-eb4f-40e6-a639-1851814f47ed",
   "metadata": {},
   "outputs": [],
   "source": []
  },
  {
   "cell_type": "code",
   "execution_count": null,
   "id": "598df140-9fa5-4111-8d87-a2251b76f3e9",
   "metadata": {},
   "outputs": [],
   "source": []
  },
  {
   "cell_type": "markdown",
   "id": "077104f3-3770-4d82-b436-e093ec526ec4",
   "metadata": {},
   "source": [
    "<br/><br/>\n",
    "<br/><br/>\n",
    "<!--  -->"
   ]
  },
  {
   "cell_type": "markdown",
   "id": "b2e501fc-6458-4a8d-bf03-76d1b1637580",
   "metadata": {},
   "source": [
    "# OPTICS"
   ]
  },
  {
   "cell_type": "markdown",
   "id": "140c1db0-0112-45c0-af1f-2c6f30da3e95",
   "metadata": {},
   "source": [
    "## PART 1 - DISTANCE AND TIME FUNCTIONS\n",
    "We will be simulating the behavior of light using two known properties:\n",
    "\n",
    "1. The speed of light changes depending on the medium it travels through.  \n",
    "2. A light ray always follows the path of shortest time between two points.\n",
    "   \n",
    "This will allow us to explore some interesting emergent behavior.  \n",
    "Before we can do this, we need functions to calculate distance and travel time."
   ]
  },
  {
   "cell_type": "markdown",
   "id": "4b8ad03a-170b-4b17-90c7-c7088fb47d8b",
   "metadata": {},
   "source": [
    "### CODE\n",
    "\n",
    "* Complete the functions for distance and time.\n",
    "* Test your code using the provided blocks to ensure it functions properly."
   ]
  },
  {
   "cell_type": "code",
   "execution_count": null,
   "id": "c27cd074-50c0-4a32-a574-3ba5c722782d",
   "metadata": {},
   "outputs": [],
   "source": [
    "def distance(p1,p2):\n",
    "    '''\n",
    "    Parameters:\n",
    "    p1, p2 - positions, vectors (as list, tuple, or np.array)\n",
    "    Returns:\n",
    "    dist   - scalar distance between p1 and p2\n",
    "    '''\n",
    "    p1 = np.array(p1)\n",
    "    p2 = np.array(p2)\n",
    "    # finish the function!\n",
    "    # p1 and p2 are (x,y) pairs. You can access x or y using the subscript operator []:\n",
    "    # p1_x = p1[0] ; p1_y = p1[1] , etc\n",
    "    \n",
    "    return dist"
   ]
  },
  {
   "cell_type": "code",
   "execution_count": null,
   "id": "26a9646c-6579-4a38-b3f4-3391b70f87d1",
   "metadata": {},
   "outputs": [],
   "source": [
    "def total_time(p1,p2,p3,s1,s2):\n",
    "    '''\n",
    "    Parameters:\n",
    "    p1, p2, p3  -  positions, vectors (as list, tuple, or np.array)   \n",
    "    s_1, s_2    -  speeds, scalar\n",
    "    Returns: \n",
    "    travel_time - Total time for path p1 => p2 => p3, scalar\n",
    "    '''\n",
    "    p1 = np.array(p1)\n",
    "    p2 = np.array(p2)\n",
    "    p3 = np.array(p3)\n",
    "    #finish the function!\n",
    "    # Use your distance function as part of your solution to this problem.\n",
    "\n",
    "    return travel_time"
   ]
  },
  {
   "cell_type": "code",
   "execution_count": null,
   "id": "c81a26ab-02a5-4b73-8779-5bc2064b82a5",
   "metadata": {},
   "outputs": [],
   "source": [
    "distance_test = [\n",
    "    # input  | expected output\n",
    "    (( [1.0,0.0],[0.0,1.0] ), np.sqrt(2)),\n",
    "    (( [0.0,0.0],[1.0,0.0] ), 1),\n",
    "    (( [0.0,0.0],[np.sqrt(3),1.0] ), 2) \n",
    "]\n",
    "for test_input, expected_output in distance_test:\n",
    "    point1, point2 = test_input\n",
    "    actual_output = distance(point1,point2)\n",
    "    print(f\"Expected output: {expected_output:4f}\")\n",
    "    print(f\"Actual output: {actual_output:.4f}\")\n",
    "    print()"
   ]
  },
  {
   "cell_type": "code",
   "execution_count": null,
   "id": "9174bec5-134e-4556-bcf1-4061db2ee78f",
   "metadata": {},
   "outputs": [],
   "source": [
    "time_test = [\n",
    "    # input                                 | expected output\n",
    "    (( [0.0,1.0],[0.5,0.5],[1.0,0.0],2,4 ), 0.5303),\n",
    "    (( [0.0,1.0],[0.3,0.5],[1.0,0.0],3,5 ), 0.3664),\n",
    "    (( [0.0,1.0],[0.7,0.5],[1.0,0.0],3,5 ), 0.4034),\n",
    "]\n",
    "for test_input, expected_output in time_test:\n",
    "    p1, p2,p3,s1,s2 = test_input\n",
    "    actual_output = total_time(p1,p2,p3,s1,s2)\n",
    "    print(f\"Expected output: {expected_output:.4f}\")\n",
    "    print(f\"Actual output: {actual_output:.4f}\")\n",
    "    print()"
   ]
  },
  {
   "cell_type": "markdown",
   "id": "2d59d9bd-902b-464f-a202-90247baae55b",
   "metadata": {},
   "source": [
    "### SHORT RESPONSE QUESTIONS\n",
    "1. According to the tests, do your functions produce the expected values?\n",
    "2. Why is it important that we test our code?\n",
    "### ANSWER"
   ]
  },
  {
   "cell_type": "markdown",
   "id": "c880a5a2-ba9a-415f-a8be-0030c61d96e1",
   "metadata": {},
   "source": []
  },
  {
   "cell_type": "markdown",
   "id": "fb9a651e-4917-42f4-b0b1-52d986f0cb24",
   "metadata": {},
   "source": [
    "<br/><br/>\n",
    "<!--  -->"
   ]
  },
  {
   "cell_type": "markdown",
   "id": "1637cbe3-4ad8-4162-98ef-3c6b766efed7",
   "metadata": {},
   "source": [
    "## PART 2 - PATH OF LEAST TIME   \n",
    "We will plot the path of light as it travels through two different media.  \n",
    "Observe how the point at which the light ray intersects the boundary of the two media changes its travel time."
   ]
  },
  {
   "cell_type": "markdown",
   "id": "2df76990-4db3-4483-b6a3-ef3f53cbe36e",
   "metadata": {},
   "source": [
    "### GIVEN FUNCTIONS\n",
    "\n",
    "* Execute the blocks containing the given functions. Don't modify these."
   ]
  },
  {
   "cell_type": "code",
   "execution_count": null,
   "id": "700cbe29-b860-4843-b8ac-2939e23110b0",
   "metadata": {},
   "outputs": [],
   "source": [
    "from matplotlib.patches import Arc\n",
    "\n",
    "def light_travel_plot(p1,p2,p3,incident_angle,refractive_angle,v1=1.0,v2=0.8,travel_time=1.0): #give them this function\n",
    "    x = np.array([p1[0],p2[0],p3[0]])\n",
    "    y = np.array([p1[1],p2[1],p3[1]])\n",
    "\n",
    "    #draw points connecting lines\n",
    "    plt.scatter(x,y)\n",
    "    plt.plot(x, y, linestyle='-', color='red')\n",
    "\n",
    "    plt.xlim(-0.1,1.1) \n",
    "    plt.ylim(0,1)\n",
    "    #fill medium below interface\n",
    "    plt.axhspan(0, p2[1], color='gray', alpha=0.5)\n",
    "\n",
    "    #calculate normal vector at interface\n",
    "    incident_norm = np.array([0,0.5]) \n",
    "    refractive_norm = np.array([0,-0.5]) \n",
    "    \n",
    "    plt.quiver(p2[0], p2[1], incident_norm[0], incident_norm[1],\n",
    "               angles='xy', scale_units='xy', scale=0.1, color='blue', label='Normal',\n",
    "              alpha = 0.3)\n",
    "\n",
    "    plt.quiver(p2[0], p2[1], refractive_norm[0], refractive_norm[1],\n",
    "               angles='xy', scale_units='xy', scale=0.1, color='blue', label='Normal',\n",
    "              alpha = 0.3)\n",
    "    \n",
    "    arc = Arc(p2,0.3,0.3,theta1=90,theta2=90+np.degrees(incident_angle),color='green')\n",
    "    plt.gca().add_patch(arc)\n",
    "    \n",
    "    arc = Arc(p2,0.3,0.3,theta1=270,theta2=270+np.degrees(refractive_angle),color='green')\n",
    "    plt.gca().add_patch(arc)\n",
    "\n",
    "    plt.text(p2[0] + 0.01, p2[1] + 0.15, f'{np.degrees(incident_angle):.1f}°', color='black')\n",
    "    plt.text(p2[0] - 0.08, p2[1] - 0.15, f'{np.degrees(refractive_angle):.1f}°', color='black')\n",
    "\n",
    "    plt.text(p2[0] - 0.25,p2[1] + 0.25, f'$s1 = {v1}$',color = 'black',fontsize='large')\n",
    "    plt.text(p2[0] - 0.25,p2[1] - 0.25, f'$s2 = {v2}$', color = 'black',fontsize='large')\n",
    "\n",
    "    plt.text(0.05,0.60,f't = {travel_time:.4f}',color = 'red',fontsize='large')\n",
    "    \n",
    "    plt.show()"
   ]
  },
  {
   "cell_type": "code",
   "execution_count": null,
   "id": "65bf3a1c-bca1-4d2a-9dfd-9f9c50cfa61a",
   "metadata": {},
   "outputs": [],
   "source": [
    "def calculate_angles(p1,p2,p3): #through a line at x = 0.5\n",
    "    vec_1 = p1 - p2\n",
    "    intersection_line = [0,1]\n",
    "    vec_1_norm = vec_1 / np.linalg.norm(vec_1)\n",
    "    angle_between_1 = np.arccos(np.dot(vec_1_norm, intersection_line))\n",
    "\n",
    "    vec_2 = p3 - p2\n",
    "    intersection_line = [0,-1]\n",
    "    vec_2_norm = vec_2 / np.linalg.norm(vec_2)\n",
    "    angle_between_2 = np.arccos(np.dot(vec_2_norm, intersection_line))\n",
    "    \n",
    "    return angle_between_1,angle_between_2"
   ]
  },
  {
   "cell_type": "code",
   "execution_count": null,
   "id": "97b70a5e-7e3f-413e-9217-f1a22409a9b9",
   "metadata": {},
   "outputs": [],
   "source": [
    "def calculate_and_plot(top_x,mid_x,low_x,v1,v2,plot=True):\n",
    "    p1 = np.array([top_x,1])\n",
    "    p2 = np.array([mid_x,0.5])\n",
    "    p3 = np.array([low_x,0])\n",
    "    angle_1,angle_2 = calculate_angles(p1,p2,p3)\n",
    "    time = total_time(p1,p2,p3,v1,v2)\n",
    "    if plot:\n",
    "        light_travel_plot(p1,p2,p3,angle_1,angle_2,v1,v2,time) \n",
    "    return (angle_1,angle_2,time)"
   ]
  },
  {
   "cell_type": "code",
   "execution_count": null,
   "id": "45ada8bf-1ba4-4478-bfec-aa620bcbd316",
   "metadata": {},
   "outputs": [],
   "source": [
    "def make_travel_time_function(top_x,low_x,v1,v2):\n",
    "    p1 = np.array([top_x,1])\n",
    "    p3 = np.array([low_x,0])\n",
    "    def calculate_time(mid_x):\n",
    "        p2 = np.array([mid_x,0.5])\n",
    "        time_val = float(total_time(p1,p2,p3,v1,v2))\n",
    "        return time_val\n",
    "    return calculate_time"
   ]
  },
  {
   "cell_type": "markdown",
   "id": "a7b950cc-f7a2-408a-9c2c-cd978b3d9ec1",
   "metadata": {},
   "source": [
    "### CODE\n",
    "\n",
    "* Choose three different, progressively better guesses for the x coordinate of the boundary intersection for the path of least time. Display the resulting path and time using calculate_and_plot().\n",
    "* Find the intersection with the shortest travel time by numerical optimization using scipy.optimize.minimize_scalar(). __This part is provided for you, but leave comments explaining what each line does.__\n"
   ]
  },
  {
   "cell_type": "code",
   "execution_count": null,
   "id": "5dc7050a-5c57-453d-a52f-f730579be2e1",
   "metadata": {},
   "outputs": [],
   "source": [
    "top_x = 0.0\n",
    "low_x = 1.0\n",
    "s1 = 1.0\n",
    "s2 = 0.8\n",
    "\n",
    "mid_x = #CHOOSE SOME VALUE \n",
    "data =calculate_and_plot(top_x,mid_x,low_x,s1,s2)\n",
    "#copy paste the above two lines two more times, with different and progressively better values of mid_x"
   ]
  },
  {
   "cell_type": "markdown",
   "id": "d6ce2ac8-e255-45bd-8978-c294e0a7bbce",
   "metadata": {},
   "source": [
    "- Leave comments explaining what this next one does!"
   ]
  },
  {
   "cell_type": "code",
   "execution_count": null,
   "id": "50b14c99-ea89-4572-bdd2-9f653c6a266c",
   "metadata": {},
   "outputs": [],
   "source": [
    "one_var_function = make_travel_time_function(top_x,low_x,s1,s2)\n",
    "data = scipy.optimize.minimize_scalar(one_var_function) \n",
    "best_x = data['x']\n",
    "data = calculate_and_plot(top_x,best_x,low_x,s1,s2)\n",
    "print(f'optimized boundary x-coordinate: {best_x}')"
   ]
  },
  {
   "cell_type": "markdown",
   "id": "ab0a757d-be0a-451d-86b5-67056f7e8c66",
   "metadata": {},
   "source": [
    "### SHORT RESPONSE QUESTIONS\n",
    "1. For the numerically solved path of least time, which angle is larger - incident or refracted?\n",
    "2. Would this hold if we changed the position of the top and bottom points? Why?\n",
    "3. What if we swapped the respective speeds of light for each medium- would this relationship still be true? Why?\n",
    "### ANSWER"
   ]
  },
  {
   "cell_type": "markdown",
   "id": "bbd9fb14-de78-42e3-8758-e052c261d12f",
   "metadata": {},
   "source": []
  },
  {
   "cell_type": "markdown",
   "id": "384cf7cc-e99e-4e97-838c-86b00f85c017",
   "metadata": {},
   "source": [
    "<br/><br/>\n",
    "<!--  -->"
   ]
  },
  {
   "cell_type": "markdown",
   "id": "4bb7211b-16f0-4027-8e86-c73152eddd17",
   "metadata": {},
   "source": [
    "## PART 3 - INCIDENT AND REFRACTED ANGLE\n",
    "Now, observe how the incident and refracted angle change for the path of shortest time, as we change the start and end point of the light ray.\n",
    "  \n",
    "<!-- No obvious questions to answer?  Maybe these should be put in the short answer portion or dispersed throughout the activity so that the students don't get confused. -->\n"
   ]
  },
  {
   "cell_type": "markdown",
   "id": "d482e0d1-d1c8-47af-a486-d9c88f1de7a6",
   "metadata": {},
   "source": [
    "### GIVEN FUNCTIONS\n",
    "\n",
    "* Execute the blocks containing the given functions. Don't modify these."
   ]
  },
  {
   "cell_type": "code",
   "execution_count": null,
   "id": "9504935f-46c3-400a-8102-8a59c570abd9",
   "metadata": {},
   "outputs": [],
   "source": [
    "from scipy.optimize import minimize_scalar\n",
    "def theta_vals(s1,s2,plot=True):\n",
    "    p1_x_vals = np.linspace(0.0,1.0,6)\n",
    "    inc_angles = []\n",
    "    ref_angles = []\n",
    "    for p1_x in p1_x_vals:\n",
    "        best_x = scipy.optimize.minimize_scalar(make_travel_time_function(p1_x,1.0,s1,s2))['x']\n",
    "        inc_angle, ref_angle, time = calculate_and_plot(p1_x,best_x,1.0,s1,s2,plot)\n",
    "        inc_angles.append(inc_angle)\n",
    "        ref_angles.append(ref_angle)\n",
    "    return inc_angles,ref_angles"
   ]
  },
  {
   "cell_type": "markdown",
   "id": "64227f55-eb42-4d28-a899-46f7521c902b",
   "metadata": {},
   "source": [
    "### CODE\n",
    "\n",
    "* Use theta_vals to obtain refraction plots for several different starting positions of points. We will use this to explore the relationship between incident and refracted angle.\n",
    " \n",
    "* Plot refracted versus incident angle, by plugging inc_angles and ref_angles into plt.plot(x,y).\n",
    "\n",
    "* Plot sin(refracted) versus sin(incident) in the same manner. _Hint: inc_angles and ref_angles are __np.array__ objects, so we can do math with them. Try the np.sin() function._"
   ]
  },
  {
   "cell_type": "code",
   "execution_count": null,
   "id": "8d830aba-3ff2-457a-8ebc-0cc33417ce67",
   "metadata": {},
   "outputs": [],
   "source": [
    "# choose a set of values for s1 and s2!\n",
    "s1 = #\n",
    "s2 = #\n",
    "\n",
    "#theta_vals, in addition to making refraction plots, also returns a list of incident angles \n",
    "#and a list of corresponding refracted angles (see below)!\n",
    "inc_angles, ref_angles = theta_vals(s1,s2,plot=True)\n",
    "# use the inc_angles and ref_angles variables assigned here as arguments in the next part!"
   ]
  },
  {
   "cell_type": "code",
   "execution_count": null,
   "id": "66a30a77-be61-4028-b18a-206b683debc7",
   "metadata": {},
   "outputs": [],
   "source": [
    "#plot incident vs refracted angles here!\n",
    "\n",
    "#plt.plot expects a list (or np.array) of x values,\n",
    "#and a list (or np.array) of corresponding y values!\n",
    "\n",
    "#syntax: plt.plot(x_list,y_list)\n",
    "plt.plot(# choose appropriate x and y values as arguments!)\n",
    "splt.xlim(0,1)\n",
    "plt.ylim(0,1)\n",
    "plt.title(f'$\\\\Theta{{}}_r$ vs. $\\\\Theta{{}}_i$ ($s1 = {s1}, s2 = {s2}$)')\n",
    "# for x and y label, use a string literal as the argument.\n",
    "#The plt.title function works exactly like these; use it as an example.\n",
    "plt.xlabel(# choose an appropriate x label!\n",
    "plt.ylabel(# choose an appropriate y label!\n",
    "plt.show()"
   ]
  },
  {
   "cell_type": "code",
   "execution_count": null,
   "id": "a9cce26c-9e53-4f82-8815-dc1e341302c3",
   "metadata": {},
   "outputs": [],
   "source": [
    "#plot sin incident vs sin refracted here!\n",
    "x = # choose appropriate values!\n",
    "y = # choose appropriate values!\n",
    "plt.scatter(x,y)\n",
    "slope, intercept = np.polyfit(x,y,1)\n",
    "fit_x = np.linspace(0,1,100)\n",
    "fit_y = fit_x * slope + intercept\n",
    "plt.plot(fit_x,fit_y,\n",
    "         label=f'Linear Fit: {slope:.2f} * x + {intercept:.2f}',\n",
    "         color='red')\n",
    "plt.xlim(0,1)\n",
    "plt.ylim(0,1)\n",
    "plt.title(f'sin($\\Theta{{}}_r$) vs. sin($\\Theta{{}}_i$) ($s1 = {s1}, s2 = {s2}$)')\n",
    "plt.xlabel(# choose an appropriate x label!\n",
    "plt.ylabel(# choose an appropriate y label!\n",
    "plt.legend()\n",
    "plt.show()"
   ]
  },
  {
   "cell_type": "markdown",
   "id": "1926b567-d7d0-464d-ac7e-04815ca0292e",
   "metadata": {},
   "source": [
    "### SHORT RESPONSE QUESTIONS\n",
    "1. What do we notice about the relationship between $sin(\\theta{}_{r})$ and $sin(\\theta{}_{i})$ for this set of speeds? \n",
    "2. If there is a proportionality constant, what is its value equal to?\n",
    "### ANSWER"
   ]
  },
  {
   "cell_type": "markdown",
   "id": "2d7ebea2-817b-4342-af31-9e5cd89c369e",
   "metadata": {},
   "source": []
  },
  {
   "cell_type": "markdown",
   "id": "7ee3fc5f-e6a3-47f8-956f-8ca432fdc6d9",
   "metadata": {},
   "source": [
    "<br/><br/>\n",
    "<!--  -->"
   ]
  },
  {
   "cell_type": "markdown",
   "id": "5f0fe597-7ed4-42f1-9717-c9d56db7f59f",
   "metadata": {},
   "source": [
    "## PART 4 - SNELL'S LAW\n",
    "We are well on our way to rediscovering an important law governing the refraction of light. \n",
    "\n",
    "Definition of Refractive Index:   \n",
    "$\\eta_{med} = \\frac{c}{v_{med}}$   \n",
    "Snell's Law:   \n",
    "$\\eta_r \\cdot sin(\\theta_r) = \\eta_i \\cdot sin(\\theta_i)$  \n",
    "<!-- No obvious questions to answer?  Maybe these should be put in the short answer portion or dispersed throughout the activity so that the students don't get confused. -->\n"
   ]
  },
  {
   "cell_type": "markdown",
   "id": "4b38dabd-dd05-4f1f-8575-6727ae8ea988",
   "metadata": {},
   "source": [
    "### GIVEN FUNCTIONS\n",
    "\n",
    "* Execute the blocks containing the given functions. Don't modify these."
   ]
  },
  {
   "cell_type": "code",
   "execution_count": null,
   "id": "9bb39d0f-85ab-4d6b-a707-f262d9c7a78d",
   "metadata": {},
   "outputs": [],
   "source": [
    "from scipy.stats import linregress\n",
    "\n",
    "def plot_snell_lines(pairs):\n",
    "    \"\"\"\n",
    "    Overlay sin(Theta_r) vs sin(Theta_i) for multiple (s1, s2) pairs.\n",
    "    \"\"\"\n",
    "    slopes = []\n",
    "    ratios = []\n",
    "    plt.figure(figsize=(8, 6))\n",
    "    \n",
    "    for s_1, s_2 in pairs:\n",
    "        inc, ref = theta_vals(s_1, s_2, plot=False)\n",
    "        sin_inc = np.sin(inc)\n",
    "        sin_ref = np.sin(ref)\n",
    "        output = np.polyfit(sin_inc.copy(),sin_ref.copy(),1)\n",
    "        slope,intercept = output\n",
    "        slopes.append(slope)\n",
    "        ratios.append(s_2 / s_1)\n",
    "        \n",
    "        plt.plot(sin_inc.copy(), sin_ref.copy(), label=f\"$s1$={s_1}, $s2$={s_2}, slope={slope:.2f}\")\n",
    "\n",
    "    # Customize plot\n",
    "    plt.xlim(0, 1)\n",
    "    plt.ylim(0, 1)\n",
    "    plt.title(\"sin(Θ_r) vs. sin(Θ_i)\")\n",
    "    plt.xlabel('sin(Θ_i)')\n",
    "    plt.ylabel('sin(Θ_r)')\n",
    "    plt.legend()\n",
    "    plt.grid(alpha=0.5)\n",
    "    plt.show()\n",
    "    \n",
    "    #######################\n",
    "    # Plot slope vs ratio\n",
    "    plt.figure(figsize=(8, 6))\n",
    "    slope_vs_ratio = linregress(ratios, slopes)\n",
    "    plt.plot(ratios, slopes, 'o', label=f\"Slope = {slope_vs_ratio.slope:.2f}x + {slope_vs_ratio.intercept:.2f}\")\n",
    "    plt.plot(ratios, slope_vs_ratio.intercept + slope_vs_ratio.slope * np.array(ratios), '-', color='red')\n",
    "    \n",
    "    # Customize plot\n",
    "    plt.title(\"Slopes vs. Velocity Ratio (s1/s2)\")\n",
    "    plt.xlabel(\"Velocity Ratio ($s1/s2$)\")\n",
    "    plt.ylabel(\"Slope of sin(Θ_r) vs. sin(Θ_i)\")\n",
    "    plt.legend()\n",
    "    plt.grid(alpha=0.5)\n",
    "    plt.show()"
   ]
  },
  {
   "cell_type": "markdown",
   "id": "8811bf74-9777-463f-af23-e2d4b7f6cfae",
   "metadata": {},
   "source": [
    "### CODE\n",
    "* Add to the list of pairs with four more sets of speeds of light in each medium.\n",
    "* Use plot_snell_lines() to observe the relationship between sin(refracted) versus sin(incident) across the different combinations of speeds."
   ]
  },
  {
   "cell_type": "code",
   "execution_count": null,
   "id": "cc9e0237-44a6-4648-b5f3-8b712ff620bf",
   "metadata": {},
   "outputs": [],
   "source": [
    "#plot the relationship between sin(angle) for different speeds!\n",
    "s1_s2_pairs = [\n",
    "    (1.0,0.8),\n",
    "    #add four more pairs of speeds to try!\n",
    "]    \n",
    "plot_snell_lines(s1_s2_pairs)"
   ]
  },
  {
   "cell_type": "markdown",
   "id": "616214e3-097e-4151-b2c3-b7c03550372e",
   "metadata": {},
   "source": [
    "### SHORT RESPONSE QUESTIONS\n",
    "1. Write an equation in the form  __y = m * x + b__  relating $sin(\\theta{}_{r})$, $sin(\\theta{}_{i})$, $s_1$, and $s_2$, as found from our simulations.  \n",
    "(where $\\theta{}_{r}$ is the angle of refraction, $\\theta{}_{i}$ is the angle of incidence, and $s_1$ and $s_2$ are the speed of light in medium 1 and 2 respectively)\n",
    "2. Prove using algebra that this expression is equivalent to Snell's Law. Show each step. \n",
    "3. Is this result surprising? Why?\n",
    "### ANSWER"
   ]
  },
  {
   "cell_type": "markdown",
   "id": "f3d3c478-88ab-4fcd-b8f9-db2b886db2dd",
   "metadata": {},
   "source": []
  },
  {
   "cell_type": "markdown",
   "id": "9bce35e0-9547-4325-8bde-85d0e87b474f",
   "metadata": {},
   "source": [
    "<br/><br/>\n",
    "<br/><br/>\n",
    "<!--  -->"
   ]
  },
  {
   "cell_type": "markdown",
   "id": "a0cc58aa-be78-4c65-9bd7-a3f570c49cc6",
   "metadata": {},
   "source": [
    "# WAVES"
   ]
  },
  {
   "cell_type": "markdown",
   "id": "e6773785-dccf-4a3b-968d-42ecdac9d50e",
   "metadata": {},
   "source": [
    "## PART 1 - STANDING WAVES\n",
    "Quantum mechanics is a very important part of this course, and its principles can be unintuitive. It tells us that particles such as electrons, protons, and photons behave as both waves _and_ particles.  \n",
    "It is surprisingly profound that these particles behave like waves, and one reason for this should become clear when we consider the behavior of classical standing waves.  \n",
    "To explore the properties of standing waves, we will first fit a curve to some experimental data using a numerical optimization routine, much like we did to find the path of shortest travel for light."
   ]
  },
  {
   "cell_type": "markdown",
   "id": "36fae3c9-26ff-4470-8392-bac91028fb80",
   "metadata": {},
   "source": [
    "### GIVEN FUNCTIONS\n",
    "* Execute the blocks containing the given functions. \n",
    "* __Leave comments on the fit_curve function explaining what each line does.__"
   ]
  },
  {
   "cell_type": "code",
   "execution_count": null,
   "id": "8de16a76-6bcd-4c43-bec0-0b451a904082",
   "metadata": {},
   "outputs": [],
   "source": [
    "def surface_standing_wave(A,k,w,p1,p2):\n",
    "    x = np.linspace(0,10,100)\n",
    "    t = np.linspace(0,0.2,100)\n",
    "    X, T = np.meshgrid(x, t) \n",
    "    Y = standing_wave((X,T),A,k,w,p1,p2)\n",
    "    return X, T, Y"
   ]
  },
  {
   "cell_type": "code",
   "execution_count": null,
   "id": "4100c521-6242-4011-935f-55f485426f95",
   "metadata": {},
   "outputs": [],
   "source": [
    "def plot_wave(x,y,t,params=None):\n",
    "    fig = plt.figure()\n",
    "    ax = fig.add_subplot(111, projection='3d')\n",
    "    \n",
    "    if params is not None:\n",
    "        if type(params) is dict:\n",
    "            params = list([params['A'],params['k'],params['w'],params['p1'],params['p2']])\n",
    "        X,T,Y = surface_standing_wave(*params)\n",
    "        time_norm = (T - T.min()) / (T.max() - T.min())\n",
    "        cmap = plt.get_cmap('viridis')\n",
    "        colors = cmap(time_norm)\n",
    "        ax.plot_surface(X, T, Y, facecolors=colors, rstride=1, cstride=1, alpha=0.4)\n",
    "    \n",
    "    ax.scatter(x, t, y, color='red', s=5, label='Data Points')\n",
    "    ax.set_zlim(-2, 2)\n",
    "    ax.set_xlabel('Position (cm)')\n",
    "    ax.set_ylabel('Time (s)')\n",
    "    ax.set_zlabel('Height (cm)')\n",
    "\n",
    "    plt.show()"
   ]
  },
  {
   "cell_type": "code",
   "execution_count": null,
   "id": "d27b3b38-67c1-42a6-a03a-11c1852cd483",
   "metadata": {},
   "outputs": [],
   "source": [
    "def fit_curve(data,guess_parameters,plot=True):\n",
    "    # comment me!\n",
    "    p = guess_parameters \n",
    "    initial_guess = [p['A'],p['k'],p['w'],p['p1'],p['p2']]  \n",
    "    params, covariance = scipy.optimize.curve_fit( \n",
    "        standing_wave, \n",
    "        (data['length'],data['time']), \n",
    "        data['height'], \n",
    "        p0=initial_guess \n",
    "    )\n",
    "    if plot:\n",
    "        plot_wave(data['length'],data['height'],data['time'],params) \n",
    "    return params "
   ]
  },
  {
   "cell_type": "markdown",
   "id": "cc97a0b2-dc50-4a83-8dd9-6586ec11145f",
   "metadata": {},
   "source": [
    "### CODE\n",
    "* Ensure you have the provided .csv files in the same folder as this notebook before proceeding.\n",
    "* Write a function for a standing wave. This formula will be fit to experimental data numerically.\n",
    "* Fit your curve to the points taken for the first, second, and third harmonics of the vibrating string using the provided function. Provide an initial guess for each of the parameters.\n",
    "* It is very likely that you will at some point make a bad initial guess for the parameters and the solver will not converge to the correct solution. In this case, try different parameters until you get a good fit."
   ]
  },
  {
   "cell_type": "code",
   "execution_count": null,
   "id": "68f0113f-e1af-4856-91a6-d4583fce7e67",
   "metadata": {},
   "outputs": [],
   "source": [
    "def standing_wave(x_t,A, k, w , p1 , p2): \n",
    "    '''\n",
    "    Parameters:\n",
    "    x_t : x and time coordinates, as an array of two numbers\n",
    "    A   : Amplitude, scalar\n",
    "    k   : wavenumber (space), scalar\n",
    "    w   : frequency  (time), scalar\n",
    "    p1  : phase shift for space, scalar\n",
    "    p2  : phase shift for time, scalar\n",
    "    returns :\n",
    "    y   : height of string at given position and time, scalar\n",
    "    '''\n",
    "    x,t = x_t #we must pass these as one variable to use for numerical fitting routines!\n",
    "    #write a simple function using sine and cosine for the height of the string\n",
    "    #as function of x and t, using all of the parameters.\n",
    "\n",
    "    return y"
   ]
  },
  {
   "cell_type": "code",
   "execution_count": null,
   "id": "0e92257f-151d-45dc-b119-8ed08f715367",
   "metadata": {},
   "outputs": [],
   "source": [
    "data_1 = pd.read_csv('1st_harm.csv')\n",
    "data_2 = pd.read_csv('2nd_harm.csv')\n",
    "data_3 = pd.read_csv('3rd_harm.csv')"
   ]
  },
  {
   "cell_type": "code",
   "execution_count": null,
   "id": "97a150d1-426f-4a22-bcb6-893eda2c6d67",
   "metadata": {},
   "outputs": [],
   "source": [
    "plot_wave(data_1['length'],data_1['height'],data_1['time'])\n",
    "plot_wave(data_2['length'],data_2['height'],data_2['time'])\n",
    "plot_wave(data_3['length'],data_3['height'],data_3['time'])"
   ]
  },
  {
   "cell_type": "code",
   "execution_count": null,
   "id": "582689a8-c836-4c6f-8686-4f468eeb8c7b",
   "metadata": {},
   "outputs": [],
   "source": [
    "# a good first guess is important. \n",
    "#for this one, k should be less than 1 and w should be between -50 and -100.\n",
    "#set p1 and p2 to zero.\n",
    "initial_guess = { #this is a dictionary containing the initial guess \n",
    "    'A':  ,       #for the parameters of our wave to fit\n",
    "    'k':   ,      #in the format {'name1' : data1, 'name2': data2, ...}\n",
    "    'w':   ,      #provide a number for each parameter.\n",
    "    'p1':  ,\n",
    "    'p2':  ,\n",
    "       }\n",
    "params = fit_curve(data_1,initial_guess)\n",
    "A1,k1,w1,p11,p21 = params \n",
    "print(f\"optimized wavenumber: {k1:.2f} optimized frequency: {w1:.2f}\")"
   ]
  },
  {
   "cell_type": "code",
   "execution_count": null,
   "id": "42c51174-a8d3-4812-8ec6-c12e12ef3d46",
   "metadata": {},
   "outputs": [],
   "source": [
    "#increase the magnitdues of w and k relative to the last one.\n",
    "initial_guess = {'A':  ,'k':  ,'w':   ,'p1':  ,'p2': }\n",
    "params = fit_curve(data_2,initial_guess)\n",
    "A2,k2,w2,p12,p22 = params \n",
    "print(f\"optimized wavenumber: {k2:.2f} optimized frequency: {w2:.2f}\")"
   ]
  },
  {
   "cell_type": "code",
   "execution_count": null,
   "id": "63bd8805-eb80-4778-934a-c37ab5bcc91b",
   "metadata": {},
   "outputs": [],
   "source": [
    "initial_guess = {'A': ,'k':   ,'w':   ,'p1':   ,'p2':  }\n",
    "params = fit_curve(data_3,initial_guess)\n",
    "A3,k3,w3,p13,p23 = params \n",
    "print(f\"optimized wavenumber: {k3:.2f} optimized frequency: {w3:.2f}\")"
   ]
  },
  {
   "cell_type": "markdown",
   "id": "4dea775f-6d18-405f-bfa0-5d6a0f32edbe",
   "metadata": {},
   "source": [
    "### SHORT RESPONSE QUESTIONS\n",
    "1. Did you run into any trouble with the curve fitting procedure? Why do you think this is?\n",
    "2. Explain the importance of the initial guess with respect to numerically fitting a curve.\n",
    "### ANSWERS"
   ]
  },
  {
   "cell_type": "markdown",
   "id": "c9ddd0d5-6889-4318-992f-979ac103e38e",
   "metadata": {},
   "source": []
  },
  {
   "cell_type": "markdown",
   "id": "d73a6547-3b03-4e3a-88f7-268c0dde00c4",
   "metadata": {},
   "source": [
    "<br/><br/>\n",
    "<!--  -->"
   ]
  },
  {
   "cell_type": "markdown",
   "id": "e0e2a2fa-8a6d-4f01-92db-62a7841b66d7",
   "metadata": {},
   "source": [
    "## PART 2 - QUANTIZATION\n",
    "As can be seen, standing waves are an interesting case as only specific wavenumbers / wavelengths satisfy the boundary conditions of the system.  \n",
    "This mirrors a fundamental concept in quantum mechanics: the quantization of physical properties like energy and momentum.  \n",
    "In this section, you will examine the allowed wavenumbers and frequencies for a standing wave and the relationships between them. "
   ]
  },
  {
   "cell_type": "markdown",
   "id": "b4a2dbfd-e7e2-40f3-9072-4bc5e04ddda2",
   "metadata": {},
   "source": [
    "### CODE\n",
    "* Plot wavenumber and frequency versus harmonic number.   "
   ]
  },
  {
   "cell_type": "code",
   "execution_count": null,
   "id": "601c2d5b-d3f8-409b-9847-4142486acbec",
   "metadata": {},
   "outputs": [],
   "source": [
    "harmonics   = [1,2,3]\n",
    "wavenumbers = [k1,k2,k3]\n",
    "frequencies = np.abs(np.array([w1,w2,w3]))"
   ]
  },
  {
   "cell_type": "code",
   "execution_count": null,
   "id": "4853052e-6b33-4103-9e7d-a489226582f0",
   "metadata": {},
   "outputs": [],
   "source": [
    "#plot wavenumber vs harmonic number here\n",
    "plt.scatter(#set x and y values!\n",
    "plt.title('Angular Wavenumber vs. Harmonic Number')\n",
    "plt.xlabel('Harmonic Number')\n",
    "plt.ylabel('Angular Wavenumber ($rad \\cdot{} cm^{-1}$)')\n",
    "plt.show()\n",
    "k_slope,k_int = np.polyfit(harmonics,wavenumbers,1)\n",
    "print(f'k = {k_slope:.2f} * n + {k_int:.2f}')"
   ]
  },
  {
   "cell_type": "code",
   "execution_count": null,
   "id": "4bee7fd6-d2f2-4fc3-8747-bf85af35468b",
   "metadata": {},
   "outputs": [],
   "source": [
    "#plot frequency vs harmonic number here\n",
    "plt.scatter(#choose x and y values!\n",
    "plt.title('Angular Frequency vs. Harmonic Number')\n",
    "plt.xlabel('Harmonic Number')\n",
    "plt.ylabel('Angular Frequency ($rad \\cdot{} s^{-1}$)')\n",
    "plt.show()\n",
    "w_slope,w_int = np.polyfit(harmonics,frequencies,1)\n",
    "print(f'w = {w_slope:.2f} * n + {w_int:.2f}')"
   ]
  },
  {
   "cell_type": "markdown",
   "id": "6a47350b-ae53-4a65-9b27-0a9e58542f3e",
   "metadata": {},
   "source": [
    "### SHORT RESPONSE QUESTIONS\n",
    "1. What expression did you obtain for wavenumber? For frequency? What do these expressions tell us?\n",
    "2. In the context of chemistry, how does quantization explain atomic spectra? \n",
    "### ANSWERS"
   ]
  },
  {
   "cell_type": "markdown",
   "id": "7998a06a-2cb3-4b58-9f2d-e55711f66df2",
   "metadata": {},
   "source": []
  },
  {
   "cell_type": "markdown",
   "id": "489af655-b311-4ead-ab78-4f80141146b6",
   "metadata": {},
   "source": [
    "<br/><br/>\n",
    "<!--  -->"
   ]
  },
  {
   "cell_type": "markdown",
   "id": "f0142137-e042-43e9-92df-f35052fd6aa7",
   "metadata": {},
   "source": [
    "## PART 3 - STANDING WAVES ON A SPHERE\n",
    "We have seen how quantization might necessarily arise from the nature of waves, but it may not be completely intutive how this relates to chemistry yet.  \n",
    "This may become more clear if we consider what wave quantization looks like on a spherical surface."
   ]
  },
  {
   "cell_type": "markdown",
   "id": "9f252fcc-dca8-4264-af87-116089ee88f5",
   "metadata": {},
   "source": [
    "### GIVEN FUNCTIONS\n",
    "* Execute the blocks containing the given functions. Don't modify these.  \n",
    "(Adapted from: https://github.com/DalInar/schrodingers-snake)  "
   ]
  },
  {
   "cell_type": "code",
   "execution_count": null,
   "id": "ee35c398-7206-4c77-8247-dac1ca4102be",
   "metadata": {},
   "outputs": [],
   "source": [
    "from scipy.special import sph_harm\n",
    "import mpl_toolkits.mplot3d.axes3d as axes3d\n",
    "import matplotlib.colors as mcolors\n",
    "\n",
    "def plot_spherical_harmonic(l,m):\n",
    "    '''\n",
    "    adapted from code at https://github.com/DalInar/schrodingers-snake\n",
    "    '''\n",
    "    thetas = np.linspace(0, np.pi, 20)\n",
    "    phis = np.linspace(0, 2*np.pi, 20)\n",
    "    \n",
    "    (Theta,Phi)=np.meshgrid(thetas,phis) \n",
    "    s_harm=sph_harm(m, l, Phi, Theta)\n",
    "       \n",
    "    R = abs(s_harm.real) #modified this to show only real part of spherical harmonic, to make connection to atomic orbitals more explicit\n",
    "    X = R * np.sin(Theta) * np.cos(Phi)\n",
    "    Y = R * np.sin(Theta) * np.sin(Phi)\n",
    "    Z = R * np.cos(Theta)\n",
    "\n",
    "    vmin = -1\n",
    "    vmax = 1\n",
    "    cmap = plt.get_cmap('jet')\n",
    "    norm = mcolors.Normalize(vmin=Z.min(), vmax=Z.max())\n",
    "    \n",
    "    fig = plt.figure(figsize=(8,8))\n",
    "    ax = fig.add_subplot(1,1,1, projection='3d')\n",
    "    ax.plot_surface(X, Y, Z, rstride=1, cstride=1, cmap=plt.get_cmap('jet'),facecolors=cmap(norm(R)),\n",
    "        linewidth=0, antialiased=False, alpha=0.4)\n",
    "\n",
    "    plt.title(r'Real Part of Spherical Harmonics, $Y_l^m(\\theta,\\phi)$'+r', $l=$'+str(l)+r', $m=$'+str(m))\n",
    "    plt.xlabel(r'$x$')\n",
    "    plt.ylabel(r'$y$')\n",
    "    plt.ylabel(r'$z$')\n",
    "    \n",
    "    plt.show()"
   ]
  },
  {
   "cell_type": "markdown",
   "id": "dbabf1c0-7f7b-4c31-81f8-903f9342a49c",
   "metadata": {},
   "source": [
    "### CODE\n",
    "* Using the provided function, explore different combinations of integer inputs.  "
   ]
  },
  {
   "cell_type": "code",
   "execution_count": null,
   "id": "96c3ebc2-ddae-4d86-87c7-3cedcc22125c",
   "metadata": {},
   "outputs": [],
   "source": [
    "plot_spherical_harmonic(0,0)\n",
    "#try this 5 more times, at least!\n",
    "#copy paste the function above, with different integer values for l and m"
   ]
  },
  {
   "cell_type": "markdown",
   "id": "564875b6-4854-423b-a1b7-d3aad864dbe2",
   "metadata": {},
   "source": [
    "### SHORT RESPONSE QUESTIONS\n",
    "1. Where do you recognize these shapes from?  \n",
    "2. These are not quite what you recognize- These only have wave components depending on $\\theta$ and $\\phi$. What is the missing wave component?\n",
    "### ANSWER"
   ]
  },
  {
   "cell_type": "markdown",
   "id": "6821c52b-9983-4dd9-a215-e90cb656e4f9",
   "metadata": {},
   "source": []
  },
  {
   "cell_type": "markdown",
   "id": "1b1c1674-6d12-4a1c-801f-460f0970ce9e",
   "metadata": {},
   "source": [
    "<br/><br/>\n",
    "<br/><br/>\n",
    "<!--  -->"
   ]
  },
  {
   "cell_type": "markdown",
   "id": "0ee1f4ba-f409-4bd5-8c4d-a7c44cdd810a",
   "metadata": {},
   "source": [
    "# REFLECTION"
   ]
  },
  {
   "cell_type": "markdown",
   "id": "bd22fd8f-740f-44cc-96c4-8cbeda90b231",
   "metadata": {},
   "source": [
    "### SHORT RESPONSE QUESTIONS\n",
    "1. Explain the importance of approximate math and iterative algorithms in the context of computational science.\n",
    "2. Explain the concept of emergent behavior and provide an example besides those presented here.\n",
    "3. Explain the connection between quantum mechanics and classical wave mechanics.\n",
    "### ANSWERS"
   ]
  },
  {
   "cell_type": "code",
   "execution_count": null,
   "id": "8b0c9020-65e0-434a-bcab-60e381fd163f",
   "metadata": {},
   "outputs": [],
   "source": []
  }
 ],
 "metadata": {
  "kernelspec": {
   "display_name": "Python 3 (ipykernel)",
   "language": "python",
   "name": "python3"
  },
  "language_info": {
   "codemirror_mode": {
    "name": "ipython",
    "version": 3
   },
   "file_extension": ".py",
   "mimetype": "text/x-python",
   "name": "python",
   "nbconvert_exporter": "python",
   "pygments_lexer": "ipython3",
   "version": "3.11.10"
  }
 },
 "nbformat": 4,
 "nbformat_minor": 5
}
