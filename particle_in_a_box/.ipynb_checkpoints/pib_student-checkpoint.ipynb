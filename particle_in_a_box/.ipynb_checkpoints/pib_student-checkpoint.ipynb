{
 "cells": [
  {
   "cell_type": "markdown",
   "id": "1bede9b6-0d2e-417c-9942-d925c22cddd5",
   "metadata": {},
   "source": [
    "# Libraries\n",
    "* Execute this cell before going any further.\n",
    "> You will need the `fortecubeview` module to complete this assignment. In your anaconda prompt (Windows) or regular terminal (Mac), run the following command:  \n",
    "> `conda install -c conda-forge fortecubeview`"
   ]
  },
  {
   "cell_type": "code",
   "execution_count": null,
   "id": "6998811b-34ec-4f9d-a422-5c256b3518cd",
   "metadata": {},
   "outputs": [],
   "source": [
    "import matplotlib.pyplot as plt\n",
    "import numpy as np\n",
    "import pandas as pd"
   ]
  },
  {
   "cell_type": "markdown",
   "id": "6fbac074-bcd8-4dfd-be37-b50c66217188",
   "metadata": {},
   "source": [
    "<br/><br/>"
   ]
  },
  {
   "cell_type": "markdown",
   "id": "94e2013a-d75b-4cb6-88bb-a36a629e23cf",
   "metadata": {},
   "source": [
    "# Warmup"
   ]
  },
  {
   "cell_type": "markdown",
   "id": "af66d235-4972-45f4-8a64-08eef8f61c7b",
   "metadata": {},
   "source": [
    "## Curve Fitting\n",
    "Being able to fit an arbitrary curve is a useful skill in scientific data analysis and it is a good primer for further skills in applied machine learning. \n",
    "\n",
    "Try it for yourself! Load the data from the provided .csv file, and create a function to fit to that data. Try a few different functional forms, and see if you can identify one that best represents the data."
   ]
  },
  {
   "cell_type": "markdown",
   "id": "d9db9e39-01bb-409c-acc1-ad7553edccc5",
   "metadata": {},
   "source": [
    "## Libraries\n",
    "* Execute this cell before going any further."
   ]
  },
  {
   "cell_type": "code",
   "execution_count": null,
   "id": "dd80f410-2fec-449c-a741-713973070a68",
   "metadata": {},
   "outputs": [],
   "source": [
    "from scipy.optimize import curve_fit"
   ]
  },
  {
   "cell_type": "markdown",
   "id": "39a911bd-94d7-41cf-95ee-0837c797d9af",
   "metadata": {},
   "source": [
    "### GIVEN FUNCTIONS\n",
    "* Execute the blocks containing the given functions. Don't modify these."
   ]
  },
  {
   "cell_type": "code",
   "execution_count": null,
   "id": "703b2eff-df40-4ca5-91c8-2594bf774da9",
   "metadata": {},
   "outputs": [],
   "source": [
    "def fit_function(my_function,guess_parameters):\n",
    "    params, covariance = curve_fit( \n",
    "        my_function,\n",
    "        mystery_curve['x'], \n",
    "        mystery_curve['y'],\n",
    "        p0=guess_parameters\n",
    "    )\n",
    "    \n",
    "    x = mystery_curve['x']\n",
    "    y_fitted = my_function(x, *params)\n",
    "    plt.scatter(\n",
    "        mystery_curve['x'],\n",
    "        mystery_curve['y'], color='red', label='Mystery Data')\n",
    "    plt.plot(x, y_fitted, label='Fitted Function', color='green', linestyle='--', linewidth=2)\n",
    "    plt.legend()\n",
    "    plt.xlabel('x')\n",
    "    plt.ylabel('y')\n",
    "    plt.title('Fitting arbitrary function to data')\n",
    "    plt.show()"
   ]
  },
  {
   "cell_type": "markdown",
   "id": "4c5121d3-8de6-4e7b-aa96-e13b274d86f4",
   "metadata": {},
   "source": [
    "### CODE\n",
    "* Define a function whose arguments are $x$ followed by any number of parameters, and which returns $y$.\n",
    "* Use the `fit_function(my_function,guess_parameters)` function to explore fitting your functions to the given data."
   ]
  },
  {
   "cell_type": "code",
   "execution_count": null,
   "id": "f3012b40-630a-49f2-ae3a-c1a809054236",
   "metadata": {},
   "outputs": [],
   "source": [
    "mystery_curve = pd.read_csv('mystery_curve.csv')\n",
    "plt.scatter(mystery_curve['x'],mystery_curve['y'])"
   ]
  },
  {
   "cell_type": "code",
   "execution_count": null,
   "id": "0855a1af-b8cd-4163-b871-917c1a5fdcf7",
   "metadata": {},
   "outputs": [],
   "source": [
    "#define a function which is a curve to use for fitting.\n",
    "#The first argument must be 'x', and every argument after may be parameters for the function.\n",
    "# it must return 'y'.\n",
    "#an example is provided:\n",
    "def my_linear_function(x,m,b):\n",
    "    y = m * x + b\n",
    "    return y\n",
    "\n",
    "#useful bits and pieces:\n",
    "#np.abs()\n",
    "#np.exp()\n",
    "#all the normal arithmetic operators"
   ]
  },
  {
   "cell_type": "code",
   "execution_count": null,
   "id": "8ba399c0-fecc-478c-b1c1-6d2bae2fe5dc",
   "metadata": {},
   "outputs": [],
   "source": [
    "fit_function(my_linear_function,[1,1])\n",
    "#well that's not very useful. Can you do better?"
   ]
  },
  {
   "cell_type": "markdown",
   "id": "f09fadaa-0d5b-4271-8ae5-716f88d1b1bb",
   "metadata": {},
   "source": [
    "<br/><br/>\n",
    "<br/><br/>"
   ]
  },
  {
   "cell_type": "markdown",
   "id": "f4b906a7-2eef-4953-be60-ecf702831f2f",
   "metadata": {},
   "source": [
    "# Particle in a Box"
   ]
  },
  {
   "cell_type": "markdown",
   "id": "0f74ff59-72ea-452a-afb6-ea0180ea3c5d",
   "metadata": {},
   "source": [
    "Understanding a novel or unintuitive concept often begins with analyzing the simplest possible case. By dissecting it carefully, we refine our intuition and build a foundation for solving more complex problems.\n",
    "\n",
    "For quantum mechanics, this simplest system is likely that of an electron in an infinite square well potential. The wavefunctions it produces are among the most basic solutions to the Schrodinger equation, besides free-particle plane waves. This makes it a great place to start."
   ]
  },
  {
   "cell_type": "markdown",
   "id": "719cc22e-b235-47eb-8392-534c68caa11b",
   "metadata": {},
   "source": [
    "## Libraries\n",
    "* Execute this cell before going any further."
   ]
  },
  {
   "cell_type": "code",
   "execution_count": null,
   "id": "c0be08df-dc53-4d7f-bd9d-da6e199776b0",
   "metadata": {},
   "outputs": [],
   "source": [
    "from mpl_toolkits.mplot3d import Axes3D\n",
    "import ipywidgets as widgets"
   ]
  },
  {
   "cell_type": "markdown",
   "id": "cac99033-8f22-4e8d-ae04-72ebf89b5830",
   "metadata": {},
   "source": [
    "## PART 1 - Solving the Schrodinger Equation\n",
    "For a quantum particle, the time-independent Schrodinger equation gives us the allowed energy levels of a particle.\n",
    "$$\n",
    "\\hat{H} \\psi{}(x) = -\\frac{\\hbar{}^2}{2m}\\frac{d^2}{dx^2}\\psi{}(x) + V(x)\\psi{}(x)\n",
    "$$\n",
    "Where V(x) is the potential energy as a function of x.  \n",
    "For a wavefunction to have a clearly defined energy, it must satisfy:\n",
    "$$\n",
    "\\hat{H}\\psi = E \\psi\n",
    "$$\n",
    "Where $E$ is constant. In these special cases, we say that $\\psi$ is an ___eigenfunction___ of the energy operator $\\hat{H}$, and the observed energy $E$ is an ___eigenvalue___. \n",
    "\n",
    "To demonstrate how this gives rise to quantization, let's consider a particle confined within a one-dimensional box of length L, where the potential is defined as:\n",
    "$$ V(x) =\n",
    "\\begin{cases} \n",
    "0, & 0 \\leq x \\leq L \\\\\n",
    "\\infty, & \\text{otherwise}\n",
    "\\end{cases} $$\n",
    "Within the region where $V(x) = 0$, the Schrodinger equation simplifies to:\n",
    "\n",
    "$$-\\frac{\\hbar{}^2}{2m}\\frac{d^2}{dx^2}\\psi{}(x) = E \\psi (x)$$\n",
    "\n",
    "With this equation, we have three constraints which allow us to determine the allowable wavefunctions:\n",
    "1. __Boundary conditions__: The wavefunction must be zero where the potential is infinite ($x < 0$ and $x > L$). \n",
    "2. __Continuity__: The wavefunction must be continuous.\n",
    "3. __Eigenfunction__: The wavefunction must be proportional to its second derivative.\n",
    "\n",
    "These conditions lead us to a discrete set of wavefunctions with quantized energy levels."
   ]
  },
  {
   "cell_type": "markdown",
   "id": "cfeac16e-2c75-44fe-8090-ab44c108a442",
   "metadata": {},
   "source": [
    "### GIVEN FUNCTIONS\n",
    "* Execute the blocks containing the given functions. Don't modify these."
   ]
  },
  {
   "cell_type": "code",
   "execution_count": null,
   "id": "a2d357ff-13c5-477b-83ba-78b188465e79",
   "metadata": {},
   "outputs": [],
   "source": [
    "def plot_wave(k):\n",
    "    x = np.linspace(0, 4, 400)\n",
    "    exp_ikx = -1j * np.sqrt(1/2) * np.exp(1j * (k * x ))\n",
    "    exp_neg_ikx = 1j * np.sqrt(1/2) * np.exp(-1j * (k * x))\n",
    "    sum_curve = exp_ikx + exp_neg_ikx\n",
    "\n",
    "    box_mask = (x >= 0) & (x <= 4)\n",
    "    \n",
    "    real_part = np.real(exp_ikx) * box_mask\n",
    "    imag_part = np.imag(exp_ikx) * box_mask\n",
    "    real_part_neg = np.real(exp_neg_ikx) * box_mask\n",
    "    imag_part_neg = np.imag(exp_neg_ikx) * box_mask\n",
    "    real_part_sum = np.real(sum_curve) * box_mask\n",
    "    imag_part_sum = np.imag(sum_curve) * box_mask\n",
    "    \n",
    "    fig = plt.figure(figsize=(8, 6))\n",
    "    ax = fig.add_subplot(111, projection='3d')\n",
    "    ax.plot(x[box_mask], imag_part[box_mask], real_part[box_mask], label=r'$-ie^{ikx}$', alpha=0.6)\n",
    "    ax.plot(x[box_mask], imag_part_neg[box_mask], real_part_neg[box_mask], label=r'$ie^{-ikx}$', alpha=0.6)\n",
    "    ax.plot(x[box_mask], imag_part_sum[box_mask], real_part_sum[box_mask], label=r'$sin(kx)$', linestyle='solid', color='black')\n",
    "\n",
    "    x_zero_left = np.linspace(-1, 0, 100)\n",
    "    x_zero_right = np.linspace(4, 5, 100)\n",
    "    ax.plot(x_zero_left, np.zeros_like(x_zero_left), np.zeros_like(x_zero_left),color='black',label='Boundary ($0 < x < 4$)')\n",
    "    ax.plot(x_zero_right, np.zeros_like(x_zero_right), np.zeros_like(x_zero_right),color='black')\n",
    "\n",
    "    ax.set_xlabel(\"x\")\n",
    "    ax.set_ylabel(\"Im components\")\n",
    "    ax.set_zlabel(\"Re components\")\n",
    "    ax.set_title(\"Particle in a Box Wavefunction\")\n",
    "    ax.legend()\n",
    "\n",
    "    ax.set_xlim(-1,5)\n",
    "    ax.set_ylim(-1,1)\n",
    "    ax.set_zlim(-1,1)\n",
    "    plt.show()"
   ]
  },
  {
   "cell_type": "code",
   "execution_count": null,
   "id": "e2f5e0b1-31fe-43fd-8cf6-722682dcc3d8",
   "metadata": {},
   "outputs": [],
   "source": [
    "def interactive_pib_plot():\n",
    "    widgets.interact(plot_wave, \n",
    "             k=widgets.FloatSlider(min=0.1, max=5, step=0.01, value=1),\n",
    "             phase1=widgets.FloatSlider(min=-np.pi, max=2*np.pi ,step=0.01, value=0),\n",
    "             phase2=widgets.FloatSlider(min=-np.pi, max=2*np.pi ,step=0.01, value=0)\n",
    "            )\n"
   ]
  },
  {
   "cell_type": "markdown",
   "id": "a2e039a4-b023-4859-9f14-2a17b4abaa00",
   "metadata": {},
   "source": [
    "### CODE\n",
    "* Use the `interactive_pib_plot()` function to explore which values of $k$ will produce a wavefunction which satisfies the boundary conditions.\n",
    "* Use the arrow keys for fine control of the slider."
   ]
  },
  {
   "cell_type": "code",
   "execution_count": null,
   "id": "fe3e451d-4f12-48cb-9973-31005c752505",
   "metadata": {},
   "outputs": [],
   "source": []
  },
  {
   "cell_type": "markdown",
   "id": "8df57010-4506-463f-a802-fe36d2916d1b",
   "metadata": {},
   "source": [
    "### SHORT RESPONSE QUESTIONS\n",
    "1.  What values of k gave a wavefunction which satisfies the boundary condition of the particle in a box?\n",
    "2. What relation do these values have to the length? Write a formula which relates these values to the value $\\pi$, the length of the box, L, and the harmonic number, n.\n",
    "3. (Bonus) What is the significance of the functions of the type $e^{ikx}$ shown in the plot?\n",
    "### ANSWER"
   ]
  },
  {
   "cell_type": "markdown",
   "id": "9aeac3cd-b952-45db-b78e-2314b975355f",
   "metadata": {},
   "source": []
  },
  {
   "cell_type": "markdown",
   "id": "cda4c686-3fd3-457d-b6ca-6e6fb303722c",
   "metadata": {},
   "source": [
    "<br/><br/>"
   ]
  },
  {
   "cell_type": "markdown",
   "id": "07d14e58-8a18-4f3f-b01a-e0bd5ae89245",
   "metadata": {},
   "source": [
    "## PART 2 - Energy Levels of the Particle in a Box\n",
    "Now that we have determined which wavefunctions are allowed for this system, we can use them to find the corresponding energy levels.\n",
    "\n",
    "Recall the time-independent Schrodinger equation within the potential well:\n",
    "$$ E \\psi (x) = -\\frac{\\hbar{}^2}{2m}\\frac{d^2}{dx^2}\\psi{}(x) $$\n",
    "\n",
    "To solve for the energy eigenvalues, recall that the second derivative of a sine function obeys:\n",
    "$$\n",
    "\\frac{d^2}{dx^2}sin(kx) = -k^2sin(kx)\n",
    "$$\n",
    "Since we determined that the eigenfunctions of the energy operator for the particle in a box are of the form $Asin(kx)$, with $k = \\frac{n\\pi}{L}$, we substitute this into the Schrodinger equation: \n",
    "$$\n",
    "E_n\\psi{}_n(x) = -\\frac{\\hbar{}^2}{2m}(-\\frac{\\pi^2n^2}{L^2}\\psi_n(x))\n",
    "$$\n",
    "\n",
    "This yields an equation for the allowed energy levels:\n",
    "$$\n",
    "E_n = \\frac{\\hbar{}^2}{2m}\\frac{\\pi^2n^2}{L^2} = \\frac{h^2n^2}{8mL^2}\n",
    "$$\n",
    "Where $n =1,2,3...$ represents the quantum number.\n",
    "\n"
   ]
  },
  {
   "cell_type": "markdown",
   "id": "a71c88dc-6ba3-4ac4-b62f-ec38a04ceec2",
   "metadata": {},
   "source": [
    "### GIVEN FUNCTIONS\n",
    "* Execute the blocks containing the given functions. Don't modify these."
   ]
  },
  {
   "cell_type": "code",
   "execution_count": null,
   "id": "1338c824-0a7a-4c30-b8b4-dc697108506b",
   "metadata": {},
   "outputs": [],
   "source": [
    "from matplotlib.colors import LogNorm\n",
    "def pib_energy_plot():\n",
    "    n_values = np.arange(1, 7) \n",
    "    L_values = np.arange(1, 7)  \n",
    "    \n",
    "    N, L = np.meshgrid(n_values, L_values)  \n",
    "    E = np.vectorize(pib_energy)(N, L)  \n",
    "    \n",
    "    fig = plt.figure(figsize=(6, 6))\n",
    "    ax = fig.add_subplot(111, projection='3d')\n",
    "    \n",
    "    surf = ax.plot_surface(N, L, E, cmap='viridis', edgecolor='k', alpha=0.7, norm=LogNorm())\n",
    "    \n",
    "    ax.set_xlabel(\"Quantum Number (n)\")\n",
    "    ax.set_ylabel(\"Box Length (L) [Å]\")\n",
    "    ax.set_zlabel(\"Energy [a.u.]\", labelpad=15)\n",
    "    ax.set_title(\"Particle in a Box Energy Levels\")\n",
    "    \n",
    "    ax.invert_yaxis()\n",
    "    \n",
    "    plt.show()"
   ]
  },
  {
   "cell_type": "markdown",
   "id": "1c95557d-1a7f-4b17-b895-baa09e6296f0",
   "metadata": {},
   "source": [
    "### CODE\n",
    "* Create a function which gives the particle in a box energies as a function of n and L, with the units specified.\n",
    "* Assume $m = m_e$, where $m_e$ is the mass of an electron.\n",
    "* Use the `pib_energy_plot()` function to explore how E depends on both n and L."
   ]
  },
  {
   "cell_type": "code",
   "execution_count": null,
   "id": "ac02f347-ce77-4bae-9a9c-efa0d7fd93f6",
   "metadata": {},
   "outputs": [],
   "source": [
    "def pib_energy(n, L_angs=1.5):\n",
    "    \"\"\"\n",
    "    Use atomic units.\n",
    "    Calculate energy levels for a particle in a 1D box.\n",
    "    \n",
    "    Parameters:\n",
    "        n (int): quantum number, scalar \n",
    "        L_angs (float): Length of the box in angstrom, scalar\n",
    "        \n",
    "    Returns:\n",
    "        energy: energy of this PIB wavefunction, scalar\n",
    "    \"\"\"\n",
    "    L_au = L_angs * 1.8889 #conversion between Angstrom and au \n",
    "    h_au = 2 * np.pi # Planck's constant (a.u.), how convenient!\n",
    "    m_electron_au = 1 # The mass of an electron is also quite convenient in atomic units\n",
    "    energy = #calculate energy here!\n",
    "    return energy"
   ]
  },
  {
   "cell_type": "code",
   "execution_count": null,
   "id": "99548eea-c5da-4135-ac9d-0e450ca3b880",
   "metadata": {},
   "outputs": [],
   "source": [
    "#plot energies!"
   ]
  },
  {
   "cell_type": "markdown",
   "id": "bde612b5-4f22-40db-b9eb-bfb2233c7f60",
   "metadata": {},
   "source": [
    "### SHORT RESPONSE QUESTIONS\n",
    "1. How does visualizing the energy levels in three dimensions help make sense of the equation? \n",
    "2. Based on this plot, predict the shape of the curve when $n = L$? With increasing n, would the energy be increasing, decreasing, or something else? How about if $L = n - 1$?\n",
    "3. How does the energy of the particle in a box wavefunction depend on the number of nodes in the wavefunction?\n",
    "### ANSWER"
   ]
  },
  {
   "cell_type": "markdown",
   "id": "f46da120-5ba5-450e-af6c-7b648861ac36",
   "metadata": {},
   "source": []
  },
  {
   "cell_type": "markdown",
   "id": "02adbe73-dcd7-467d-a2e4-56bd367edbc9",
   "metadata": {},
   "source": [
    "<br/><br/>\n",
    "<br/><br/>"
   ]
  },
  {
   "cell_type": "markdown",
   "id": "0b203f78-2529-43b9-ab15-b33a31ce9756",
   "metadata": {},
   "source": [
    "# Computational Chemistry"
   ]
  },
  {
   "cell_type": "markdown",
   "id": "316acd7c-88d4-4f82-902e-0dbfd0529f63",
   "metadata": {},
   "source": [
    "And finally, we arrive at __computational chemistry__! \n",
    "\n",
    "With this, we move beyond the simplified models used to build intuition about quantum mechanics and actually simulate molecules with detailed approximations of the Schrodinger equation.\n",
    "\n",
    "In this section, we will investigate the energy levels of __alkenes__, which share a surprising resemblance to the particle-in-a-box system. One might expect these systems to be analogous just examining their structures—but will the numbers reflect this?"
   ]
  },
  {
   "cell_type": "markdown",
   "id": "21372e40-258d-4d00-a4a1-4effbaad835c",
   "metadata": {},
   "source": [
    "## Libraries\n",
    "* Execute this cell before going any further."
   ]
  },
  {
   "cell_type": "code",
   "execution_count": null,
   "id": "5c6bfc97-c72f-4913-8463-912d0e1813cc",
   "metadata": {},
   "outputs": [],
   "source": [
    "import psi4\n",
    "import rdkit\n",
    "from rdkit import Chem\n",
    "from rdkit.Chem import AllChem\n",
    "import py3Dmol\n",
    "import fortecubeview"
   ]
  },
  {
   "cell_type": "markdown",
   "id": "0d7046c8-b57f-47ad-803c-142d2343577d",
   "metadata": {},
   "source": [
    "## PART 1 - Specifying molecules with SMILES\n",
    "Before we can calculate the properties of molecules, we need to be able to specify their structures. While graphical molecular editors exist, we're _power users_, and we prefer to work programmatically. \n",
    "\n",
    "Enter __SMILES (Simplified Molecular Input Line Entry System)__. This system allows us to specify molecules using short strings of characters.\n",
    "\n",
    "Some of the basic rules:\n",
    "* __Implicit Hydrogens__: Specify only heavy atoms. (methane = `C`)\n",
    "* __Chains__: Write atoms in order. (ethanol = `CCO`)\n",
    "* __Bond Order__: Use `=` for double bonds and `#` for triple bonds. (acetylene = `C#C`)\n",
    "* __Branching__: Use parenthesis to indicate branching. (isopropyl alchol = `CC(C)O`)\n",
    "* __Rings__: Number ring-forming atoms. (cyclohexane = `C1CCCCC1`)\n",
    "\n",
    "Try it!"
   ]
  },
  {
   "cell_type": "markdown",
   "id": "fc630371-4c0b-443f-9f91-2d02ea4c3d56",
   "metadata": {},
   "source": [
    "### GIVEN FUNCTIONS\n",
    "* Execute the blocks containing the given functions. Don't modify these."
   ]
  },
  {
   "cell_type": "code",
   "execution_count": null,
   "id": "1d2468b6-d069-4830-9fb7-f00583efd273",
   "metadata": {},
   "outputs": [],
   "source": [
    "def xyz_from_smiles(smiles_string):\n",
    "    rdkit_molecule = Chem.MolFromSmiles(smiles_string)\n",
    "    rdkit_molecule = Chem.AddHs(rdkit_molecule)\n",
    "    result = AllChem.EmbedMolecule(rdkit_molecule, randomSeed=42)\n",
    "    if result != 0:\n",
    "        raise ValueError(\"Embedding failed for the molecule\")\n",
    "    result = AllChem.MMFFOptimizeMolecule(rdkit_molecule)\n",
    "    \n",
    "    if result != 0:\n",
    "        raise ValueError(\"Optimization failed for the molecule\")\n",
    "    \n",
    "    xyz = Chem.MolToXYZBlock(rdkit_molecule)\n",
    "    return xyz"
   ]
  },
  {
   "cell_type": "code",
   "execution_count": null,
   "id": "debd3f4f-8a60-4d4a-bf58-a4875a6a6221",
   "metadata": {},
   "outputs": [],
   "source": [
    "def show_molecule(smiles_string):\n",
    "    xyz = xyz_from_smiles(smiles_string)\n",
    "    view = py3Dmol.view(width=400,height=400)\n",
    "    view.addModel(xyz,'xyz')\n",
    "    view.setStyle({'sphere':{'radius' : 0.3}, 'stick' : {'radius': 0.2}})\n",
    "    view.setStyle({'element': 'H'}, {'sphere': {'radius': 0.3, 'color': 'white'}})\n",
    "    view.zoomTo()\n",
    "    view.show()"
   ]
  },
  {
   "cell_type": "markdown",
   "id": "9e787211-feb2-41e2-8c43-552496d5b40a",
   "metadata": {},
   "source": [
    "### CODE\n",
    "* Using the create and the structures of the following molecules using SMILES notation, and display them with the `show_molecule()` function:\n",
    "  1. Benzene\n",
    "  2. Hexane\n",
    "  3. 2-Butanol\n",
    "  4. Butadiene"
   ]
  },
  {
   "cell_type": "code",
   "execution_count": null,
   "id": "bb140b5d-970c-471f-96c5-7b37e1df4c55",
   "metadata": {},
   "outputs": [],
   "source": []
  },
  {
   "cell_type": "markdown",
   "id": "95af7f7e-729d-4f0a-b232-177c599acb82",
   "metadata": {},
   "source": [
    "### SHORT RESPONSE QUESTIONS\n",
    "1. Why is it useful to represent molecules using SMILES strings? When might this offer an advantage over graphical molecular editors?\n",
    "2. Give an example of structural information which might not be explicitly defined in a basic SMILES string. \n",
    "### ANSWER"
   ]
  },
  {
   "cell_type": "markdown",
   "id": "ed1e046a-18f9-4068-948d-ad08aa9ae366",
   "metadata": {},
   "source": []
  },
  {
   "cell_type": "markdown",
   "id": "9bcf1509-b919-4dda-9cfc-2bb6a1e65085",
   "metadata": {},
   "source": [
    "<br/><br/>"
   ]
  },
  {
   "cell_type": "markdown",
   "id": "9085177c-7ed7-4c56-a9b7-73aa034042e8",
   "metadata": {},
   "source": [
    "## PART 2 - Computing Orbital Energies with the Hartree-Fock Method\n",
    "Alright, now that we know how to make molecules, we can start running quantum mechanical calculations! We will be using the Hartree-Fock algorithm, also known as the Self-Consistent Field (SCF) method. This is a classic method, one of the first developed, and a great many modern methods trace their lineage to it. \n",
    "\n",
    "A high-level overview of how the algorithm works: \n",
    "1. __Initial Guess__: We start with an estimated set of molecular orbitals, constructed from a limited selection of atomic orbitals called a __basis set__.\n",
    "2. __Optimizing Orbitals__: For each orbital, we minimize the energy of the wavefunction based on the following energy equation:\n",
    "$$E_{HF}\\psi_i(r) = -\\frac{\\hbar{}^2}{2m}\\nabla^2\\psi_i(r) + V_{nuclear}\\psi_i(r) + V_{electronic}(r)\\psi_i(r) + V_{exchange}(r)\\psi_i(r)$$\n",
    "    * $\\psi_i(r)$ is the wavefunction of the $i$_th_ orbital as a function of $r = (x,y,z)$.\n",
    "    * The first term represents __kinetic energy__.\n",
    "    * $V_{nuclear}$ represents __electron-nucleus attraction__.\n",
    "    * $V_{electronic}$ represents __electron-electron repulsion__.\n",
    "    * $V_{exchange}$ accounts for the __Pauli Exclusion Principle__.\n",
    "3. __Self-Consistent Iteration__: The shape of each orbital affects the potential experienced by all the others, so we repeat this process perhaps many times to refine our wavefunction.\n",
    "4. __Convergence__: Once the wavefunctions do not change beyond a certain threshold, we halt the process.\n",
    "\n",
    "We will use the quantum chemistry software package `Psi4` to perform our calculations. Specifically, we will explore the orbital energies of the octatetraene molecule."
   ]
  },
  {
   "cell_type": "markdown",
   "id": "2395d681-79d8-4dac-9abb-536f48e838d5",
   "metadata": {},
   "source": [
    "### GIVEN FUNCTIONS\n",
    "* Execute the blocks containing the given functions. Don't modify these."
   ]
  },
  {
   "cell_type": "code",
   "execution_count": null,
   "id": "d8057145-bce2-41ac-9ce1-dcddcb342ff0",
   "metadata": {},
   "outputs": [],
   "source": [
    "def create_psi4_molecule(smiles_string):\n",
    "    '''\n",
    "    INPUT:\n",
    "    xyz format molecule coordinates\n",
    "    OUTPUT:\n",
    "    psi4-compatible molecular geometry object\n",
    "    '''\n",
    "    xyz_block = xyz_from_smiles(smiles_string)\n",
    "    xyz_lines = xyz_block.split('\\n')\n",
    "    psi_coords = \"\\n\".join([\"0 1\"] + xyz_lines[2:])\n",
    "    psi4_molecule = psi4.geometry(psi_coords)\n",
    "    return psi4_molecule"
   ]
  },
  {
   "cell_type": "markdown",
   "id": "5cc319a1-81d8-4cb8-9f59-5acc6585f857",
   "metadata": {},
   "source": [
    "### CODE\n",
    "* Specify the octatetraene molecule using SMILES.\n",
    "* Use the `create_psi4_molecule()` function to create a molecule object with which we can perform our calculation.\n",
    "* Print the overall energy of the molecule, and use the provided function to plot the energy levels of the orbitals."
   ]
  },
  {
   "cell_type": "code",
   "execution_count": null,
   "id": "bcd536cf-b78f-4474-b686-7364161ecb43",
   "metadata": {},
   "outputs": [],
   "source": [
    "octatetraene = #create the molecule!\n",
    "psi4_mol = #use the function to convert between formats!\n",
    "psi4.set_output_file('output.dat',False)\n",
    "psi4.set_memory('1 GB')\n",
    "my_theory = 'SCF/STO-3G'\n",
    "\n",
    "energy, wfn = psi4.energy(my_theory,return_wfn=True,molecule=psi4_mol)"
   ]
  },
  {
   "cell_type": "code",
   "execution_count": null,
   "id": "7c368f29-e9ae-4a0c-bf85-be0fcce55638",
   "metadata": {},
   "outputs": [],
   "source": [
    "plt.scatter(range(len(wfn.epsilon_a().np)),wfn.epsilon_a().np)\n",
    "plt.title('Orbital Energies')\n",
    "plt.ylabel('Energy [a.u.]')\n",
    "plt.xlabel('Orbital Index')\n",
    "# plt.xlim(10,50)\n",
    "# plt.ylim(-2,2) #Try visualizing the plot with and without these limits.\n",
    "plt.show()"
   ]
  },
  {
   "cell_type": "markdown",
   "id": "4f7ba5fe-b699-4bd3-8661-460fe4cf521f",
   "metadata": {},
   "source": [
    "### SHORT RESPONSE QUESTIONS\n",
    "1. How are the Hartree Fock equations similar to the examples you have seen for the Schrodinger Equation? How are they different?\n",
    "2. Why might there be differences between the energy levels of the orbitals and those of the particle in a box?\n",
    "4. Is there a range for which the orbital energies have a similar shape to the particle in a box energies?\n",
    "### ANSWER"
   ]
  },
  {
   "cell_type": "markdown",
   "id": "58c39d79-3b1e-4343-95cd-0ecaddf6bca1",
   "metadata": {},
   "source": []
  },
  {
   "cell_type": "markdown",
   "id": "5008ee19-94a0-4592-855e-137d47d801dd",
   "metadata": {},
   "source": [
    "<br/><br/>"
   ]
  },
  {
   "cell_type": "markdown",
   "id": "9731ffed-a43c-411a-963a-061f10da872a",
   "metadata": {},
   "source": [
    "## PART 3 - Visualizing Computed Orbitals\n",
    "It is helpful to compute the energies of orbitals, but sometimes we want more. Particularly, in this case we would like to know which of these orbitals are $\\pi$ orbitals and which are $\\sigma$. The $pi$ orbitals are most relevant for our comparison to the particle in a box (why?).\n",
    "\n",
    "How could we distinguish the orbitals? We needn't turn to sophisticated theoretical models- we can simply _look at them_! Quantum chemical calculations by nature generate spatial data for the orbitals, and this data can be visualized to identify key characteristics.\n",
    "\n",
    "We will use `Psi4` to convert the wavefunction data from our computation into `.cube` files, which store orbital information on a 3D grid. We will then use `fortecubeview` to visualize them."
   ]
  },
  {
   "cell_type": "markdown",
   "id": "5260b756-83ac-4963-814b-fa191ac7ddfa",
   "metadata": {},
   "source": [
    "### CODE\n",
    "* Using the wavefunction from your prior calculation, obtain `.cube` files using the given function.\n",
    "* Visualize the orbitals using `fortecubeview.plot()`.\n",
    "* Create a list with the indices of the $\\pi$ orbitals. For every ground-state $\\pi$ orbital, include a corresponding excited-state $\\pi$ orbital (How can you tell which is which?).\n",
    "* Some code is provided to visualize the $\\pi$ orbital energies. Execute this code, and leave comments explaining what each line does."
   ]
  },
  {
   "cell_type": "code",
   "execution_count": null,
   "id": "8f26d874-054c-4d2c-8eae-87ec44ecdfc1",
   "metadata": {},
   "outputs": [],
   "source": [
    "import os\n",
    "os.makedirs('cubes')"
   ]
  },
  {
   "cell_type": "code",
   "execution_count": null,
   "id": "05950bd4-748c-49a9-a1d7-5e86c4913cbc",
   "metadata": {},
   "outputs": [],
   "source": [
    "psi4.set_options({ #write a subset of our orbitals into the 'cubes' directory as .cube files\n",
    "    'CUBEPROP_TASKS':  ['orbitals'],\n",
    "    'CUBEPROP_FILEPATH': 'cubes',\n",
    "    'CUBEPROP_ORBITALS' : list(range(25,35))\n",
    "})\n",
    "psi4.cubeprop(wfn)"
   ]
  },
  {
   "cell_type": "code",
   "execution_count": null,
   "id": "ab286a3f-f047-4bda-8225-72e17a3a5b32",
   "metadata": {},
   "outputs": [],
   "source": [
    "view = fortecubeview.plot('cubes',colorscheme='wow') #view orbitals in 'cubes' directory"
   ]
  },
  {
   "cell_type": "code",
   "execution_count": null,
   "id": "1c920a2c-acb8-46f2-9deb-ab16ab219348",
   "metadata": {},
   "outputs": [],
   "source": [
    "pi_indices = [#look at the orbitals and pick out which ones are pi!]"
   ]
  },
  {
   "cell_type": "code",
   "execution_count": null,
   "id": "a0afe10f-9c43-489d-abb3-a4ed0d9623a1",
   "metadata": {},
   "outputs": [],
   "source": [
    "indices = np.array(pi_indices) - 1\n",
    "x = range(1,len(pi_indices)+1)\n",
    "y = wfn.epsilon_a().np[indices] #epsilon_a() is orbital energies of wavefunction\n",
    "#.np gives these values in np.array format\n",
    "# but what does indices do here?\n",
    "plt.scatter(x,y)\n",
    "a,b,c = np.polyfit(x,y,2)\n",
    "x_fit = np.arange(1,len(pi_indices)+1)\n",
    "y_fit = a * x_fit**2 + b * x_fit + c\n",
    "plt.plot(x_fit,y_fit,label=f\"${a:.3f} x^2 + {b:.2f} x + {c:.2f}$\")\n",
    "plt.legend()\n",
    "plt.title('Pi Orbital Energies')\n",
    "plt.ylabel('Energy [a.u.]')\n",
    "plt.xlabel('Harmonic Number')\n",
    "plt.show()"
   ]
  },
  {
   "cell_type": "code",
   "execution_count": null,
   "id": "298a5d1a-af5e-440d-a908-404fa347bb03",
   "metadata": {},
   "outputs": [],
   "source": [
    "import shutil\n",
    "shutil.rmtree('cubes') #cleans orbital data"
   ]
  },
  {
   "cell_type": "markdown",
   "id": "70c9c4b7-dee9-4117-bab5-4b24255847cf",
   "metadata": {},
   "source": [
    "### SHORT RESPONSE QUESTIONS\n",
    "1. When else might visualizing orbitals be useful for understanding a chemical system?\n",
    "2. How do the computed $\\pi$ orbitals compare to the wavefunctions of the particle in a box? How are they similar or different?\n",
    "3. Are the $\\pi$ orbital energies for the SCF method well described by a quadratic curve? If not, what might be a reason for the discrepancy?\n",
    "### ANSWER"
   ]
  },
  {
   "cell_type": "markdown",
   "id": "4fc26846-c8fa-4631-818b-5d2e9187654d",
   "metadata": {},
   "source": []
  },
  {
   "cell_type": "markdown",
   "id": "f2ae1fc6-9071-4b90-9358-32329103aac3",
   "metadata": {},
   "source": [
    "<br/><br/>\n",
    "<br/><br/>"
   ]
  },
  {
   "cell_type": "markdown",
   "id": "4d152076-8844-481e-890a-ef34cc572b34",
   "metadata": {},
   "source": [
    "# Making an Empirical Model"
   ]
  },
  {
   "cell_type": "markdown",
   "id": "7933ca32-7e50-4cf5-be83-c757d5143dfb",
   "metadata": {},
   "source": [
    "It may seem strange to focus on one of the simplest quantum mechanical models in the same activity as a much more advanced method. Why do we do this?\n",
    "\n",
    "It allows us to demonstrate a common concept in computational chemistry: the use of __empirical__ and __semiempirical__ models.\n",
    "\n",
    "While rigorous quantum mechanical methods can give quite accurate results, this accuracy comes at the cost of being slow and resource-intensive. Supercomputing resources can drain budgets quickly, so it's important to get as much predictive power as possible for as little compute as possible. One method of compromise is to use __empirical models__ based on much simpler equations, with parameters optimized to match the results of the higher quality methods. (You may have noticed by now- optimization is a key part of nearly everything in computational chemistry!)\n",
    "\n",
    "In this section, we'll explore this idea by fitting parameters to the particle-in-a-box model to approximate the results of the SCF method. We will apply this to predicting HOMO-LUMO energy gaps, which are key to understanding chemical reactivity, electrochemistry, and photochemistry. Will the barebones particle-in-a-box model—improved with only a constant and linear parameter—be able to stand up to a method many orders of magnitude more expensive? Let's find out!"
   ]
  },
  {
   "cell_type": "markdown",
   "id": "694d6db1-aa25-4933-ad3e-be45e0d4b0c5",
   "metadata": {},
   "source": [
    "## PART 1 - Defining the problem:\n",
    "Before we start writing code and running our models, it is a good idea to stop and think about what exactly we are trying to do! The first step is to figure out formulae or algorithms for predicting HOMO-LUMO energy gaps for each of our models.  \n",
    "\n",
    "For the quantum mechanical model:\n",
    "* The number of electrons is given by $n_e = 6n_c + n_h$, where n_e is the number of electrons, n_c is the number of carbons and n_h is the number of hydrogens.\n",
    "* $n_h = n_c + 2$ for linear alkenes, therefore $n_e = 7n_c + 2$.\n",
    "* Since each orbital holds two electrons, the $\\frac{n_e}{2}$_th_ orbital will be HOMO, and the next will be LUMO.\n",
    "* Note that we count from zero in Python, so when indexing wavefunctions from `psi4`, we must subtract one from the indices.\n",
    "  \n",
    "This allows us to obtain the HOMO-LUMO energy gap from the following formula:\n",
    "$$\n",
    "\\Delta{}E^{HL} = E_{LUMO} - E_{HOMO} = E_{(n_e/2)} - E_{(n_e/2 - 1)}\n",
    "$$\n",
    "\n",
    "\n",
    "For the particle-in-a-box model:\n",
    "* We are only interested in the pi orbitals of the alkene.\n",
    "* For an alkene chain with $n_c$ carbon atoms, there will be $n_c/2$ ground state pi orbitals. There is no need to subtract one in these case, since these are being directly used as quantum numbers.\n",
    "    * The HOMO index will be $n_c/2$\n",
    "    * The LUMO index will be $n_c/2 + 1$\n",
    "* The C-C bond length for a linear alkene is approximately $1.2 \\times (n_c - 1)$. We can use this value for L, and any proportionality error will be absorbed into our linear parameter.\n",
    "\n",
    "Now that we've defined how to calculate HOMO-LUMO gap for both models, let's translate these ideas into code and run our calculations.\n"
   ]
  },
  {
   "cell_type": "markdown",
   "id": "a770f20d-0c07-4a37-bec1-cad048c72c0e",
   "metadata": {},
   "source": [
    "### GIVEN FUNCTIONS\n",
    "* Execute the blocks containing the given functions. Don't modify these."
   ]
  },
  {
   "cell_type": "code",
   "execution_count": null,
   "id": "b0071929-f02f-49df-bc89-cf32133cc6c1",
   "metadata": {},
   "outputs": [],
   "source": [
    "def get_gaps(n1,n2):\n",
    "    vals = range(n1,n2+1,2)\n",
    "    quantum_gaps = []\n",
    "    pib_gaps = []\n",
    "    for n_c in vals:\n",
    "        quantum_gaps.append(quantum_energy_gap(n_c))\n",
    "        pib_gaps.append(pib_energy_gap(n_c))\n",
    "    return quantum_gaps, pib_gaps"
   ]
  },
  {
   "cell_type": "markdown",
   "id": "cf560a59-219b-426a-8249-30a21340d03d",
   "metadata": {},
   "source": [
    "### CODE\n",
    "* Complete the missing parts of the `quantum_energy_gap()` and `pib_energy_gap()` functions.\n",
    "* Use the `get_gaps()` function to obtain HOMO-LUMO gaps for all alkenes from 2 to 18 carbons long.\n",
    "* Plot the resulting energy gaps for each model using the provided code."
   ]
  },
  {
   "cell_type": "code",
   "execution_count": null,
   "id": "39b76af7-e929-445b-ba89-671fc7f83162",
   "metadata": {},
   "outputs": [],
   "source": [
    "def quantum_energy_gap(n_c):\n",
    "    n_e = # what should these be?\n",
    "    homo_index = \n",
    "    lumo_index = \n",
    "    \n",
    "    iterations = n_c // 2\n",
    "    smiles = \"C=C\" * iterations\n",
    "    psi4_molecule = create_psi4_molecule(smiles)\n",
    "    energy, wfn = psi4.energy('SCF/sto-3g',return_wfn=True,molecule=psi4_molecule)\n",
    "    \n",
    "    homo_e = wfn.epsilon_a().np[homo_index]\n",
    "    lumo_e = wfn.epsilon_a().np[lumo_index]\n",
    "    delta_e = lumo_e - homo_e\n",
    "    return delta_e"
   ]
  },
  {
   "cell_type": "code",
   "execution_count": null,
   "id": "384340c4-3215-41ac-85e3-cc4a7481d063",
   "metadata": {},
   "outputs": [],
   "source": [
    "def pib_energy_gap(n_c):\n",
    "    homo_index = \n",
    "    lumo_index = \n",
    "    L = \n",
    "    pib_homo_e = pib_energy(homo_index,L)\n",
    "    pib_lumo_e = \n",
    "    delta_e = \n",
    "    return delta_e"
   ]
  },
  {
   "cell_type": "code",
   "execution_count": null,
   "id": "ba61d556-2eaa-43db-90f1-994d25e1efe3",
   "metadata": {},
   "outputs": [],
   "source": [
    "quantum_gaps, pib_gaps = #use the function!"
   ]
  },
  {
   "cell_type": "code",
   "execution_count": null,
   "id": "c4567321-6942-49e9-a8e2-29683df57de1",
   "metadata": {},
   "outputs": [],
   "source": [
    "chain_lengths = range(2,19,2)\n",
    "plt.plot(chain_lengths,quantum_gaps)\n",
    "plt.title('HOMO-LUMO Energy Gaps vs. Alkene Chain Length (SCF)')\n",
    "plt.ylabel('Energy [a.u.]')\n",
    "plt.xlabel('Chain Length')"
   ]
  },
  {
   "cell_type": "code",
   "execution_count": null,
   "id": "574a2052-f966-4b07-b9c1-7d536c07fe3c",
   "metadata": {},
   "outputs": [],
   "source": [
    "plt.plot(chain_lengths,pib_gaps)\n",
    "plt.title('HOMO-LUMO Energy Gaps vs. Alkene Chain Length (PIB)')\n",
    "plt.ylabel('Energy [a.u.]')\n",
    "plt.xlabel('Chain Length')"
   ]
  },
  {
   "cell_type": "markdown",
   "id": "72e2887c-2333-478d-9ccc-7ec7b7a3ff3e",
   "metadata": {},
   "source": [
    "### SHORT RESPONSE QUESTIONS\n",
    "1. How similar or different are the predictions made by each model?\n",
    "2. Does it seem that the simplified model might be more valid for a certain range?\n",
    "### ANSWER"
   ]
  },
  {
   "cell_type": "markdown",
   "id": "ff2dc994-3f25-4310-902f-94de27b707f1",
   "metadata": {},
   "source": []
  },
  {
   "cell_type": "markdown",
   "id": "e78fecfa-fc81-4d84-8f45-3b31505d09ee",
   "metadata": {},
   "source": [
    "<br/><br/>"
   ]
  },
  {
   "cell_type": "markdown",
   "id": "0760ad0a-7b7d-4732-a70d-4140d9ce8f90",
   "metadata": {},
   "source": [
    "## PART 2 - Optimizing our Model\n",
    "As we observed in the previous part, the particle-in-a-box model is not ready for predictive use. To improve it, we must introduce parameters which we can optimize to match the more accurate quantum mechanical results. We might also benefit from truncating out some extreme values, as we may have observed.\n",
    "\n",
    "The simplest parameters we can add are a __linear__ and __constant__ term. \n",
    "$$\n",
    "E^{HL}_{FIT}(n_c) = \\alpha \\times E^{HL}_{PIB}(n_c) + \\beta\n",
    "$$\n",
    "Where $\\alpha$ is the linear scaling factor and $\\beta$ is the constant offset.\n",
    "\n",
    "How can we determine the best values for $\\alpha$ and $\\beta$? We'll use an optimization algorithm to minimize the error between our model's predictions and the actual results of the quantum mechanical method.\n",
    "\n",
    "We'll use `scipy.optimize.curve_fit` to do this. This is technically a form of machine learning, so feel free to put that on your resume after you finish this lab (just hope they don't ask you to explain it)!\n",
    "\n",
    "Let's implement the optimzation and see how well the particle-in-a-box model performs with these new parameters."
   ]
  },
  {
   "cell_type": "markdown",
   "id": "7a45c830-4752-4421-b93e-8f3a6f18c4a9",
   "metadata": {},
   "source": [
    "### GIVEN FUNCTIONS\n",
    "* Execute the blocks containing the given functions. Don't modify these."
   ]
  },
  {
   "cell_type": "code",
   "execution_count": null,
   "id": "b9da8c53-8966-482a-89f1-2affe8ff1040",
   "metadata": {},
   "outputs": [],
   "source": [
    "def calculate_r_squared(x,y,coeffs):\n",
    "# Predicted values\n",
    "    y_pred = corrected_pib_model(x,*coeffs)\n",
    "    # Compute the R-squared value\n",
    "    ss_total = np.sum((y - np.mean(y))**2)\n",
    "    ss_residual = np.sum((y - y_pred)**2)\n",
    "    r_squared = 1 - (ss_residual / ss_total)\n",
    "    return r_squared"
   ]
  },
  {
   "cell_type": "code",
   "execution_count": null,
   "id": "68aed420-ca09-449b-8b07-8d7bb80728e8",
   "metadata": {},
   "outputs": [],
   "source": [
    "def pib_fit_plot(x,y,coeffs):\n",
    "    x = np.array(range(4,19,2))\n",
    "    y_fit = corrected_pib_model(x,*params)\n",
    "    plt.scatter(x,y)\n",
    "    r_squared = calculate_r_squared(x,y,params)\n",
    "    plt.plot(x,y_fit,color='red',\n",
    "             label=f\"Model: ${params[0]:.2f} \\\\times pib\\\\_energy\\\\_gap(n) + {params[1]:.2f}$ | $R^2 = {r_squared:.3f}$\"\n",
    "            )\n",
    "    plt.legend()\n",
    "    plt.title('Parameterized PIB and SCF Data')\n",
    "    plt.xlabel('no. carbons')\n",
    "    plt.ylabel('HOMO-LUMO Energy Gap [a.u.]')\n",
    "    plt.show()\n",
    "    print(f\"Parameters: {params[0]:.2f} {params[1]:.2f}\")"
   ]
  },
  {
   "cell_type": "markdown",
   "id": "cc427d5d-2e7c-4b36-bd8f-7b89d4fbbfde",
   "metadata": {},
   "source": [
    "### CODE\n",
    "* Create a function named `corrected_pib_model()`. It should accept $x$, $A$, and $B$ as arguments (in that order), and return a $y$ value.\n",
    "* Leave comments explaining the significance of each argument used in the `curve_fit()` call."
   ]
  },
  {
   "cell_type": "code",
   "execution_count": null,
   "id": "9bc61f05-9feb-446c-bffa-f7b1246447a5",
   "metadata": {},
   "outputs": [],
   "source": [
    "#sample function definition:\n",
    "# def my_function(arg1,arg2):\n",
    "#     value = arg1 + arg2 + 5 * 3\n",
    "#     return value"
   ]
  },
  {
   "cell_type": "code",
   "execution_count": null,
   "id": "9b8901b1-5d7b-4f65-9d2d-1d96ff6b1894",
   "metadata": {},
   "outputs": [],
   "source": [
    "params, covariance = curve_fit(\n",
    "    corrected_pib_model,\n",
    "    np.array(range(4,19,2)),\n",
    "    quantum_gaps[1:],\n",
    "    [1,1]\n",
    ")"
   ]
  },
  {
   "cell_type": "code",
   "execution_count": null,
   "id": "78963837-06a2-45a8-a618-755fe4b1fcf4",
   "metadata": {},
   "outputs": [],
   "source": [
    "pib_fit_plot(np.array(range(4,19,2)),quantum_gaps[1:],params)"
   ]
  },
  {
   "cell_type": "markdown",
   "id": "fcde3574-8ce3-4cf2-b387-d5cddfd0d813",
   "metadata": {},
   "source": [
    "### SHORT RESPONSE QUESTIONS\n",
    "1. How well does the model fit the quantum data, according to the $R^2$ value you obtain?\n",
    "2. Does it seem like the model would be a good fit outside the range it was trained on? Why or why not?\n",
    "### ANSWER"
   ]
  },
  {
   "cell_type": "markdown",
   "id": "b4a6f439-558a-4f35-9fe1-e64bd17f5ea3",
   "metadata": {},
   "source": []
  },
  {
   "cell_type": "markdown",
   "id": "a2a28805-bd34-40e3-bdfb-adb054cff662",
   "metadata": {},
   "source": [
    "<br/><br/>\n",
    "<br/><br/>"
   ]
  },
  {
   "cell_type": "markdown",
   "id": "f4917e13-4f23-4c34-8b52-71e7fa151cc7",
   "metadata": {},
   "source": [
    "# Reflection"
   ]
  },
  {
   "cell_type": "markdown",
   "id": "f7b7ae28-6c24-4d21-890f-11cb23b0adcf",
   "metadata": {},
   "source": [
    "### SHORT RESPONSE QUESTIONS\n",
    "1. How do the boundary conditions of the particle in a box system give rise to the discrete energy levels characteristic of quantum mechanical systems?\n",
    "2. How are simplified models like the particle-in-a-box model complementary to more sophisticated models like the Self-Consistent Field method? Name at least two ways.\n",
    "### ANSWER"
   ]
  },
  {
   "cell_type": "markdown",
   "id": "0d806be8-12d5-40e5-8375-bfb60cff3909",
   "metadata": {},
   "source": []
  }
 ],
 "metadata": {
  "kernelspec": {
   "display_name": "Python 3 (ipykernel)",
   "language": "python",
   "name": "python3"
  },
  "language_info": {
   "codemirror_mode": {
    "name": "ipython",
    "version": 3
   },
   "file_extension": ".py",
   "mimetype": "text/x-python",
   "name": "python",
   "nbconvert_exporter": "python",
   "pygments_lexer": "ipython3",
   "version": "3.12.4"
  }
 },
 "nbformat": 4,
 "nbformat_minor": 5
}
