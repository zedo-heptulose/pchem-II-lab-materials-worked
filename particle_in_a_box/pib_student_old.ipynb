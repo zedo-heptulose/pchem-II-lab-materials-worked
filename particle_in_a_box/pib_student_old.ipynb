{
 "cells": [
  {
   "cell_type": "markdown",
   "id": "e96f4f11-c349-4504-ad16-d01a4c4c2e21",
   "metadata": {},
   "source": [
    "### LIBRARIES"
   ]
  },
  {
   "cell_type": "code",
   "execution_count": 1,
   "id": "a3a09f7f-7195-4372-823d-b490ada84711",
   "metadata": {},
   "outputs": [],
   "source": [
    "import pandas as pd\n",
    "import numpy as np\n",
    "import matplotlib.pyplot as plt\n",
    "import os\n",
    "import re"
   ]
  },
  {
   "cell_type": "markdown",
   "id": "906be93d-c21d-4db1-af32-8970d43ea148",
   "metadata": {},
   "source": [
    "<br/><br/>\n",
    "<br/><br/>\n",
    "<br/><br/>"
   ]
  },
  {
   "cell_type": "markdown",
   "id": "5c10a485-0d06-4897-89b5-a78eb10ac6cf",
   "metadata": {},
   "source": [
    "# QUESTION 1\n",
    "## Warmup - Approximations"
   ]
  },
  {
   "cell_type": "markdown",
   "id": "f698fc9c-f7d8-4446-a206-90faf06d1908",
   "metadata": {},
   "source": [
    "### CODE"
   ]
  },
  {
   "cell_type": "code",
   "execution_count": 29,
   "id": "8acf800c-0473-4c45-b53b-1a298f10eb18",
   "metadata": {},
   "outputs": [],
   "source": [
    "#FIGURE OUT A FUN SHORT EXERCISE FOR THIS LATER\n"
   ]
  },
  {
   "cell_type": "markdown",
   "id": "37943190-b4ea-4274-9537-bba2b606f602",
   "metadata": {},
   "source": [
    "### SHORT RESPONSE"
   ]
  },
  {
   "cell_type": "markdown",
   "id": "50602583-3beb-40c5-b9ef-9d73f7392360",
   "metadata": {},
   "source": []
  },
  {
   "cell_type": "markdown",
   "id": "3f7505aa-5c1d-4db5-a495-3238122e5b9f",
   "metadata": {},
   "source": [
    "<br/><br/>\n",
    "<br/><br/>\n",
    "<br/><br/>  "
   ]
  },
  {
   "cell_type": "markdown",
   "id": "87a98ec1-5f44-471d-aec5-720f087cf042",
   "metadata": {},
   "source": [
    "# QUESTION 2  \n",
    "## THE PROVERBIAL PARTICLE IN A BOX\n",
    "CODE:\n",
    "* Using the empty function, fill in the missing part with the formula of the particle in a box wavefunction.  \n",
    "* Display the first 5 harmonics of the Particle in a Box using the given function, which will call your function.\n",
    "  \n",
    "SHORT RESPONSE:\n",
    "* What do you think the particle in a box wavefunction will look like as n goes to infinity?  \n",
    "* What does this mean, if the square of a wavefunction is a probability density?  "
   ]
  },
  {
   "cell_type": "markdown",
   "id": "0f8d617b-ba87-4af3-9a6c-5fa24ae07cfc",
   "metadata": {},
   "source": [
    "### GIVEN FUNCTIONS"
   ]
  },
  {
   "cell_type": "code",
   "execution_count": 1,
   "id": "0c8206f8-d599-488a-ae8b-2e3baacb3876",
   "metadata": {},
   "outputs": [],
   "source": [
    "def plot_wavefunction(n, L=1, resolution=1000):\n",
    "    \"\"\"\n",
    "    Plot wavefunctions for a particle in a 1D box.\n",
    "    \n",
    "    Parameters:\n",
    "        n (int): quantum number to plot.\n",
    "        L (float): Length of the box (meters).\n",
    "        resolution (int): Number of points for plotting.\n",
    "    \"\"\"\n",
    "    x = np.linspace(0, L, resolution)\n",
    "    plt.figure(figsize=(10, 6))\n",
    "    \n",
    "    psi = np.sqrt(2 / L) * np.sin(n * np.pi * x / L)\n",
    "    plt.plot(x, psi, label=f'n={n}')\n",
    "\n",
    "    plt.xlim(0,L)\n",
    "    plt.title(f'Particle in a 1D Box (n == {n})')\n",
    "    plt.xlabel('Position (m)')\n",
    "    plt.ylabel('Wavefunction')\n",
    "    plt.legend()\n",
    "    plt.grid()\n",
    "    plt.show()"
   ]
  },
  {
   "cell_type": "markdown",
   "id": "4c000d91-9436-48bc-bd9b-a6037a3c9256",
   "metadata": {},
   "source": [
    "### CODE"
   ]
  },
  {
   "cell_type": "code",
   "execution_count": null,
   "id": "7390aa98-1eb6-40da-aad8-0cf2eb0c1535",
   "metadata": {},
   "outputs": [],
   "source": [
    "def pib_wavefunction(x,n,L):\n",
    "    '''\n",
    "    accepts:\n",
    "    an array, x\n",
    "    the quantum number, n\n",
    "    the length of the box in angstrom, L\n",
    "    '''\n",
    "    psi = #ENTER YOUR CODE HERE\n",
    "    return psi"
   ]
  },
  {
   "cell_type": "code",
   "execution_count": null,
   "id": "fecef669-4090-48f4-8362-937e56435549",
   "metadata": {},
   "outputs": [],
   "source": [
    "#PLOT YOUR WAVEFUNCTIONS HERE!"
   ]
  },
  {
   "cell_type": "markdown",
   "id": "2dad55e7-dc1f-46db-9194-43e0cd509b78",
   "metadata": {},
   "source": [
    "### SHORT RESPONSE"
   ]
  },
  {
   "cell_type": "markdown",
   "id": "c8f3a748-07e4-47e2-9b40-3fe0b41bb1d8",
   "metadata": {},
   "source": []
  },
  {
   "cell_type": "markdown",
   "id": "c32ef20d-a05e-43d6-bce4-ff19670ba73e",
   "metadata": {},
   "source": [
    "<br/><br/>\n",
    "<br/><br/>\n",
    "<br/><br/>"
   ]
  },
  {
   "cell_type": "markdown",
   "id": "df8fac49-bcd4-4a07-8ca4-17387ac5e219",
   "metadata": {},
   "source": [
    "# QUESTION 3\n",
    "## ENERGY LEVELS OF THE PARTICLE IN A BOX\n",
    "CODE:\n",
    "* Fill in the pib_energy() function with an expression that calculates the energy of a given particle in a box wavefunction, based on n, L, and m_electron.\n",
    "* Calculate and plot the energy levels for the first 5 quantum states of the particle in a box.  \n",
    "* Fit a quadratic function to your data.\n",
    "\n",
    "SHORT RESPONSE:  \n",
    "* What is the physical significance of the coefficients in the polynomial you fit? (treat very small values as being zero.)"
   ]
  },
  {
   "cell_type": "markdown",
   "id": "c82eeedd-366f-447b-b2cb-860c4df0580a",
   "metadata": {},
   "source": [
    "### GIVEN FUNCTIONS"
   ]
  },
  {
   "cell_type": "code",
   "execution_count": 10,
   "id": "041c2865-3830-4f3c-bd10-52a1bd431615",
   "metadata": {},
   "outputs": [],
   "source": [
    "def plot_with_polynomial(n_vals,pib_energies):\n",
    "    plt.scatter(n_vals,pib_energies)\n",
    "    \n",
    "    a, b, c = np.polyfit(n_vals,pib_energies,2)\n",
    "    fit_x = np.linspace(n_vals[0],n_vals[-1],100)\n",
    "    fit_y = a * fit_x **2 + b * fit_x + c\n",
    "    plt.plot(fit_x,fit_y,label=f\"fit: {a:.3f} x**2 + {b:.3f} x + {c:.3f}\")\n",
    "    \n",
    "    plt.legend()\n",
    "    plt.show()\n",
    "    print()"
   ]
  },
  {
   "cell_type": "markdown",
   "id": "ade08d51-be41-4fa9-a2f7-b1d3b1e0c89c",
   "metadata": {},
   "source": [
    "### CODE"
   ]
  },
  {
   "cell_type": "code",
   "execution_count": null,
   "id": "04e083bd-7db0-4a64-be91-b1f193faa658",
   "metadata": {},
   "outputs": [],
   "source": [
    "def pib_energy(n, L_angs=1.5):\n",
    "    \"\"\"\n",
    "    Calculate energy levels for a particle in a 1D box, in atomic units.\n",
    "    \n",
    "    Parameters:\n",
    "        n (int): quantum number. \n",
    "        L_angs (float): Length of the box in angstrom.\n",
    "        \n",
    "    Returns:\n",
    "        list: Energies in au/Hartree for quantum number n and length L.\n",
    "    \"\"\"\n",
    "    L_au = L_angs * 1.8889 \n",
    "    h_au = 2 * np.pi \n",
    "    m_electron_au = 1\n",
    "    energy = #WRITE THIS EXPRESSION!\n",
    "    return energy"
   ]
  },
  {
   "cell_type": "code",
   "execution_count": null,
   "id": "eae37d1f-952b-49e0-9675-542cc1895d4f",
   "metadata": {},
   "outputs": [],
   "source": [
    "n_vals = range(1,6)\n",
    "pib_energies = []\n",
    "for n in n_vals:\n",
    "    #FILL IN THIS LINE! You want a list of energies corresponding to N-vals."
   ]
  },
  {
   "cell_type": "code",
   "execution_count": null,
   "id": "6ac7590d-99c4-47bb-acbe-0b3db4861b1c",
   "metadata": {},
   "outputs": [],
   "source": [
    "#use your plot_with_polynomial function here!"
   ]
  },
  {
   "cell_type": "markdown",
   "id": "93c634a6-2bb9-48ff-b005-036465bd6bca",
   "metadata": {},
   "source": [
    "### SHORT RESPONSE"
   ]
  },
  {
   "cell_type": "markdown",
   "id": "65cf9bb8-19c8-4d88-b610-8eb794cff3f9",
   "metadata": {},
   "source": []
  },
  {
   "cell_type": "markdown",
   "id": "cf4935b1-378b-45c9-b9ca-fd1c98df8ca9",
   "metadata": {},
   "source": [
    "<br/><br/>\n",
    "<br/><br/>\n",
    "<br/><br/>\n",
    "  "
   ]
  },
  {
   "cell_type": "markdown",
   "id": "d94d6d32-7e93-4872-be38-141f027e06d8",
   "metadata": {},
   "source": [
    "# QUESTION 4\n",
    "## DIFFERENCES BETWEEN ENERGY LEVELS\n",
    "CODE:\n",
    "* Now, from that data, calculate first differences between each energy level and its next highest neighbor.  \n",
    "* Use the provided function to fit a linear regression to these, and plot.\n",
    " \n",
    "SHORT RESPONSE:\n",
    "* What is the character of the energy differences? (linear, quadratic, logistic, etc)\n",
    "* What does the expression mean?"
   ]
  },
  {
   "cell_type": "markdown",
   "id": "967aa686-33ef-4012-bb4e-b617fd4db655",
   "metadata": {},
   "source": [
    "### GIVEN FUNCTIONS"
   ]
  },
  {
   "cell_type": "code",
   "execution_count": 3,
   "id": "628c277c-2706-4ca7-9d19-64f0428c6f6e",
   "metadata": {},
   "outputs": [],
   "source": [
    "def first_differences(values):\n",
    "    return [values[i + 1] - values[i] for i in range(len(values) - 1)]"
   ]
  },
  {
   "cell_type": "code",
   "execution_count": 17,
   "id": "28e86cfa-c01e-4be8-ad5c-af62e9f47cc0",
   "metadata": {},
   "outputs": [],
   "source": [
    "def plot_with_linregress(n_vals,first_differences):\n",
    "    n_vals = n_vals[:len(first_differences)]\n",
    "    plt.scatter(n_vals,pib_energies)\n",
    "    \n",
    "    m, b = np.polyfit(n_vals,pib_energies,1)\n",
    "    fit_x = np.linspace(n_vals[0],n_vals[-1],100)\n",
    "    fit_y = m * fit_x + b\n",
    "    plt.plot(fit_x,fit_y,label=f\"fit: {m:.3f} x + {b:.3f}\")\n",
    "    \n",
    "    plt.legend()\n",
    "    plt.show()\n",
    "    print()"
   ]
  },
  {
   "cell_type": "markdown",
   "id": "d32a5f1b-d238-44a9-8905-6e62a9802bc0",
   "metadata": {},
   "source": [
    "### CODE"
   ]
  },
  {
   "cell_type": "code",
   "execution_count": 13,
   "id": "f54ef67e-a89c-4582-b141-6fb969f1bd4f",
   "metadata": {},
   "outputs": [],
   "source": [
    "#using the given function, obtain first differences of your pib energies"
   ]
  },
  {
   "cell_type": "code",
   "execution_count": 12,
   "id": "b18ba5ab-be83-4ddd-81ae-0632ef49ec0d",
   "metadata": {},
   "outputs": [],
   "source": [
    "#then use the given plotting function to display the fit"
   ]
  },
  {
   "cell_type": "markdown",
   "id": "024b7336-9fe2-468f-8f59-d566455f177e",
   "metadata": {},
   "source": [
    "### SHORT RESPONSE"
   ]
  },
  {
   "cell_type": "markdown",
   "id": "0ec03f2e-2adb-421b-93e0-48f380adbce8",
   "metadata": {},
   "source": []
  },
  {
   "cell_type": "markdown",
   "id": "24431773-209c-4ee8-8fc6-eaad3ad74a3a",
   "metadata": {},
   "source": [
    "<br/><br/>\n",
    "<br/><br/>\n",
    "<br/><br/>"
   ]
  },
  {
   "cell_type": "markdown",
   "id": "8c867ca7-410d-4418-b284-23d80a451f1d",
   "metadata": {},
   "source": [
    "# QUESTION 5\n",
    "## MAKING MOLECULES\n",
    "CODE:\n",
    "* Create SMILES strings for ethene, butadiene, hexatriene, and octatetraene.\n",
    "* Create cartesian coordinates for each of these molecules and visualize them using the provided functions.\n",
    "\n",
    "SHORT RESPONSE:\n",
    "* How might it be useful to define molecules using strings of text?"
   ]
  },
  {
   "cell_type": "markdown",
   "id": "4feaee7f-991c-41f4-8a1f-e7a3a3c91b69",
   "metadata": {},
   "source": [
    "### LIBRARIES"
   ]
  },
  {
   "cell_type": "code",
   "execution_count": 19,
   "id": "6d9fba23-04bd-4342-b72e-7f97df8b1e3b",
   "metadata": {},
   "outputs": [],
   "source": [
    "import psi4\n",
    "import rdkit\n",
    "from rdkit import Chem\n",
    "from rdkit.Chem import AllChem\n",
    "import py3Dmol"
   ]
  },
  {
   "cell_type": "markdown",
   "id": "a36eeb22-e8dc-43e8-a784-f09cef57132f",
   "metadata": {},
   "source": [
    "### GIVEN FUNCTIONS"
   ]
  },
  {
   "cell_type": "code",
   "execution_count": null,
   "id": "0e16c078-6321-417c-86e1-e95f1c492a47",
   "metadata": {},
   "outputs": [],
   "source": [
    "#PART 1: GETTING OUR MOLECULES\n",
    "def xyz_from_smiles(smiles):\n",
    "    rdkit_molecule = Chem.MolFromSmiles(smiles)\n",
    "    rdkit_molecule = Chem.AddHs(rdkit_molecule)\n",
    "    result = AllChem.EmbedMolecule(rdkit_molecule, randomSeed=42)\n",
    "    if result != 0:\n",
    "        raise ValueError(\"Embedding failed for the molecule\")\n",
    "    result = AllChem.MMFFOptimizeMolecule(rdkit_molecule)\n",
    "    \n",
    "    if result != 0:\n",
    "        raise ValueError(\"Optimization failed for the molecule\")\n",
    "    \n",
    "    xyz = Chem.MolToXYZBlock(rdkit_molecule)\n",
    "    return xyz\n",
    "\n",
    "def show_molecule(xyz):\n",
    "    view = py3Dmol.view(width=400,height=400)\n",
    "    view.addModel(xyz,'xyz')\n",
    "    view.setStyle({'sphere':{'radius' : 0.3}, 'stick' : {'radius': 0.2}})\n",
    "    view.setStyle({'element': 'H'}, {'sphere': {'radius': 0.3, 'color': 'white'}})\n",
    "    view.zoomTo()\n",
    "    view.show()"
   ]
  },
  {
   "cell_type": "markdown",
   "id": "a46b9342-d415-4754-9051-6b587f4c625a",
   "metadata": {},
   "source": [
    "### CODE"
   ]
  },
  {
   "cell_type": "code",
   "execution_count": null,
   "id": "17091511-f412-4880-9472-90392d366796",
   "metadata": {},
   "outputs": [],
   "source": [
    "ethylene_smiles = # your string here\n",
    "butadiene_smiles = \"C=C\" * 2\n",
    "hexatriene_smiles = # your string here\n",
    "octatetraene_smiles = #your string here"
   ]
  },
  {
   "cell_type": "code",
   "execution_count": 22,
   "id": "9aceaaca-a5f3-41c7-b6c0-4ad9079f1658",
   "metadata": {},
   "outputs": [],
   "source": [
    "#plot them using the functions!"
   ]
  },
  {
   "cell_type": "markdown",
   "id": "68034872-d9e4-468b-b214-8807541c18b7",
   "metadata": {},
   "source": [
    "### SHORT RESPONSE"
   ]
  },
  {
   "cell_type": "markdown",
   "id": "cce70ef7-2e1f-42c6-8bc2-e8a647082f64",
   "metadata": {},
   "source": []
  },
  {
   "cell_type": "markdown",
   "id": "0265ff14-89ef-495d-870f-4c7f3627952b",
   "metadata": {},
   "source": [
    "<br/><br/>\n",
    "<br/><br/>\n",
    "<br/><br/>\n",
    "  "
   ]
  },
  {
   "cell_type": "markdown",
   "id": "42b6a80f-fb86-409b-bef2-5ba151557509",
   "metadata": {},
   "source": [
    "# QUESTION 6  \n",
    "## VISUALIZING MOLECULAR ORBITALS\n",
    "CODE:\n",
    "* Explore the $\\pi$ molecular orbitals of decapentaene using the provided functions (Ground states and excited states are alike shown here).\n",
    "* If fortecubeview doesn't immediately allow you to switch to a different orbital, be patient. This is normal.\n",
    "\n",
    "SHORT RESPONSE:\n",
    "* How do the shapes of the pi orbitals compare to the wavefunctions for the particle in a 1D box?"
   ]
  },
  {
   "cell_type": "markdown",
   "id": "cf6182ee-7049-4296-b67f-ef123f04b9dc",
   "metadata": {},
   "source": [
    "### LIBRARIES"
   ]
  },
  {
   "cell_type": "code",
   "execution_count": 61,
   "id": "38e23ffd-b5b7-423d-a306-be7ed31c239a",
   "metadata": {},
   "outputs": [],
   "source": [
    "import forte.utils\n",
    "import fortecubeview"
   ]
  },
  {
   "cell_type": "markdown",
   "id": "f8f53e02-d4f9-4d45-b63a-37ec19ce0fc6",
   "metadata": {},
   "source": [
    "### GIVEN FUNCTIONS"
   ]
  },
  {
   "cell_type": "code",
   "execution_count": 3,
   "id": "8eb8a005-1b2f-442a-987d-e2f9db70a8f6",
   "metadata": {},
   "outputs": [],
   "source": [
    "def create_psi4_molecule(xyz_block):\n",
    "    '''\n",
    "    INPUT:\n",
    "    xyz format molecule coordinates\n",
    "    OUTPUT:\n",
    "    psi4-compatible molecular geometry object\n",
    "    '''\n",
    "    xyz_lines = xyz_block.split('\\n')\n",
    "    psi_coords = \"\\n\".join([\"0 1\"] + xyz_lines[2:])\n",
    "    psi4_molecule = psi4.geometry(psi_coords)\n",
    "    return psi4_molecule"
   ]
  },
  {
   "cell_type": "markdown",
   "id": "7ad544b7-1bc6-4331-8e97-2d39ac866c1f",
   "metadata": {},
   "source": [
    "### CODE"
   ]
  },
  {
   "cell_type": "code",
   "execution_count": null,
   "id": "169c6165-925e-4667-8974-4cf5eb9e9215",
   "metadata": {},
   "outputs": [],
   "source": [
    "#SOME ASSEMBLY REQUIRED!\n",
    "\n",
    "decapentaene_smiles = #THIS ONE'S FOR YOU\n",
    "decapentaene = create_psi4_molecule(xyz_from_smiles(decapentaene_smiles))\n",
    "psi4.set_output_file('output.dat',False)\n",
    "psi4.set_memory('1 GB')\n",
    "my_theory = #CHOOSE A LEVEL OF THEORY TO USE!\n",
    "dec_energy, dec_wfn = psi4.energy(my_theory,return_wfn=True,molecule=decpentene)"
   ]
  },
  {
   "cell_type": "code",
   "execution_count": null,
   "id": "259553f2-e5ef-4e6f-baf0-ee2af011a427",
   "metadata": {},
   "outputs": [],
   "source": [
    "forte.utils.psi4_cubeprop(dec_wfn,path = 'cubes',nocc=8,nvir=8)"
   ]
  },
  {
   "cell_type": "code",
   "execution_count": null,
   "id": "95536085-facf-49a8-bfba-560568622fb6",
   "metadata": {},
   "outputs": [],
   "source": [
    "fortecubeview.plot('cubes',colorscheme='wow')"
   ]
  },
  {
   "cell_type": "markdown",
   "id": "7afcb6de-62d7-4c2c-9e2a-2df65d021c20",
   "metadata": {},
   "source": [
    "### SHORT RESPONSE"
   ]
  },
  {
   "cell_type": "markdown",
   "id": "e7d89958-8b56-4c83-94c2-e5afe8fd91c7",
   "metadata": {},
   "source": []
  },
  {
   "cell_type": "markdown",
   "id": "f6d5b90a-e6aa-4f5c-b789-155d4927e337",
   "metadata": {},
   "source": [
    "<br/><br/>\n",
    "<br/><br/>\n",
    "<br/><br/>"
   ]
  },
  {
   "cell_type": "markdown",
   "id": "2b6aaa1e-85d9-452c-9f28-d6d0aa06cac7",
   "metadata": {},
   "source": [
    "# QUESTION 7\n",
    "## COMPARING PARTICLE IN A BOX ENERGIES TO EXTENDED ALKENE MOLECULAR ORBITALS\n",
    "CODE:\n",
    "* Make a list containing the indices of the ground state pi orbitals, based on your visualizations. (Hint: How many electrons are in the molecule? What is the index of the highest ground state orbital?)\n",
    "* Fit a quadratic equation to the $\\pi$ molecular orbital energies for hexatriene. (This is the functional form that we used for the particle in a box equation.)\n",
    "* Next, extend that list to include the first few excited pi orbitals. Plot and fit the data again.\n",
    "\n",
    "SHORT RESPONSE:\n",
    "* How well does the quadratic equation, which we found to exactly match the particle in a box energies, predict the energies of ground state hexatriene $\\pi$ orbitals?\n",
    "* How about excited state orbitals?"
   ]
  },
  {
   "cell_type": "markdown",
   "id": "3b114d43-40a0-484a-9b84-908f61a6a100",
   "metadata": {},
   "source": [
    "### GIVEN FUNCTIONS\n",
    "Use the plot_with_polynomial(x,y) function from earlier!"
   ]
  },
  {
   "cell_type": "markdown",
   "id": "88468c83-3898-4380-85ad-b8d2e5141962",
   "metadata": {},
   "source": [
    "### CODE"
   ]
  },
  {
   "cell_type": "code",
   "execution_count": null,
   "id": "afa754c7-1e4c-444f-8900-039adab6bccb",
   "metadata": {},
   "outputs": [],
   "source": [
    "indices = #FIND THE INDICES OF THE FIRST 5 PI ORBITALS\n",
    "#WE MUST SUBTRACT ALL INDICES BY ONE, BECAUSE ORBITAL FILES COUNT FROM 1 AND PYTHON FROM ZERO\n",
    "indices = np.array(indices) - 1\n",
    "x = range(1,6)\n",
    "y = dec_wfn.epsilon_a().np[indices] #epsilon_a() is orbital energies of wavefunction\n",
    "#.np is these values in np.array format\n",
    "plot_with_polynomial(x,y)"
   ]
  },
  {
   "cell_type": "code",
   "execution_count": null,
   "id": "e3cff2be-4503-4f4e-96ec-79fde6d5c60e",
   "metadata": {},
   "outputs": [],
   "source": [
    "excited_indices = #CHOOSE THE INDICES OF SOME EXCITED STATE PI ORBITALS\n",
    "excited_indices = np.array(excited_indices) - 1\n",
    "all_indices = np.concatenate((indices,excited_indices))\n",
    "x = range(1,len(all_indices)+1)\n",
    "y = dec_wfn.epsilon_a().np[all_indices]\n",
    "plot_with_polynomial(x,y)"
   ]
  },
  {
   "cell_type": "markdown",
   "id": "1d48e131-ec7e-4633-aae8-081c7ca8c112",
   "metadata": {},
   "source": [
    "### SHORT RESPONSE"
   ]
  },
  {
   "cell_type": "markdown",
   "id": "1bff9c3c-e90c-43d2-9621-97b6877497f1",
   "metadata": {},
   "source": []
  },
  {
   "cell_type": "markdown",
   "id": "af85cd97-52e6-4c32-ad6b-b4eadda51a25",
   "metadata": {},
   "source": [
    "<br/><br/>\n",
    "<br/><br/>\n",
    "<br/><br/>\n",
    "  "
   ]
  },
  {
   "cell_type": "markdown",
   "id": "c86f41e8-c3e8-484e-aa37-dee04bffb3db",
   "metadata": {},
   "source": [
    "# QUESTION 8  \n",
    "## PREDICTING UV/VIS EXCITATION ENERGIES WITH THE PARTICLE IN A BOX MODEL\n",
    "HOMO-LUMO energy gaps are a good predictor of the lowest energy peak in UV/VIS spectra. (Source: it was revealed to me in a dream)   \n",
    "\n",
    "Compare the HOMO-LUMO energy gaps you calculate for n=2,4,6,8,10 alkenes with the value predicted by the particle in a box model. \n",
    "\n",
    "CODE:\n",
    "* Write comments for each of the given functions explaining what they do and how they work.\n",
    "* Complete the functions for alkene lengths and for the PIB-predicted HOMO-LUMO energy gap.\n",
    "* Use the provided functions to obtain y values for the PIB and DFT models and plot your data.\n",
    "\n",
    "SHORT RESPONSE:\n",
    "* How similar or different are they?"
   ]
  },
  {
   "cell_type": "markdown",
   "id": "d9acd840-c701-4d84-ba02-900ee109626b",
   "metadata": {},
   "source": [
    "### GIVEN FUNCTIONS"
   ]
  },
  {
   "cell_type": "code",
   "execution_count": 77,
   "id": "58049b3d-73fd-48a4-89bc-fc2d00d1e3fc",
   "metadata": {},
   "outputs": [],
   "source": [
    "def pib_harmonics(n): \n",
    "    n = np.array(n)\n",
    "    return (n / 2).astype(int), (n / 2 + 1).astype(int) "
   ]
  },
  {
   "cell_type": "code",
   "execution_count": 62,
   "id": "01e4a994-cb18-443b-9cfb-e6515d304f90",
   "metadata": {},
   "outputs": [],
   "source": [
    "def homo_lumo_energy_gap(n):  \n",
    "    smiles = \"C=C\" * int(n/2) \n",
    "    molecule = create_psi4_molecule(xyz_from_smiles(smiles))\n",
    "    energy, wfn = psi4.energy('BLYP/STO-3G',return_wfn=True,molecule=molecule)\n",
    "    lumo_index = int(wfn.nalpha()) \n",
    "    homo_index = lumo_index -1 \n",
    "    hl_energy_gap = wfn.epsilon_a().np[lumo_index] - wfn.epsilon_a().np[homo_index]\n",
    "    return hl_energy_gap "
   ]
  },
  {
   "cell_type": "code",
   "execution_count": 63,
   "id": "c8c420b9-72da-4eea-8362-48694b31ed00",
   "metadata": {},
   "outputs": [],
   "source": [
    "def get_alkene_gaps(n): #\n",
    "    x = np.array(range(6,n+1,2))\n",
    "    y_alkene = []\n",
    "    for i in x:\n",
    "        y_alkene.append( homo_lumo_energy_gap(i) )\n",
    "    y_alkene = np.array(y_alkene)\n",
    "    return y_alkene"
   ]
  },
  {
   "cell_type": "code",
   "execution_count": 64,
   "id": "87ce02e8-b216-470b-9b4a-fd9c62318ddb",
   "metadata": {},
   "outputs": [],
   "source": [
    "def get_pib_gaps(n):\n",
    "    x = np.array(range(6,n+1,2))\n",
    "    y_pib = []\n",
    "    for i in x:\n",
    "        y_pib.append( pib_energy_gap(i) )\n",
    "    y_pib = np.array(y_pib)\n",
    "    return y_pib"
   ]
  },
  {
   "cell_type": "code",
   "execution_count": 25,
   "id": "79765cf2-d595-42d5-b678-ecf5d20f55e4",
   "metadata": {},
   "outputs": [],
   "source": [
    "def plot_data(n,y_alkene,y_pib):\n",
    "    x = np.array(range(6,n+1,2))\n",
    "\n",
    "    plt.scatter(x,y_pib) \n",
    "    plt.title('PIB GAPS')\n",
    "    plt.xlabel('Chain length')\n",
    "    plt.ylabel('Energy / au')\n",
    "    plt.show()\n",
    "\n",
    "    plt.scatter(x,y_alkene) \n",
    "    plt.title('DFT GAPS')\n",
    "    plt.xlabel('Chain Length')\n",
    "    plt.ylabel('Energy / au')\n",
    "    plt.show()"
   ]
  },
  {
   "cell_type": "markdown",
   "id": "e28924e2-c454-4b12-9af3-5ceef7f4ee86",
   "metadata": {},
   "source": [
    "### CODE"
   ]
  },
  {
   "cell_type": "code",
   "execution_count": 71,
   "id": "161e5068-68a5-4908-8ad7-5da4dd358377",
   "metadata": {},
   "outputs": [],
   "source": [
    "def alkene_length(n):\n",
    "    #Use angstroms!"
   ]
  },
  {
   "cell_type": "code",
   "execution_count": 65,
   "id": "2ab29d5a-dde6-4021-8de2-9f27dc7e5f61",
   "metadata": {},
   "outputs": [],
   "source": [
    "def pib_energy_gap(n):\n",
    "    homo_index, lumo_index = pib_harmonics(n)\n",
    "    L = alkene_length(n)\n",
    "    #take it from here!\n",
    "    return delta_e"
   ]
  },
  {
   "cell_type": "markdown",
   "id": "ee49d804-989a-4805-9082-8a1e92aab1d8",
   "metadata": {},
   "source": [
    "### SHORT RESPONSE"
   ]
  },
  {
   "cell_type": "markdown",
   "id": "b6dd3336-f50b-464d-bce6-e270ce92a2d4",
   "metadata": {},
   "source": []
  },
  {
   "cell_type": "markdown",
   "id": "691fbaa4-71d4-4183-8b41-53631e6d8e8c",
   "metadata": {},
   "source": [
    "<br/><br/>\n",
    "<br/><br/>\n",
    "<br/><br/>"
   ]
  },
  {
   "cell_type": "markdown",
   "id": "0457a5a0-b160-4f5e-a820-afdc485319bf",
   "metadata": {},
   "source": [
    "# QUESTION 9\n",
    "## IMPROVING THE MODEL\n",
    "CODE:\n",
    "* Complete the function for a modified PIB model with two parameters, A and B, which are a proportionality and constant correction.\n",
    "* Use scipy.optimize.curve_fit() to calculate the optimal parameters for fitting the modified PIB model to density functional theory data. \n",
    "* Using the provided function and the parameters you obtained, plot your output.\n",
    "\n",
    "SHORT RESPONSE:\n",
    "* How well does the modified PIB equation predict HOMO-LUMO gaps with these corrections?"
   ]
  },
  {
   "cell_type": "markdown",
   "id": "6a32d2a7-3ea9-4568-9cad-63a62ea801fb",
   "metadata": {},
   "source": [
    "### LIBRARIES"
   ]
  },
  {
   "cell_type": "code",
   "execution_count": 72,
   "id": "665c3e72-4135-4c24-8a83-8509314fba12",
   "metadata": {},
   "outputs": [],
   "source": [
    "from scipy.optimize import curve_fit"
   ]
  },
  {
   "cell_type": "markdown",
   "id": "38dd9392-c40b-49f1-a69a-5853046e697b",
   "metadata": {},
   "source": [
    "### GIVEN FUNCTIONS"
   ]
  },
  {
   "cell_type": "code",
   "execution_count": 89,
   "id": "e814cf80-e740-4e61-a325-6b1bcbbbb50f",
   "metadata": {},
   "outputs": [],
   "source": [
    "def pib_r_squared(x,y,coeffs):\n",
    "# Predicted values\n",
    "    y_pred = corrected_pib_model(x,*coeffs)\n",
    "    # Compute the R-squared value\n",
    "    ss_total = np.sum((y - np.mean(y))**2)\n",
    "    ss_residual = np.sum((y - y_pred)**2)\n",
    "    r_squared = 1 - (ss_residual / ss_total)\n",
    "    return r_squared"
   ]
  },
  {
   "cell_type": "code",
   "execution_count": 112,
   "id": "ad571e11-312e-4e9b-b6ff-e4dd6a91b049",
   "metadata": {},
   "outputs": [],
   "source": [
    "def pib_fit_plot(x,y,coeffs):\n",
    "    x = np.array(range(6,19,2))\n",
    "    y_fit = corrected_pib_model(x,*params)\n",
    "    plt.scatter(x,y)\n",
    "    r_squared = pib_r_squared(x,y,params)\n",
    "    plt.plot(x,y_fit,color='red',\n",
    "             label=f\"Model: {params[0]:.2f} * pib_energy_gap(n) + {params[1]:.2f} | R**2: {r_squared:.3f}\"\n",
    "            )\n",
    "    plt.legend()\n",
    "    plt.show()\n",
    "    print(f\"Parameters: {params[0]:.2f} {params[1]:.2f}\")"
   ]
  },
  {
   "cell_type": "markdown",
   "id": "8961f045-5b54-4edc-8588-4685f2070876",
   "metadata": {},
   "source": [
    "### CODE"
   ]
  },
  {
   "cell_type": "code",
   "execution_count": 113,
   "id": "df215ef0-7d8a-4b0a-92e4-220fce7aca89",
   "metadata": {},
   "outputs": [],
   "source": [
    "def corrected_pib_model(n, A, B):\n",
    "    return A * pib_energy_gap(n) + B"
   ]
  },
  {
   "cell_type": "code",
   "execution_count": 26,
   "id": "31d7ddd9-b5a7-4ff4-a770-57c338a9d14d",
   "metadata": {},
   "outputs": [],
   "source": [
    "#the curve_fit expects these arguments in order: function, x values, y values\n",
    "#and it returns parameters and covariance.\n",
    "# try it here!"
   ]
  },
  {
   "cell_type": "code",
   "execution_count": 27,
   "id": "1e48cf2a-9032-4185-9efd-352bd20511ad",
   "metadata": {},
   "outputs": [],
   "source": [
    "#plot your data here"
   ]
  },
  {
   "cell_type": "markdown",
   "id": "ebfdc9b5-0fd9-4a29-8ee0-bc833d20a18a",
   "metadata": {},
   "source": [
    "### SHORT RESPONSE"
   ]
  },
  {
   "cell_type": "markdown",
   "id": "6d9e1eed-69f6-46d3-a8e9-81e2d77f0949",
   "metadata": {},
   "source": []
  },
  {
   "cell_type": "markdown",
   "id": "85a04c6c-5617-4142-a796-71b0644fa0d5",
   "metadata": {},
   "source": [
    "<br/><br/>\n",
    "<br/><br/>\n",
    "<br/><br/>\n",
    "  "
   ]
  },
  {
   "cell_type": "markdown",
   "id": "f3a2157b-184e-411a-b411-c99fde96d157",
   "metadata": {},
   "source": [
    "# QUESTION 10\n",
    "## REFLECTION\n",
    "SHORT RESPONSE:  \n",
    "* How well do qualitative or simplified models match the results of more rigorous models?   \n",
    "* What are the advantages and disadvantages of each?  \n",
    "* Are both useful tools, or only one?  \n",
    "* When would we use one or the other?  "
   ]
  },
  {
   "cell_type": "markdown",
   "id": "e022ab6f-dd21-4e72-8d25-b2cc9fa5520a",
   "metadata": {},
   "source": [
    "### SHORT RESPONSE"
   ]
  },
  {
   "cell_type": "markdown",
   "id": "c14897a7-6cd2-419f-bd45-08e1be384b6b",
   "metadata": {},
   "source": []
  },
  {
   "cell_type": "markdown",
   "id": "d6adf375-2aae-453f-b6e2-f07aa10f7a51",
   "metadata": {},
   "source": [
    "<br/><br/>\n",
    "<br/><br/>\n",
    "<br/><br/>"
   ]
  }
 ],
 "metadata": {
  "kernelspec": {
   "display_name": "Python 3 (ipykernel)",
   "language": "python",
   "name": "python3"
  },
  "language_info": {
   "codemirror_mode": {
    "name": "ipython",
    "version": 3
   },
   "file_extension": ".py",
   "mimetype": "text/x-python",
   "name": "python",
   "nbconvert_exporter": "python",
   "pygments_lexer": "ipython3",
   "version": "3.11.10"
  }
 },
 "nbformat": 4,
 "nbformat_minor": 5
}
