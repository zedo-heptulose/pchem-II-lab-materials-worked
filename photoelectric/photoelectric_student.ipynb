{
 "cells": [
  {
   "cell_type": "markdown",
   "id": "e96f4f11-c349-4504-ad16-d01a4c4c2e21",
   "metadata": {},
   "source": [
    "# LIBRARIES\n",
    "* Execute this cell before going any further. "
   ]
  },
  {
   "cell_type": "code",
   "execution_count": 1,
   "id": "a3a09f7f-7195-4372-823d-b490ada84711",
   "metadata": {},
   "outputs": [],
   "source": [
    "import pandas as pd\n",
    "import numpy as np\n",
    "import matplotlib.pyplot as plt"
   ]
  },
  {
   "cell_type": "markdown",
   "id": "906be93d-c21d-4db1-af32-8970d43ea148",
   "metadata": {},
   "source": [
    "<br/><br/>"
   ]
  },
  {
   "cell_type": "markdown",
   "id": "0cde6d6d-5e7a-48c2-9fc9-855d24d8cf5b",
   "metadata": {},
   "source": [
    "# Warmup"
   ]
  },
  {
   "cell_type": "markdown",
   "id": "fc9d988a-5e6f-4dda-b269-781e23204ad8",
   "metadata": {},
   "source": [
    "## DataFrames and Tabular Data \n",
    "`10 points` \n",
    "\n",
    "You’ve likely worked with tabular data before, especially in Excel. In Python, we use the `pandas` library (imported as `pd`) to handle this type of data efficiently. The core component of pandas is the `pd.DataFrame` object, which functions much like a spreadsheet. Proficiency in `pandas` is an evergreen skill—it can make data processing tens or even hundreds of times faster compared to manual work in Excel.\n",
    "\n",
    "In this warmup, we'll explore the basics of the `pd.DataFrame` using a simple dataset. This will prepare you for the extensive use we'll make of this data structure throughout the assignment."
   ]
  },
  {
   "cell_type": "markdown",
   "id": "f698fc9c-f7d8-4446-a206-90faf06d1908",
   "metadata": {},
   "source": [
    "### CODE\n",
    "* Store the given lists in a dictionary, using meaningful labels as keys.\n",
    "* Use the pd.DataFrame constructor to create a DataFrame from the dictionary.\n",
    "* Display the DataFrame by making it the last line of a code cell. What does it look like?\n",
    "* Multiply a column by 5, store the result in a new column on the DataFrame, and display the updated DataFrame."
   ]
  },
  {
   "cell_type": "code",
   "execution_count": null,
   "id": "8acf800c-0473-4c45-b53b-1a298f10eb18",
   "metadata": {},
   "outputs": [],
   "source": [
    "students      = ['Bob','Alice','Giancarlo']\n",
    "test_scores   = [95,85,75]\n",
    "gpa           = [3.0,2.0,5.0]"
   ]
  },
  {
   "cell_type": "code",
   "execution_count": null,
   "id": "4c923c00-4bdf-45e8-95e0-4bc6e0aee8cd",
   "metadata": {},
   "outputs": [],
   "source": [
    "my_data = {\n",
    "    # Just like we define dictionaries with angle brackets [],\n",
    "    # we define dictionaries with braces {}.\n",
    "    # we define key-value pairs with the key and value paired by a colon\n",
    "    # and successive key-value pairs separated by commas, like follows:\n",
    "    # 'my_key' : some_list,\n",
    "    # 'another_key' : another_list,\n",
    "    # (remember these are just placeholder names!)\n",
    "    #define your own dictionary, using the three lists above.\n",
    "}"
   ]
  },
  {
   "cell_type": "code",
   "execution_count": null,
   "id": "263b7eb4-a975-4ae4-95c0-125d7b081f15",
   "metadata": {},
   "outputs": [],
   "source": [
    "# call pd.DataFrame() as a function.\n",
    "#use the dict my_data as an argument. \n",
    "#end this block with the variable my_dataframe alone on a line."
   ]
  },
  {
   "cell_type": "code",
   "execution_count": null,
   "id": "81c22435-2b4f-45fd-86a5-cb68fff033c8",
   "metadata": {},
   "outputs": [],
   "source": [
    "#we can access columns using angle brackets [],\n",
    "#just like we can access data in a dictionary by key.\n",
    "#we can make new columns by using the angle brackets []\n",
    "#specifying a column that doesn't exist, like as follows:\n",
    "#my_dataframe['some_column'] = my_dataframe['old_column'] + 7 \n",
    "#(this would add 7 to every element in the column with title 'old_column')"
   ]
  },
  {
   "cell_type": "markdown",
   "id": "3f7505aa-5c1d-4db5-a495-3238122e5b9f",
   "metadata": {},
   "source": [
    "<br/><br/>\n",
    "<br/><br/>"
   ]
  },
  {
   "cell_type": "markdown",
   "id": "2dceafcf-4c98-4cc0-ad95-d51ce4b01700",
   "metadata": {},
   "source": [
    "# The Photoelectric Effect"
   ]
  },
  {
   "cell_type": "markdown",
   "id": "7154d122-2582-48ea-812a-638edd2148a1",
   "metadata": {},
   "source": [
    "In the previous activity, we explored how the Double Slit Experiment provides strong evidence for the wave nature of light. Would it surprise you to learn that another experiment just as convincingly demonstrates that light behaves as particles?\n",
    "\n",
    "The phenomenon in question is the photoelectric effect. The experimental apparatus consists of two metal plates separated by a gap within a circuit. When light shines on one plate, it may eject electrons, which travel to the other plate and complete the circuit. This is measured as an electric current.\n",
    "\n",
    "Because energy is conserved, we know that the energy from the light is split between two parts:\n",
    "\n",
    "$$\n",
    "E_{total} = E_k + E_{escape}\n",
    "$$\n",
    "where $E_{total}$ is the energy imparted to the electron by light, $E_K$ is the kinetic energy of the ejected electron, and $E_{escape}$ is the energy required for the electron to escape the metal's surface. \n",
    "\n",
    "Classical wave theory predicts that light can gradually add energy to electrons until they are able to escape. If this were true, we would expect that increasing the intensity of the light would in turn increase the kinetic energies of the electrons contributing to the current. What if the energy transfer follows a different rule?"
   ]
  },
  {
   "cell_type": "markdown",
   "id": "6964bdb2-e480-4dda-8567-8257ef2b3daf",
   "metadata": {},
   "source": [
    "<br/><br/>"
   ]
  },
  {
   "attachments": {},
   "cell_type": "markdown",
   "id": "822508a2-8a08-42a7-8239-2b044f70613f",
   "metadata": {},
   "source": [
    "## PART 1 - Measuring the Kinetic Energy of Electrons\n",
    "`20 points`  \n",
    "\n",
    "To examine this behavior, we can use a potential energy barrier to measure the kinetic energy of electrons. By applying a voltage between the plates which opposes the electrons' motion, we create a threshold: only electrons with at least a certain amount of kinetic energy can cross. \n",
    "\n",
    "For example, if we set this counter-voltage to 3V, any electrons detected must have at least 3 eV of kinetic energy (The __electronvolt__ [eV] is a unit of energy equal to one volt times the charge of an electron). By gradually increasing the voltage and recording the current, we can measure the energy distribution of the ejected electrons.\n",
    "\n",
    "Let's explore this energy distribution using our spectra. To do this, we'll process our data using `pandas`. Instead of manually constructing a `DataFrame`, we'll load our data directly from a file using: \n",
    "```\n",
    "my_data = pd.read_csv(\"my_placeholder_filename.csv\")\n",
    "```\n",
    "\n",
    "However, staring at columns of numbers doesn’t reveal much—Jupyter even truncates long tables by default. To better understand the data, we’ll visualize it using `plt.plot()`, allowing us to see relationships between different columns in our `DataFrame`."
   ]
  },
  {
   "cell_type": "markdown",
   "id": "4c000d91-9436-48bc-bd9b-a6037a3c9256",
   "metadata": {},
   "source": [
    "### CODE\n",
    "* use `pd.read_csv(filename)` to read one of your spectra.\n",
    "* Display the contents of your `DataFrame`.\n",
    "* Use `plt.plot(x,y)`, where `x` and `y` are the appropriate columns from your data.\n",
    "* Apply basic formatting to your plot using the provided functions."
   ]
  },
  {
   "cell_type": "code",
   "execution_count": null,
   "id": "7390aa98-1eb6-40da-aad8-0cf2eb0c1535",
   "metadata": {},
   "outputs": [],
   "source": [
    "#if the file is in a different folder than this assignment,\n",
    "#use \"folder/filename\" as the argument"
   ]
  },
  {
   "cell_type": "code",
   "execution_count": null,
   "id": "08e33338-25be-475c-9d0f-337067673356",
   "metadata": {},
   "outputs": [],
   "source": [
    "plt.scatter(#use data['some_key'] for the x and y arguments.)\n",
    "plt.title() #choose a title! \n",
    "plt.ylabel() #label your axes (with units!)\n",
    "plt.xlabel()"
   ]
  },
  {
   "cell_type": "markdown",
   "id": "2dad55e7-dc1f-46db-9194-43e0cd509b78",
   "metadata": {},
   "source": [
    "### SHORT RESPONSE QUESTIONS\n",
    "1. What are the column names in `data`? \n",
    "2. How many rows are in the dataset? What does each row correspond to in the experiment?\n",
    "3. Describe the trends you observe in the spectrum. How does the current change as voltage increases?\n",
    "4. What is the approximate kinetic energy of the most energetic electrons? How is the $x$ (not $y$) intercept of the spectrum related to this value?\n",
    "### ANSWER"
   ]
  },
  {
   "cell_type": "markdown",
   "id": "c8f3a748-07e4-47e2-9b40-3fe0b41bb1d8",
   "metadata": {},
   "source": []
  },
  {
   "cell_type": "markdown",
   "id": "c32ef20d-a05e-43d6-bce4-ff19670ba73e",
   "metadata": {},
   "source": [
    "<br/><br/>\n",
    "<br/><br/>"
   ]
  },
  {
   "cell_type": "markdown",
   "id": "df8fac49-bcd4-4a07-8ca4-17387ac5e219",
   "metadata": {},
   "source": [
    "## PART 2 - Proccessing our Spectrum\n",
    "`20 points`  \n",
    "\n",
    "Clearly, the __cutoff voltage__ is a key value in our analysis. It gives us the kinetic energy of the fastest electrons:\n",
    "$$\n",
    "E_k = eV_{stop}\n",
    "$$\n",
    "Where $V_{stop}$ is the cutoff voltage or __stopping potential__, and e is the charge of an electron. If we use units of electronvolts, the factor of $e$ cancels out.\n",
    "\n",
    "It would be interesting to compare the kinetic energy of the most energetic electrons as we change the wavelength of light.  We should write some code to extract this value, as we will be able to re-use it for all of the spectra.\n",
    "\n",
    "For our purposes, there are three primary ways to process tabular data:\n",
    "1. __Filtering:__ Selecting subsets of data based on a condition (e.g., removing zero values).\n",
    "2. __Column Operations:__ Applying transformations to modify or create new columns (e.g., converting wavelengths to frequencies).\n",
    "3. __Reduction:__ Computing statistics or extracting key values (e.g., calculating cutoff voltage).\n",
    "\n",
    "To determine the cutoff voltage, we will use __linear regression__ on the nonzero portion of our spectrum with `np.polyfit()` and find where it crosses the $x$-axis with `np.roots()`."
   ]
  },
  {
   "cell_type": "markdown",
   "id": "ade08d51-be41-4fa9-a2f7-b1d3b1e0c89c",
   "metadata": {},
   "source": [
    "### CODE\n",
    "* Filter your data to remove all points below a small, nonzero threshold.\n",
    "* Perform a linear fit on your data using `np.polyfit(x_data, y_data, degree)`, with degree set to 1.\n",
    "* Display the result. Use `plt.scatter(x,y)` for data points and `plt.plot(x,y)` for the regression line.\n",
    "* Once we have our slope and intercept, calculate the x intercept using `np.roots([slope,intercept])`."
   ]
  },
  {
   "cell_type": "code",
   "execution_count": null,
   "id": "eae37d1f-952b-49e0-9675-542cc1895d4f",
   "metadata": {},
   "outputs": [],
   "source": [
    "#an example of the syntax for applying a mask / filter to a DataFrame:\n",
    "#dataframe = dataframe[ dataframe['numbers'] == 5 ]\n",
    "#this would return all rows of the dataframe where the value in the \n",
    "#'numbers' column was equal to 5."
   ]
  },
  {
   "cell_type": "code",
   "execution_count": null,
   "id": "0ec190fa-59ae-4aff-aa1d-d1ec6ee7dd79",
   "metadata": {},
   "outputs": [],
   "source": [
    "# example of the syntax for a linear fit using NumPy's polyfit function:\n",
    "#slope, y_intercept = np.polyfit(x_array,y_array,1)"
   ]
  },
  {
   "cell_type": "code",
   "execution_count": null,
   "id": "e844e47e-b01a-40bf-8ddd-5174dbf8c225",
   "metadata": {},
   "outputs": [],
   "source": [
    "\n",
    "# copy the functions you previously used to display your plot above this line^\n",
    "\n",
    "#This part is given; this is how we display our trendline\n",
    "x_trendline = np.linspace(-1,4,100) #this gives us a list of x values\n",
    "y_trendline = slope * x_trendline + y_intercept #this gives us the corresponding y values\n",
    "wavelength_nm = your_data['Wavelength (nm)'][0] #change this line!\n",
    "plt.plot(x_trendline,y_trendline,label=f'{wavelength_nm}nm : {slope:.2f} x + {y_intercept:.2f}')\n",
    "plt.legend() #this function displays labels\n",
    "\n",
    "#these set boundaries on our plot so it looks nice\n",
    "plt.xlim(0,5)\n",
    "plt.ylim(0,8)\n",
    "\n",
    "#this puts everything together and plots it.\n",
    "plt.plot()"
   ]
  },
  {
   "cell_type": "code",
   "execution_count": null,
   "id": "41ddb287-b225-4575-98ec-bf6e25bcd346",
   "metadata": {},
   "outputs": [],
   "source": [
    "#np.roots gives the roots (where y == 0) of a polynomial.\n",
    "#It will return a list of values, but for a linear equation there is only one root.\n",
    "#we can access this first element using list_of_roots[0].\n",
    "\n",
    "# roots = ??\n",
    "# cutoff_voltage = roots[0]\n",
    "\n",
    "print(f\"Cutoff Voltage: {cutoff_voltage:.3f}\")"
   ]
  },
  {
   "cell_type": "markdown",
   "id": "99ad1cca-fc9f-4d54-8ae2-bfa7dfa89ef2",
   "metadata": {},
   "source": [
    "### SHORT RESPONSE QUESTIONS\n",
    "1. Why is it important to remove zero values before computing a linear fit?\n",
    "2. What is the more precise cutoff voltage calculated using this method?\n",
    "3. If we repeat this experiment with a different wavelength of light, how would you expect the cutoff voltage to change?\n",
    "### ANSWER"
   ]
  },
  {
   "cell_type": "markdown",
   "id": "65cf9bb8-19c8-4d88-b610-8eb794cff3f9",
   "metadata": {},
   "source": []
  },
  {
   "cell_type": "markdown",
   "id": "cf4935b1-378b-45c9-b9ca-fd1c98df8ca9",
   "metadata": {},
   "source": [
    "<br/><br/>\n",
    "<br/><br/>\n",
    "  "
   ]
  },
  {
   "cell_type": "markdown",
   "id": "2b6aaa1e-85d9-452c-9f28-d6d0aa06cac7",
   "metadata": {},
   "source": [
    "## PART 3 - Automating The Routine\n",
    "`20 points`  \n",
    "\n",
    "To understand how light's energy depends on frequency, we need to analyze multiple spectra. Instead of repeating the same steps manually, we’ll organize our code into a reusable __function__. \n",
    "\n",
    "First, we'll create a function which accepts the filename of a spectrum and processes it according to the procedure we just developed. Then, we'll create another which finds every .csv spectrum file in a folder and applies our routine to each of them one by one, storing the results in a `DataFrame`.\n",
    "\n",
    "This demonstrates the principle of **abstraction**—just as we don’t need to understand a computer’s inner workings to use it, we don’t need to rewrite a function’s logic every time we call it. Functions can call other functions, creating a heirarchy of logic which is easy to read and modify—as opposed to thousands of lines of unorganized code."
   ]
  },
  {
   "cell_type": "markdown",
   "id": "d55d73ba-e741-49df-81c4-2498328f66a4",
   "metadata": {},
   "source": [
    "<br/><br/>"
   ]
  },
  {
   "cell_type": "markdown",
   "id": "bb2a60f2-dbcc-4c3c-8cfe-c29a2d857d6b",
   "metadata": {},
   "source": [
    "### 3a - Processing one spectrum\n",
    "`10 points`  "
   ]
  },
  {
   "cell_type": "markdown",
   "id": "88468c83-3898-4380-85ad-b8d2e5141962",
   "metadata": {},
   "source": [
    "### CODE\n",
    "* Create a function called `process_spectrum()`. It should accept one argument, `filename`.\n",
    "* This function should use your routine and plot the spectrum with its regression line. It must return `wavelength_nm`, `frequency_Hz`, and `cutoff_voltage`, in that order.\n",
    "* Test your new function on several different spectra with different wavelengths. Use the same metal, if you have spectra for multiple metals."
   ]
  },
  {
   "cell_type": "code",
   "execution_count": 3,
   "id": "afa754c7-1e4c-444f-8900-039adab6bccb",
   "metadata": {},
   "outputs": [],
   "source": [
    "# you can get wavelength and frequency from the spectra themselves.\n",
    "# use \n",
    "#wavelength = my_data['Wavelength (nm)'][0] \n",
    "#and\n",
    "# frequency = my_data['Frequency (Hz)'][0]\n",
    "\n",
    "# your function goes here!!!"
   ]
  },
  {
   "cell_type": "code",
   "execution_count": 4,
   "id": "74fc9ca0-34fb-4366-91f0-8a3f86f80719",
   "metadata": {},
   "outputs": [],
   "source": [
    "# call your function with a few different spectra."
   ]
  },
  {
   "cell_type": "markdown",
   "id": "af85cd97-52e6-4c32-ad6b-b4eadda51a25",
   "metadata": {},
   "source": [
    "<br/><br/>"
   ]
  },
  {
   "cell_type": "markdown",
   "id": "a8a85ac8-5b10-4981-b39c-347089f8021d",
   "metadata": {},
   "source": [
    "### 3b - Scaling Up\n",
    "`10 points`  "
   ]
  },
  {
   "cell_type": "markdown",
   "id": "67cfea49-3ebe-4876-9f23-fce3b060405b",
   "metadata": {},
   "source": [
    "### CODE\n",
    "* A function `process_all_data(folder)` is given. Leave comments explaining what each line does.\n",
    "* Run the function on your spectra folder (ensure the only CSV files it contains are the spectra for this assignment).\n",
    "* Store the result in a variable and display it by placing the variable on the last line of a code block."
   ]
  },
  {
   "cell_type": "code",
   "execution_count": 6,
   "id": "24cdc12f-537c-486a-a3cb-78603f088696",
   "metadata": {},
   "outputs": [],
   "source": [
    "import os #the python module for interacting with the operating system, file trees, etc\n",
    "def process_all_data(folder):\n",
    "    filenames = os.listdir(folder) \n",
    "    csv_files = [file for file in filenames if file.endswith('.csv')]\n",
    "    \n",
    "    wavelengths = []\n",
    "    frequencies = []\n",
    "    cutoff_voltages = []\n",
    "    \n",
    "    for filename in csv_files:\n",
    "        wavelength, frequency, cutoff_voltage = process_spectrum(filename)\n",
    "        wavelengths.append(wavelength)\n",
    "        frequencies.append(frequency)\n",
    "        cutoff_voltages.append(cutoff_voltage)\n",
    "\n",
    "    table = pd.DataFrame({\n",
    "        'Wavelength (nm)': wavelengths,\n",
    "        'Frequency (Hz)': frequencies ,\n",
    "        'Stopping Potential (eV)': cutoff_voltages \n",
    "    })\n",
    "    table.sort_values(by=['Frequency (Hz)']) #make the table easier to read\n",
    "    return table"
   ]
  },
  {
   "cell_type": "code",
   "execution_count": 9,
   "id": "c5d83848-e7f7-4652-ac89-6c88e387da4d",
   "metadata": {},
   "outputs": [],
   "source": [
    "#if the .csv spectra are in the same folder as this assignment,\n",
    "# use './' as the folder argument.\n",
    "# call the function here."
   ]
  },
  {
   "cell_type": "markdown",
   "id": "1415b9a0-b02f-433c-b09f-afc7efad5b78",
   "metadata": {},
   "source": [
    "### SHORT RESPONSE QUESTIONS\n",
    "1. What is the utility of collecting all of our code into a function?\n",
    "4. How does a change in wavelength correspond to the change in frequency?\n",
    "2. What trend do you observe as we change the wavelength of light used, and what does this imply?\n",
    "### ANSWER"
   ]
  },
  {
   "cell_type": "markdown",
   "id": "4f20abc7-ef8a-4927-8afc-30171135d1f2",
   "metadata": {},
   "source": []
  },
  {
   "cell_type": "markdown",
   "id": "4ee5ee02-bc02-4abb-8f8c-cc92da8b01e7",
   "metadata": {},
   "source": [
    "<br/><br/>\n",
    "<br/><br/>"
   ]
  },
  {
   "cell_type": "markdown",
   "id": "0457a5a0-b160-4f5e-a820-afdc485319bf",
   "metadata": {},
   "source": [
    "## Part 4 - Light Energy Versus Frequency \n",
    "`20 points`  \n",
    "\n",
    "We’ve reduced each spectrum to two key values: stopping potential and frequency. Now, we’ll analyze their relationship to extract fundamental physical constants.\n",
    "\n",
    "From energy conservation:\n",
    "$$\n",
    "E_{total} = E_k + E_{escape}\n",
    "$$\n",
    "At the stopping potential $V_{stop}$, we know from earlier that $E_k = eV_{stop}$. So, we can rearrange this equation into the following:\n",
    "$$\n",
    "eV_{stop} = E_{total} - E_{escape}\n",
    "$$\n",
    "By plotting $V_{stop}$ against frequency, we can determine whether a linear relationship exists. If so, the intercept is the energy required to escape the metal’s surface (the __work function__) times $-1$, and the slope reveals how light’s energy depends on frequency."
   ]
  },
  {
   "cell_type": "markdown",
   "id": "9a11fab3-7fee-4bca-8993-ddb35756e404",
   "metadata": {},
   "source": [
    "### CODE\n",
    "* Take a linear regression of stopping potential versus frequency in $Hz$ and plot the data with the regression line.\n",
    "* Find the slope - this will be the proportionality between light frequency and energy in $eV\\cdot{}s$.\n",
    "* Convert this value to Joule-seconds ($J\\cdot{}s$) and print it.\n",
    "* Find the __work function__ of your metal from the intercept and print it."
   ]
  },
  {
   "cell_type": "code",
   "execution_count": 10,
   "id": "f97ca04b-eb95-4422-aa5f-13b8e43fa37f",
   "metadata": {},
   "outputs": [],
   "source": [
    "#you can copy-paste the functions you used \n",
    "#to plot data and find the slope/intercept before here.\n",
    "\n",
    "#make sure you change all the variable names to appropriate values, however."
   ]
  },
  {
   "cell_type": "code",
   "execution_count": 11,
   "id": "da3a01c7-8be8-4206-8d8e-4554073ec590",
   "metadata": {},
   "outputs": [],
   "source": [
    "#energy_constant_Js = slope * 1.602e-19 # the unit conversion for eV*s to J*s"
   ]
  },
  {
   "cell_type": "markdown",
   "id": "ebfdc9b5-0fd9-4a29-8ee0-bc833d20a18a",
   "metadata": {},
   "source": [
    "### SHORT RESPONSE QUESTIONS\n",
    "1. The constant you found relating the energy and frequency- where have you seen this before?\n",
    "2. What is the percent error for your calculated value compared to the accepted value?\n",
    "3. What value do you obtain for the work function of your metal, and what percent error?\n",
    "4. What are possible sources of error?\n",
    "### ANSWER"
   ]
  },
  {
   "cell_type": "markdown",
   "id": "6d9e1eed-69f6-46d3-a8e9-81e2d77f0949",
   "metadata": {},
   "source": []
  },
  {
   "cell_type": "markdown",
   "id": "85a04c6c-5617-4142-a796-71b0644fa0d5",
   "metadata": {},
   "source": [
    "<br/><br/>\n",
    "<br/><br/>"
   ]
  },
  {
   "cell_type": "markdown",
   "id": "ba95095b-29ff-4dcb-bb47-a90572664960",
   "metadata": {},
   "source": [
    "# REFLECTION"
   ]
  },
  {
   "cell_type": "markdown",
   "id": "8f63f951-ac92-4cdb-97dc-ffc36e93fb3b",
   "metadata": {},
   "source": [
    "`10 points`  "
   ]
  },
  {
   "cell_type": "markdown",
   "id": "44c314fe-c1a9-4779-bacb-6c9ae9e70224",
   "metadata": {},
   "source": [
    "### SHORT RESPONSE QUESTIONS \n",
    "1. How did using `pandas` and creating functions allow us to automate and scale up our data processing routine? How might such an approach prove useful for your work as a chemist?\n",
    "2. How does the photoelectric effect challenge the classical wave model of light? What observations from your data suggest that light behaves as a particle?\n",
    "### ANSWER"
   ]
  },
  {
   "cell_type": "markdown",
   "id": "c14897a7-6cd2-419f-bd45-08e1be384b6b",
   "metadata": {},
   "source": []
  },
  {
   "cell_type": "markdown",
   "id": "d6adf375-2aae-453f-b6e2-f07aa10f7a51",
   "metadata": {},
   "source": [
    "<br/><br/>\n",
    "<br/><br/>"
   ]
  }
 ],
 "metadata": {
  "kernelspec": {
   "display_name": "Python 3 (ipykernel)",
   "language": "python",
   "name": "python3"
  },
  "language_info": {
   "codemirror_mode": {
    "name": "ipython",
    "version": 3
   },
   "file_extension": ".py",
   "mimetype": "text/x-python",
   "name": "python",
   "nbconvert_exporter": "python",
   "pygments_lexer": "ipython3",
   "version": "3.11.10"
  }
 },
 "nbformat": 4,
 "nbformat_minor": 5
}
