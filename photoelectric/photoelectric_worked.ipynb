{
 "cells": [
  {
   "cell_type": "markdown",
   "id": "e96f4f11-c349-4504-ad16-d01a4c4c2e21",
   "metadata": {},
   "source": [
    "# LIBRARIES\n",
    "* Execute this cell before going any further. "
   ]
  },
  {
   "cell_type": "code",
   "execution_count": 21,
   "id": "a3a09f7f-7195-4372-823d-b490ada84711",
   "metadata": {},
   "outputs": [],
   "source": [
    "import pandas as pd\n",
    "import numpy as np\n",
    "import matplotlib.pyplot as plt"
   ]
  },
  {
   "cell_type": "markdown",
   "id": "906be93d-c21d-4db1-af32-8970d43ea148",
   "metadata": {},
   "source": [
    "<br/><br/>"
   ]
  },
  {
   "cell_type": "markdown",
   "id": "0cde6d6d-5e7a-48c2-9fc9-855d24d8cf5b",
   "metadata": {},
   "source": [
    "# Warmup\n",
    "`10 points`"
   ]
  },
  {
   "cell_type": "markdown",
   "id": "fc9d988a-5e6f-4dda-b269-781e23204ad8",
   "metadata": {},
   "source": [
    "## DataFrames and Tabular Data\n",
    "You’ve likely worked with tabular data before, especially in Excel. In Python, we use the `pandas` library (imported as `pd`) to handle this type of data efficiently. The core component of pandas is the `pd.DataFrame` object, which functions much like a spreadsheet. Proficiency in `pandas` is an evergreen skill—it can make data processing tens or even hundreds of times faster compared to manual work in Excel.\n",
    "\n",
    "In this warmup, we'll explore the basics of the `pd.DataFrame` using a simple dataset. This will prepare you for the extensive use we'll make of this data structure throughout the assignment."
   ]
  },
  {
   "cell_type": "markdown",
   "id": "f698fc9c-f7d8-4446-a206-90faf06d1908",
   "metadata": {},
   "source": [
    "### CODE\n",
    "* Create three lists of data (e.g., numbers, names, or categories).\n",
    "* Store these lists in a dictionary, using meaningful labels as keys.\n",
    "* Use the pd.DataFrame constructor to create a DataFrame from the dictionary.\n",
    "* Display the DataFrame by making it the last line of a code cell. What does it look like?\n",
    "* Multiply a column by 5, store the result in a new column on the DataFrame, and display the updated DataFrame."
   ]
  },
  {
   "cell_type": "code",
   "execution_count": 22,
   "id": "8acf800c-0473-4c45-b53b-1a298f10eb18",
   "metadata": {},
   "outputs": [],
   "source": [
    "students      = ['Bob','Alice','Giancarlo']\n",
    "test_scores   = [95,85,75]\n",
    "gpa           = [3.0,2.0,5.0]"
   ]
  },
  {
   "cell_type": "code",
   "execution_count": 23,
   "id": "4c923c00-4bdf-45e8-95e0-4bc6e0aee8cd",
   "metadata": {},
   "outputs": [],
   "source": [
    "my_data = {\n",
    "    'students' : students,\n",
    "    'test_scores' : test_scores,\n",
    "    'gpa' : gpa\n",
    "}"
   ]
  },
  {
   "cell_type": "code",
   "execution_count": 24,
   "id": "263b7eb4-a975-4ae4-95c0-125d7b081f15",
   "metadata": {},
   "outputs": [
    {
     "data": {
      "text/html": [
       "<div>\n",
       "<style scoped>\n",
       "    .dataframe tbody tr th:only-of-type {\n",
       "        vertical-align: middle;\n",
       "    }\n",
       "\n",
       "    .dataframe tbody tr th {\n",
       "        vertical-align: top;\n",
       "    }\n",
       "\n",
       "    .dataframe thead th {\n",
       "        text-align: right;\n",
       "    }\n",
       "</style>\n",
       "<table border=\"1\" class=\"dataframe\">\n",
       "  <thead>\n",
       "    <tr style=\"text-align: right;\">\n",
       "      <th></th>\n",
       "      <th>students</th>\n",
       "      <th>test_scores</th>\n",
       "      <th>gpa</th>\n",
       "    </tr>\n",
       "  </thead>\n",
       "  <tbody>\n",
       "    <tr>\n",
       "      <th>0</th>\n",
       "      <td>Bob</td>\n",
       "      <td>95</td>\n",
       "      <td>3.0</td>\n",
       "    </tr>\n",
       "    <tr>\n",
       "      <th>1</th>\n",
       "      <td>Alice</td>\n",
       "      <td>85</td>\n",
       "      <td>2.0</td>\n",
       "    </tr>\n",
       "    <tr>\n",
       "      <th>2</th>\n",
       "      <td>Giancarlo</td>\n",
       "      <td>75</td>\n",
       "      <td>5.0</td>\n",
       "    </tr>\n",
       "  </tbody>\n",
       "</table>\n",
       "</div>"
      ],
      "text/plain": [
       "    students  test_scores  gpa\n",
       "0        Bob           95  3.0\n",
       "1      Alice           85  2.0\n",
       "2  Giancarlo           75  5.0"
      ]
     },
     "execution_count": 24,
     "metadata": {},
     "output_type": "execute_result"
    }
   ],
   "source": [
    "my_dataframe = pd.DataFrame(my_data)# call pd.DataFrame() as a function.\n",
    "#use the dict my_data as an argument. \n",
    "#end this block with the variable my_dataframe alone on a line.\n",
    "my_dataframe"
   ]
  },
  {
   "cell_type": "code",
   "execution_count": 25,
   "id": "81c22435-2b4f-45fd-86a5-cb68fff033c8",
   "metadata": {},
   "outputs": [
    {
     "data": {
      "text/html": [
       "<div>\n",
       "<style scoped>\n",
       "    .dataframe tbody tr th:only-of-type {\n",
       "        vertical-align: middle;\n",
       "    }\n",
       "\n",
       "    .dataframe tbody tr th {\n",
       "        vertical-align: top;\n",
       "    }\n",
       "\n",
       "    .dataframe thead th {\n",
       "        text-align: right;\n",
       "    }\n",
       "</style>\n",
       "<table border=\"1\" class=\"dataframe\">\n",
       "  <thead>\n",
       "    <tr style=\"text-align: right;\">\n",
       "      <th></th>\n",
       "      <th>students</th>\n",
       "      <th>test_scores</th>\n",
       "      <th>gpa</th>\n",
       "      <th>extra_credit</th>\n",
       "    </tr>\n",
       "  </thead>\n",
       "  <tbody>\n",
       "    <tr>\n",
       "      <th>0</th>\n",
       "      <td>Bob</td>\n",
       "      <td>95</td>\n",
       "      <td>3.0</td>\n",
       "      <td>475</td>\n",
       "    </tr>\n",
       "    <tr>\n",
       "      <th>1</th>\n",
       "      <td>Alice</td>\n",
       "      <td>85</td>\n",
       "      <td>2.0</td>\n",
       "      <td>425</td>\n",
       "    </tr>\n",
       "    <tr>\n",
       "      <th>2</th>\n",
       "      <td>Giancarlo</td>\n",
       "      <td>75</td>\n",
       "      <td>5.0</td>\n",
       "      <td>375</td>\n",
       "    </tr>\n",
       "  </tbody>\n",
       "</table>\n",
       "</div>"
      ],
      "text/plain": [
       "    students  test_scores  gpa  extra_credit\n",
       "0        Bob           95  3.0           475\n",
       "1      Alice           85  2.0           425\n",
       "2  Giancarlo           75  5.0           375"
      ]
     },
     "execution_count": 25,
     "metadata": {},
     "output_type": "execute_result"
    }
   ],
   "source": [
    "#we can access columns using angle brackets [],\n",
    "#just like we can access data in a dictionary by key.\n",
    "#we can make new columns by using the angle brackets []\n",
    "#specifying a column that doesn't exist, like as follows:\n",
    "#my_dataframe['some_column'] = my_dataframe['old_column'] + 7 \n",
    "#(this would add 7 to every element in the column with title 'old_column')\n",
    "my_dataframe['extra_credit'] = my_dataframe['test_scores'] *5\n",
    "my_dataframe"
   ]
  },
  {
   "cell_type": "markdown",
   "id": "3f7505aa-5c1d-4db5-a495-3238122e5b9f",
   "metadata": {},
   "source": [
    "<br/><br/>\n",
    "<br/><br/>"
   ]
  },
  {
   "cell_type": "markdown",
   "id": "2dceafcf-4c98-4cc0-ad95-d51ce4b01700",
   "metadata": {},
   "source": [
    "# The Photoelectric Effect"
   ]
  },
  {
   "cell_type": "markdown",
   "id": "7154d122-2582-48ea-812a-638edd2148a1",
   "metadata": {},
   "source": [
    "In the previous activity, we explored how the Double Slit Experiment provides strong evidence for the wave nature of light. Would it surprise you to learn that another experiment just as convincingly demonstrates that light behaves as particles?\n",
    "\n",
    "The phenomenon in question is the photoelectric effect. The experimental apparatus consists of two metal plates separated by a gap within a circuit. When light shines on one plate, it may eject electrons, which travel to the other plate and complete the circuit. This is measured as an electric current.\n",
    "\n",
    "Because energy is conserved, we know that the energy from the light is split between two parts:\n",
    "\n",
    "$$\n",
    "E_{total} = E_k + E_{escape}\n",
    "$$\n",
    "where $E_{total}$ is the energy imparted to the electron by light, $E_K$ is the kinetic energy of the ejected electron, and $E_{escape}$ is the energy required for the electron to escape the metal's surface. \n",
    "\n",
    "Classical wave theory predicts that light can gradually add energy to electrons until they are able to escape. If this were true, we would expect that increasing the intensity of the light would in turn increase the kinetic energies of the electrons contributing to the current. What if this isn't true? If the energy transfer follows different rules, it would be strong evidence that light doesn't behave as a classical wave."
   ]
  },
  {
   "cell_type": "markdown",
   "id": "6964bdb2-e480-4dda-8567-8257ef2b3daf",
   "metadata": {},
   "source": [
    "<br/><br/>"
   ]
  },
  {
   "attachments": {},
   "cell_type": "markdown",
   "id": "822508a2-8a08-42a7-8239-2b044f70613f",
   "metadata": {},
   "source": [
    "## PART 1 - Measuring the Kinetic Energy of Electrons\n",
    "`20 points`  \n",
    "\n",
    "To examine this behavior, we can use a potential energy barrier to measure the kinetic energy of electrons. By applying a voltage between the plates which opposes the electrons' motion, we create a threshold: only electrons with at least a certain amount of kinetic energy can cross. \n",
    "\n",
    "For example, if we set this counter-voltage to 3V, any electrons detected must have at least 3 eV of kinetic energy (The electronvolt [eV] is a unit of energy equal to one volt times the charge of an electron). By gradually increasing the voltage and recording the current, we can measure the energy distribution of the ejected electrons.\n",
    "\n",
    "Let's explore this energy distribution using our spectra. To do this, we'll process our data using `pandas`. Instead of manually constructing a `DataFrame`, we'll load our data directly from a file using: \n",
    "```\n",
    "my_data = pd.read_csv(\"my_placeholder_filename.csv\")\n",
    "```\n",
    "\n",
    "However, staring at columns of numbers doesn’t reveal much—Jupyter even truncates long tables by default. To better understand the data, we’ll visualize it using `plt.plot()`, allowing us to see relationships between different columns in our `DataFrame`."
   ]
  },
  {
   "cell_type": "markdown",
   "id": "4c000d91-9436-48bc-bd9b-a6037a3c9256",
   "metadata": {},
   "source": [
    "### CODE\n",
    "* use `pd.read_csv(filename)` to open your data.\n",
    "* Display the contents of your `DataFrame`.\n",
    "* Use `plt.plot(x,y)`, where `x` and `y` are the appropriate columns from your data.\n",
    "* Apply basic formatting to your plot using the provided functions."
   ]
  },
  {
   "cell_type": "code",
   "execution_count": 26,
   "id": "7390aa98-1eb6-40da-aad8-0cf2eb0c1535",
   "metadata": {},
   "outputs": [
    {
     "data": {
      "text/html": [
       "<div>\n",
       "<style scoped>\n",
       "    .dataframe tbody tr th:only-of-type {\n",
       "        vertical-align: middle;\n",
       "    }\n",
       "\n",
       "    .dataframe tbody tr th {\n",
       "        vertical-align: top;\n",
       "    }\n",
       "\n",
       "    .dataframe thead th {\n",
       "        text-align: right;\n",
       "    }\n",
       "</style>\n",
       "<table border=\"1\" class=\"dataframe\">\n",
       "  <thead>\n",
       "    <tr style=\"text-align: right;\">\n",
       "      <th></th>\n",
       "      <th>Trial</th>\n",
       "      <th>Metal</th>\n",
       "      <th>Voltage (V)</th>\n",
       "      <th>Current (pA)</th>\n",
       "      <th>Frequency (Hz)</th>\n",
       "      <th>Wavelength (nm)</th>\n",
       "      <th>Unnamed: 6</th>\n",
       "    </tr>\n",
       "  </thead>\n",
       "  <tbody>\n",
       "    <tr>\n",
       "      <th>0</th>\n",
       "      <td>1</td>\n",
       "      <td>Calcium</td>\n",
       "      <td>0.001</td>\n",
       "      <td>8.02</td>\n",
       "      <td>1.500000e+15</td>\n",
       "      <td>200.0</td>\n",
       "      <td>NaN</td>\n",
       "    </tr>\n",
       "    <tr>\n",
       "      <th>1</th>\n",
       "      <td>2</td>\n",
       "      <td>Calcium</td>\n",
       "      <td>0.251</td>\n",
       "      <td>7.40</td>\n",
       "      <td>1.500000e+15</td>\n",
       "      <td>200.0</td>\n",
       "      <td>NaN</td>\n",
       "    </tr>\n",
       "    <tr>\n",
       "      <th>2</th>\n",
       "      <td>3</td>\n",
       "      <td>Calcium</td>\n",
       "      <td>0.498</td>\n",
       "      <td>6.80</td>\n",
       "      <td>1.500000e+15</td>\n",
       "      <td>200.0</td>\n",
       "      <td>NaN</td>\n",
       "    </tr>\n",
       "    <tr>\n",
       "      <th>3</th>\n",
       "      <td>4</td>\n",
       "      <td>Calcium</td>\n",
       "      <td>0.751</td>\n",
       "      <td>6.20</td>\n",
       "      <td>1.500000e+15</td>\n",
       "      <td>200.0</td>\n",
       "      <td>NaN</td>\n",
       "    </tr>\n",
       "    <tr>\n",
       "      <th>4</th>\n",
       "      <td>5</td>\n",
       "      <td>Calcium</td>\n",
       "      <td>0.998</td>\n",
       "      <td>5.60</td>\n",
       "      <td>1.500000e+15</td>\n",
       "      <td>200.0</td>\n",
       "      <td>NaN</td>\n",
       "    </tr>\n",
       "    <tr>\n",
       "      <th>5</th>\n",
       "      <td>6</td>\n",
       "      <td>Calcium</td>\n",
       "      <td>1.239</td>\n",
       "      <td>5.03</td>\n",
       "      <td>1.500000e+15</td>\n",
       "      <td>200.0</td>\n",
       "      <td>NaN</td>\n",
       "    </tr>\n",
       "    <tr>\n",
       "      <th>6</th>\n",
       "      <td>7</td>\n",
       "      <td>Calcium</td>\n",
       "      <td>1.498</td>\n",
       "      <td>4.37</td>\n",
       "      <td>1.500000e+15</td>\n",
       "      <td>200.0</td>\n",
       "      <td>NaN</td>\n",
       "    </tr>\n",
       "    <tr>\n",
       "      <th>7</th>\n",
       "      <td>8</td>\n",
       "      <td>Calcium</td>\n",
       "      <td>1.762</td>\n",
       "      <td>3.77</td>\n",
       "      <td>1.500000e+15</td>\n",
       "      <td>200.0</td>\n",
       "      <td>NaN</td>\n",
       "    </tr>\n",
       "    <tr>\n",
       "      <th>8</th>\n",
       "      <td>9</td>\n",
       "      <td>Calcium</td>\n",
       "      <td>2.010</td>\n",
       "      <td>3.17</td>\n",
       "      <td>1.500000e+15</td>\n",
       "      <td>200.0</td>\n",
       "      <td>NaN</td>\n",
       "    </tr>\n",
       "    <tr>\n",
       "      <th>9</th>\n",
       "      <td>10</td>\n",
       "      <td>Calcium</td>\n",
       "      <td>2.250</td>\n",
       "      <td>2.56</td>\n",
       "      <td>1.500000e+15</td>\n",
       "      <td>200.0</td>\n",
       "      <td>NaN</td>\n",
       "    </tr>\n",
       "    <tr>\n",
       "      <th>10</th>\n",
       "      <td>11</td>\n",
       "      <td>Calcium</td>\n",
       "      <td>2.501</td>\n",
       "      <td>1.98</td>\n",
       "      <td>1.500000e+15</td>\n",
       "      <td>200.0</td>\n",
       "      <td>NaN</td>\n",
       "    </tr>\n",
       "    <tr>\n",
       "      <th>11</th>\n",
       "      <td>12</td>\n",
       "      <td>Calcium</td>\n",
       "      <td>2.750</td>\n",
       "      <td>1.37</td>\n",
       "      <td>1.500000e+15</td>\n",
       "      <td>200.0</td>\n",
       "      <td>NaN</td>\n",
       "    </tr>\n",
       "    <tr>\n",
       "      <th>12</th>\n",
       "      <td>13</td>\n",
       "      <td>Calcium</td>\n",
       "      <td>3.008</td>\n",
       "      <td>0.76</td>\n",
       "      <td>1.500000e+15</td>\n",
       "      <td>200.0</td>\n",
       "      <td>NaN</td>\n",
       "    </tr>\n",
       "    <tr>\n",
       "      <th>13</th>\n",
       "      <td>14</td>\n",
       "      <td>Calcium</td>\n",
       "      <td>3.250</td>\n",
       "      <td>0.16</td>\n",
       "      <td>1.500000e+15</td>\n",
       "      <td>200.0</td>\n",
       "      <td>NaN</td>\n",
       "    </tr>\n",
       "    <tr>\n",
       "      <th>14</th>\n",
       "      <td>15</td>\n",
       "      <td>Calcium</td>\n",
       "      <td>3.500</td>\n",
       "      <td>-0.01</td>\n",
       "      <td>1.500000e+15</td>\n",
       "      <td>200.0</td>\n",
       "      <td>NaN</td>\n",
       "    </tr>\n",
       "    <tr>\n",
       "      <th>15</th>\n",
       "      <td>16</td>\n",
       "      <td>Calcium</td>\n",
       "      <td>3.761</td>\n",
       "      <td>0.02</td>\n",
       "      <td>1.500000e+15</td>\n",
       "      <td>200.0</td>\n",
       "      <td>NaN</td>\n",
       "    </tr>\n",
       "    <tr>\n",
       "      <th>16</th>\n",
       "      <td>17</td>\n",
       "      <td>Calcium</td>\n",
       "      <td>4.012</td>\n",
       "      <td>-0.02</td>\n",
       "      <td>1.500000e+15</td>\n",
       "      <td>200.0</td>\n",
       "      <td>NaN</td>\n",
       "    </tr>\n",
       "    <tr>\n",
       "      <th>17</th>\n",
       "      <td>18</td>\n",
       "      <td>Calcium</td>\n",
       "      <td>4.259</td>\n",
       "      <td>-0.02</td>\n",
       "      <td>1.500000e+15</td>\n",
       "      <td>200.0</td>\n",
       "      <td>NaN</td>\n",
       "    </tr>\n",
       "    <tr>\n",
       "      <th>18</th>\n",
       "      <td>19</td>\n",
       "      <td>Calcium</td>\n",
       "      <td>4.500</td>\n",
       "      <td>0.01</td>\n",
       "      <td>1.500000e+15</td>\n",
       "      <td>200.0</td>\n",
       "      <td>NaN</td>\n",
       "    </tr>\n",
       "    <tr>\n",
       "      <th>19</th>\n",
       "      <td>20</td>\n",
       "      <td>Calcium</td>\n",
       "      <td>4.750</td>\n",
       "      <td>0.00</td>\n",
       "      <td>1.500000e+15</td>\n",
       "      <td>200.0</td>\n",
       "      <td>NaN</td>\n",
       "    </tr>\n",
       "    <tr>\n",
       "      <th>20</th>\n",
       "      <td>21</td>\n",
       "      <td>Calcium</td>\n",
       "      <td>5.000</td>\n",
       "      <td>0.01</td>\n",
       "      <td>1.500000e+15</td>\n",
       "      <td>200.0</td>\n",
       "      <td>NaN</td>\n",
       "    </tr>\n",
       "  </tbody>\n",
       "</table>\n",
       "</div>"
      ],
      "text/plain": [
       "    Trial    Metal  Voltage (V)  Current (pA)  Frequency (Hz)  \\\n",
       "0       1  Calcium        0.001          8.02    1.500000e+15   \n",
       "1       2  Calcium        0.251          7.40    1.500000e+15   \n",
       "2       3  Calcium        0.498          6.80    1.500000e+15   \n",
       "3       4  Calcium        0.751          6.20    1.500000e+15   \n",
       "4       5  Calcium        0.998          5.60    1.500000e+15   \n",
       "5       6  Calcium        1.239          5.03    1.500000e+15   \n",
       "6       7  Calcium        1.498          4.37    1.500000e+15   \n",
       "7       8  Calcium        1.762          3.77    1.500000e+15   \n",
       "8       9  Calcium        2.010          3.17    1.500000e+15   \n",
       "9      10  Calcium        2.250          2.56    1.500000e+15   \n",
       "10     11  Calcium        2.501          1.98    1.500000e+15   \n",
       "11     12  Calcium        2.750          1.37    1.500000e+15   \n",
       "12     13  Calcium        3.008          0.76    1.500000e+15   \n",
       "13     14  Calcium        3.250          0.16    1.500000e+15   \n",
       "14     15  Calcium        3.500         -0.01    1.500000e+15   \n",
       "15     16  Calcium        3.761          0.02    1.500000e+15   \n",
       "16     17  Calcium        4.012         -0.02    1.500000e+15   \n",
       "17     18  Calcium        4.259         -0.02    1.500000e+15   \n",
       "18     19  Calcium        4.500          0.01    1.500000e+15   \n",
       "19     20  Calcium        4.750          0.00    1.500000e+15   \n",
       "20     21  Calcium        5.000          0.01    1.500000e+15   \n",
       "\n",
       "    Wavelength (nm)  Unnamed: 6  \n",
       "0             200.0         NaN  \n",
       "1             200.0         NaN  \n",
       "2             200.0         NaN  \n",
       "3             200.0         NaN  \n",
       "4             200.0         NaN  \n",
       "5             200.0         NaN  \n",
       "6             200.0         NaN  \n",
       "7             200.0         NaN  \n",
       "8             200.0         NaN  \n",
       "9             200.0         NaN  \n",
       "10            200.0         NaN  \n",
       "11            200.0         NaN  \n",
       "12            200.0         NaN  \n",
       "13            200.0         NaN  \n",
       "14            200.0         NaN  \n",
       "15            200.0         NaN  \n",
       "16            200.0         NaN  \n",
       "17            200.0         NaN  \n",
       "18            200.0         NaN  \n",
       "19            200.0         NaN  \n",
       "20            200.0         NaN  "
      ]
     },
     "execution_count": 26,
     "metadata": {},
     "output_type": "execute_result"
    }
   ],
   "source": [
    "data = pd.read_csv('Ca_200nm.csv')\n",
    "data"
   ]
  },
  {
   "cell_type": "code",
   "execution_count": 27,
   "id": "08e33338-25be-475c-9d0f-337067673356",
   "metadata": {},
   "outputs": [
    {
     "data": {
      "text/plain": [
       "Text(0.5, 0, 'Voltage (V)')"
      ]
     },
     "execution_count": 27,
     "metadata": {},
     "output_type": "execute_result"
    },
    {
     "data": {
      "image/png": "[encoded data removed]",
      "text/plain": [
       "<Figure size 640x480 with 1 Axes>"
      ]
     },
     "metadata": {},
     "output_type": "display_data"
    }
   ],
   "source": [
    "plt.scatter(data['Voltage (V)'],data['Current (pA)'])\n",
    "plt.title('Current v. Voltage for Ca and 200nm light')\n",
    "plt.ylabel('Current (pA)')\n",
    "plt.xlabel('Voltage (V)')"
   ]
  },
  {
   "cell_type": "markdown",
   "id": "2dad55e7-dc1f-46db-9194-43e0cd509b78",
   "metadata": {},
   "source": [
    "### SHORT RESPONSE QUESTIONS\n",
    "1. What are the column names in `data`? \n",
    "2. How many rows are in the dataset? What does each row correspond to in the experiment?\n",
    "3. Describe the trends you observe in the spectrum. How does the current change as voltage increases?\n",
    "4. What is the approximate kinetic energy of the most energetic electrons? How is the $x$ (not $y$) intercept of the spectrum related to this value?\n",
    "### ANSWER"
   ]
  },
  {
   "cell_type": "markdown",
   "id": "c8f3a748-07e4-47e2-9b40-3fe0b41bb1d8",
   "metadata": {},
   "source": [
    "1. The following is a list of the columns in `data` : Trial, Metal,\tVoltage (V),\tCurrent (pA),\tFrequency (Hz),\tWavelength (nm), and finally Unnamed: 6. \n",
    "2. There are 21 rows (counting from zero and ending on 20.) Each row represents a trial in the experiment where we change the voltage.\n",
    "3. The current steadily decreases as voltage increases. Once current reaches zero, it stops decreasing and remains at zero even as voltage increases.\n",
    "5. The most energetic electrons have a kinetic energy of about 3.2 eV. The x intercept of the spectrum is the voltage for which there are no longer any electrons with enough kinetic energy to pass."
   ]
  },
  {
   "cell_type": "markdown",
   "id": "c32ef20d-a05e-43d6-bce4-ff19670ba73e",
   "metadata": {},
   "source": [
    "<br/><br/>\n",
    "<br/><br/>"
   ]
  },
  {
   "cell_type": "markdown",
   "id": "df8fac49-bcd4-4a07-8ca4-17387ac5e219",
   "metadata": {},
   "source": [
    "## PART 2 - Proccessing our Spectrum\n",
    "Clearly, the _cutoff voltage_ is a key value in our analysis. To quickly compare spectra across different wavelengths, we should devise a precise and programmatic way to extract it. Automating this process will allow us to analyze multiple spectra efficiently.\n",
    "\n",
    "There are three primary ways to process tabular data:\n",
    "1. __Filtering:__ Selecting subsets of data based on a condition (e.g., removing zero values).\n",
    "2. __Column Operations:__ Applying transformations to modify or create new columns (e.g., converting wavelengths to frequencies).\n",
    "3. __Reduction:__ Computing statistics or extracting key values (e.g., calculating cutoff voltage).\n",
    "\n",
    "To determine the cutoff voltage, we will use __linear regression__ on the nonzero portion of our spectrum and find where it crosses the $x-axis$ (where the current reaches zero). The `np.polyfit` function will come in handy for this."
   ]
  },
  {
   "cell_type": "markdown",
   "id": "ade08d51-be41-4fa9-a2f7-b1d3b1e0c89c",
   "metadata": {},
   "source": [
    "### CODE\n",
    "* Filter your data to remove all points below a small, nonzero threshold.\n",
    "* Perform a polynomial fit on your data using `np.polyfit(x_data, y_data, degree)`.\n",
    "* Display the result. Use `plt.scatter(x,y)` for data points and `plt.plot(x,y)` for the regression line."
   ]
  },
  {
   "cell_type": "code",
   "execution_count": 28,
   "id": "eae37d1f-952b-49e0-9675-542cc1895d4f",
   "metadata": {},
   "outputs": [
    {
     "data": {
      "text/html": [
       "<div>\n",
       "<style scoped>\n",
       "    .dataframe tbody tr th:only-of-type {\n",
       "        vertical-align: middle;\n",
       "    }\n",
       "\n",
       "    .dataframe tbody tr th {\n",
       "        vertical-align: top;\n",
       "    }\n",
       "\n",
       "    .dataframe thead th {\n",
       "        text-align: right;\n",
       "    }\n",
       "</style>\n",
       "<table border=\"1\" class=\"dataframe\">\n",
       "  <thead>\n",
       "    <tr style=\"text-align: right;\">\n",
       "      <th></th>\n",
       "      <th>Trial</th>\n",
       "      <th>Metal</th>\n",
       "      <th>Voltage (V)</th>\n",
       "      <th>Current (pA)</th>\n",
       "      <th>Frequency (Hz)</th>\n",
       "      <th>Wavelength (nm)</th>\n",
       "      <th>Unnamed: 6</th>\n",
       "    </tr>\n",
       "  </thead>\n",
       "  <tbody>\n",
       "    <tr>\n",
       "      <th>0</th>\n",
       "      <td>1</td>\n",
       "      <td>Calcium</td>\n",
       "      <td>0.001</td>\n",
       "      <td>8.02</td>\n",
       "      <td>1.500000e+15</td>\n",
       "      <td>200.0</td>\n",
       "      <td>NaN</td>\n",
       "    </tr>\n",
       "    <tr>\n",
       "      <th>1</th>\n",
       "      <td>2</td>\n",
       "      <td>Calcium</td>\n",
       "      <td>0.251</td>\n",
       "      <td>7.40</td>\n",
       "      <td>1.500000e+15</td>\n",
       "      <td>200.0</td>\n",
       "      <td>NaN</td>\n",
       "    </tr>\n",
       "    <tr>\n",
       "      <th>2</th>\n",
       "      <td>3</td>\n",
       "      <td>Calcium</td>\n",
       "      <td>0.498</td>\n",
       "      <td>6.80</td>\n",
       "      <td>1.500000e+15</td>\n",
       "      <td>200.0</td>\n",
       "      <td>NaN</td>\n",
       "    </tr>\n",
       "    <tr>\n",
       "      <th>3</th>\n",
       "      <td>4</td>\n",
       "      <td>Calcium</td>\n",
       "      <td>0.751</td>\n",
       "      <td>6.20</td>\n",
       "      <td>1.500000e+15</td>\n",
       "      <td>200.0</td>\n",
       "      <td>NaN</td>\n",
       "    </tr>\n",
       "    <tr>\n",
       "      <th>4</th>\n",
       "      <td>5</td>\n",
       "      <td>Calcium</td>\n",
       "      <td>0.998</td>\n",
       "      <td>5.60</td>\n",
       "      <td>1.500000e+15</td>\n",
       "      <td>200.0</td>\n",
       "      <td>NaN</td>\n",
       "    </tr>\n",
       "    <tr>\n",
       "      <th>5</th>\n",
       "      <td>6</td>\n",
       "      <td>Calcium</td>\n",
       "      <td>1.239</td>\n",
       "      <td>5.03</td>\n",
       "      <td>1.500000e+15</td>\n",
       "      <td>200.0</td>\n",
       "      <td>NaN</td>\n",
       "    </tr>\n",
       "    <tr>\n",
       "      <th>6</th>\n",
       "      <td>7</td>\n",
       "      <td>Calcium</td>\n",
       "      <td>1.498</td>\n",
       "      <td>4.37</td>\n",
       "      <td>1.500000e+15</td>\n",
       "      <td>200.0</td>\n",
       "      <td>NaN</td>\n",
       "    </tr>\n",
       "    <tr>\n",
       "      <th>7</th>\n",
       "      <td>8</td>\n",
       "      <td>Calcium</td>\n",
       "      <td>1.762</td>\n",
       "      <td>3.77</td>\n",
       "      <td>1.500000e+15</td>\n",
       "      <td>200.0</td>\n",
       "      <td>NaN</td>\n",
       "    </tr>\n",
       "    <tr>\n",
       "      <th>8</th>\n",
       "      <td>9</td>\n",
       "      <td>Calcium</td>\n",
       "      <td>2.010</td>\n",
       "      <td>3.17</td>\n",
       "      <td>1.500000e+15</td>\n",
       "      <td>200.0</td>\n",
       "      <td>NaN</td>\n",
       "    </tr>\n",
       "    <tr>\n",
       "      <th>9</th>\n",
       "      <td>10</td>\n",
       "      <td>Calcium</td>\n",
       "      <td>2.250</td>\n",
       "      <td>2.56</td>\n",
       "      <td>1.500000e+15</td>\n",
       "      <td>200.0</td>\n",
       "      <td>NaN</td>\n",
       "    </tr>\n",
       "    <tr>\n",
       "      <th>10</th>\n",
       "      <td>11</td>\n",
       "      <td>Calcium</td>\n",
       "      <td>2.501</td>\n",
       "      <td>1.98</td>\n",
       "      <td>1.500000e+15</td>\n",
       "      <td>200.0</td>\n",
       "      <td>NaN</td>\n",
       "    </tr>\n",
       "    <tr>\n",
       "      <th>11</th>\n",
       "      <td>12</td>\n",
       "      <td>Calcium</td>\n",
       "      <td>2.750</td>\n",
       "      <td>1.37</td>\n",
       "      <td>1.500000e+15</td>\n",
       "      <td>200.0</td>\n",
       "      <td>NaN</td>\n",
       "    </tr>\n",
       "    <tr>\n",
       "      <th>12</th>\n",
       "      <td>13</td>\n",
       "      <td>Calcium</td>\n",
       "      <td>3.008</td>\n",
       "      <td>0.76</td>\n",
       "      <td>1.500000e+15</td>\n",
       "      <td>200.0</td>\n",
       "      <td>NaN</td>\n",
       "    </tr>\n",
       "    <tr>\n",
       "      <th>13</th>\n",
       "      <td>14</td>\n",
       "      <td>Calcium</td>\n",
       "      <td>3.250</td>\n",
       "      <td>0.16</td>\n",
       "      <td>1.500000e+15</td>\n",
       "      <td>200.0</td>\n",
       "      <td>NaN</td>\n",
       "    </tr>\n",
       "  </tbody>\n",
       "</table>\n",
       "</div>"
      ],
      "text/plain": [
       "    Trial    Metal  Voltage (V)  Current (pA)  Frequency (Hz)  \\\n",
       "0       1  Calcium        0.001          8.02    1.500000e+15   \n",
       "1       2  Calcium        0.251          7.40    1.500000e+15   \n",
       "2       3  Calcium        0.498          6.80    1.500000e+15   \n",
       "3       4  Calcium        0.751          6.20    1.500000e+15   \n",
       "4       5  Calcium        0.998          5.60    1.500000e+15   \n",
       "5       6  Calcium        1.239          5.03    1.500000e+15   \n",
       "6       7  Calcium        1.498          4.37    1.500000e+15   \n",
       "7       8  Calcium        1.762          3.77    1.500000e+15   \n",
       "8       9  Calcium        2.010          3.17    1.500000e+15   \n",
       "9      10  Calcium        2.250          2.56    1.500000e+15   \n",
       "10     11  Calcium        2.501          1.98    1.500000e+15   \n",
       "11     12  Calcium        2.750          1.37    1.500000e+15   \n",
       "12     13  Calcium        3.008          0.76    1.500000e+15   \n",
       "13     14  Calcium        3.250          0.16    1.500000e+15   \n",
       "\n",
       "    Wavelength (nm)  Unnamed: 6  \n",
       "0             200.0         NaN  \n",
       "1             200.0         NaN  \n",
       "2             200.0         NaN  \n",
       "3             200.0         NaN  \n",
       "4             200.0         NaN  \n",
       "5             200.0         NaN  \n",
       "6             200.0         NaN  \n",
       "7             200.0         NaN  \n",
       "8             200.0         NaN  \n",
       "9             200.0         NaN  \n",
       "10            200.0         NaN  \n",
       "11            200.0         NaN  \n",
       "12            200.0         NaN  \n",
       "13            200.0         NaN  "
      ]
     },
     "execution_count": 28,
     "metadata": {},
     "output_type": "execute_result"
    }
   ],
   "source": [
    "data = data[data['Current (pA)'] > 0.02]\n",
    "data"
   ]
  },
  {
   "cell_type": "code",
   "execution_count": 29,
   "id": "0ec190fa-59ae-4aff-aa1d-d1ec6ee7dd79",
   "metadata": {},
   "outputs": [
    {
     "name": "stdout",
     "output_type": "stream",
     "text": [
      "slop: -2.41 pA/V\n",
      "intercept: 8.01 pA\n"
     ]
    }
   ],
   "source": [
    "slope, y_intercept = np.polyfit(data['Voltage (V)'],data['Current (pA)'],1)\n",
    "print(f\"slop: {slope:.2f} pA/V\")\n",
    "print(f\"intercept: {y_intercept:.2f} pA\")"
   ]
  },
  {
   "cell_type": "code",
   "execution_count": 30,
   "id": "e844e47e-b01a-40bf-8ddd-5174dbf8c225",
   "metadata": {},
   "outputs": [
    {
     "data": {
      "text/plain": [
       "[]"
      ]
     },
     "execution_count": 30,
     "metadata": {},
     "output_type": "execute_result"
    },
    {
     "data": {
      "image/png": "[encoded data removed]",
      "text/plain": [
       "<Figure size 640x480 with 1 Axes>"
      ]
     },
     "metadata": {},
     "output_type": "display_data"
    }
   ],
   "source": [
    "plt.scatter(data['Voltage (V)'],data['Current (pA)'])\n",
    "plt.title('Current v. Voltage for Ca and 200nm light')\n",
    "plt.ylabel('Current (pA)')\n",
    "plt.xlabel('Voltage (V)')\n",
    "# copy the functions you previously used to display your plot above ^\n",
    "\n",
    "#new stuff goes down here\n",
    "x_trendline = np.linspace(-1,4,100)\n",
    "y_trendline = slope * x_trendline + y_intercept\n",
    "plt.plot(x_trendline,y_trendline,label=f'{slope:.2f} x + {y_intercept:.2f}',color='red')\n",
    "plt.legend()\n",
    "#these are optional but they make it look nicer\n",
    "plt.xlim(0,5)\n",
    "plt.ylim(0,8)\n",
    "\n",
    "plt.plot()"
   ]
  },
  {
   "cell_type": "code",
   "execution_count": 31,
   "id": "4b0fdf34-275d-43b3-8c5e-ce8b1ba4ba2e",
   "metadata": {},
   "outputs": [],
   "source": [
    "#now that we have our slope and y-intercept, we can calculate the x intercept"
   ]
  },
  {
   "cell_type": "code",
   "execution_count": 32,
   "id": "41ddb287-b225-4575-98ec-bf6e25bcd346",
   "metadata": {},
   "outputs": [
    {
     "name": "stdout",
     "output_type": "stream",
     "text": [
      "Cutoff Voltage: 3.318\n"
     ]
    }
   ],
   "source": [
    "roots = np.roots([slope,y_intercept])\n",
    "cutoff_voltage = roots[0]\n",
    "\n",
    "print(f\"Cutoff Voltage: {cutoff_voltage:.3f}\")"
   ]
  },
  {
   "cell_type": "markdown",
   "id": "99ad1cca-fc9f-4d54-8ae2-bfa7dfa89ef2",
   "metadata": {},
   "source": [
    "### SHORT RESPONSE QUESTIONS\n",
    "1. Why is it important to remove zero values before computing a linear fit?\n",
    "2. What is the more precise cutoff voltage calculated using this method?\n",
    "3. If we repeat this experiment with a different wavelength of light, how would you expect the cutoff voltage to change?\n",
    "### ANSWER"
   ]
  },
  {
   "cell_type": "markdown",
   "id": "65cf9bb8-19c8-4d88-b610-8eb794cff3f9",
   "metadata": {},
   "source": [
    "1. We must remove zero values because we are only concerned with the slope and intercept of the region for which current steadily decreases with increasing voltage. Adding zero values would give a line that does not fit this part of the spectrum.\n",
    "2. The cutoff voltage we calculate with this more precise method is 3.318V.\n",
    "3. I would expect, with the benefit of hindsight, that increasing the frequency/decreasing the wavelength of light will result in a larger cutoff frequency and vice versa."
   ]
  },
  {
   "cell_type": "markdown",
   "id": "cf4935b1-378b-45c9-b9ca-fd1c98df8ca9",
   "metadata": {},
   "source": [
    "<br/><br/>\n",
    "<br/><br/>\n",
    "  "
   ]
  },
  {
   "cell_type": "markdown",
   "id": "2b6aaa1e-85d9-452c-9f28-d6d0aa06cac7",
   "metadata": {},
   "source": [
    "## PART 3 - Automating The Routine\n",
    "To understand how light's energy depends on frequency, we need to analyze multiple spectra. Instead of repeating the same steps manually, we’ll organize our code into a reusable __function__. \n",
    "\n",
    "First, we'll create a function which accepts the filename of a spectrum and processes it according to the procedure we just developed. Then, we'll create another which finds every .csv spectrum file in a folder and applies our routine to each of them one by one, storing the results in a `DataFrame`.\n",
    "\n",
    "This demonstrates the principle of **abstraction**—just as we don’t need to understand a computer’s inner workings to use it, we don’t need to rewrite a function’s logic every time we call it. Functions can call other functions, creating a heirarchy of logic which is easy to read and modify—as opposed to thousands of lines of loose code."
   ]
  },
  {
   "cell_type": "markdown",
   "id": "d55d73ba-e741-49df-81c4-2498328f66a4",
   "metadata": {},
   "source": [
    "<br/><br/>"
   ]
  },
  {
   "cell_type": "markdown",
   "id": "bb2a60f2-dbcc-4c3c-8cfe-c29a2d857d6b",
   "metadata": {},
   "source": [
    "### 3a - Processing one spectrum"
   ]
  },
  {
   "cell_type": "markdown",
   "id": "88468c83-3898-4380-85ad-b8d2e5141962",
   "metadata": {},
   "source": [
    "### CODE\n",
    "* Create a function called `process_spectrum()`. It should accept one argument, `filename`.\n",
    "* This function should use all of the code you just generated and return the cutoff frequency and work function.\n",
    "* Test your new function on several different spectra with different wavelengths. Use the same metal, if you have spectra for multiple metals."
   ]
  },
  {
   "cell_type": "code",
   "execution_count": 48,
   "id": "afa754c7-1e4c-444f-8900-039adab6bccb",
   "metadata": {},
   "outputs": [],
   "source": [
    "def process_spectrum(filename):\n",
    "    data = pd.read_csv(filename)\n",
    "    frequency_Hz = data['Frequency (Hz)'][0]\n",
    "    wavelength_nm = data['Wavelength (nm)'][0]\n",
    "    \n",
    "    data = data[data['Current (pA)'] > 0.02]\n",
    "    slope, intercept = np.polyfit(data['Voltage (V)'],data['Current (pA)'],1)\n",
    "    \n",
    "    roots = np.roots([slope,y_intercept])\n",
    "    cutoff_voltage_V = roots[0]\n",
    "\n",
    "    #plotting stuff goes down here, for our sanity check\n",
    "    \n",
    "    plt.scatter(data['Voltage (V)'],data['Current (pA)'])\n",
    "    plt.title(f'Current v. Voltage, Ca Metal')\n",
    "    plt.ylabel('Current (pA)')\n",
    "    plt.xlabel('Voltage (V)')\n",
    "    \n",
    "    x = np.linspace(-1,4,100)\n",
    "    y = slope * x + intercept\n",
    "    plt.plot(x,y,label=f'{wavelength_nm}nm : {slope:.2f} x + {intercept:.2f}')\n",
    "    plt.legend()\n",
    "    plt.xlim(0,5)\n",
    "    plt.ylim(0,8)\n",
    "    plt.plot()\n",
    "    \n",
    "    return wavelength_nm, frequency_Hz, cutoff_voltage_V"
   ]
  },
  {
   "cell_type": "code",
   "execution_count": 49,
   "id": "5852fb98-e489-400d-964a-5f6d9ecbbe0f",
   "metadata": {},
   "outputs": [],
   "source": [
    "#try your new function on three different wavelengths."
   ]
  },
  {
   "cell_type": "code",
   "execution_count": 50,
   "id": "245cbc14-50d6-4e57-a115-bfc23bc74d31",
   "metadata": {},
   "outputs": [
    {
     "data": {
      "text/plain": [
       "(250.0, 1200000000000000.0, 2.0725684933640345)"
      ]
     },
     "execution_count": 50,
     "metadata": {},
     "output_type": "execute_result"
    },
    {
     "data": {
      "image/png": "[encoded data removed]",
      "text/plain": [
       "<Figure size 640x480 with 1 Axes>"
      ]
     },
     "metadata": {},
     "output_type": "display_data"
    }
   ],
   "source": [
    "process_spectrum('Ca_250nm.csv')"
   ]
  },
  {
   "cell_type": "code",
   "execution_count": 51,
   "id": "74fc9ca0-34fb-4366-91f0-8a3f86f80719",
   "metadata": {},
   "outputs": [
    {
     "data": {
      "text/plain": [
       "(200.0, 1500000000000000.0, 3.3183837863605925)"
      ]
     },
     "execution_count": 51,
     "metadata": {},
     "output_type": "execute_result"
    },
    {
     "data": {
      "image/png": "[encoded data removed]",
      "text/plain": [
       "<Figure size 640x480 with 1 Axes>"
      ]
     },
     "metadata": {},
     "output_type": "display_data"
    }
   ],
   "source": [
    "process_spectrum('Ca_200nm.csv')"
   ]
  },
  {
   "cell_type": "markdown",
   "id": "af85cd97-52e6-4c32-ad6b-b4eadda51a25",
   "metadata": {},
   "source": [
    "<br/><br/>"
   ]
  },
  {
   "cell_type": "markdown",
   "id": "a8a85ac8-5b10-4981-b39c-347089f8021d",
   "metadata": {},
   "source": [
    "### 3b - Scaling Up"
   ]
  },
  {
   "cell_type": "markdown",
   "id": "67cfea49-3ebe-4876-9f23-fce3b060405b",
   "metadata": {},
   "source": [
    "### CODE\n",
    "* A function `process_all_data(folder)` is given. Leave comments explaining what each line does.\n",
    "* Run the function on your spectra folder (ensure the only CSV files it contains are the spectra for this assignment).\n",
    "* Store the result in a variable and display it by placing the variable on the last line of a code block."
   ]
  },
  {
   "cell_type": "code",
   "execution_count": 52,
   "id": "24cdc12f-537c-486a-a3cb-78603f088696",
   "metadata": {},
   "outputs": [],
   "source": [
    "import os #the python module for interacting with the operating system, file trees, etc\n",
    "def process_all_data(folder): #define a function called process_all_data\n",
    "    #with folder as its one argument\n",
    "    filenames = os.listdir(folder) #list all filenames in folder\n",
    "    #filter only the filenames that end with .csv\n",
    "    csv_files = [file for file in filenames if file.endswith('.csv')]\n",
    "    \n",
    "    #make lists to store our variables\n",
    "    wavelengths = []\n",
    "    frequencies = []\n",
    "    cutoff_voltages = []\n",
    "    \n",
    "    for filename in csv_files:\n",
    "        #use our function to process spectra\n",
    "        wavelength, frequency, cutoff_voltage = process_spectrum(filename)\n",
    "        #store the output of our function in these lists\n",
    "        wavelengths.append(wavelength)\n",
    "        frequencies.append(frequency)\n",
    "        cutoff_voltages.append(cutoff_voltage)\n",
    "\n",
    "    #make a table from the lists of data\n",
    "    table = pd.DataFrame({\n",
    "        'Wavelength (nm)': wavelengths,\n",
    "        'Frequency (Hz)': frequencies ,\n",
    "        'Stopping Potential (eV)': cutoff_voltages \n",
    "    })\n",
    "    #make the table easier to read by arranging values by frequency in increasing order\n",
    "    table.sort_values(by=['Frequency (Hz)'])\n",
    "    return table #output the table we generate when the function is called"
   ]
  },
  {
   "cell_type": "code",
   "execution_count": 53,
   "id": "c5d83848-e7f7-4652-ac89-6c88e387da4d",
   "metadata": {},
   "outputs": [
    {
     "data": {
      "text/html": [
       "<div>\n",
       "<style scoped>\n",
       "    .dataframe tbody tr th:only-of-type {\n",
       "        vertical-align: middle;\n",
       "    }\n",
       "\n",
       "    .dataframe tbody tr th {\n",
       "        vertical-align: top;\n",
       "    }\n",
       "\n",
       "    .dataframe thead th {\n",
       "        text-align: right;\n",
       "    }\n",
       "</style>\n",
       "<table border=\"1\" class=\"dataframe\">\n",
       "  <thead>\n",
       "    <tr style=\"text-align: right;\">\n",
       "      <th></th>\n",
       "      <th>Wavelength (nm)</th>\n",
       "      <th>Frequency (Hz)</th>\n",
       "      <th>Stopping Potential (eV)</th>\n",
       "    </tr>\n",
       "  </thead>\n",
       "  <tbody>\n",
       "    <tr>\n",
       "      <th>0</th>\n",
       "      <td>350.0</td>\n",
       "      <td>8.571400e+14</td>\n",
       "      <td>0.652437</td>\n",
       "    </tr>\n",
       "    <tr>\n",
       "      <th>1</th>\n",
       "      <td>200.0</td>\n",
       "      <td>1.500000e+15</td>\n",
       "      <td>3.318384</td>\n",
       "    </tr>\n",
       "    <tr>\n",
       "      <th>2</th>\n",
       "      <td>300.0</td>\n",
       "      <td>1.000000e+15</td>\n",
       "      <td>1.246929</td>\n",
       "    </tr>\n",
       "    <tr>\n",
       "      <th>3</th>\n",
       "      <td>250.0</td>\n",
       "      <td>1.200000e+15</td>\n",
       "      <td>2.072568</td>\n",
       "    </tr>\n",
       "  </tbody>\n",
       "</table>\n",
       "</div>"
      ],
      "text/plain": [
       "   Wavelength (nm)  Frequency (Hz)  Stopping Potential (eV)\n",
       "0            350.0    8.571400e+14                 0.652437\n",
       "1            200.0    1.500000e+15                 3.318384\n",
       "2            300.0    1.000000e+15                 1.246929\n",
       "3            250.0    1.200000e+15                 2.072568"
      ]
     },
     "execution_count": 53,
     "metadata": {},
     "output_type": "execute_result"
    },
    {
     "data": {
      "image/png": "[encoded data removed]",
      "text/plain": [
       "<Figure size 640x480 with 1 Axes>"
      ]
     },
     "metadata": {},
     "output_type": "display_data"
    }
   ],
   "source": [
    "#'./' is the folder you are currently in.\n",
    "final_data = process_all_data('./')\n",
    "final_data"
   ]
  },
  {
   "cell_type": "markdown",
   "id": "1415b9a0-b02f-433c-b09f-afc7efad5b78",
   "metadata": {},
   "source": [
    "### SHORT RESPONSE QUESTIONS\n",
    "1. What is the utility of collecting all of our code into a function?\n",
    "4. How does a change in wavelength correspond to the change in frequency?\n",
    "2. What trend do you observe as we change the wavelength of light used, and what does this imply?\n",
    "### ANSWER"
   ]
  },
  {
   "cell_type": "markdown",
   "id": "4f20abc7-ef8a-4927-8afc-30171135d1f2",
   "metadata": {},
   "source": [
    "1. When we do the same thing over and over again and only need to change one part of it, we can make a function where the one part that changes is the parameter. This lets us re-use a large block of code as many times as we want without needing to copy-paste it.\n",
    "2. A decrease in wavelength means an increase in frequency and vice-versa.\n",
    "3. We observe that as the wavelength of light increases, the cutoff voltage decreases. This implies that energy an electron recieves from light depends on the frequency of the light."
   ]
  },
  {
   "cell_type": "markdown",
   "id": "4ee5ee02-bc02-4abb-8f8c-cc92da8b01e7",
   "metadata": {},
   "source": [
    "<br/><br/>\n",
    "<br/><br/>"
   ]
  },
  {
   "cell_type": "markdown",
   "id": "0457a5a0-b160-4f5e-a820-afdc485319bf",
   "metadata": {},
   "source": [
    "## Part 4 - Light Energy Versus Frequency \n",
    "\n",
    "We’ve reduced each spectrum to two key values: stopping potential and frequency. Now, we’ll analyze their relationship to extract fundamental physical constants.\n",
    "\n",
    "From energy conservation:\n",
    "$$\n",
    "E_{total} = E_k + E_{escape}\n",
    "$$\n",
    "At the stopping potential $V_{stop}$, we know from earlier that $E_k = eV_{stop}$ (where $e$ is the charge of an electron). So, we can rearrange this equation into the following:\n",
    "$$\n",
    "eV_{stop} = E_{total} - E_{escape}\n",
    "$$\n",
    "By plotting $V_{stop}$ against frequency, we can determine whether a linear relationship exists. If so, the intercept is the energy required to escape the metal’s surface (the __work function__) times $-1$, and the slope reveals how light’s energy depends on frequency."
   ]
  },
  {
   "cell_type": "markdown",
   "id": "9a11fab3-7fee-4bca-8993-ddb35756e404",
   "metadata": {},
   "source": [
    "### CODE\n",
    "* Try taking a linear regression of stopping potential versus frequency in $Hz$ and plot the data with the regression line.\n",
    "* Find the slope - this will be the proportionality between light frequency and energy in eV*s.\n",
    "* Convert this value to Joule-seconds ($J\\cdot{}s$) and print it.\n",
    "* Find the __work function__ of your metal from the intercept and print it."
   ]
  },
  {
   "cell_type": "code",
   "execution_count": 61,
   "id": "f97ca04b-eb95-4422-aa5f-13b8e43fa37f",
   "metadata": {},
   "outputs": [
    {
     "data": {
      "image/png": "[encoded data removed]",
      "text/plain": [
       "<Figure size 640x480 with 1 Axes>"
      ]
     },
     "metadata": {},
     "output_type": "display_data"
    },
    {
     "name": "stdout",
     "output_type": "stream",
     "text": [
      "4.145351432401313e-15\n"
     ]
    }
   ],
   "source": [
    "plt.scatter(final_data['Frequency (Hz)'],final_data['Stopping Potential (eV)'])\n",
    "plt.title('Stopping Potential v. Frequency for Ca')\n",
    "plt.xlabel('Frequency (Hz)')\n",
    "plt.ylabel('Stopping Potential (eV)')\n",
    "slope, intercept = np.polyfit(\n",
    "    final_data['Frequency (Hz)'],\n",
    "    final_data['Stopping Potential (eV)'],\n",
    "    1,\n",
    ")\n",
    "x = np.linspace(0,max(final_data['Frequency (Hz)']),100)\n",
    "y = slope * x + intercept\n",
    "plt.plot(x,y,label=f'{slope:.2e} x + {intercept:.2f}',color='red')\n",
    "plt.legend()\n",
    "plt.show()\n",
    "print(slope)"
   ]
  },
  {
   "cell_type": "code",
   "execution_count": 64,
   "id": "da3a01c7-8be8-4206-8d8e-4554073ec590",
   "metadata": {},
   "outputs": [
    {
     "name": "stdout",
     "output_type": "stream",
     "text": [
      "Light frequency energy constant (J*s) : 6.641e-34\n",
      "Calculated work function is 2.900 eV\n"
     ]
    }
   ],
   "source": [
    "energy_constant_Js = slope * 1.602e-19\n",
    "work_function_eV =  - intercept\n",
    "print(f\"Light frequency energy constant (J*s) : {energy_constant_Js:.3e}\")\n",
    "print(f'Calculated work function is {work_function_eV:.3f} eV')"
   ]
  },
  {
   "cell_type": "markdown",
   "id": "ebfdc9b5-0fd9-4a29-8ee0-bc833d20a18a",
   "metadata": {},
   "source": [
    "### SHORT RESPONSE QUESTIONS\n",
    "1. The constant you found relating the energy and frequency- where have you seen this before?\n",
    "2. What is the percent error for your calculated value compared to the accepted value?\n",
    "3. What value do you obtain for the work function of your metal, and what percent error?\n",
    "4. What are possible sources of error?\n",
    "### ANSWER"
   ]
  },
  {
   "cell_type": "markdown",
   "id": "6d9e1eed-69f6-46d3-a8e9-81e2d77f0949",
   "metadata": {},
   "source": [
    "1. why, this can be none other than planck's constant, pardner\n",
    "2. We obtain a value of $6.641 \\times 10^{-34} Js$ for Planck's constant, with a 0.22% error for the accepted value of $6.626 \\times 10^{-34}$.\n",
    "3. We calculate a $2.9 eV$ work function for calcium, with a 35% error compared to the accepted value of $2.14 eV$.\n",
    "4. The error in our calculations may be due to poor calibrarion of our photoelectric apparatus. It is also possible that we lost some precision in our data processing routine by truncating small values, though this would not account for the large error in workfunction."
   ]
  },
  {
   "cell_type": "markdown",
   "id": "85a04c6c-5617-4142-a796-71b0644fa0d5",
   "metadata": {},
   "source": [
    "<br/><br/>\n",
    "<br/><br/>"
   ]
  },
  {
   "cell_type": "markdown",
   "id": "63a16167-66cc-427a-bb04-961f9b3a2ca5",
   "metadata": {},
   "source": [
    "# REFLECTION"
   ]
  },
  {
   "cell_type": "markdown",
   "id": "44c314fe-c1a9-4779-bacb-6c9ae9e70224",
   "metadata": {},
   "source": [
    "### SHORT RESPONSE QUESTIONS \n",
    "1. How did using `pandas` and creating functions allow us to automate and scale up our data processing routine? How might such an approach prove useful for your work as a chemist?\n",
    "2. How does the photoelectric effect challenge the classical wave model of light? What observations from your data suggest that light behaves as a particle?\n",
    "### ANSWER"
   ]
  },
  {
   "cell_type": "markdown",
   "id": "c14897a7-6cd2-419f-bd45-08e1be384b6b",
   "metadata": {},
   "source": [
    "1. Writing our functions allowed us to re-use a routine as many times as we wanted once we made it. Using `pandas` allows us to access a lot of predefined useful routines for tabular data, like filtering and doing column-wise operations.   \n",
    "These combined allowed us to easily automate a process that would have been very tedious to do using a spreadsheet. Tasks similar to this one are very common in research so this skill would be continually useful.\n",
    "3. The fact that the cutoff voltage only depended on the wavelength of light (and not on the brightness of the light, though I'm not sure we prove that part here) suggests that electrons get their energy in chunks all at once from light, which would not be true for waves."
   ]
  },
  {
   "cell_type": "markdown",
   "id": "d6adf375-2aae-453f-b6e2-f07aa10f7a51",
   "metadata": {},
   "source": [
    "<br/><br/>\n",
    "<br/><br/>"
   ]
  }
 ],
 "metadata": {
  "kernelspec": {
   "display_name": "Python 3 (ipykernel)",
   "language": "python",
   "name": "python3"
  },
  "language_info": {
   "codemirror_mode": {
    "name": "ipython",
    "version": 3
   },
   "file_extension": ".py",
   "mimetype": "text/x-python",
   "name": "python",
   "nbconvert_exporter": "python",
   "pygments_lexer": "ipython3",
   "version": "3.11.10"
  }
 },
 "nbformat": 4,
 "nbformat_minor": 5
}
