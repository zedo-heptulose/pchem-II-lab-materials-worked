{
 "cells": [
  {
   "cell_type": "markdown",
   "id": "1bede9b6-0d2e-417c-9942-d925c22cddd5",
   "metadata": {},
   "source": [
    "# Libraries\n",
    "* Execute this cell before going any further."
   ]
  },
  {
   "cell_type": "code",
   "execution_count": 1,
   "id": "6998811b-34ec-4f9d-a422-5c256b3518cd",
   "metadata": {},
   "outputs": [],
   "source": [
    "import ipywidgets as widgets\n",
    "import matplotlib.pyplot as plt\n",
    "import numpy as np\n",
    "import pandas as pd\n",
    "import sympy as sp"
   ]
  },
  {
   "cell_type": "markdown",
   "id": "6fbac074-bcd8-4dfd-be37-b50c66217188",
   "metadata": {},
   "source": [
    "<br/><br/>"
   ]
  },
  {
   "cell_type": "markdown",
   "id": "94e2013a-d75b-4cb6-88bb-a36a629e23cf",
   "metadata": {},
   "source": [
    "# Warmup"
   ]
  },
  {
   "cell_type": "markdown",
   "id": "af66d235-4972-45f4-8a64-08eef8f61c7b",
   "metadata": {},
   "source": [
    "## Plotting Surfaces\n",
    "The ability to visualize functions in three dimensions is a powerful tool, and Python makes this a simple task. You've encountered these plots in previous assignments. Now it's your turn to create your own!"
   ]
  },
  {
   "cell_type": "markdown",
   "id": "4c5121d3-8de6-4e7b-aa96-e13b274d86f4",
   "metadata": {},
   "source": [
    "### CODE\n",
    "* Run the example code to generate a 3D plot of a standing wave.\n",
    "* Create your own plot using a different function."
   ]
  },
  {
   "cell_type": "code",
   "execution_count": 2,
   "id": "ae8c4eee-ab45-4316-a3b2-b3d9db377b5c",
   "metadata": {},
   "outputs": [],
   "source": [
    "# Define symbolic variables\n",
    "# x, y = sp.symbols('x y')\n",
    "\n",
    "# Define a function using them\n",
    "# f = sp.sin(x) * sp.cos(y)\n",
    "\n",
    "# Convert to a numerical function using sp.lambdify\n",
    "# f_function = sp.lambdify((x, y), f, 'numpy') \n",
    "# we can call this in our routines now to evaluate z for x and y"
   ]
  },
  {
   "cell_type": "code",
   "execution_count": 3,
   "id": "026e40ba-d118-4584-bcff-4b76d3a20562",
   "metadata": {},
   "outputs": [],
   "source": [
    "# creating a grid of points\n",
    "\n",
    "# Define the range of points to evalutate for x and y\n",
    "# x_vals = np.linspace(-np.pi, np.pi, 100)\n",
    "# y_vals = np.linspace(-np.pi, np.pi, 100)\n",
    "\n",
    "# Create a meshgrid\n",
    "# X, Y = np.meshgrid(x_vals, y_vals)\n",
    "\n",
    "# Compute function values\n",
    "# Z = f_function(X, Y)"
   ]
  },
  {
   "cell_type": "code",
   "execution_count": 4,
   "id": "f3012b40-630a-49f2-ae3a-c1a809054236",
   "metadata": {},
   "outputs": [],
   "source": [
    "# Create a 3D figure\n",
    "# fig = plt.figure(figsize=(4, 4))\n",
    "# ax = fig.add_subplot(111, projection='3d')\n",
    "\n",
    "# Plot the surface\n",
    "# ax.plot_surface(X, Y, Z, cmap='viridis')\n",
    "\n",
    "# Labels and title\n",
    "# ax.set_xlabel('X')\n",
    "# ax.set_ylabel('Y')\n",
    "# ax.set_zlabel('f(x, y)')\n",
    "# ax.set_title('sin(x)cos(y)')\n",
    "# plt.tight_layout()\n",
    "\n",
    "# plt.show()\n"
   ]
  },
  {
   "cell_type": "code",
   "execution_count": 5,
   "id": "6f36e764-6713-46ed-99ad-187d86520c43",
   "metadata": {},
   "outputs": [],
   "source": [
    "# now you try - create and visualize another function!"
   ]
  },
  {
   "cell_type": "markdown",
   "id": "f09fadaa-0d5b-4271-8ae5-716f88d1b1bb",
   "metadata": {},
   "source": [
    "<br/><br/>\n",
    "<br/><br/>"
   ]
  },
  {
   "cell_type": "markdown",
   "id": "f4b906a7-2eef-4953-be60-ecf702831f2f",
   "metadata": {},
   "source": [
    "# Magnetism and Angular Momentum"
   ]
  },
  {
   "cell_type": "markdown",
   "id": "cac99033-8f22-4e8d-ae04-72ebf89b5830",
   "metadata": {},
   "source": [
    "## Magnetism in the Bohr Model\n",
    "The Bohr model was a significant early attempt to describe atomic structure using quantization. The model treats electrons as orbiting the nucleus only in circular paths with discrete angular momenta, $L = n\\hbar$, where L is angular momentum, $\\hbar$ is the reduced planck constant, $\\frac{h}{2\\pi}$, and $n = 1,2,3,…$  \n",
    "\n",
    "We can derive the orbital magnetic dipole moment of a Bohr hydrogen atom using classical electromagnetism [1]. A current loop produces a magnetic dipole moment given by $\\mu = IA$, where $I$ is the current and $A$ is the area of the loop. For an electron in a circular Bohr orbit with radius $r$, velocity $v$, charge $e$, and orbital period $T$:\n",
    "$$\n",
    "I = -e/T    \n",
    "$$\n",
    "$$\n",
    "T = 2\\pi{}r/v  \n",
    "$$\n",
    "$$\n",
    "A = \\pi{}r^2   \n",
    "$$\n",
    "$$\n",
    "L = m_evr\n",
    "$$\n",
    "Combining these expressions:\n",
    "$$\n",
    "\\mu = -\\frac{e}{2\\pi{}r/v}\\pi{}r^2 = -\\frac{evr}{2} = -\\frac{e}{2m_e}L\n",
    "$$\n",
    "Classically, the potential energy of an object with a magnetic dipole in a magnetic field B is given by $ U = -\\vec{\\mu} \\cdot \\vec{B}$, which gives us the following expression for the energy of an electron in a magnetic field:\n",
    "$$\n",
    "U = \\frac{e}{2m_e}\\vec{L} \\cdot \\vec{B}\n",
    "$$\n",
    "This gives us an equation that can be generalized to real atomic orbitals, which do not have a clearly defined radius but do have a clearly defined angular momentum in the z-direction."
   ]
  },
  {
   "cell_type": "markdown",
   "id": "a2e039a4-b023-4859-9f14-2a17b4abaa00",
   "metadata": {},
   "source": [
    "### CODE\n",
    "* Using sympy, create the function that gives the potential energy of the interaction between a Bohr electron and an external magnetic field.\n",
    "* Use atomic units - in this system, $e$ and $m_e$ are both equal to 1 and you do not need to include them in your equation.\n",
    "* Use scalar quantities for $L$ and $B$ - assume both are aligned with the $z$-axis.\n",
    "* Make a three dimensional plot which shows $U$ as a function of $L$ and $B$."
   ]
  },
  {
   "cell_type": "code",
   "execution_count": 12,
   "id": "e64b916c-0888-4155-8cb7-8e29318936d8",
   "metadata": {},
   "outputs": [
    {
     "data": {
      "image/png": "[encoded data removed]",
      "text/plain": [
       "<Figure size 600x400 with 1 Axes>"
      ]
     },
     "metadata": {},
     "output_type": "display_data"
    }
   ],
   "source": [
    "U, L, B = sp.symbols('U L B')\n",
    "\n",
    "magnetic_energy_formula = 1/2 * L * B\n",
    "magnetic_energy_function = sp.lambdify((L,B),magnetic_energy_formula,'numpy')\n",
    "\n",
    "# Define the range of points to evalutate for x and y\n",
    "L_vals = np.arange(1,6)\n",
    "B_vals = np.linspace(-10, 10, 100)\n",
    "\n",
    "# Create a meshgrid\n",
    "L, B = np.meshgrid(L_vals, B_vals)\n",
    "\n",
    "# Compute function values\n",
    "U = magnetic_energy_function(L, B)\n",
    "\n",
    "# Create a 3D figure \n",
    "fig = plt.figure(figsize=(6, 4))\n",
    "ax = fig.add_subplot(111, projection='3d')\n",
    "\n",
    "#plotting the grid we made\n",
    "ax.plot_surface(B,L, U, cmap='viridis')\n",
    "# show the plot# Create a 3D figure\n",
    "\n",
    "\n",
    "# Labels and title\n",
    "ax.set_xlabel('B')\n",
    "ax.set_ylabel('L')\n",
    "ax.set_zlabel('U')\n",
    "ax.set_title('Magnetic Potential Energy vs. Electron Angular Momentum')\n",
    "plt.tight_layout()\n",
    "plt.show()"
   ]
  },
  {
   "cell_type": "markdown",
   "id": "8df57010-4506-463f-a802-fe36d2916d1b",
   "metadata": {},
   "source": [
    "### SHORT RESPONSE QUESTIONS\n",
    "1. From the graph you made, describe the relationship between $U$, $L$, and $B$.\n",
    "2. Why are we able to generalize this equation we derived using the Bohr model to quantum mechanical treatment of electrons?\n",
    "### ANSWERS"
   ]
  },
  {
   "cell_type": "markdown",
   "id": "9aeac3cd-b952-45db-b78e-2314b975355f",
   "metadata": {},
   "source": [
    "1. The degree of splitting increases when L and B are larger; the potential energy is positive when L and B have the same sign and negative otherwise.\n",
    "2. We can generalize this equation because it depends on angular momentum, electron charge, and mass, and not on radius; all of these are clearly defined for an electron's wavefunction"
   ]
  },
  {
   "cell_type": "markdown",
   "id": "cda4c686-3fd3-457d-b6ca-6e6fb303722c",
   "metadata": {},
   "source": [
    "<br/><br/>"
   ]
  },
  {
   "cell_type": "markdown",
   "id": "5a0dcf27-62c1-4599-ba9e-434f791aef3f",
   "metadata": {},
   "source": [
    "## Zeeman Splitting\n",
    "In the previous activity, we derived angular momentum wavefunctions by solving the Schrödinger equation for a rotating system. Atomic orbitals follow the same angular wavefunctions as the rigid rotor but also include a radial component that depends on \n",
    "$r$. Since this radial dependence does not affect magnetism, we can focus solely on the angular part, given by the spherical harmonics:\n",
    "$$\n",
    "Y_J^m(\\theta,\\phi)\n",
    "$$\n",
    "While we've explored the orbital solutions visually, another model— the vector model—can provide more intuition for the effects of magnetism. The spherical harmonics depend on two quantum numbers, $l$ and $m_l$, which are related to angular momentum by\n",
    "$$\n",
    "L_{tot} = \\sqrt{l(l+1)}\\hbar, \\hspace{0.5cm}  L_z = m_l\\hbar{}\n",
    "$$\n",
    "\n",
    "Due to the uncertainty principle, only one component of angular momentum can be precisely known at a time. By convention, we choose the $z$-axis, aligned with an external magnetic or electric field. The remaining angular momentum is distributed between the $x$- and $y$-axes, which we visualize as precession around a cone.\n",
    "\n",
    "Last week, we showed that orbitals with the same $l$ are degenerate, meaning they share the same energy. But what happens when a magnetic field is introduced? The field interacts with the magnetic moment associated with angular momentum, lifting this degeneracy—a phenomenon known as Zeeman splitting."
   ]
  },
  {
   "cell_type": "markdown",
   "id": "eda1ce59-7e2f-4802-b921-501d22f195a4",
   "metadata": {},
   "source": [
    "### Libraries\n",
    "* Execute this cell before going any further."
   ]
  },
  {
   "cell_type": "code",
   "execution_count": 7,
   "id": "50ecb0ad-0c02-4064-87a8-7325e4c59a02",
   "metadata": {},
   "outputs": [],
   "source": [
    "from matplotlib import cm\n",
    "from scipy.special import sph_harm\n",
    "from mpl_toolkits.mplot3d import Axes3D\n",
    "from matplotlib.patches import FancyArrowPatch\n",
    "from mpl_toolkits.mplot3d import proj3d"
   ]
  },
  {
   "cell_type": "markdown",
   "id": "466c6ee8-7bac-49dd-88d8-eedf2673a30e",
   "metadata": {},
   "source": [
    "### GIVEN FUNCTIONS\n",
    "* Execute the blocks containing the given functions. Don't modify these."
   ]
  },
  {
   "cell_type": "code",
   "execution_count": 8,
   "id": "0dfa7264-515b-40c1-b28a-dc5d30b73425",
   "metadata": {},
   "outputs": [],
   "source": [
    "class Arrow3D(FancyArrowPatch):\n",
    "    def __init__(self, xs, ys, zs, *args, **kwargs):\n",
    "        super().__init__((0,0), (0,0), *args, **kwargs)\n",
    "        self._verts3d = xs, ys, zs\n",
    "\n",
    "    def do_3d_projection(self, renderer=None):\n",
    "        xs3d, ys3d, zs3d = self._verts3d\n",
    "        xs, ys, zs = proj3d.proj_transform(xs3d, ys3d, zs3d, self.axes.M)\n",
    "        self.set_positions((xs[0], ys[0]), (xs[1], ys[1]))\n",
    "        return np.min(zs)"
   ]
  },
  {
   "cell_type": "code",
   "execution_count": 9,
   "id": "1f41261b-e895-4a09-8044-8210aa39ced5",
   "metadata": {},
   "outputs": [],
   "source": [
    "def zeeman_plot(l, ml, B):\n",
    "    \"\"\"\n",
    "    Plot the orbital representation and vector model of angular momentum\n",
    "    with Zeeman splitting in a magnetic field.\n",
    "    \n",
    "    Parameters:\n",
    "    l (int): Angular momentum quantum number\n",
    "    ml (int): Magnetic quantum number\n",
    "    B (float): Magnetic field strength in Tesla\n",
    "    \"\"\"\n",
    "    # Constants\n",
    "    # spherical harmonic functions adapted from schrodingers-snake repo on github\n",
    "    mu_B = 9.274e-24  # Bohr magneton in J/T\n",
    "    hbar = 1.05457e-34  # Reduced Planck constant in J·s\n",
    "    \n",
    "    # Energy calculation for Zeeman splitting\n",
    "    E_zeeman = -ml * mu_B * B\n",
    "\n",
    "    mu_z = -ml * mu_B\n",
    "    \n",
    "    # Create figure with two subplots\n",
    "    fig = plt.figure(figsize=(14, 6))\n",
    "    \n",
    "    # Orbital representation (left subplot)\n",
    "    ax1 = fig.add_subplot(121, projection='3d')\n",
    "    \n",
    "    # Calculate spherical harmonics\n",
    "    thetas = np.linspace(0, np.pi, 100)\n",
    "    phis = np.linspace(0, 2 * np.pi, 100)\n",
    "    Theta, Phi = np.meshgrid(thetas, phis)\n",
    "    s_harm = sph_harm(ml, l, Phi, Theta)\n",
    "    \n",
    "    # Calculate radius and cartesian coordinates\n",
    "    R = np.abs(s_harm)\n",
    "    X = R * np.sin(Theta) * np.cos(Phi)\n",
    "    Y = R * np.sin(Theta) * np.sin(Phi)\n",
    "    Z = R * np.cos(Theta)\n",
    "    \n",
    "    # Phase coloring\n",
    "    phase = np.angle(s_harm)\n",
    "    phase_norm = (phase + np.pi) / (2 * np.pi)\n",
    "    cmap = cm.hsv\n",
    "    colors = cmap(phase_norm)\n",
    "    \n",
    "    # Plot orbital surface\n",
    "    surf = ax1.plot_surface(X, Y, Z, rstride=1, cstride=1, \n",
    "                           facecolors=colors, linewidth=0, \n",
    "                           antialiased=False, alpha=0.8)\n",
    "    \n",
    "    # Add magnetic field direction    \n",
    "    if B != 0:\n",
    "        field_arrow = Arrow3D([0, 0], [0, 0], [0, B*0.1667], mutation_scale=20, \n",
    "                           lw=2, arrowstyle=\"-|>\", color=\"blue\")\n",
    "        ax1.add_artist(field_arrow)\n",
    "        ax1.text(0, 0, (B+0.2)*0.1667, \"B\", color='blue', fontsize=14, ha='center')\n",
    "    \n",
    "    \n",
    "    # Set axis limits and labels\n",
    "    ax1.set_box_aspect([1, 1, 1])\n",
    "    max_val = 1.2 * np.max([np.max(np.abs(X)), np.max(np.abs(Y)), np.max(np.abs(Z))])\n",
    "    ax1.set_xlim(-0.5, 0.5)\n",
    "    ax1.set_ylim(-0.5, 0.5)\n",
    "    ax1.set_zlim(-0.5, 0.5)\n",
    "    \n",
    "    ax1.set_xlabel('x')\n",
    "    ax1.set_ylabel('y')\n",
    "    ax1.set_zlabel('z')\n",
    "    ax1.set_title(f'Orbital Representation (l={l}, ml={ml})')\n",
    "    \n",
    "    # Vector model representation (right subplot)\n",
    "    ax2 = fig.add_subplot(122, projection='3d')\n",
    "    \n",
    "    # Calculate angular momentum values\n",
    "    L_tot = np.sqrt(l * (l + 1))\n",
    "    L_z = ml\n",
    "    \n",
    "    # Calculate cone angle\n",
    "    if L_tot > 0:\n",
    "        theta_cone = np.arccos(L_z / L_tot)\n",
    "    else:\n",
    "        theta_cone = 0\n",
    "    \n",
    "    # Draw z-axis\n",
    "    ax2.plot([0, 0], [0, 0], [-1.5, 1.5], 'k--', alpha=0.3)\n",
    "    \n",
    "    # Draw magnetic field direction\n",
    "    if B != 0:\n",
    "        \n",
    "        field_arrow = Arrow3D([0, 0], [0, 0], [0, B], mutation_scale=20, \n",
    "                           lw=2, arrowstyle=\"-|>\", color=\"blue\")\n",
    "        ax2.add_artist(field_arrow)\n",
    "        ax2.text(0, 0, B+0.2, \"B\", color='blue', fontsize=14, ha='center')\n",
    "    \n",
    "    # Draw angular momentum vector\n",
    "    if L_tot > 0:\n",
    "        # Cone base circle\n",
    "        phi = np.linspace(0, 2*np.pi, 100)\n",
    "        L_xy = L_tot * np.sin(theta_cone)\n",
    "        x_cone = L_xy * np.cos(phi)\n",
    "        y_cone = L_xy * np.sin(phi)\n",
    "        z_cone = np.ones_like(phi) * L_z\n",
    "        ax2.plot(x_cone, y_cone, z_cone, 'r-', alpha=0.3)\n",
    "        \n",
    "        # Draw cone surface\n",
    "        for phi_val in np.linspace(0, 2*np.pi, 20):\n",
    "            x_line = [0, L_xy * np.cos(phi_val)]\n",
    "            y_line = [0, L_xy * np.sin(phi_val)]\n",
    "            z_line = [0, L_z]\n",
    "            ax2.plot(x_line, y_line, z_line, 'k-', alpha=0.1)\n",
    "        \n",
    "        # Draw L vector (random position on the cone)\n",
    "        phi_L = np.random.random() * 2 * np.pi\n",
    "        L_x = L_xy * np.cos(phi_L)\n",
    "        L_y = L_xy * np.sin(phi_L)\n",
    "        L_arrow = Arrow3D([0, L_x], [0, L_y], [0, L_z],\n",
    "                          mutation_scale=20, lw=2, arrowstyle=\"-|>\", color=\"red\")\n",
    "        ax2.add_artist(L_arrow)\n",
    "        \n",
    "        # Draw Lz vector\n",
    "        Lz_arrow = Arrow3D([0, 0], [0, 0], [0, L_z],\n",
    "                          mutation_scale=20, lw=2, arrowstyle=\"-|>\", color=\"green\")\n",
    "        ax2.add_artist(Lz_arrow)\n",
    "        \n",
    "        # Labels\n",
    "        ax2.text(L_x + 0.1, L_y + 0.1, L_z + 0.1, \n",
    "                r\"$\\vec{L}$\", color='red', fontsize=14)\n",
    "        ax2.text(0.1, 0.1, L_z + 0.1, \n",
    "                r\"$L_z$\", color='green', fontsize=14)    \n",
    "        \n",
    "        mu_arrow = Arrow3D([0, 0], [0, 0], [0, mu_z /mu_B], mutation_scale=20, lw=2, \n",
    "                       arrowstyle=\"-|>\", color=\"purple\")\n",
    "        ax2.add_artist(mu_arrow)\n",
    "        \n",
    "        ax2.text(0, 0, mu_z/mu_B - 0.2, r\"$\\vec{\\mu}$\", color='purple', fontsize=14, ha='center')\n",
    "    \n",
    "    # Set axis limits and labels\n",
    "    ax2.set_xlim(-3.0, 3.0)\n",
    "    ax2.set_ylim(-3.0, 3.0)\n",
    "    ax2.set_zlim(-3.0, 3.0)\n",
    "    ax2.set_xlabel('x')\n",
    "    ax2.set_ylabel('y')\n",
    "    ax2.set_zlabel('z')\n",
    "    ax2.set_title('Vector Model of Angular Momentum')\n",
    "    \n",
    "    # Add energy display\n",
    "    energy_text = f'ΔE = {E_zeeman:.3e} J'\n",
    "    energy_box = dict(boxstyle='round', facecolor='white', alpha=0.7)\n",
    "    plt.figtext(0.5, 0.02, energy_text, ha='center', fontsize=14, \n",
    "               bbox=energy_box)\n",
    "    \n",
    "    # Add additional information\n",
    "    info_text = [\n",
    "        f'l = {l}',\n",
    "        f'ml = {ml}',\n",
    "        f'|L| = {L_tot:.2f}ħ',\n",
    "        f'Lz = {L_z}ħ',\n",
    "        f'$\\\\mu{{}}_z = {-L_z}\\\\mu_{{b}}$',\n",
    "        f'B = {B} T'\n",
    "    ]\n",
    "    plt.figtext(0.49, 0.175, '\\n'.join(info_text), va='center',ha='center', fontsize=12,\n",
    "               bbox=dict(boxstyle='round', facecolor='white', alpha=0.7))\n",
    "    \n",
    "    plt.suptitle('Zeeman Effect: Orbital and Vector Representations', fontsize=16)\n",
    "    plt.tight_layout()\n",
    "    plt.subplots_adjust(bottom=0.1)\n",
    "    \n",
    "    plt.tight_layout(pad=2)  # Adjust pad value as needed\n",
    "    # plt.subplots_adjust(wspace=0.0, bottom=0)  # Reduce wspace for less horizontal padding\n",
    "\n",
    "    \n",
    "    # return fig"
   ]
  },
  {
   "cell_type": "markdown",
   "id": "ed2bd11e-2bcd-4476-93a8-4e8d46b145f1",
   "metadata": {},
   "source": [
    "### CODE\n",
    "* Create an `interactive_zeeman_plot()` function, based on `zeeman_plot(l,ml,B)`.\n",
    "* This function should use `widgets.interact()`, `widgets.IntSlider()`, and `widgets.FloatSlider()` to create an interactive plot with sliders for each of the three parameters of this function.\n",
    "* Execute this function and explore the relationship between the vector and orbital representations."
   ]
  },
  {
   "cell_type": "code",
   "execution_count": 10,
   "id": "0b2d2f44-710b-44b5-832a-21fa9c4d2147",
   "metadata": {},
   "outputs": [],
   "source": [
    "def interactive_zeeman_plot():\n",
    "    # Define the interactive controls\n",
    "    l_widget = widgets.IntSlider(min=0, max=3, step=1, value=1, description='l:')\n",
    "    ml_widget = widgets.IntSlider(min=-3, max=3, step=1, value=0, description='ml:')\n",
    "    B_widget = widgets.FloatSlider(min=-2, max=2, step=0.1, value=0.5, description='B (T):')\n",
    "    \n",
    "    # Create the interactive plot\n",
    "    interact(zeeman_plot, l=l_widget, ml=ml_widget, B=B_widget)"
   ]
  },
  {
   "cell_type": "code",
   "execution_count": 11,
   "id": "faf49bd6-7d76-4f53-be79-eaaa83897c79",
   "metadata": {},
   "outputs": [
    {
     "ename": "NameError",
     "evalue": "name 'interact' is not defined",
     "output_type": "error",
     "traceback": [
      "\u001b[0;31m---------------------------------------------------------------------------\u001b[0m",
      "\u001b[0;31mNameError\u001b[0m                                 Traceback (most recent call last)",
      "Cell \u001b[0;32mIn[11], line 1\u001b[0m\n\u001b[0;32m----> 1\u001b[0m \u001b[43minteractive_zeeman_plot\u001b[49m\u001b[43m(\u001b[49m\u001b[43m)\u001b[49m\n",
      "Cell \u001b[0;32mIn[10], line 8\u001b[0m, in \u001b[0;36minteractive_zeeman_plot\u001b[0;34m()\u001b[0m\n\u001b[1;32m      5\u001b[0m B_widget \u001b[38;5;241m=\u001b[39m widgets\u001b[38;5;241m.\u001b[39mFloatSlider(\u001b[38;5;28mmin\u001b[39m\u001b[38;5;241m=\u001b[39m\u001b[38;5;241m-\u001b[39m\u001b[38;5;241m2\u001b[39m, \u001b[38;5;28mmax\u001b[39m\u001b[38;5;241m=\u001b[39m\u001b[38;5;241m2\u001b[39m, step\u001b[38;5;241m=\u001b[39m\u001b[38;5;241m0.1\u001b[39m, value\u001b[38;5;241m=\u001b[39m\u001b[38;5;241m0.5\u001b[39m, description\u001b[38;5;241m=\u001b[39m\u001b[38;5;124m'\u001b[39m\u001b[38;5;124mB (T):\u001b[39m\u001b[38;5;124m'\u001b[39m)\n\u001b[1;32m      7\u001b[0m \u001b[38;5;66;03m# Create the interactive plot\u001b[39;00m\n\u001b[0;32m----> 8\u001b[0m \u001b[43minteract\u001b[49m(zeeman_plot, l\u001b[38;5;241m=\u001b[39ml_widget, ml\u001b[38;5;241m=\u001b[39mml_widget, B\u001b[38;5;241m=\u001b[39mB_widget)\n",
      "\u001b[0;31mNameError\u001b[0m: name 'interact' is not defined"
     ]
    }
   ],
   "source": [
    "interactive_zeeman_plot()"
   ]
  },
  {
   "cell_type": "markdown",
   "id": "6ba1bb05-456e-4d61-9edc-6fab80a7ef6f",
   "metadata": {},
   "source": [
    "### SHORT RESPONSE QUESTIONS\n",
    "1. What is the relationship between the z component of the angular momentum vector and the shape of the wavefunction?\n",
    "2. How about the xy component of the vector?\n",
    "3. Why does the magnetic field not cause an energy change for wavefunctions with $m_l = 0$ and $l >= 1$, even though they have angular momentum?\n",
    "### ANSWERS"
   ]
  },
  {
   "cell_type": "markdown",
   "id": "24fdf90a-5886-4406-95f9-3f2953126793",
   "metadata": {},
   "source": [
    "1. The magnitude of the z component of the angular momentum vector corresponds to the number of radial/horizontal nodes.\n",
    "2. The magnitude of the xy component corresponds to the number of vertical nodes.\n",
    "3. Though there is angular momentum, none of it is in the z direction, where the magnetic field points; therefore it does not interact."
   ]
  },
  {
   "cell_type": "markdown",
   "id": "6c0dccd8-b560-4047-82c8-96538dece7c0",
   "metadata": {},
   "source": [
    "<br/><br/>"
   ]
  },
  {
   "cell_type": "markdown",
   "id": "45fa3bf5-47c9-4096-b0bd-1074dc38f20b",
   "metadata": {},
   "source": [
    "## Electron Spin and Total Angular Momentum\n",
    "Now that we understand how an electron's orbital angular momentum interacts with an external magnetic field, it may be surprising to learn that electrons also possess an intrinsic form of angular momentum. This property, known as spin, behaves similarly to orbital angular momentum but has no classical counterpart.\n",
    "\n",
    "The magnitude of an electron’s spin is given by:\n",
    "$$\n",
    "S = \\sqrt{s(s+1)}\\hbar \n",
    "$$\n",
    "where $S$ represents the intrinsic spin angular momentum and $s$ is the spin quantum number. Like orbital angular momentum, spin has a projection onto the $z$-axis:\n",
    "$$\n",
    "S_z = m_s\\hbar\n",
    "$$\n",
    "For an electron, $s = \\pm \\frac{1}{2}$, meaning m can take values of $\\pm\\frac{1}{2}$. However, unlike orbtial angular momentum, the elctron's magnetic dipole moment is given by:\n",
    "$$\n",
    "\\mu_z = \\frac{e}{m_e} \\cdot{} m_s\n",
    "$$\n",
    "Since $m_s$ has a magnitude of $\\frac{1}{2}$, this results in a magnetic dipole moment equivalent to that of an orbital with $L=1$, a discrepancy explained by relativistic effects [2].\n",
    "\n",
    "When an electron occupies an orbital with angular momentum, its spin can align with or against the orbital motion, leading to different values of total angular momentum which will interact differently with an external field. This interaction further splits energy levels in atomic spectra. Explore this with Python! "
   ]
  },
  {
   "cell_type": "markdown",
   "id": "000bdd29-62f5-4620-a85f-4e8c4b72d719",
   "metadata": {},
   "source": [
    "### GIVEN FUNCTIONS\n",
    "* Execute the blocks containing the given functions. Don't modify these."
   ]
  },
  {
   "cell_type": "code",
   "execution_count": null,
   "id": "6fc5f3f9-ee3f-4da4-8c4e-2ddc78b45149",
   "metadata": {},
   "outputs": [],
   "source": [
    "def angular_momentum_coupling(l, ml, s, ms):\n",
    "    \"\"\"\n",
    "    Plot the vector model of angular momentum coupling between orbital and spin.\n",
    "    \n",
    "    Parameters:\n",
    "    l (float): Orbital angular momentum quantum number\n",
    "    ml (float): Orbital magnetic quantum number\n",
    "    s (float): Spin quantum number (typically 0.5 for electron)\n",
    "    ms (float): Spin magnetic quantum number\n",
    "    \"\"\"\n",
    "    # Calculate magnitudes\n",
    "    L_tot = np.sqrt(l * (l + 1))  # |L|\n",
    "    L_z = ml                      # L_z\n",
    "    S_tot = np.sqrt(s * (s + 1))  # |S|\n",
    "    S_z = ms                      # S_z\n",
    "    \n",
    "    # Calculate J (total angular momentum)\n",
    "    j = l + s                     # For simplicity - can be adjusted for actual j value\n",
    "    j_min = abs(l - s)\n",
    "    j_max = l + s\n",
    "    \n",
    "    # Calculate J magnitudes\n",
    "    J_tot = np.sqrt(j * (j + 1))  # |J|\n",
    "    J_z = L_z + S_z               # J_z\n",
    "    \n",
    "    # Create figure\n",
    "    fig = plt.figure(figsize=(10, 8))\n",
    "    ax = fig.add_subplot(111, projection='3d')\n",
    "    \n",
    "    # Fixed position for L vector at 45 degrees in xy-plane\n",
    "    L_xy = np.sqrt(L_tot**2 - L_z**2)  # magnitude of L in xy plane\n",
    "    \n",
    "    # Fix L at 45 degrees in xy-plane\n",
    "    phi_L = np.pi/4  # 45 degrees\n",
    "    L_x = L_xy * np.cos(phi_L)\n",
    "    L_y = L_xy * np.sin(phi_L)\n",
    "    \n",
    "    # Draw z-axis\n",
    "    ax.plot([0, 0], [0, 0], [-1.5, 1.5], 'k--', alpha=0.3)\n",
    "    \n",
    "    # Draw orbital angular momentum vector\n",
    "    L_arrow = Arrow3D([0, L_x], [0, L_y], [0, L_z],\n",
    "                      mutation_scale=20, lw=3, arrowstyle=\"-|>\", color=\"blue\")\n",
    "    ax.add_artist(L_arrow)\n",
    "    \n",
    "    # Draw orbital angular momentum cone\n",
    "    phi = np.linspace(0, 2*np.pi, 100)\n",
    "    x_L_cone = L_xy * np.cos(phi)\n",
    "    y_L_cone = L_xy * np.sin(phi)\n",
    "    z_L_cone = np.ones_like(phi) * L_z\n",
    "    ax.plot(x_L_cone, y_L_cone, z_L_cone, 'b-', alpha=0.3)\n",
    "    \n",
    "    # Draw L cone surface lines\n",
    "    for phi_val in np.linspace(0, 2*np.pi, 16):\n",
    "        x_line = [0, L_xy * np.cos(phi_val)]\n",
    "        y_line = [0, L_xy * np.sin(phi_val)]\n",
    "        z_line = [0, L_z]\n",
    "        ax.plot(x_line, y_line, z_line, 'b-', alpha=0.1)\n",
    "    \n",
    "    # Draw L_z vector\n",
    "    Lz_arrow = Arrow3D([0, 0], [0, 0], [0, L_z],\n",
    "                       mutation_scale=15, lw=2, arrowstyle=\"-|>\", color=\"cyan\")\n",
    "    ax.add_artist(Lz_arrow)\n",
    "    \n",
    "    # Position for spin vector - starts at tip of L vector\n",
    "    # Determine if spin and orbital angular momentum are aligned or anti-aligned\n",
    "    aligned = (L_z * S_z) >= 0\n",
    "    theta_S = np.arccos(S_z / S_tot) if S_tot > 0 else 0\n",
    "    \n",
    "    # Choose phi_S based on alignment\n",
    "    if aligned:\n",
    "        # Point towards center of circle\n",
    "        phi_S = phi_L + np.pi\n",
    "    else:\n",
    "        # Point away from center\n",
    "        phi_S = phi_L\n",
    "    \n",
    "    S_xy = S_tot * np.sin(theta_S)\n",
    "    S_x = L_x + S_xy * np.cos(phi_S)\n",
    "    S_y = L_y + S_xy * np.sin(phi_S)\n",
    "    S_z_tip = L_z + S_z\n",
    "    \n",
    "    # Draw spin angular momentum vector\n",
    "    S_arrow = Arrow3D([L_x, S_x], [L_y, S_y], [L_z, S_z_tip],\n",
    "                      mutation_scale=20, lw=3, arrowstyle=\"-|>\", color=\"red\")\n",
    "    ax.add_artist(S_arrow)\n",
    "    \n",
    "    # Draw spin cone\n",
    "    phi = np.linspace(0, 2*np.pi, 100)\n",
    "    x_S_cone = L_x + S_xy * np.cos(phi)\n",
    "    y_S_cone = L_y + S_xy * np.sin(phi)\n",
    "    z_S_cone = np.ones_like(phi) * S_z_tip\n",
    "    ax.plot(x_S_cone, y_S_cone, z_S_cone, 'r-', alpha=0.3)\n",
    "    \n",
    "    # Draw S cone surface lines\n",
    "    for phi_val in np.linspace(0, 2*np.pi, 12):\n",
    "        x_line = [L_x, L_x + S_xy * np.cos(phi_val)]\n",
    "        y_line = [L_y, L_y + S_xy * np.sin(phi_val)]\n",
    "        z_line = [L_z, S_z_tip]\n",
    "        ax.plot(x_line, y_line, z_line, 'r-', alpha=0.1)\n",
    "    \n",
    "    # Draw total angular momentum vector J from origin to tip of S\n",
    "    J_arrow = Arrow3D([0, S_x], [0, S_y], [0, S_z_tip],\n",
    "                      mutation_scale=20, lw=3, arrowstyle=\"-|>\", color=\"green\")\n",
    "    ax.add_artist(J_arrow)\n",
    "    \n",
    "    # Add labels\n",
    "    ax.text(L_x/2, L_y/2, L_z/2, \"$\\\\vec{L}$\", color='blue', fontsize=14)\n",
    "    ax.text(L_x + S_xy*np.cos(phi_S)/2, L_y + S_xy*np.sin(phi_S)/2, \n",
    "            (L_z + S_z_tip)/2, \"$\\\\vec{S}$\", color='red', fontsize=14)\n",
    "    ax.text(S_x/2, S_y/2, S_z_tip/2, \"$\\\\vec{J}$\", color='green', fontsize=14)\n",
    "    ax.text(0, 0, L_z*0.9, \"$L_z$\", color='cyan', fontsize=12)\n",
    "    ax.text(0, 0, 1.6, \"$z$\", fontsize=12)\n",
    "    \n",
    "    # Set axis limits and labels\n",
    "    ax.set_xlim(-3,3)\n",
    "    ax.set_ylim(-3,3)\n",
    "    ax.set_zlim(-3, 3)\n",
    "    ax.set_xlabel('x', fontsize=12)\n",
    "    ax.set_ylabel('y', fontsize=12)\n",
    "    ax.set_zlabel('z', fontsize=12)\n",
    "    \n",
    "    # Add info box\n",
    "    info_text = [\n",
    "        f'l = {l}',\n",
    "        f'$m_l = {ml}$',\n",
    "        f'$L_z = {L_z}\\\\hbar$',\n",
    "        f'$s = {s}$',\n",
    "        f'$m_s = {ms}$',\n",
    "        f'$Sz = {S_z}\\\\hbar$',\n",
    "        f'$j = {j}$',\n",
    "        f'$|J| = {J_tot:.2f}\\\\hbar$',\n",
    "        f'$Jz = {J_z}\\\\hbar$'\n",
    "    ]\n",
    "    plt.figtext(0.225, 0.3, '\\n'.join(info_text), va='center', fontsize=12,\n",
    "               bbox=dict(boxstyle='round', facecolor='white', alpha=0.7))\n",
    "    \n",
    "    plt.title('Vector Model of Angular Momentum Coupling', fontsize=16)"
   ]
  },
  {
   "cell_type": "code",
   "execution_count": null,
   "id": "dea636bc-e704-42db-83dd-0a3dfa907839",
   "metadata": {},
   "outputs": [],
   "source": [
    "def interactive_coupling_plot():\n",
    "    \"\"\"Create an interactive widget to explore angular momentum coupling\"\"\"\n",
    "    \n",
    "    # Define the interactive controls\n",
    "    l_widget = widgets.FloatSlider(min=0, max=3, step=1, value=2, description='l:')\n",
    "    ml_widget = widgets.FloatSlider(min=-3, max=3, step=1, value=1, description='ml:')\n",
    "    s_widget = widgets.FloatSlider(min=0.5, max=0.5, step=0.5, value=0.5, description='s:')\n",
    "    ms_widget = widgets.FloatSlider(min=-0.5, max=0.5, step=1, value=0.5, description='ms:')\n",
    "    \n",
    "    # Create the interactive plot\n",
    "    widgets.interact(angular_momentum_coupling, l=l_widget, ml=ml_widget, s=s_widget, ms=ms_widget)"
   ]
  },
  {
   "cell_type": "markdown",
   "id": "a6c1e218-1a27-42e5-8712-0491e79175c0",
   "metadata": {},
   "source": [
    "### CODE\n",
    "* Use the `interactive_coupling_plot()` function to explore how J is related to L and S."
   ]
  },
  {
   "cell_type": "code",
   "execution_count": null,
   "id": "8aba9b4d-f22b-4b5a-8f2f-2c03772d368f",
   "metadata": {},
   "outputs": [],
   "source": [
    "interactive_coupling_plot()"
   ]
  },
  {
   "attachments": {},
   "cell_type": "markdown",
   "id": "1af424b4-b429-47af-ae76-dec79a939b15",
   "metadata": {},
   "source": [
    "### SHORT RESPONSE QUESTIONS\n",
    "1. How is the quantum number $j$ related to $l$ and $s$?\n",
    "2. How does the $z$-projection of $J$, $J_z$ depend on $S_z$ and $L_z$?\n",
    "3. If we can place an electron in one of three $p$ orbitals of a hydrogen atom, with m_s = $-\\frac{1}{2}$ or $\\frac{1}{2}$, how many possible values of $J_z$ are there? \n",
    "\n",
    "### ANSWERS"
   ]
  },
  {
   "cell_type": "markdown",
   "id": "4093a8e4-b0ab-4338-bffc-c3ef59a956f7",
   "metadata": {},
   "source": [
    "1. We can relate these quantum numbers by the formula $j = l + s$\n",
    "2. The same relationship holds for $J_z$: $J_z = S_z + L_z$\n",
    "3. For this case, there would be 4 possible values of $J_z$ : -1.5, -0.5, 0.5, 1.5."
   ]
  },
  {
   "cell_type": "markdown",
   "id": "f2ae1fc6-9071-4b90-9358-32329103aac3",
   "metadata": {},
   "source": [
    "<br/><br/>\n",
    "<br/><br/>"
   ]
  },
  {
   "cell_type": "markdown",
   "id": "af03760a-cde8-42ce-a088-f398a8b3f16e",
   "metadata": {},
   "source": [
    "# Applying Magnetism"
   ]
  },
  {
   "cell_type": "markdown",
   "id": "e74bade3-d020-4e42-a9a8-aa649b26af9f",
   "metadata": {},
   "source": [
    "## Probing Organic Diradicals with Psi4\n",
    "To see magnetism in action, we turn to a fascinating class of molecules - organic diradicals. These molecules contain two unpaired electrons and exhibit characteristic magnetic and electronic properties which make them useful for molecular electronics, nonlinear optics, and qiuantum sensing.\n",
    "\n",
    "A key property that describes their magnetism is the singlet-triplet energy gap ($\\Delta{}E_{ST}$). This tells us whether the molecule's ground state is a:\n",
    "* Singlet state (S=0) - the valence electrons are paired, making the molecule diamagnetic (weakly repelled by a magnetic field)\n",
    "* Triplet state (S=1) - the valence electrons are unpaired, making the molecule paramagnetic (attracted to a magnetic field)\n",
    "\n",
    "Using computational chemistry, we can predict whether a molecule prefers the singlet or triplet ground state and quantify $\\Delta{}E_{ST}$. One way to achieve this is by using a broken-symmetry wavefunction, which allows us to accurately describe the singlet state of diradical systems by allowing the spin up and spin down orbitals to differ in shape [3].\n",
    "\n",
    "We will use Psi4 to compute this property for three very similar organic molecules: ortho-, meta-, and para-quinodimethane. Let's explore how their structural differences affect their magnetic properties!\n"
   ]
  },
  {
   "cell_type": "markdown",
   "id": "4354ec30-3483-4422-b578-18f909131edb",
   "metadata": {},
   "source": [
    "### LIBRARIES\n",
    "* Execute this cell before going any further."
   ]
  },
  {
   "cell_type": "code",
   "execution_count": null,
   "id": "8f2a44f7-18b8-421f-8a9a-e61a8c72c44d",
   "metadata": {},
   "outputs": [],
   "source": [
    "import psi4\n",
    "import rdkit\n",
    "from rdkit import Chem\n",
    "from rdkit.Chem import AllChem\n",
    "import py3Dmol"
   ]
  },
  {
   "cell_type": "markdown",
   "id": "76ed80df-0d29-4798-8695-2bc853c458e0",
   "metadata": {},
   "source": [
    "### GIVEN FUNCTIONS\n",
    "* Execute the blocks containing the given functions. Don't modify these."
   ]
  },
  {
   "cell_type": "code",
   "execution_count": null,
   "id": "dcade2e2-16e9-40e6-88a6-a83d5fe17c82",
   "metadata": {},
   "outputs": [],
   "source": [
    "def xyz_from_smiles(smiles_string):\n",
    "    rdkit_molecule = Chem.MolFromSmiles(smiles_string)\n",
    "    rdkit_molecule = Chem.AddHs(rdkit_molecule)\n",
    "    result = AllChem.EmbedMolecule(rdkit_molecule)\n",
    "    if result != 0:\n",
    "        raise ValueError(\"Embedding failed for the molecule\")\n",
    "    result = AllChem.MMFFOptimizeMolecule(rdkit_molecule)\n",
    "    \n",
    "    if result != 0:\n",
    "        raise ValueError(\"Optimization failed for the molecule\")\n",
    "    \n",
    "    xyz = Chem.MolToXYZBlock(rdkit_molecule)\n",
    "    return xyz"
   ]
  },
  {
   "cell_type": "code",
   "execution_count": null,
   "id": "f67d5f3a-19f0-49eb-99f3-73a1cd30e161",
   "metadata": {},
   "outputs": [],
   "source": [
    "def show_molecule(smiles_string):\n",
    "    xyz = xyz_from_smiles(smiles_string)\n",
    "    view = py3Dmol.view(width=200,height=200)\n",
    "    view.addModel(xyz,'xyz')\n",
    "    view.setStyle({'sphere':{'radius' : 0.3}, 'stick' : {'radius': 0.2}})\n",
    "    view.setStyle({'element': 'H'}, {'sphere': {'radius': 0.3, 'color': 'white'}})\n",
    "    view.zoomTo()\n",
    "    view.show()"
   ]
  },
  {
   "cell_type": "code",
   "execution_count": null,
   "id": "df47376a-9ab9-425c-875b-659ac7f09bf0",
   "metadata": {},
   "outputs": [],
   "source": [
    "def create_psi4_molecule(smiles_string,charge=0,spin_multiplicity=1):\n",
    "    '''\n",
    "    INPUT:\n",
    "    xyz format molecule coordinates\n",
    "    OUTPUT:\n",
    "    psi4-compatible molecular geometry object\n",
    "    '''\n",
    "    xyz_block = xyz_from_smiles(smiles_string)\n",
    "    xyz_lines = xyz_block.split('\\n')\n",
    "    psi_coords = \"\\n\".join([f\"{charge} {spin_multiplicity}\"] + xyz_lines[2:])\n",
    "    psi4_molecule = psi4.geometry(psi_coords)\n",
    "    return psi4_molecule"
   ]
  },
  {
   "cell_type": "markdown",
   "id": "b359819a-9b64-42a5-918a-4786ca2a4ac0",
   "metadata": {},
   "source": [
    "### CODE\n",
    "* Create the three specified molecules using SMILES.\n",
    "* Display your molecules to ensure their structures are correct.\n",
    "* Calculate the singlet and triplet energies of each molecule with `psi4.energy()`. Use the `brokensym=True` flag for the singlet only.\n",
    "* Ensure that each set of atomic coordinates has the correct spin multiplicity - 1 for singlet and 3 for triplet."
   ]
  },
  {
   "cell_type": "code",
   "execution_count": null,
   "id": "be7ddd9b-4bcf-4961-88b7-f3addb238061",
   "metadata": {},
   "outputs": [],
   "source": [
    "oqdm = \"C1=CC=CC([C]([H])[H])=C1[C]([H])[H]\"\n",
    "mqdm = \"C1=CC=C([C]([H])[H])C=C1[C]([H])[H]\"\n",
    "pqdm = \"C1=CC([C]([H])[H])=CC=C1[C]([H])[H]\""
   ]
  },
  {
   "cell_type": "code",
   "execution_count": null,
   "id": "52606b3e-501a-4f14-a30f-0b4b068c2d49",
   "metadata": {},
   "outputs": [],
   "source": [
    "show_molecule(oqdm)\n",
    "show_molecule(mqdm)\n",
    "show_molecule(pqdm)"
   ]
  },
  {
   "cell_type": "code",
   "execution_count": null,
   "id": "1eaeba3e-bee5-45d5-b4e7-d24c9523b6b1",
   "metadata": {},
   "outputs": [],
   "source": [
    "psi4.set_memory('1 GB')\n",
    "my_theory = 'B3LYP/6-31G(d)'\n",
    "psi4.set_options({\n",
    "    \"scf__reference\": \"uhf\",\n",
    "})"
   ]
  },
  {
   "cell_type": "code",
   "execution_count": null,
   "id": "f1b95098-f7a7-4310-81a5-e22af6bc76e7",
   "metadata": {},
   "outputs": [],
   "source": [
    "# more free stuff, wowie!\n",
    "psi4.set_output_file('oqdm.dat',False)\n",
    "p4oqdm_s = create_psi4_molecule(oqdm,spin_multiplicity=1)\n",
    "oqdm_s_energy, oqdm_s_wfn = psi4.energy(my_theory,return_wfn=True,\n",
    "                                    molecule=p4oqdm_s,\n",
    "                                        brokensymmetry=True)\n",
    "oqdm_s_energy"
   ]
  },
  {
   "cell_type": "code",
   "execution_count": null,
   "id": "a0aac29b-232a-481a-875d-93314cd752e0",
   "metadata": {},
   "outputs": [],
   "source": [
    "p4oqdm_t = create_psi4_molecule(oqdm,spin_multiplicity=3)\n",
    "oqdm_t_energy, oqdm_t_wfn = psi4.energy(my_theory,return_wfn=True,\n",
    "                                        # reference='uhf',\n",
    "                                    molecule=p4oqdm_t)\n",
    "oqdm_t_energy"
   ]
  },
  {
   "cell_type": "code",
   "execution_count": null,
   "id": "f2f5908a-36cd-4ad2-8c41-9c27620dd81f",
   "metadata": {},
   "outputs": [],
   "source": [
    "oqdm_delta_e_s_t_kj_mol = (oqdm_s_energy - oqdm_t_energy) * 2625\n",
    "oqdm_delta_e_s_t_kj_mol"
   ]
  },
  {
   "cell_type": "code",
   "execution_count": null,
   "id": "2418a2ed-dd40-4f7f-9998-d1c67ebf5644",
   "metadata": {},
   "outputs": [],
   "source": [
    "# repeat this for the others!"
   ]
  },
  {
   "cell_type": "code",
   "execution_count": null,
   "id": "87741449-de87-485d-aea5-b225d5d73a2f",
   "metadata": {},
   "outputs": [],
   "source": [
    "# more free stuff, wowie!\n",
    "psi4.set_output_file('oqdm.dat',False)\n",
    "p4mqdm_s = create_psi4_molecule(mqdm,spin_multiplicity=1)\n",
    "mqdm_s_energy, mqdm_s_wfn = psi4.energy(my_theory,return_wfn=True,\n",
    "                                    molecule=p4mqdm_s,\n",
    "                                        brokensymmetry=True)\n",
    "p4mqdm_t = create_psi4_molecule(mqdm,spin_multiplicity=3)\n",
    "mqdm_t_energy, mqdm_t_wfn = psi4.energy(my_theory,return_wfn=True,\n",
    "                                        # reference='uhf',\n",
    "                                    molecule=p4mqdm_t)\n",
    "mqdm_delta_e_s_t_kj_mol = (mqdm_s_energy - mqdm_t_energy) * 2625\n",
    "mqdm_delta_e_s_t_kj_mol"
   ]
  },
  {
   "cell_type": "code",
   "execution_count": null,
   "id": "0986f81e-8cb2-4160-872b-303f979b9327",
   "metadata": {},
   "outputs": [],
   "source": [
    "# more free stuff, wowie!\n",
    "psi4.set_output_file('oqdm.dat',False)\n",
    "p4pqdm_s = create_psi4_molecule(pqdm,spin_multiplicity=1)\n",
    "pqdm_s_energy, pqdm_s_wfn = psi4.energy(my_theory,return_wfn=True,\n",
    "                                    molecule=p4pqdm_s,\n",
    "                                        brokensymmetry=True)\n",
    "p4pqdm_t = create_psi4_molecule(pqdm,spin_multiplicity=3)\n",
    "pqdm_t_energy, pqdm_t_wfn = psi4.energy(my_theory,return_wfn=True,\n",
    "                                        # reference='uhf',\n",
    "                                    molecule=p4pqdm_t)\n",
    "pqdm_delta_e_s_t_kj_mol = (pqdm_s_energy - pqdm_t_energy) * 2625\n",
    "pqdm_delta_e_s_t_kj_mol"
   ]
  },
  {
   "cell_type": "markdown",
   "id": "cf77c1d8-b2e7-4dea-8c52-1e216b2ee6e4",
   "metadata": {},
   "source": [
    "### SHORT RESPONSE QUESTIONS\n",
    "1. Rank the three molecules in increasing order of singlet-triplet energy gap. Which of these molecules, if any, have a triplet ground state?\n",
    "2. Classify each molecule as paramagnetic or diamagnetic.\n",
    "### ANSWERS"
   ]
  },
  {
   "cell_type": "markdown",
   "id": "1931118e-0609-411a-8074-d69ce805cdad",
   "metadata": {},
   "source": [
    "1. ortho-quinodimethane : -23 kJ/mol ; para-quinodimethane : -63 kJ/mol; meta-quinodimethane: 144 kJ/mol. Only meta-quinodimethane has a triplet ground state, and the triplet is much more favorable than the singlet.\n",
    "2. O-QDM and P-QDM are diamagnetic in their ground state; M-QDM is paramagnetic in is ground state."
   ]
  },
  {
   "cell_type": "markdown",
   "id": "39d282e4-4631-4b6e-83e8-723254a4641f",
   "metadata": {},
   "source": [
    "<br/><br/>"
   ]
  },
  {
   "cell_type": "markdown",
   "id": "96b01f45-ffa8-4e59-8a6a-f546560440a6",
   "metadata": {},
   "source": [
    "<br/><br/>\n",
    "<br/><br/>"
   ]
  },
  {
   "cell_type": "markdown",
   "id": "f4917e13-4f23-4c34-8b52-71e7fa151cc7",
   "metadata": {},
   "source": [
    "# Reflection"
   ]
  },
  {
   "cell_type": "markdown",
   "id": "f7b7ae28-6c24-4d21-890f-11cb23b0adcf",
   "metadata": {},
   "source": [
    "### SHORT RESPONSE QUESTIONS\n",
    "1. How does the quantization of angular momentum in atomic orbitals influence the interaction of electrons with magnetic fields? How is it observed in an atomic spectrum?\n",
    "2. How can we computationally test whether a system will be paramagnetic or diamagnetic? Why is this distinction important?\n",
    "### ANSWER"
   ]
  },
  {
   "cell_type": "markdown",
   "id": "0d806be8-12d5-40e5-8375-bfb60cff3909",
   "metadata": {},
   "source": [
    "1. This property of atomic orbitals means that there will be constant energy spacing between the split atomic orbitals in a moleuclar field, and furthermore the splitting will be symmetric. These are observed as fine divisions or echoes of peaks in a spectrum.\n",
    "2. We can compute the relative energies of the states of the molecule where the valence electrons are paired and where they are unpaired; the lower energy state is likely the one we will observe in the real world. This is important because paramagnetism is a relatively rare property which may make a material useful."
   ]
  },
  {
   "cell_type": "markdown",
   "id": "f1371355-a1b1-425e-ab9d-74b4c3ecdf37",
   "metadata": {},
   "source": [
    "<br/><br/>\n",
    "<br/><br/>"
   ]
  },
  {
   "cell_type": "markdown",
   "id": "5edd2f79-6b45-4f0a-ae87-c1d09abf0bd3",
   "metadata": {},
   "source": [
    "# References"
   ]
  },
  {
   "cell_type": "markdown",
   "id": "5d461386-cb40-499e-832e-d8176eb7ccfe",
   "metadata": {},
   "source": [
    "[1]:\n",
    "https://phys.libretexts.org/Bookshelves/University_Physics/University_Physics_(OpenStax)/University_Physics_III_-_Optics_and_Modern_Physics_(OpenStax)/08%3A_Atomic_Structure/8.03%3A_Orbital_Magnetic_Dipole_Moment_of_the_Electron\n",
    "[2]: https://phys.libretexts.org/Courses/Georgia_State_University/GSU-TM-Physics_II_(2212)/13%3A_Atomic_Structure/13.03%3A_Electron_Spin\n",
    "[3]:\n",
    "https://psicode.org/psi4manual/4.0b5/scf"
   ]
  }
 ],
 "metadata": {
  "kernelspec": {
   "display_name": "base",
   "language": "python",
   "name": "python3"
  },
  "language_info": {
   "codemirror_mode": {
    "name": "ipython",
    "version": 3
   },
   "file_extension": ".py",
   "mimetype": "text/x-python",
   "name": "python",
   "nbconvert_exporter": "python",
   "pygments_lexer": "ipython3",
   "version": "3.10.13"
  }
 },
 "nbformat": 4,
 "nbformat_minor": 5
}
