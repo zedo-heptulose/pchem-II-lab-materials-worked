{
 "cells": [
  {
   "cell_type": "markdown",
   "id": "1bede9b6-0d2e-417c-9942-d925c22cddd5",
   "metadata": {},
   "source": [
    "# Libraries\n",
    "* Execute this cell before going any further.\n",
    "> scikit-learn is required to complete this activity.  \n",
    "> `conda install scikit-learn` (Mac and Windows)  \n",
    "> `mamba install scikit-learn` (HPC users)"
   ]
  },
  {
   "cell_type": "code",
   "execution_count": null,
   "id": "6998811b-34ec-4f9d-a422-5c256b3518cd",
   "metadata": {},
   "outputs": [],
   "source": [
    "import ipywidgets as widgets\n",
    "import matplotlib.pyplot as plt\n",
    "import numpy as np\n",
    "import pandas as pd\n",
    "from ipywidgets import interact, FloatSlider, IntSlider"
   ]
  },
  {
   "cell_type": "markdown",
   "id": "6fbac074-bcd8-4dfd-be37-b50c66217188",
   "metadata": {},
   "source": [
    "<br/><br/>"
   ]
  },
  {
   "cell_type": "markdown",
   "id": "94e2013a-d75b-4cb6-88bb-a36a629e23cf",
   "metadata": {},
   "source": [
    "# Warmup"
   ]
  },
  {
   "cell_type": "markdown",
   "id": "af66d235-4972-45f4-8a64-08eef8f61c7b",
   "metadata": {},
   "source": [
    "## Machine Learning with Scikit-Learn\n",
    "\n",
    "Machine learning encompasses a range of powerful tools that allow us to model data, uncover patterns, and make predictions. \n",
    "\n",
    "In this activity, we will explore three key machine learning tasks:\n",
    "- __Curve Fitting (Regression)__: This is one you should be familiar with. Optimizing parameters for a curve to fit\n",
    "- __Classification__: Assigning data points to discrete categories based on patterns in the data.\n",
    "- __Clustering__: Grouping similar data points together without predefined labels. \n",
    "\n",
    "In this assignment, we will explore classification. We will use `scikit-learn`, a widely used Python library that provides a set of tools for training, testing, and evaluating machine learning models.\n",
    "\n",
    "\n",
    "Let's get started!\n",
    "\n",
    "> This warmup was adapted from part of an excellent FreeCodeCamp video on scikit-learn, which is highly reccomended for students interested in learning more about this topic! [Youtube](https://www.youtube.com/watch?v=0B5eIE_1vpU)"
   ]
  },
  {
   "cell_type": "markdown",
   "id": "4c5121d3-8de6-4e7b-aa96-e13b274d86f4",
   "metadata": {},
   "source": [
    "### CODE\n",
    "- Fill in the gaps in the code below to analyze sample data.\n",
    "- Leave comments on lines without them."
   ]
  },
  {
   "cell_type": "code",
   "execution_count": null,
   "id": "9d658b0c-973a-4e3d-9906-38de6bdea000",
   "metadata": {},
   "outputs": [],
   "source": [
    "# load our data!\n",
    "df = pd.read_csv(\"freecodedata1.csv\")"
   ]
  },
  {
   "cell_type": "code",
   "execution_count": null,
   "id": "a06a8b41-08ec-4a5f-8eee-edd1e7c74b57",
   "metadata": {},
   "outputs": [],
   "source": [
    "X = df[['x','y']].values #why do we do this?\n",
    "y = df['z'] == \"a\""
   ]
  },
  {
   "cell_type": "code",
   "execution_count": null,
   "id": "f3012b40-630a-49f2-ae3a-c1a809054236",
   "metadata": {},
   "outputs": [],
   "source": [
    "# explain what c=y does here!\n",
    "plt.scatter(X[:,0],X[:,1],c=y) "
   ]
  },
  {
   "cell_type": "code",
   "execution_count": null,
   "id": "b3b230d5-5ff3-4d5e-b0d0-a291f78ddba9",
   "metadata": {},
   "outputs": [],
   "source": [
    "from sklearn.linear_model import LogisticRegression"
   ]
  },
  {
   "cell_type": "code",
   "execution_count": null,
   "id": "2b9a15b6-3b75-4e93-99bc-2b5e0f00a47e",
   "metadata": {},
   "outputs": [],
   "source": [
    "pred = LogisticRegression().fit(X,y).predict(X)\n",
    "plt.scatter(X[:,0],X[:,1],c=pred)"
   ]
  },
  {
   "cell_type": "code",
   "execution_count": null,
   "id": "c07ed3e0-fd74-4f0d-bc04-be123c40089e",
   "metadata": {},
   "outputs": [],
   "source": [
    "# now try classifying this one!\n",
    "df = pd.read_csv('freecodedata2.csv')\n",
    "X = df[['x','y']].values\n",
    "y = df['z'] == 'a'\n",
    "plt.scatter(X[:,0],X[:,1],c=y)"
   ]
  },
  {
   "cell_type": "code",
   "execution_count": null,
   "id": "dfa269e6-9586-4ad8-9e5d-299edbd37da5",
   "metadata": {},
   "outputs": [],
   "source": [
    "# fit data, make a prediction, and visuaize like you did before!"
   ]
  },
  {
   "cell_type": "markdown",
   "id": "8933b41a-fd97-442b-82e8-7d109ebecfca",
   "metadata": {},
   "source": [
    "### SHORT RESPONSE QUESTIONS\n",
    "1. For which data set did our model give an accurate prediction? Why might this be?\n",
    "2. What does this tell us about model selection?\n",
    "### ANSWERS"
   ]
  },
  {
   "cell_type": "markdown",
   "id": "90f9aba3-2a48-47c9-91cc-47eed629ab3e",
   "metadata": {},
   "source": []
  },
  {
   "cell_type": "markdown",
   "id": "f09fadaa-0d5b-4271-8ae5-716f88d1b1bb",
   "metadata": {},
   "source": [
    "<br/><br/>\n",
    "<br/><br/>"
   ]
  },
  {
   "cell_type": "markdown",
   "id": "f4b906a7-2eef-4953-be60-ecf702831f2f",
   "metadata": {},
   "source": [
    "# Physical Chemistry of Quantum Dots"
   ]
  },
  {
   "cell_type": "markdown",
   "id": "0f74ff59-72ea-452a-afb6-ea0180ea3c5d",
   "metadata": {},
   "source": [
    "Quantum dots are nanoscale semiconductor particles that emit light at a wavelength determined by their size. They are used in applications such as QLED displays and biomedical imaging, and show promise for solar energy technologies.\n",
    "\n",
    "These are fascinating on their own, but they are also a great demonstration of several core concepts in physical chemistry: Molecular Orbital Theory, Band Theory, and Fluorescence, which we will explore."
   ]
  },
  {
   "cell_type": "markdown",
   "id": "cac99033-8f22-4e8d-ae04-72ebf89b5830",
   "metadata": {},
   "source": [
    "## PART 1 - Molecular Orbital Theory\n",
    "You are likely familiar with atomic structure from general chemistry—the idea that electrons occupy orbitals (1s, 2s, 2p, etc.) according the Aufbau principle. This framework works well for individual atoms, but how do we describe the electronic structure of molecules?\n",
    "\n",
    "This is where molecular orbital (MO) theory comes in. Just as molecules are composed of atoms, molecular orbitals are formed from atomic orbitals. When two atomic orbitals overlap, they can combine in two ways:\n",
    "\n",
    "- __Constructive interference__ lowers the orbital's energy relative to the atomic orbitals, forming a __bonding molecular orbital__.\n",
    "- __Destructive interference__ raises the orbital's energy, forming an __antibonding molecular orbital__.\n",
    "\n",
    "Importantly, the number of molecular orbitals form equals the number of atomic orbitals combined.\n",
    "\n",
    "Now, what happens when we extend this idea to more than two atoms? If we combine N identical atomic orbitals, we form N/2 bonding orbitals and N/2 antibonding orbitals. What will their energy levels look like?\n",
    "\n",
    "Below, explore how molecular orbitals evolve as we increase the number of atoms. What do you thing the molecular orbitals will look like for a solid composed of a very large number of atoms?\n"
   ]
  },
  {
   "cell_type": "markdown",
   "id": "cfeac16e-2c75-44fe-8090-ab44c108a442",
   "metadata": {},
   "source": [
    "### GIVEN FUNCTIONS\n",
    "* Execute the blocks containing the given functions. Don't modify these."
   ]
  },
  {
   "cell_type": "code",
   "execution_count": null,
   "id": "31f4e7a2-3cd9-47c8-bd9e-8a979d405162",
   "metadata": {},
   "outputs": [],
   "source": [
    "def calculate_mo_energy_levels_tight_binding(n_atoms, interaction_strength=-1.0):\n",
    "    \"\"\"Calculate MO energy levels using tight binding model\n",
    "    \n",
    "    This is a simplified model that demonstrates\n",
    "    similar energy level patterns for a linear chain of atoms\n",
    "    \"\"\"\n",
    "    # Atomic orbital energy (arbitrary zero)\n",
    "    alpha = 0\n",
    "    # Interaction strength (negative for bonding)\n",
    "    beta = interaction_strength\n",
    "    \n",
    "    if n_atoms == 1:\n",
    "        # For a single atom, just return the atomic orbital energy\n",
    "        return np.array([alpha])\n",
    "    \n",
    "    # Calculate energies using tight binding model\n",
    "    k_values = np.arange(1, n_atoms+1)\n",
    "    energies = alpha + 2*beta*np.cos(k_values*np.pi/(n_atoms+1))\n",
    "    \n",
    "    # Sort energies from lowest to highest (like in quantum chemistry output)\n",
    "    energies = np.sort(energies)\n",
    "    \n",
    "    return energies"
   ]
  },
  {
   "cell_type": "code",
   "execution_count": null,
   "id": "07c37667-f62e-421e-b7e3-0878ad833ceb",
   "metadata": {},
   "outputs": [],
   "source": [
    "def plot_mo_diagram(mo_energies_list, atom_counts):\n",
    "    \"\"\"Plot MO diagram showing evolution with increasing atom count\"\"\"\n",
    "    plt.figure(figsize=(10, 8))\n",
    "    \n",
    "    for i, (mo_energies, n_atoms) in enumerate(zip(mo_energies_list, atom_counts)):\n",
    "        x_positions = np.ones(len(mo_energies)) * i\n",
    "        plt.scatter(x_positions, mo_energies, marker='_', s=500, \n",
    "                    color='blue', linewidth=2)\n",
    "    \n",
    "    plt.xticks(range(len(atom_counts)), [f\"{n} atoms\" for n in atom_counts])\n",
    "    plt.ylabel(\"Energy (arbitrary units)\")\n",
    "    plt.title(\"Evolution of MO Energy Levels with Increasing Number of Atoms\")\n",
    "    plt.grid(True, alpha=0.3, axis='y')\n",
    "    plt.axhline(y=0, color='black', linestyle='--', alpha=0.5)\n",
    "    plt.show()"
   ]
  },
  {
   "cell_type": "code",
   "execution_count": null,
   "id": "b849c1d5-c70a-4cb8-9f3d-c6cb7d338565",
   "metadata": {},
   "outputs": [],
   "source": [
    "def visualize_mo_schematic(n_atoms=4, selected_orbitals=None):\n",
    "    \"\"\"Generate schematic visualization of molecular orbitals\n",
    "    \n",
    "    This creates simple schematic visualizations of the wavefunction\n",
    "    patterns in a linear chain\n",
    "    \"\"\"\n",
    "    if selected_orbitals is None:\n",
    "        selected_orbitals = list(range(n_atoms))\n",
    "    \n",
    "    fig, axes = plt.subplots(len(selected_orbitals), 1, figsize=(8, 2*len(selected_orbitals)))\n",
    "    \n",
    "    if len(selected_orbitals) == 1:\n",
    "        axes = [axes]\n",
    "    \n",
    "    # Extend the range beyond the atoms to show full wavefunction\n",
    "    x = np.linspace(-1, n_atoms, 200)\n",
    "    \n",
    "    for i, orbital_idx in enumerate(selected_orbitals):\n",
    "        # The pattern for the nth molecular orbital in a linear chain\n",
    "        # is approximated by a standing wave with n nodes\n",
    "        n = orbital_idx + 1\n",
    "        k = n * np.pi / (n_atoms + 1)\n",
    "        psi = np.sin(k * (x + 1))\n",
    "        \n",
    "        # Plot the wavefunction\n",
    "        axes[i].plot(x, psi, 'b-')\n",
    "        axes[i].plot(x, -psi, 'b-')\n",
    "        axes[i].fill_between(x, psi, 0, where=(psi>0), color='blue', alpha=0.3)\n",
    "        axes[i].fill_between(x, psi, 0, where=(psi<0), color='blue', alpha=0.3)\n",
    "        \n",
    "        # Add atom positions\n",
    "        atom_positions = np.arange(n_atoms)\n",
    "        axes[i].plot(atom_positions, np.zeros_like(atom_positions), 'ko', ms=10)\n",
    "        \n",
    "        # Add orbital energy in a box\n",
    "        energy = 2 * (-1.0) * np.cos(k)\n",
    "        energy_text = f\"E = {energy:.2f}\"\n",
    "        axes[i].text(n_atoms+0.3, 0, energy_text, va='center',\n",
    "                  bbox=dict(facecolor='white', edgecolor='black', boxstyle='round,pad=0.5'))\n",
    "        \n",
    "        # Label as bonding or antibonding\n",
    "        if orbital_idx < n_atoms/2:\n",
    "            bond_type = \"Bonding\"\n",
    "        else:\n",
    "            bond_type = \"Antibonding\"\n",
    "        \n",
    "        axes[i].set_title(f\"Molecular Orbital #{orbital_idx+1} ({bond_type})\")\n",
    "        axes[i].set_ylim(-1.5, 1.5)\n",
    "        axes[i].set_xlim(-1, n_atoms+1)  # Extended range\n",
    "        axes[i].set_yticks([])\n",
    "        axes[i].set_xticks(atom_positions)\n",
    "        axes[i].set_xticklabels([f\"Atom {j+1}\" for j in range(n_atoms)])\n",
    "        axes[i].grid(True, alpha=0.3)\n",
    "    \n",
    "    plt.tight_layout()\n",
    "    plt.show()"
   ]
  },
  {
   "cell_type": "markdown",
   "id": "a2e039a4-b023-4859-9f14-2a17b4abaa00",
   "metadata": {},
   "source": [
    "### CODE\n",
    "- Define a list of atom counts- we will visualize the MOs made from combining this many identical atoms.\n",
    "- Use a for loop to calculate orbital energies for each atom count.\n",
    "- Store the results in a list of energy levels.\n",
    "- Pass the energy list and atom counts to `plot_mo_diagram()`.\n",
    "- Visualize the molecular orbitals for a 4-atom chain using `visualize_mo_schematic()`, specifying orbital indices (starting from zero).\n"
   ]
  },
  {
   "cell_type": "code",
   "execution_count": null,
   "id": "f9382c5c-9aa0-45c6-88a6-4bc45059a3ef",
   "metadata": {},
   "outputs": [],
   "source": [
    "# Calculate and display MO energy levels for different chain lengths\n",
    "atom_counts = # [n1,n2,n3, etc] # use actual numbers\n",
    "\n",
    "# define empty mo_energies_list variable outside the loop\n",
    "for n_atoms in atom_counts:\n",
    "    mo_energies = calculate_mo_energy_levels_tight_binding(n_atoms) #get the energies for this number of atoms\n",
    "    mo_energies_list.append(mo_energies) #append list of energies to our list of lists of energies \n",
    "    print(f\"Calculated energy levels for {n_atoms} atoms\")\n",
    "\n",
    "plot_mo_diagram(# two arguments. list of mo energies comes first, atom counts comes second"
   ]
  },
  {
   "cell_type": "code",
   "execution_count": null,
   "id": "d064c5bd-7e10-4e86-8e4a-7798b04bd834",
   "metadata": {},
   "outputs": [],
   "source": [
    "# Visualize molecular orbitals schematically for a 4-atom chain\n",
    "selected_orbitals= #[n1,n2,n3, etc] #visualize orbitals 1 through 4, counting from zero\n",
    "visualize_mo_schematic( #n_atoms=4, selected_orbitals)"
   ]
  },
  {
   "cell_type": "markdown",
   "id": "8df57010-4506-463f-a802-fe36d2916d1b",
   "metadata": {},
   "source": [
    "### SHORT RESPONSE QUESTIONS\n",
    "\n",
    "1. How do the molecular orbital energies change as the number of atoms increases? What is the limiting behavior as the number of atoms approaches infinity?\n",
    "2. How do the molecular orbitals differ in structure? Which are bonding and which are antibonding, and how is this distinction reflected in their shapes?\n",
    "### ANSWERS"
   ]
  },
  {
   "cell_type": "markdown",
   "id": "9aeac3cd-b952-45db-b78e-2314b975355f",
   "metadata": {},
   "source": []
  },
  {
   "cell_type": "markdown",
   "id": "cda4c686-3fd3-457d-b6ca-6e6fb303722c",
   "metadata": {},
   "source": [
    "<br/><br/>"
   ]
  },
  {
   "cell_type": "markdown",
   "id": "86e6e55f-e70d-460d-b8f6-60744eb753f0",
   "metadata": {},
   "source": [
    "## PART 2 - Band Theory and Semiconductors\n",
    "In molecular orbital (MO) theory, atomic orbitals combine to form molecular orbitals. As we extend this concept to an (effectively) infinite array of atoms, discrete molecular orbitals merge into continuous energy bands—a framework known as **band theory**.\n",
    "\n",
    "Solids can be classified based on their band structure:\n",
    "\n",
    "1. **Conductors** – Overlapping valence and conduction bands $\\rightarrow$ free electron movement.\n",
    "2. **Insulators** – Large band gap $\\rightarrow$ highly restricted electron movement.\n",
    "3. **Semiconductors** – Small band gap (~0.1–4.0 eV) $\\rightarrow$ intermediate behavior and novel properties.\n",
    "\n",
    "A unique feature of semiconductors is the formation of **electron-hole pairs**:\n",
    "\n",
    "- When an electron is excited from the valence band to the conduction band, it leaves behind a **hole**.\n",
    "- The hole behaves like a positively charged electron.\n",
    "- Together, the electron and hole form an **exciton**.\n",
    "\n",
    "Since quantum dots are typically semiconductors, excitons are key to their fluorescence. When a quantum dot is small enough, the excited electron is confined near the hole, increasing the band gap and raising the excitation energy. As a result, smaller quantum dots emit higher-energy (bluer) light.\n",
    "\n",
    "Explore these effects below!\n"
   ]
  },
  {
   "cell_type": "markdown",
   "id": "4cde4def-629c-452d-b06e-6a3f45ac8386",
   "metadata": {},
   "source": [
    "### GIVEN FUNCTIONS\n",
    "* Execute the blocks containing the given functions. Don't modify these."
   ]
  },
  {
   "cell_type": "code",
   "execution_count": null,
   "id": "bbc02e78-8365-4f4f-9ad3-f6374eec4e27",
   "metadata": {},
   "outputs": [],
   "source": [
    "def plot_interactive_band_structure(bandgap=1.5, valence_fill=1.0):\n",
    "    \"\"\"\n",
    "    Interactive band structure showing bands with boxes\n",
    "    \n",
    "    Parameters:\n",
    "    bandgap - Energy difference between bands (eV)\n",
    "    valence_fill - Fraction of valence band that is filled (0-1)\n",
    "    \"\"\"\n",
    "    plt.figure(figsize=(8, 6))\n",
    "    \n",
    "    # Determine material type based on parameters\n",
    "    if bandgap > 3.0:\n",
    "        material_type = \"insulator\"\n",
    "    elif bandgap < 0.1 or (valence_fill < 1.0):\n",
    "        material_type = \"conductor\"\n",
    "    else:\n",
    "        material_type = \"semiconductor\"\n",
    "    \n",
    "    # Band width will be constant\n",
    "    band_width = 1.0\n",
    "    \n",
    "    # Box dimensions\n",
    "    box_width = 0.4\n",
    "    box_x = [-box_width/2, box_width/2]\n",
    "    \n",
    "    # Energy ranges for bands\n",
    "    core_band = [-band_width*3 - 1, -band_width*2 - 1]\n",
    "    valence_band = [-band_width, 0]\n",
    "    conduction_band = [bandgap, bandgap + band_width]\n",
    "    \n",
    "    # Calculate fill heights\n",
    "    valence_fill_height = valence_band[0] + (valence_band[1] - valence_band[0]) * valence_fill\n",
    "    \n",
    "    # Draw core band (always fully filled)\n",
    "    plt.fill_between(box_x, [core_band[0], core_band[0]], [core_band[1], core_band[1]], \n",
    "                     color='gold', edgecolor='black', linewidth=1.5, zorder=3)\n",
    "    \n",
    "    # Draw valence band - filled portion\n",
    "    plt.fill_between(box_x, [valence_band[0], valence_band[0]], [valence_fill_height, valence_fill_height], \n",
    "                     color='gold', edgecolor=None, linewidth=0, zorder=3)\n",
    "    \n",
    "    # Draw valence band - unfilled portion\n",
    "    if valence_fill < 1.0:\n",
    "        plt.fill_between(box_x, [valence_fill_height, valence_fill_height], [valence_band[1], valence_band[1]], \n",
    "                        color='black', alpha=0.8, edgecolor=None, linewidth=0, zorder=3)\n",
    "    \n",
    "    # Draw valence band outline\n",
    "    plt.plot([box_x[0], box_x[0]], [valence_band[0], valence_band[1]], 'k-', linewidth=1.5, zorder=4)\n",
    "    plt.plot([box_x[1], box_x[1]], [valence_band[0], valence_band[1]], 'k-', linewidth=1.5, zorder=4)\n",
    "    plt.plot([box_x[0], box_x[1]], [valence_band[0], valence_band[0]], 'k-', linewidth=1.5, zorder=4)\n",
    "    plt.plot([box_x[0], box_x[1]], [valence_band[1], valence_band[1]], 'k-', linewidth=1.5, zorder=4)\n",
    "    \n",
    "    # Draw conduction band \n",
    "    conduction_fill = 0\n",
    "    if material_type == \"conductor\" and bandgap < 0.1:\n",
    "        # For true conductors with overlapping bands, show partial filling\n",
    "        conduction_fill = 1.0 - valence_fill\n",
    "        conduction_fill_height = conduction_band[0] + (conduction_band[1] - conduction_band[0]) * conduction_fill\n",
    "        \n",
    "        # Draw filled portion of conduction band\n",
    "        plt.fill_between(box_x, [conduction_band[0], conduction_band[0]], \n",
    "                         [conduction_fill_height, conduction_fill_height], \n",
    "                         color='gold', edgecolor=None, linewidth=0, zorder=3)\n",
    "        \n",
    "        # Draw unfilled portion of conduction band\n",
    "        plt.fill_between(box_x, [conduction_fill_height, conduction_fill_height], \n",
    "                         [conduction_band[1], conduction_band[1]], \n",
    "                         color='black', alpha=0.8, edgecolor=None, linewidth=0, zorder=3)\n",
    "    else:\n",
    "        # Normal unfilled conduction band\n",
    "        plt.fill_between(box_x, [conduction_band[0], conduction_band[0]], \n",
    "                         [conduction_band[1], conduction_band[1]], \n",
    "                         color='black', alpha=0.8, edgecolor=None, linewidth=0, zorder=3)\n",
    "    \n",
    "    # Draw conduction band outline\n",
    "    plt.plot([box_x[0], box_x[0]], [conduction_band[0], conduction_band[1]], 'k-', linewidth=1.5, zorder=4)\n",
    "    plt.plot([box_x[1], box_x[1]], [conduction_band[0], conduction_band[1]], 'k-', linewidth=1.5, zorder=4)\n",
    "    plt.plot([box_x[0], box_x[1]], [conduction_band[0], conduction_band[0]], 'k-', linewidth=1.5, zorder=4)\n",
    "    plt.plot([box_x[0], box_x[1]], [conduction_band[1], conduction_band[1]], 'k-', linewidth=1.5, zorder=4)\n",
    "    \n",
    "    # Add band labels\n",
    "    plt.text(box_width*0.7, core_band[0] + (core_band[1] - core_band[0])/2, \n",
    "             \"Core\\nBand\", ha='left', va='center')\n",
    "    plt.text(box_width*0.7, valence_band[0] + (valence_band[1] - valence_band[0])/2, \n",
    "             \"Valence\\nBand\", ha='left', va='center')\n",
    "    plt.text(box_width*0.7, conduction_band[0] + (conduction_band[1] - conduction_band[0])/2, \n",
    "             \"Conduction\\nBand\", ha='left', va='center')\n",
    "    \n",
    "    # Label the bandgap if it exists\n",
    "    if bandgap > 0.1:\n",
    "        plt.annotate('', xy=(0, conduction_band[0]), xytext=(0, valence_band[1]),\n",
    "                    arrowprops=dict(arrowstyle='<->', color='red', lw=2))\n",
    "        plt.text(box_width*0.7, valence_band[1] + bandgap/2, f\"Bandgap\\n{bandgap:.1f} eV\", \n",
    "                 ha='left', va='center', color='red')\n",
    "    \n",
    "    # Calculate Fermi level\n",
    "    if valence_fill < 1.0:\n",
    "        fermi_level = valence_fill_height\n",
    "    elif bandgap < 0.1:  # Bands overlap\n",
    "        fermi_level = valence_band[1]\n",
    "    else:\n",
    "        fermi_level = valence_band[1] + bandgap/2\n",
    "    \n",
    "    # Label Fermi level\n",
    "    plt.axhline(y=fermi_level, color='blue', linestyle='--', alpha=0.7)\n",
    "    plt.text(-box_width, fermi_level, \"Fermi\\nLevel\", ha='right', va='center', color='blue')\n",
    "    \n",
    "    # Set labels and title\n",
    "    plt.title(f\"{material_type.capitalize()} Band Structure\\nBandgap: {bandgap:.2f} eV, Valence Fill: {valence_fill*100:.0f}%\")\n",
    "    plt.ylabel(\"Energy (eV)\")\n",
    "    plt.xlim(-box_width*2, box_width*2)\n",
    "    \n",
    "    # Adjust y limits to show all bands\n",
    "    plt.ylim(core_band[0]-0.5, conduction_band[1]+0.5)\n",
    "    \n",
    "    # Hide x-axis\n",
    "    plt.tick_params(axis='x', which='both', bottom=False, labelbottom=False)\n",
    "    \n",
    "    # Add legend\n",
    "    plt.plot([], [], color='gold', linewidth=10, label='Occupied States')\n",
    "    plt.plot([], [], color='black', alpha=0.8, linewidth=10, label='Unoccupied States')\n",
    "    plt.legend(loc='upper right')\n",
    "    \n",
    "    plt.grid(True, axis='y', alpha=0.3)\n",
    "    plt.tight_layout()\n",
    "    plt.show()"
   ]
  },
  {
   "cell_type": "code",
   "execution_count": null,
   "id": "cec9b3d2-5691-4401-8df7-31f1bfdd146e",
   "metadata": {},
   "outputs": [],
   "source": [
    "def interactive_band_structure():\n",
    "    \"\"\"Create interactive widgets to control band structure parameters\"\"\"\n",
    "    interact(\n",
    "        plot_interactive_band_structure,\n",
    "        bandgap=FloatSlider(min=0.0, max=5.0, step=0.1, value=1.5, \n",
    "                           description='Bandgap (eV):'),\n",
    "        valence_fill=FloatSlider(min=0.0, max=1.0, step=0.05, value=1.0, \n",
    "                                description='Valence Fill:')\n",
    "    )"
   ]
  },
  {
   "cell_type": "markdown",
   "id": "8d651188-7166-4805-becb-141f4623c17f",
   "metadata": {},
   "source": [
    "### CODE\n",
    "- Use the `interactive_band_structure()` function to create examples of the energy bands for an insulator, conductor, and semiconductor.\n"
   ]
  },
  {
   "cell_type": "code",
   "execution_count": null,
   "id": "c9a2d956-8a68-4a40-86aa-6b995838b5bd",
   "metadata": {},
   "outputs": [],
   "source": [
    "# call the function here!"
   ]
  },
  {
   "cell_type": "markdown",
   "id": "585bf4de-7273-42e2-a5f9-b60cf49f67eb",
   "metadata": {},
   "source": [
    "### SHORT RESPONSE QUESTIONS\n",
    "1. How do the energy bands compare to the orbital energy levels you are familiar with?\n",
    "2. How does band structure determine conductivity and why?\n",
    "3. How does the size of quantum dots control their bandgap? How does this affect their emission spectrum?\n",
    "### ANSWERS"
   ]
  },
  {
   "cell_type": "markdown",
   "id": "8d51b325-46e7-4981-9e70-e2390c96ffee",
   "metadata": {},
   "source": []
  },
  {
   "cell_type": "markdown",
   "id": "a9f1fab3-0458-47ef-b920-0651d54fb95b",
   "metadata": {},
   "source": [
    "<br/><br/>"
   ]
  },
  {
   "cell_type": "markdown",
   "id": "71a06fa5-472a-4138-a35b-c5de5b996170",
   "metadata": {},
   "source": [
    "### PART 3 - Fluorescence\n",
    "\n",
    "Fluorescence occurs when a material absorbs light at one wavelength and emits light at a lower-energy (redshifted) wavelength. This happens as an excited electron relaxes back to the ground state, releasing a photon. It occurs through the following processes:\n",
    "\n",
    "1. **Excitation:** A photon promotes an electron to a higher electronic state, conserving spin.\n",
    "    - Example:  $S_0\\rightarrow S_1$​ (ground singlet state to first excited singlet state).\n",
    "2. **Thermal Relaxation:** The excited electron quickly loses energy via vibrational and conformational effects, settling into the lowest level of the excited state.\n",
    "3. **Radiative Relaxation (Emission):** The electron returns to the ground state, emitting a photon.\n",
    "Because energy is lost during thermal relaxation, the emitted photon has a longer wavelength than the absorbed photon—an effect called the **Stokes shift**.\n"
   ]
  },
  {
   "cell_type": "markdown",
   "id": "7d1a5ef0-0d43-4913-b245-cf2d929aa6ba",
   "metadata": {},
   "source": [
    "# Libraries\n",
    "- Execute the block below before going any further."
   ]
  },
  {
   "cell_type": "code",
   "execution_count": null,
   "id": "1d591b4f-da5e-49c9-b78b-fdde4dd4d701",
   "metadata": {},
   "outputs": [],
   "source": [
    "import numpy as np\n",
    "import matplotlib.pyplot as plt\n",
    "from matplotlib.widgets import Slider"
   ]
  },
  {
   "cell_type": "markdown",
   "id": "57564115-7347-4858-a843-fb209734ab35",
   "metadata": {},
   "source": [
    "### GIVEN FUNCTIONS\n",
    "* Execute the blocks containing the given functions. Don't modify these."
   ]
  },
  {
   "cell_type": "code",
   "execution_count": null,
   "id": "fb8ea734-5278-4e11-84ef-1016edae1028",
   "metadata": {},
   "outputs": [],
   "source": [
    "def plot_fluorescence_process(energy_gap=2.5, laser_wavelength=400):\n",
    "    \"\"\"\n",
    "    Interactive visualization of fluorescence with Jablonski diagram and spectra\n",
    "    \n",
    "    Parameters:\n",
    "    energy_gap - Energy difference between ground and excited states (eV)\n",
    "    laser_wavelength - Wavelength of excitation laser (nm)\n",
    "    \"\"\"\n",
    "    # Set static y-axis limits for Jablonski diagram\n",
    "    y_min = -0.5\n",
    "    y_max = 4.0\n",
    "    \n",
    "    # Energy levels\n",
    "    ground_state = 0\n",
    "    excited_state = energy_gap\n",
    "    \n",
    "    # Define min and max thresholds for vibrational energy levels\n",
    "    vib_min_threshold = excited_state\n",
    "    vib_max_threshold = excited_state + 0.3\n",
    "    \n",
    "    # Calculate the middle energy of the vibrational range\n",
    "    vib_middle_energy = (vib_min_threshold + vib_max_threshold) / 2\n",
    "    \n",
    "    # Calculate wavelength corresponding to the energies at the vibrational range boundaries\n",
    "    # Convert energy difference to wavelength\n",
    "    min_absorption_wavelength = 1240 / (vib_max_threshold - ground_state)\n",
    "    max_absorption_wavelength = 1240 / (vib_min_threshold - ground_state)\n",
    "    \n",
    "    # Use the average for the absorption center\n",
    "    absorption_center = (min_absorption_wavelength + max_absorption_wavelength) / 2\n",
    "    \n",
    "    # For the base width, use the full width between min and max wavelengths\n",
    "    # Standard deviation for Gaussian = width/(2*sqrt(2*ln(2))) for FWHM\n",
    "    # For base width (near zero intensity), use ~3 sigma rule\n",
    "    # So width_parameter = (max_wavelength - min_wavelength)/6\n",
    "    absorption_width_parameter = (max_absorption_wavelength - min_absorption_wavelength)/6\n",
    "    \n",
    "    # Calculate emission wavelength from energy gap\n",
    "    # Exaggerate the Stokes shift by adding a larger offset\n",
    "    emission_center = 1240 / energy_gap + 50  # Added +50nm to exaggerate Stokes shift\n",
    "    \n",
    "    # Laser wavelength in eV\n",
    "    laser_energy = 1240 / laser_wavelength\n",
    "    \n",
    "    # Determine where laser hits on energy scale\n",
    "    target_energy = ground_state + laser_energy\n",
    "    \n",
    "    # Determine if laser energy is within the vibrational energy range\n",
    "    laser_in_range = vib_min_threshold <= target_energy <= vib_max_threshold\n",
    "    \n",
    "    # Calculate emission intensity based on whether laser is in range\n",
    "    if laser_in_range:\n",
    "        # Relative intensity based on distance from middle of vibrational range\n",
    "        absorption_efficiency = 1.0 - abs(target_energy - vib_middle_energy) / (vib_max_threshold - vib_min_threshold)\n",
    "        emission_intensity = absorption_efficiency\n",
    "    else:\n",
    "        emission_intensity = 0.0\n",
    "    \n",
    "    # Set up the figure with two subplots\n",
    "    fig, (ax1, ax2) = plt.subplots(1, 2, figsize=(12, 6))\n",
    "    \n",
    "    #-----------------------\n",
    "    # Jablonski Diagram (left subplot)\n",
    "    #-----------------------\n",
    "    \n",
    "    # Create vibrational energy levels using np.linspace\n",
    "    vib_count = 6  # Number of vibrational levels\n",
    "    ground_vib_levels = np.linspace(ground_state + 0.05, ground_state + 0.3, vib_count)\n",
    "    excited_vib_levels = np.linspace(vib_min_threshold, vib_max_threshold, vib_count)\n",
    "    \n",
    "    # Draw energy levels (main electronic states as thicker lines)\n",
    "    ax1.hlines(ground_state, 1, 3, linewidth=2, color='blue')\n",
    "    ax1.hlines(excited_state, 1, 3, linewidth=2, color='blue')\n",
    "    \n",
    "    # Draw vibrational levels\n",
    "    for vl in ground_vib_levels:\n",
    "        ax1.hlines(vl, 1.1, 2.9, linewidth=1, color='blue', alpha=0.5)\n",
    "    \n",
    "    for vl in excited_vib_levels:\n",
    "        ax1.hlines(vl, 1.1, 2.9, linewidth=1, color='blue', alpha=0.5)\n",
    "    \n",
    "    # Gray out the Jablonski diagram if laser is out of range\n",
    "    if not laser_in_range:\n",
    "        # Gray rectangle over the whole diagram\n",
    "        ax1.axhspan(y_min, y_max, alpha=0.3, color='gray')\n",
    "        \n",
    "        # Add text explaining why no fluorescence\n",
    "        if target_energy > vib_max_threshold:\n",
    "            message = \"Laser energy too high\\nNo absorption\"\n",
    "        else:\n",
    "            message = \"Laser energy too low\\nNo absorption\"\n",
    "        \n",
    "        ax1.text(2, (ground_state + excited_state)/2, message, \n",
    "                ha='center', va='center', color='red', fontsize=12,\n",
    "                bbox=dict(facecolor='white', alpha=0.8, boxstyle='round,pad=0.5'))\n",
    "    \n",
    "    # Always draw the absorption arrow to exactly target_energy\n",
    "    if laser_in_range:\n",
    "        # Draw absorption arrow to the exact laser energy level\n",
    "        ax1.arrow(1.5, ground_state, 0, target_energy-ground_state, \n",
    "                  head_width=0.1, head_length=0.1, fc='purple', ec='purple', width=0.02)\n",
    "        \n",
    "        # Non-radiative relaxation from target to excited state baseline\n",
    "        if target_energy < excited_state:\n",
    "            ax1.plot([2, 2.3], [target_energy, excited_state], \n",
    "                    'k--', alpha=0.7)\n",
    "        else:\n",
    "            ax1.plot([2, 2.3], [target_energy, excited_state], \n",
    "                    'k--', alpha=0.7)\n",
    "        \n",
    "        # Emission arrow - from excited state to a vibrational level of ground state\n",
    "        ground_vib_level = ground_vib_levels[1]  # Choose a specific vibrational level\n",
    "        ax1.arrow(2.5, excited_state, 0, \n",
    "                 -(excited_state-ground_vib_level), \n",
    "                 head_width=0.1, head_length=0.1, fc='red', ec='red', width=0.02)\n",
    "    else:\n",
    "        # Show laser arrow but with gray color to indicate it's not active\n",
    "        ax1.arrow(1.5, ground_state, 0, target_energy-ground_state, \n",
    "                  head_width=0.1, head_length=0.1, fc='gray', ec='gray', width=0.02, \n",
    "                  alpha=0.5, linestyle='--')\n",
    "    \n",
    "    # Labels\n",
    "    ax1.text(0.7, ground_state, \"Ground State\\nS₀\", va='center')\n",
    "    ax1.text(0.7, excited_state, \"Excited State\\nS₁\", va='center')\n",
    "    \n",
    "    # Add labels for the vibrational energy range\n",
    "    ax1.text(3.2, vib_min_threshold, f\"{vib_min_threshold:.2f} eV\", va='bottom', ha='left', fontsize=8)\n",
    "    ax1.text(3.2, vib_max_threshold, f\"{vib_max_threshold:.2f} eV\", va='top', ha='left', fontsize=8)\n",
    "    ax1.plot([3.0, 3.1, 3.1], [vib_min_threshold, vib_min_threshold, vib_max_threshold], 'k-', linewidth=0.5)\n",
    "    ax1.plot([3.1, 3.1], [vib_min_threshold, vib_max_threshold], 'k-', linewidth=1.5)\n",
    "    ax1.plot([3.0, 3.1], [vib_max_threshold, vib_max_threshold], 'k-', linewidth=0.5)\n",
    "    \n",
    "    # Annotations for processes\n",
    "    if laser_in_range:\n",
    "        ax1.text(1.35, (ground_state + target_energy)/2, \"Absorption\\n(fs)\", \n",
    "                color='purple', ha='right')\n",
    "        ax1.text(2.15, (target_energy + excited_state)/2, \"Vibrational\\nRelaxation\\n(ps)\", \n",
    "                color='black', ha='center', alpha=0.7)\n",
    "        ax1.text(2.7, (excited_state + ground_vib_level)/2, \"Emission\\n(ns)\", \n",
    "                color='red', ha='left')\n",
    "    \n",
    "    # Set fixed y-axis limits for Jablonski diagram\n",
    "    ax1.set_xlim(0.5, 3.5)\n",
    "    ax1.set_ylim(y_min, y_max)\n",
    "    ax1.set_title('Jablonski Diagram')\n",
    "    ax1.set_ylabel('Energy (eV)')\n",
    "    ax1.set_xticks([])\n",
    "    \n",
    "    #-----------------------\n",
    "    # Absorption/Emission Spectra (right subplot)\n",
    "    #-----------------------\n",
    "    \n",
    "    # Create wavelength range\n",
    "    wavelengths = np.linspace(300, 700, 500)\n",
    "    \n",
    "    # Create absorption spectrum\n",
    "    # Using the width parameter calculated to give the full base width\n",
    "    gaussian_sigma = absorption_width_parameter\n",
    "    absorption = np.exp(-(wavelengths - absorption_center)**2/(2*gaussian_sigma**2))\n",
    "    \n",
    "    # Create emission spectrum (broader, red-shifted)\n",
    "    emission_width = 15\n",
    "    emission = np.exp(-(wavelengths - emission_center)**2/(2*emission_width**2))\n",
    "    \n",
    "    # Fix emission band to not cross the laser line\n",
    "    if laser_in_range and laser_wavelength < emission_center:\n",
    "        # Reduce emission intensity at wavelengths less than the laser wavelength\n",
    "        cutoff_factor = np.ones_like(wavelengths)\n",
    "        cutoff_idx = wavelengths < laser_wavelength\n",
    "        cutoff_factor[cutoff_idx] = 0.2  # Reduce but don't eliminate\n",
    "        emission = emission * cutoff_factor\n",
    "    \n",
    "    # Scale emission by absorption efficiency\n",
    "    emission = emission * emission_intensity\n",
    "    \n",
    "    # Plot absorption and emission\n",
    "    ax2.plot(wavelengths, absorption, 'b-', label='Absorption')\n",
    "    ax2.plot(wavelengths, emission, 'r-', label='Emission')\n",
    "    \n",
    "    # Add annotations showing wavelength range of absorption band\n",
    "    ax2.axvline(x=min_absorption_wavelength, color='blue', linestyle='--', alpha=0.5)\n",
    "    ax2.axvline(x=max_absorption_wavelength, color='blue', linestyle='--', alpha=0.5)\n",
    "    ax2.text(min_absorption_wavelength, 0.2, f\"{min_absorption_wavelength:.0f} nm\", \n",
    "             rotation=90, color='blue', ha='right', va='bottom', fontsize=8)\n",
    "    ax2.text(max_absorption_wavelength, 0.2, f\"{max_absorption_wavelength:.0f} nm\", \n",
    "             rotation=90, color='blue', ha='left', va='bottom', fontsize=8)\n",
    "    \n",
    "    # Plot laser line as vertical line\n",
    "    ax2.axvline(x=laser_wavelength, color='purple', linestyle='-', linewidth=2, label='Laser')\n",
    "    \n",
    "    # Add text about laser\n",
    "    if laser_in_range:\n",
    "        ax2.text(laser_wavelength+5, 0.5, f\"Laser: {laser_wavelength} nm\", \n",
    "                color='purple', ha='left', va='center',\n",
    "                bbox=dict(facecolor='white', alpha=0.7, boxstyle='round,pad=0.3'))\n",
    "    else:\n",
    "        ax2.text(laser_wavelength+5, 0.5, f\"Laser: {laser_wavelength} nm\\n(No absorption)\", \n",
    "                color='gray', ha='left', va='center',\n",
    "                bbox=dict(facecolor='white', alpha=0.7, boxstyle='round,pad=0.3'))\n",
    "    \n",
    "    # Add disclaimer about scale\n",
    "    ax2.text(500, 0.05, \"Note: Stokes shift exaggerated for visualization.\", \n",
    "             ha='center', va='bottom', style='italic', fontsize=9,\n",
    "             bbox=dict(facecolor='white', alpha=0.7, boxstyle='round,pad=0.3'))\n",
    "    \n",
    "    ax2.set_xlabel('Wavelength (nm)')\n",
    "    ax2.set_ylabel('Normalized Intensity')\n",
    "    ax2.set_title('Absorption and Emission Spectra')\n",
    "    ax2.legend()\n",
    "    ax2.grid(True, alpha=0.3)\n",
    "    ax2.set_xlim(300, 700)\n",
    "    ax2.set_ylim(0, 1.1)\n",
    "    \n",
    "    plt.tight_layout()\n",
    "    plt.show()"
   ]
  },
  {
   "cell_type": "code",
   "execution_count": null,
   "id": "a8e43d8d-8e62-4374-954c-f768d125a380",
   "metadata": {},
   "outputs": [],
   "source": [
    "def interactive_fluorescence():\n",
    "    \"\"\"Create interactive widgets to control fluorescence visualization\"\"\"\n",
    "    interact(\n",
    "        plot_fluorescence_process,\n",
    "        energy_gap=FloatSlider(min=1.8, max=3.5, step=0.1, value=2.5, \n",
    "                             description='Energy Gap (eV):'),\n",
    "        laser_wavelength=FloatSlider(min=300, max=600, step=5, value=400, \n",
    "                                   description='Laser λ (nm):')\n",
    "    )"
   ]
  },
  {
   "cell_type": "markdown",
   "id": "1d013eab-41a4-44ba-844f-39f5fb6c6595",
   "metadata": {},
   "source": [
    "### CODE\n",
    "- Use the `interactive_fluorescence()` function to explore fluorescence.\n"
   ]
  },
  {
   "cell_type": "code",
   "execution_count": null,
   "id": "644af756-4ddd-4465-9dd2-e9af1d118b47",
   "metadata": {},
   "outputs": [],
   "source": [
    "# call the function here!"
   ]
  },
  {
   "cell_type": "markdown",
   "id": "11ba1639-7be9-4417-a0a3-1b4c0f6186f8",
   "metadata": {},
   "source": [
    "### SHORT RESPONSE QUESTIONS\n",
    "1. Why is emitted light usually lower energy than absorbed light in fluorescence?\n",
    "2. Why are a range of values absorbed instead of a single sharp peak, if energy levels are quantized?\n",
    "3. How are the effects that cause the emitted light to be lower in energy and the effects that cause peak broadening related?\n",
    "### ANSWERS"
   ]
  },
  {
   "cell_type": "markdown",
   "id": "74b37466-6969-4a39-9852-d7fc1dcf8be3",
   "metadata": {},
   "source": []
  },
  {
   "cell_type": "markdown",
   "id": "2a6634a9-7255-459e-b5ed-e951a29c0142",
   "metadata": {},
   "source": [
    "<br/><br/>"
   ]
  },
  {
   "cell_type": "markdown",
   "id": "863f35de-e193-4d5a-ae37-c57a3ba98893",
   "metadata": {},
   "source": [
    "### PART 4 - Quantum Yield\n",
    "The **quantum yield** $\\Phi$ is the fraction of absorbed photons that result in emitted photons:\n",
    "$$\n",
    "\\Phi = \\frac{N_E}{N_A} =\\frac{k_r}{\\Sigma_ik_i}\n",
    "$$\n",
    "where $k_r$ is the radiative decay rate and $\\Sigma{}k_i$ represents the cumulative rate of the relaxation processes (including radiative decay). Nonradiative decay (e.g., heat dissipation) reduces fluorescence efficiency.\n",
    "\n",
    "__The Challenge: A Vast Parameter Space__  \n",
    "Inorganic materials, including quantum dots, have a huge parameter space of variables that can influence quantum yield—composition, size, shape, surface chemistry, and environmental factors, among others. Experimentally testing all possible variations is impractical.\n",
    "\n",
    "__The Solution: Machine Learning__  \n",
    "Instead of testing every possible combination in the lab, we can use machine learning to identify patterns and predict quantum yield based on known data. By training models on existing datasets, we can:\n",
    "\n",
    "- Discover key factors that influence fluorescence efficiency\n",
    "- Predict the quantum yield of new materials before synthesizing them.\n",
    "- Optimize material properties to maximize fluorescence.\n",
    "\n",
    "We'll explore a simplified example of this here, using a RandomForestClassifier."
   ]
  },
  {
   "cell_type": "markdown",
   "id": "d89bcbd2-d04c-4c58-9c93-36c6ad51106a",
   "metadata": {},
   "source": [
    "# Libraries\n",
    "- Execute the block below before going any further."
   ]
  },
  {
   "cell_type": "code",
   "execution_count": null,
   "id": "f86602e9-8b4d-4cfe-aee5-51e04dd0697f",
   "metadata": {},
   "outputs": [],
   "source": [
    "from sklearn.ensemble import RandomForestClassifier\n",
    "from sklearn.model_selection import train_test_split\n",
    "from sklearn.metrics import accuracy_score, confusion_matrix"
   ]
  },
  {
   "cell_type": "markdown",
   "id": "dbff17a1-7513-4e10-8181-00db5b54664b",
   "metadata": {},
   "source": [
    "### GIVEN CODE\n",
    "* Execute the blocks containing the given code. Don't modify these."
   ]
  },
  {
   "cell_type": "code",
   "execution_count": null,
   "id": "110b0b90-e6c5-4120-8337-0f4ca3af425e",
   "metadata": {},
   "outputs": [],
   "source": [
    "# Generate synthetic data\n",
    "np.random.seed(42)\n",
    "n_samples = 100\n",
    "\n",
    "# Create just 3 features\n",
    "size = np.random.uniform(2, 10, n_samples)           # Diameter in nm\n",
    "bandgap = np.random.uniform(1.5, 3.5, n_samples)     # Bandgap in eV\n",
    "shell_ratio = np.random.uniform(0, 0.5, n_samples)   # Core/shell thickness ratio\n",
    "\n",
    "# Combine features\n",
    "X = np.column_stack([size, bandgap, shell_ratio])\n",
    "\n",
    "# Generate target: good quantum yield (>50%) = 1, otherwise = 0\n",
    "y = np.zeros(n_samples)\n",
    "for i in range(n_samples):\n",
    "    # Simple rule: good QY if size is moderate, bandgap is in optimal range, and shell is thick\n",
    "    if (3 <= size[i] <= 6) and (2.0 <= bandgap[i] <= 3.0) and (shell_ratio[i] > 0.2):\n",
    "        y[i] = 1\n",
    "    # Add some randomness\n",
    "    if np.random.random() < 0.15:  # 15% noise\n",
    "        y[i] = 1 - y[i]  # Flip the classification"
   ]
  },
  {
   "cell_type": "markdown",
   "id": "ba30e7c3-3e80-4851-a349-2085d1c8b89c",
   "metadata": {},
   "source": [
    "### GIVEN FUNCTIONS\n",
    "* Execute the blocks containing the given functions. Don't modify these."
   ]
  },
  {
   "cell_type": "code",
   "execution_count": null,
   "id": "6a8483fc-d2e9-47f0-8dfc-5a1ec8e8d8f3",
   "metadata": {},
   "outputs": [],
   "source": [
    "def plot_feature_importances(importances):\n",
    "    plt.figure(figsize=(8, 5))\n",
    "    feature_names = ['Diameter (nm)', 'Bandgap (eV)', 'Shell Ratio']\n",
    "    plt.bar(feature_names, importances)\n",
    "    plt.title('Feature Importance for Quantum Dot Classification')\n",
    "    plt.ylabel('Importance')\n",
    "    plt.ylim(0, 1)\n",
    "    plt.show()"
   ]
  },
  {
   "cell_type": "code",
   "execution_count": null,
   "id": "dc80760f-5599-4abd-8dea-c4ba9ddf14a7",
   "metadata": {},
   "outputs": [],
   "source": [
    "def plot_model_predictions(X_test,y_test,correct):\n",
    "    plt.figure(figsize=(8, 6))\n",
    "    plt.scatter(X_test[correct & (y_test == 0), 0], X_test[correct & (y_test == 0), 1], \n",
    "               color='red', marker='o', s=80, label='Correct: Low QY', alpha=0.7)\n",
    "    plt.scatter(X_test[correct & (y_test == 1), 0], X_test[correct & (y_test == 1), 1], \n",
    "               color='blue', marker='o', s=80, label='Correct: High QY', alpha=0.7)\n",
    "    \n",
    "    # Incorrect predictions\n",
    "    plt.scatter(X_test[~correct & (y_test == 0), 0], X_test[~correct & (y_test == 0), 1], \n",
    "               color='red', marker='X', s=100, edgecolors='black', linewidth=1.5,\n",
    "               label='Incorrect: Actually Low QY', alpha=0.7)\n",
    "    plt.scatter(X_test[~correct & (y_test == 1), 0], X_test[~correct & (y_test == 1), 1], \n",
    "               color='blue', marker='X', s=100, edgecolors='black', linewidth=1.5,\n",
    "               label='Incorrect: Actually High QY', alpha=0.7)\n",
    "    \n",
    "    plt.xlabel('Diameter (nm)')\n",
    "    plt.ylabel('Bandgap (eV)')\n",
    "    plt.title(f'Model Predictions vs Actual Classes (Accuracy: {accuracy:.2f})')\n",
    "    plt.legend()\n",
    "    plt.grid(True, alpha=0.3)\n",
    "    plt.tight_layout()\n",
    "    plt.show()"
   ]
  },
  {
   "cell_type": "code",
   "execution_count": null,
   "id": "9b35c2b2-1680-4a99-822a-ba763f49602f",
   "metadata": {},
   "outputs": [],
   "source": [
    "def plot_confusion_matrix(cm):\n",
    "    plt.figure(figsize=(6, 5))\n",
    "    plt.imshow(cm, interpolation='nearest', cmap=plt.cm.Blues)\n",
    "    plt.title('Confusion Matrix')\n",
    "    plt.colorbar()\n",
    "    plt.xticks([0, 1], ['Low QY', 'High QY'])\n",
    "    plt.yticks([0, 1], ['Low QY', 'High QY'])\n",
    "    \n",
    "    # Add text annotations\n",
    "    for i in range(cm.shape[0]):\n",
    "        for j in range(cm.shape[1]):\n",
    "            plt.text(j, i, format(cm[i, j], 'd'),\n",
    "                     ha=\"center\", va=\"center\",\n",
    "                     color=\"white\" if cm[i, j] > cm.max()/2 else \"black\")\n",
    "    \n",
    "    plt.ylabel('True label')\n",
    "    plt.xlabel('Predicted label')\n",
    "    plt.tight_layout()\n",
    "    plt.show()"
   ]
  },
  {
   "cell_type": "markdown",
   "id": "24ac5d6b-6d73-403d-8c69-4838559fc528",
   "metadata": {},
   "source": [
    "### CODE\n",
    "- Create a RandomForestClassifier model.\n",
    "- Train the model and use it to predict the test set.\n",
    "- Plot the feature importance.\n",
    "- Plot the test set of data with incorrect predictions labeled.\n",
    "- Plot the confusion matrix for our data."
   ]
  },
  {
   "cell_type": "code",
   "execution_count": null,
   "id": "88549916-091c-4ba1-8fc8-83e8ab994ad4",
   "metadata": {},
   "outputs": [],
   "source": [
    "# X and y here were generated a few cells ago\n",
    "# Train/test split\n",
    "X_train, X_test, y_train, y_test = train_test_split(X, y, test_size=0.3, random_state=42)\n",
    "\n",
    "# Train a simple random forest\n",
    "model = RandomForestClassifier(n_estimators=10, max_depth=3, random_state=42)\n",
    "# train the model on X_train and y_train\n",
    "y_pred = #make a prediction on X_test \n",
    "\n",
    "# compare y_pred to y_test\n",
    "accuracy = accuracy_score(y_test, y_pred)\n",
    "print(f\"Model accuracy: {accuracy:.4f}\")\n",
    "\n",
    "# Plot 1: Feature importance\n",
    "plot_feature_importances(model.feature_importances_)"
   ]
  },
  {
   "cell_type": "code",
   "execution_count": null,
   "id": "68782255-4bcf-43ae-87f1-c33e7d56ef51",
   "metadata": {},
   "outputs": [],
   "source": [
    "# Plot test points with their predicted classes\n",
    "correct = y_test == y_pred\n",
    "# call the plot_model_predictions function with X_test, y_test, and correct as the parameters"
   ]
  },
  {
   "cell_type": "code",
   "execution_count": null,
   "id": "ea4d4a00-9e46-41e6-84ff-5626241b57d8",
   "metadata": {},
   "outputs": [],
   "source": [
    "# Plot 3: Confusion matrix\n",
    "cm = confusion_matrix(y_test, y_pred) #this is a builtin function from sklearn\n",
    "#use the plot_confusion_matrix() function with cm as the argument"
   ]
  },
  {
   "cell_type": "markdown",
   "id": "97109290-aa12-41a6-9258-7b647a539800",
   "metadata": {},
   "source": [
    "### SHORT RESPONSE QUESTIONS\n",
    "1. What properties of a system might cause it to have a higher or lower quantum yield?\n",
    "2. Wny do we separate data into train and test sets?\n",
    "3. What properties does our ML model predict as being most important for whether we get a high quantum yield?\n",
    "4. Based on our confusion matrix, how well does our model perform? How many false positives and false negatives were there? Would it be useful for making predictions? Why or why not?\n",
    "5. `Bonus`: How does a RandomForestClassifier work?\n",
    "### ANSWERS"
   ]
  },
  {
   "cell_type": "markdown",
   "id": "3c555388-feda-413f-b039-bbb6949ddab0",
   "metadata": {},
   "source": []
  },
  {
   "cell_type": "markdown",
   "id": "f2ae1fc6-9071-4b90-9358-32329103aac3",
   "metadata": {},
   "source": [
    "<br/><br/>\n",
    "<br/><br/>"
   ]
  },
  {
   "cell_type": "markdown",
   "id": "f4917e13-4f23-4c34-8b52-71e7fa151cc7",
   "metadata": {},
   "source": [
    "# Reflection"
   ]
  },
  {
   "cell_type": "markdown",
   "id": "f7b7ae28-6c24-4d21-890f-11cb23b0adcf",
   "metadata": {},
   "source": [
    "### SHORT RESPONSE QUESTIONS\n",
    "1. How do the ideas of band theory, semiconductors, fluorescence, and quantum yield all come together to explain the behavior of quantum dots?\n",
    "2. What are some ways machine learning techniques can give us insight into chemical problems?\n",
    "### ANSWERS"
   ]
  },
  {
   "cell_type": "markdown",
   "id": "0d806be8-12d5-40e5-8375-bfb60cff3909",
   "metadata": {},
   "source": []
  }
 ],
 "metadata": {
  "kernelspec": {
   "display_name": "Python 3 (ipykernel)",
   "language": "python",
   "name": "python3"
  },
  "language_info": {
   "codemirror_mode": {
    "name": "ipython",
    "version": 3
   },
   "file_extension": ".py",
   "mimetype": "text/x-python",
   "name": "python",
   "nbconvert_exporter": "python",
   "pygments_lexer": "ipython3",
   "version": "3.11.10"
  }
 },
 "nbformat": 4,
 "nbformat_minor": 5
}
