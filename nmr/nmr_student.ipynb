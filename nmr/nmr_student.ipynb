{
 "cells": [
  {
   "cell_type": "markdown",
   "id": "1bede9b6-0d2e-417c-9942-d925c22cddd5",
   "metadata": {},
   "source": [
    "# Libraries\n",
    "* Execute this cell before going any further."
   ]
  },
  {
   "cell_type": "code",
   "execution_count": null,
   "id": "6998811b-34ec-4f9d-a422-5c256b3518cd",
   "metadata": {},
   "outputs": [],
   "source": [
    "import ipywidgets as widgets\n",
    "import matplotlib.pyplot as plt\n",
    "import numpy as np\n",
    "import pandas as pd\n",
    "from scipy.fft import fft, ifft, fftfreq"
   ]
  },
  {
   "cell_type": "markdown",
   "id": "6fbac074-bcd8-4dfd-be37-b50c66217188",
   "metadata": {},
   "source": [
    "<br/><br/>"
   ]
  },
  {
   "cell_type": "markdown",
   "id": "94e2013a-d75b-4cb6-88bb-a36a629e23cf",
   "metadata": {},
   "source": [
    "# Warmup"
   ]
  },
  {
   "cell_type": "markdown",
   "id": "af66d235-4972-45f4-8a64-08eef8f61c7b",
   "metadata": {},
   "source": [
    "## Signal Processing\n"
   ]
  },
  {
   "cell_type": "markdown",
   "id": "4c5121d3-8de6-4e7b-aa96-e13b274d86f4",
   "metadata": {},
   "source": [
    "In this warmup activity, you'll explore how Fourier transforms convert signals between time and frequency domains—a critical technique in NMR spectroscopy. You'll generate a complex signal, transform it to view its frequency components, apply filtering, and reconstruct the filtered signal.\n",
    "\n",
    "This process mirrors how actual NMR data is processed: raw FID signals are converted to the frequency domain where specific frequencies can be isolated or enhanced, and noise can be removed. By implementing this signal processing pipeline step-by-step, you'll gain intuition for how spectral data is manipulated to extract meaningful information from experimental measurements.\n",
    "\n",
    "As you work through the code, pay attention to how the filtering changes your signal's appearance. Consider how these same principles apply when processing the complex signals that emerge from actual NMR instruments."
   ]
  },
  {
   "cell_type": "markdown",
   "id": "85e74465-0cbf-4ed7-8cb4-df46464f7e12",
   "metadata": {},
   "source": [
    "### GIVEN CODE\n",
    "* Execute the blocks below. Don't modify these."
   ]
  },
  {
   "cell_type": "code",
   "execution_count": null,
   "id": "026e40ba-d118-4584-bcff-4b76d3a20562",
   "metadata": {},
   "outputs": [],
   "source": [
    "# Step 1: Generate and plot a raw signal\n",
    "# Time domain settings\n",
    "sampling_rate = 500  # Hz\n",
    "duration = 1.0       # seconds\n",
    "t = np.linspace(0, duration, int(sampling_rate * duration))\n",
    "\n",
    "# Generate a composite signal (3 frequencies + noise)\n",
    "freqs = [5, 15, 50]  # Hz\n",
    "amplitudes = [1.0, 0.5, 0.25]\n",
    "\n",
    "# Generate the signal\n",
    "signal = np.zeros_like(t)\n",
    "for freq, amp in zip(freqs, amplitudes):\n",
    "    signal += amp * np.sin(2 * np.pi * freq * t)\n",
    "\n",
    "# Add noise\n",
    "noise_level = 0.3\n",
    "noise = noise_level * np.random.randn(len(t))\n",
    "signal = signal + noise #this is your signal for the following parts!"
   ]
  },
  {
   "cell_type": "markdown",
   "id": "00d81008-8477-4ad9-b1bf-925296863688",
   "metadata": {},
   "source": [
    "### CODE\n",
    "- Perform each of the following, plotting the output for every step.\n",
    "- Plot the time domain spectrum.\n",
    "- Perform a Fourier transform to obtain a frequency domain spectrum.\n",
    "- Truncate all frequencies above a certain threshold to eliminate noise.\n",
    "- Use an inverse fourier transform, to convert the data back to the time domain."
   ]
  },
  {
   "cell_type": "code",
   "execution_count": null,
   "id": "fcf920ed-23d1-46ce-8afb-560a69623bd7",
   "metadata": {},
   "outputs": [],
   "source": [
    "# Plot original signal in time domain\n",
    "# plt.plot() #plot signal vs t\n",
    "# plt.title()\n",
    "# plt.xlabel()\n",
    "# plt.ylabel()\n",
    "# plt.grid(True)\n",
    "# plt.show()"
   ]
  },
  {
   "cell_type": "code",
   "execution_count": null,
   "id": "19c730e6-4c81-44a4-95c0-39e56d60beda",
   "metadata": {},
   "outputs": [],
   "source": [
    "# # Step 2: Compute and plot the FFT\n",
    "# N = len(t)\n",
    "# fft_signal = fft(#takes one argument, the signal (don't need time)\n",
    "# freqs = fftfreq(N, 1/sampling_rate)\n",
    "\n",
    "# # We only need positive frequencies for plotting\n",
    "# pos_freqs = freqs[:N//2]\n",
    "# pos_fft = np.abs(fft_signal[:N//2]) / N  # Normalize\n",
    "\n",
    "# Plot original signal in frequency domain\n",
    "# plt.plot() # plot positive part of FFT vs positive frequencies\n",
    "# plt.title(\n",
    "# plt.xlabel(\n",
    "# plt.ylabel(\n",
    "# plt.xlim(0, 100)  # Focus on first 100 Hz\n",
    "# plt.grid(True)\n",
    "# plt.show()"
   ]
  },
  {
   "cell_type": "code",
   "execution_count": null,
   "id": "66bf5123-11d1-4bbf-83f1-0e5ad852ceef",
   "metadata": {},
   "outputs": [],
   "source": [
    "# Step 3: Apply a low-pass filter and plot\n",
    "# cutoff_freq = #set the cutoff frequency for low-pass filter\n",
    "# filtered_fft = fft_signal.copy()\n",
    "# filter_mask = np.abs(freqs) > cutoff_freq\n",
    "# filtered_fft[filter_mask] = 0  # Zero out high frequencies\n",
    "\n",
    "# Plot filtered signal in frequency domain\n",
    "# pos_filtered_fft = np.abs(filtered_fft[:N//2]) / N\n",
    "\n",
    "# plt.plot( #plot positive filtered fft versus positive frequencies\n",
    "# plt.title(\n",
    "# plt.xlabel(\n",
    "# plt.ylabel(\n",
    "# plt.xlim(0, 100)  # Focus on first 100 Hz\n",
    "# plt.axvspan(cutoff_freq, 100, alpha=0.2, color='red')  # Highlight filtered region\n",
    "# plt.grid(True)\n",
    "# plt.show()\n"
   ]
  },
  {
   "cell_type": "code",
   "execution_count": null,
   "id": "deceb29c-172f-4213-b1ce-5274b9c2af04",
   "metadata": {},
   "outputs": [],
   "source": [
    "# Step 4: Convert back to time domain and plot\n",
    "#replace your_argument_here with the filtered fft\n",
    "# filtered_signal = ifft(your_argument_here).real\n",
    "\n",
    "# Plot filtered signal in time domain\n",
    "\n",
    "# plt.plot( #plot filtered signal versus time\n",
    "# plt.title(\n",
    "# plt.xlabel(\n",
    "# plt.ylabel(\n",
    "# plt.grid(True)\n",
    "# plt.show()"
   ]
  },
  {
   "cell_type": "markdown",
   "id": "f09fadaa-0d5b-4271-8ae5-716f88d1b1bb",
   "metadata": {},
   "source": [
    "<br/><br/>\n",
    "<br/><br/>"
   ]
  },
  {
   "cell_type": "markdown",
   "id": "f4b906a7-2eef-4953-be60-ecf702831f2f",
   "metadata": {},
   "source": [
    "# Magnetism and Precession"
   ]
  },
  {
   "cell_type": "markdown",
   "id": "0f74ff59-72ea-452a-afb6-ea0180ea3c5d",
   "metadata": {},
   "source": [
    "Before we can understand what an NMR instrument does, we should understand what is happening for individual nuclei in the sample."
   ]
  },
  {
   "cell_type": "markdown",
   "id": "cac99033-8f22-4e8d-ae04-72ebf89b5830",
   "metadata": {},
   "source": [
    "## Magnetic Energy Splitting\n",
    "Protons and neutrons, like electrons, are spin-one-half particles. Nuclei are made of protons and neutrons. In general, a nucleus with an odd number of protons and neutrons will be spin one-half and a nucleus with an even number of these will be spin zero. Nuclei are charged, so their spin angular momentum generates a magnetic moment which interacts with an external magnetic field to increase or decrease the energy of the nucleus.\n",
    "\n",
    "The energy splitting depends the __gyromagnetic ratio__ $\\gamma$, which is different for each nucleus ($~2.68\\times{}10^8 s^{-1}T^{-1}$for hydrogen), and the strength of the applied field, $B_0$.\n",
    "$$\n",
    "\\Delta{}E = \\gamma{}B_0\\hbar\n",
    "$$ \n",
    "(where $B_0$ is the applied magnetic field)\n",
    "\n",
    "We call the lower energy state ($m_s = +\\frac{1}{2}$) the $\\alpha$ state and the higher energy state ($m_s = -\\frac{1}{2}$) the $\\beta$ state.\n",
    "\n",
    "The magnetism experienced by a nucleus in a molecule is not necessarily the same as the strength of the applied field $B_0$. A magnetic field will induce currents in the electron cloud of a molecule, and these will either reinforce or oppose the applied field. This is called shielding, which we represent by the parameter $\\sigma$:\n",
    "$$\n",
    "B_{eff} = (1-\\sigma)B_0\n",
    "$$\n",
    "\n",
    "Plugging this into our formula for energy splitting:\n",
    "$$\n",
    "\\Delta{}E = \\gamma{}B_{z}\\hbar =  \\gamma{}(1-\\sigma)B_0\\hbar\n",
    "$$\n",
    "\n",
    "So energy depends on three parameters: $\\gamma$, $\\sigma$, and $B_0$.\n"
   ]
  },
  {
   "cell_type": "markdown",
   "id": "a2e039a4-b023-4859-9f14-2a17b4abaa00",
   "metadata": {},
   "source": [
    "### CODE\n",
    "* Create a function for $\\Delta_E$. It should accept the parameters gamma, sigma, and B_0 and return the energy. Don't worry about units.\n",
    "* Create a function which plots the energy of this function with respect to gamma and sigma, and accepts B_0 as an argument.\n",
    "* Create an interactive plot with a slider for B_0, and explore the dependency."
   ]
  },
  {
   "cell_type": "code",
   "execution_count": null,
   "id": "e64b916c-0888-4155-8cb7-8e29318936d8",
   "metadata": {},
   "outputs": [],
   "source": []
  },
  {
   "cell_type": "markdown",
   "id": "8df57010-4506-463f-a802-fe36d2916d1b",
   "metadata": {},
   "source": [
    "### SHORT RESPONSE QUESTIONS\n",
    "1. How does the energy required to promote a nucleus from the alpha state to the beta state depend on the nucleus? On nearby functional groups?\n",
    "<!-- 2. How does a 3d plot with a slider allow us to explore a function which depends on three parameters? How else could we visualize it? What other problems do you encounter that such visualization techniques might be useful for exploring? -->\n",
    "### ANSWERS"
   ]
  },
  {
   "cell_type": "markdown",
   "id": "9aeac3cd-b952-45db-b78e-2314b975355f",
   "metadata": {},
   "source": []
  },
  {
   "cell_type": "markdown",
   "id": "cda4c686-3fd3-457d-b6ca-6e6fb303722c",
   "metadata": {},
   "source": [
    "<br/><br/>"
   ]
  },
  {
   "cell_type": "markdown",
   "id": "c8119c44-283e-4988-9250-f7145d730f01",
   "metadata": {},
   "source": [
    "## Magnetic Precession\n",
    "As we've seen, if a particle's magnetic moment is parallel or antiparallel to an applied field, this will rather straightforwardly increase or decrease its energy. But what happens if the magnetic moment is oriented perpendicular to the field, or at some arbitrary angle from parallel? \n",
    "\n",
    "This would occur if the particle was in an angular momentum eigenstate for an axis not aligned with the magnetic field. When a nucleus exists in such a state, the applied field $B_z$ will cause its magnetic moment to precess - that is, to rotate about the z axis. More precisely, the expectation values of the x and y components of angular momentum will change in time.\n",
    "\t$$\n",
    "    \\braket{I_x} = \\frac{\\hbar}{2}sin(\\alpha)cos(\\gamma{}B_zt)\n",
    "\t$$\n",
    "    $$\n",
    "    \\braket{I_y} = -\\frac{\\hbar}{2}sin(\\alpha)sin(\\gamma{}B_zt)\n",
    "    $$\n",
    "\t(Where $B_z = (1-\\alpha)B_0$ and $\\alpha$ is the angle between the spin axis and the z-axis)\n",
    "\n",
    "We will use the symbol $\\omega_0$ for the angular frequency of oscillation. Notice that this value, equal to $\\gamma{}B_z$, is exactly equal to the energy difference between the $\\alpha$ and $\\beta$ states divided by $\\hbar$:\n",
    "$$\n",
    "\\omega_0 = \\gamma{}B_z = \\frac{\\Delta{}E}{\\hbar}\n",
    "$$\n",
    "\n",
    "This is rather interesting: the frequency at which spin precesses is precisely the frequency of electromagnetic radiation that would induce transitions between the energy levels! This is called the Larmor frequency, and it is a fundamental value for obtaining an NMR spectrum.\n"
   ]
  },
  {
   "cell_type": "markdown",
   "id": "c01ea130-d0da-42a4-b7d5-24c5971a77e4",
   "metadata": {},
   "source": [
    "### GIVEN FUNCTIONS\n",
    "* Execute the blocks containing the given functions. Don't modify these."
   ]
  },
  {
   "cell_type": "code",
   "execution_count": null,
   "id": "5936d8c1-9768-435c-97d5-d521b1ef7c0d",
   "metadata": {},
   "outputs": [],
   "source": [
    "import numpy as np\n",
    "import matplotlib.pyplot as plt\n",
    "from mpl_toolkits.mplot3d import Axes3D\n",
    "import ipywidgets as widgets\n",
    "from IPython.display import display, clear_output\n",
    "from matplotlib import cm\n",
    "\n",
    "def plot_precession(angle=30, B0=1.0, time=0.0):\n",
    "    \"\"\"\n",
    "    Plot the precession of a spin in a magnetic field using atomic units.\n",
    "    \n",
    "    Parameters:\n",
    "    angle : float\n",
    "        Angle between the spin and the z-axis in degrees\n",
    "    B0 : float\n",
    "        Strength of the magnetic field (relative scale)\n",
    "    time : float\n",
    "        Time in arbitrary units (0-1 represents a full cycle)\n",
    "    \"\"\"\n",
    "    # Clear previous plot\n",
    "    clear_output(wait=True)\n",
    "    \n",
    "    # Create new figure\n",
    "    fig = plt.figure(figsize=(8, 6))\n",
    "    ax = fig.add_subplot(111, projection='3d')\n",
    "    \n",
    "    # Convert angle to radians\n",
    "    angle_rad = np.radians(angle)\n",
    "    \n",
    "    # For simplicity, we'll use a scaled frequency that makes visualization easier\n",
    "    # This makes one full time unit (0-1) correspond to one full cycle\n",
    "    omega = 2 * np.pi * B0  # full cycle when time=1\n",
    "    \n",
    "    # Energy difference (proportional to B0)\n",
    "    energy_diff = B0\n",
    "    \n",
    "    # Plot axes and labels\n",
    "    ax.set_xlim(-1.2, 1.2)\n",
    "    ax.set_ylim(-1.2, 1.2)\n",
    "    ax.set_zlim(-1.2, 1.2)\n",
    "    ax.set_xlabel('X')\n",
    "    ax.set_ylabel('Y')\n",
    "    ax.set_zlabel('Z')\n",
    "    ax.set_title(f'Spin Precession in Magnetic Field\\nB₀ = {B0:.1f}, Angle = {angle}°')\n",
    "    \n",
    "    # Draw B0 field vector\n",
    "    ax.quiver(0, 0, 0, 0, 0, 1.0, color='blue', arrow_length_ratio=0.1, label='B₀')\n",
    "    \n",
    "    # Current precession position \n",
    "    current_angle = omega * time\n",
    "    x_position = np.sin(angle_rad) * np.cos(current_angle)\n",
    "    y_position = np.sin(angle_rad) * np.sin(current_angle)\n",
    "    z_position = np.cos(angle_rad)\n",
    "    \n",
    "    # Draw magnetic moment vector\n",
    "    ax.quiver(0, 0, 0, x_position, y_position, z_position, \n",
    "             color='red', arrow_length_ratio=0.1, label='μ')\n",
    "    \n",
    "    # Draw the cone as a surface\n",
    "    # Create cone around the current position\n",
    "    cone_half_angle = np.radians(20)  # Smaller cone for clarity\n",
    "    \n",
    "    # Generate cone using meshgrid for better surface plotting\n",
    "    u = np.linspace(0, 1, 8)  # Height along cone axis (fewer points for speed)\n",
    "    v = np.linspace(0, 2*np.pi, 12)  # Angle around cone (fewer points for speed)\n",
    "    \n",
    "    U, V = np.meshgrid(u, v)\n",
    "    \n",
    "    # Create cone aligned with z-axis\n",
    "    X = U * np.sin(cone_half_angle) * np.cos(V)\n",
    "    Y = U * np.sin(cone_half_angle) * np.sin(V)\n",
    "    Z = U * np.cos(cone_half_angle)\n",
    "    \n",
    "    # Rotation matrix to align cone with the magnetic moment\n",
    "    # First, find the rotation that takes [0,0,1] to our moment direction\n",
    "    from_vec = np.array([0, 0, 1])\n",
    "    to_vec = np.array([x_position, y_position, z_position])\n",
    "    \n",
    "    # Simple rotation for this case - just rotate around the origin\n",
    "    # This simplified approach works for our visualization purposes\n",
    "    # Get the current position angle in the XY plane\n",
    "    phi = np.arctan2(y_position, x_position)\n",
    "    \n",
    "    # First rotate around y-axis to get the right zenith angle\n",
    "    theta = np.arccos(z_position)\n",
    "    \n",
    "    # Apply rotations to each point\n",
    "    X_rot, Y_rot, Z_rot = np.zeros_like(X), np.zeros_like(Y), np.zeros_like(Z)\n",
    "    \n",
    "    # Apply the rotations\n",
    "    # First around y-axis (theta)\n",
    "    for i in range(X.shape[0]):\n",
    "        for j in range(X.shape[1]):\n",
    "            # Rotate point\n",
    "            x, y, z = X[i,j], Y[i,j], Z[i,j]\n",
    "            \n",
    "            # Rotate around y-axis by theta\n",
    "            x_new = x * np.cos(theta) + z * np.sin(theta)\n",
    "            y_new = y\n",
    "            z_new = -x * np.sin(theta) + z * np.cos(theta)\n",
    "            \n",
    "            # Rotate around z-axis by phi\n",
    "            X_rot[i,j] = x_new * np.cos(phi) - y_new * np.sin(phi)\n",
    "            Y_rot[i,j] = x_new * np.sin(phi) + y_new * np.cos(phi)\n",
    "            Z_rot[i,j] = z_new\n",
    "    \n",
    "    # Plot the cone as a surface\n",
    "    ax.plot_surface(X_rot, Y_rot, Z_rot, alpha=0.3, color='green', \n",
    "                   rstride=1, cstride=1, linewidth=0)\n",
    "    \n",
    "    # Draw the circular path for precession (just the circle, not individual points)\n",
    "    theta_path = np.linspace(0, 2*np.pi, 40)  # Fewer points for speed\n",
    "    x_path = np.sin(angle_rad) * np.cos(theta_path)\n",
    "    y_path = np.sin(angle_rad) * np.sin(theta_path)\n",
    "    z_path = np.cos(angle_rad) * np.ones_like(theta_path)\n",
    "    ax.plot(x_path, y_path, z_path, 'b--', alpha=0.5, label='Precession path')\n",
    "    \n",
    "    # Current position on the precession path\n",
    "    ax.scatter([x_position], [y_position], [z_position], color='red', s=50)\n",
    "    \n",
    "    # Add simplified formula display\n",
    "    formula_text = (\n",
    "        f\"$\\\\langle I_x \\\\rangle = \\\\frac{{\\\\hbar}}{{2}}\\\\sin({angle}°)\\\\cos(\\\\omega t)$\\n\"\n",
    "        f\"$\\\\langle I_y \\\\rangle = -\\\\frac{{\\\\hbar}}{{2}}\\\\sin({angle}°)\\\\sin(\\\\omega t)$\\n\"\n",
    "        f\"$\\\\omega = \\\\gamma B_0 = {B0:.1f}$ (in relative units)\"\n",
    "    )\n",
    "    plt.figtext(0.1, 0.05, formula_text)\n",
    "    \n",
    "    # Add legend\n",
    "    ax.legend(loc='upper right')\n",
    "    \n",
    "    plt.tight_layout()\n",
    "    plt.show()"
   ]
  },
  {
   "cell_type": "markdown",
   "id": "a057c2f0-5382-4ea1-8b9f-57cd9bf933fc",
   "metadata": {},
   "source": [
    "### CODE\n",
    "* Use widgets.interact() to interactively explore precession using the plot_precession() function.\n",
    "* It depends on three parameters - angle, B0, and time.\n",
    "* Angle should be between 0 and 180.\n",
    "* B0 should be between 0.2 and 2.\n",
    "* time should be between 0 and 1. "
   ]
  },
  {
   "cell_type": "code",
   "execution_count": null,
   "id": "a5a9eb86-576f-42b8-b0ba-1704d1fdc30f",
   "metadata": {},
   "outputs": [],
   "source": []
  },
  {
   "cell_type": "code",
   "execution_count": null,
   "id": "ba98ed58-a440-4016-b7ff-c66ae2718cdb",
   "metadata": {},
   "outputs": [],
   "source": []
  },
  {
   "cell_type": "markdown",
   "id": "0fae3e75-93ec-48ef-9a34-7e645e1e1e7f",
   "metadata": {},
   "source": [
    "### SHORT RESPONSE QUESTIONS\n",
    "1. For what angles of $\\alpha$ would precession not occur? At all other angles, does the frequency of precession depend on $\\alpha$? \n",
    "### ANSWERS"
   ]
  },
  {
   "cell_type": "markdown",
   "id": "d5038bb5-ce76-41c9-92ad-d16f0b0f45bc",
   "metadata": {},
   "source": []
  },
  {
   "cell_type": "markdown",
   "id": "54afa892-6de0-42bd-b0e1-fec40abada32",
   "metadata": {},
   "source": [
    "<br/><br/>"
   ]
  },
  {
   "cell_type": "markdown",
   "id": "f2ae1fc6-9071-4b90-9358-32329103aac3",
   "metadata": {},
   "source": [
    "<br/><br/>\n",
    "<br/><br/>"
   ]
  },
  {
   "cell_type": "markdown",
   "id": "8cdd0354-17a1-46f7-b490-73c5f1785465",
   "metadata": {},
   "source": [
    "# NMR Spectra"
   ]
  },
  {
   "cell_type": "markdown",
   "id": "4701ceff-1431-4a14-81c1-4b572b4b504a",
   "metadata": {},
   "source": [
    "Now that we understand the quantum principle of NMR, we can explore the macroscopic physics which are exploited by an NMR instrument, and the signal that it generates."
   ]
  },
  {
   "cell_type": "markdown",
   "id": "921b5acb-b992-4d20-97fe-4500246f31d5",
   "metadata": {},
   "source": [
    "## Macroscopic Magnetization and the Free Induction Decay\n",
    "When we take an NMR spectrum, we do not measure individual nuclear magnetic moments.\n",
    "Rather, we observe macroscopic magnetization, the net effect of all nuclear spins in the sample.\n",
    "Just like a single nuclear spin, the macroscopic magnetization will precess if a magnetic field is applied perpendicular to it.\n",
    "\n",
    "We can manipulate this magnetization by applying a radiofrequency pulse perpendicular to $B_0$, which will rotate the net magnetization vector by a tip angle $\\theta$.\n",
    "$$\n",
    "\\theta = \\gamma{}B_1t_p\n",
    "$$\n",
    "(Where $B_1$ is the strength of the magnetic component of the RF field and $t_p$ is the pulse duration)\n",
    "The most common rotations are $90\\degree$ and $180\\degree$. \n",
    "\n",
    "If we rotate the pulse 90 degrees relative to $B_0$, it will begin to precess around $B_0$ at the Larmor frequency:\n",
    "$$\n",
    "\\omega_0 = \\gamma(1-\\alpha)B_0\n",
    "$$\n",
    "This precession changes the magnetic flux through the detection coil.\n",
    "$$\n",
    "\\Phi = \\bf{M} \\cdot \\bf{A} = MAcos\\theta\n",
    "$$\n",
    "(Where A is the area normal vector of the detection coil and M is the macroscopic magnetization)\n",
    "Since $\\theta$ varies as the magnetization precesses, the flux changes over time, inducing a voltage in the coil via Faraday's Law:\n",
    "$$\n",
    "V_{induced} = -\\frac{d\\Phi}{dt}\n",
    "$$\n",
    "This oscillating voltage is our raw time-domain NMR signal. It is a damped wave, whose frequency is equal to the frequency of the energy difference between the $\\alpha$ and $\\beta$ states of the nucleus. This is called the Free Induction Decay (FID). It is processed into the frequency-domain NMR spectrum that we are familiar with."
   ]
  },
  {
   "cell_type": "markdown",
   "id": "bd50c967-a868-4c83-8ae1-58b40b9ee8ad",
   "metadata": {},
   "source": [
    "### GIVEN FUNCTIONS\n",
    "* Execute the blocks containing the given functions. Don't modify these."
   ]
  },
  {
   "cell_type": "code",
   "execution_count": null,
   "id": "1cb09ab2-8d22-498e-be5e-b190fe586e89",
   "metadata": {},
   "outputs": [],
   "source": [
    "import numpy as np\n",
    "import matplotlib.pyplot as plt\n",
    "from mpl_toolkits.mplot3d import Axes3D\n",
    "import ipywidgets as widgets\n",
    "from IPython.display import display, clear_output\n",
    "\n",
    "def plot_fid(B0=1.0, decay_rate=0.5, time=0.0):\n",
    "    \"\"\"\n",
    "    Plot the macroscopic magnetization and FID signal.\n",
    "    \n",
    "    Parameters:\n",
    "    B0 : float\n",
    "        Strength of the magnetic field (relative scale)\n",
    "    decay_rate : float\n",
    "        Rate of decay for the FID signal\n",
    "    time : float\n",
    "        Current time (0-1 represents the duration of visualization)\n",
    "    time_points : int\n",
    "        Number of time points to display in the FID\n",
    "    \"\"\"\n",
    "    time_points=50\n",
    "    # Clear previous plot\n",
    "    clear_output(wait=True)\n",
    "    \n",
    "    # Create figure with custom layout\n",
    "    fig = plt.figure(figsize=(7, 6))\n",
    "    # Create a gridspec for more control over subplot sizes\n",
    "    gs = fig.add_gridspec(2, 3, height_ratios=[2, 1], width_ratios=[1, 0.5,1])\n",
    "    \n",
    "    # 3D axis for magnetization (top left)\n",
    "    ax1 = fig.add_subplot(gs[0, 0], projection='3d')\n",
    "    # Text box for equations (top right)\n",
    "    ax_text = fig.add_subplot(gs[0, -1])\n",
    "    ax_text.axis('off')  # Hide axes\n",
    "    # 2D axis for FID (bottom, spanning both columns)\n",
    "    ax2 = fig.add_subplot(gs[1, :])\n",
    "    \n",
    "    # Set up the magnetization plot\n",
    "    ax1.set_xlim(-1.2, 1.2)\n",
    "    ax1.set_ylim(-1.2, 1.2)\n",
    "    ax1.set_zlim(-0.2, 1.2)\n",
    "    ax1.set_xlabel('X')\n",
    "    ax1.set_ylabel('Y')\n",
    "    ax1.set_zlabel('Z')\n",
    "    ax1.set_title('Macroscopic Magnetization')\n",
    "    \n",
    "    # Draw B0 field vector\n",
    "    ax1.quiver(0, 0, 0, 0, 0, 1.0, color='blue', arrow_length_ratio=0.1, label='B₀')\n",
    "    \n",
    "    # Draw detection coil area vector (A)\n",
    "    ax1.quiver(0, 0, 0, 1.0, 0, 0, color='green', arrow_length_ratio=0.1, label='A (coil)')\n",
    "    \n",
    "    # Calculate precession\n",
    "    omega = 2 * np.pi * B0  # Larmor frequency (scaled)\n",
    "    current_angle = omega * time\n",
    "    \n",
    "    # Magnetization starts at 90° to B0 (in the y-axis)\n",
    "    # The magnetization decays exponentially\n",
    "    magnitude = np.exp(-decay_rate * time)\n",
    "    x_position = magnitude * np.sin(np.pi/2) * np.cos(current_angle)  # sin(90°) = 1\n",
    "    y_position = magnitude * np.sin(np.pi/2) * np.sin(current_angle)  # Initial position is along y\n",
    "    z_position = 0  # Magnetization is in the xy plane after 90° pulse\n",
    "    \n",
    "    # Draw magnetization vector\n",
    "    ax1.quiver(0, 0, 0, x_position, y_position, z_position, \n",
    "             color='red', arrow_length_ratio=0.1, label='M')\n",
    "    \n",
    "    # Draw the circular path for precession\n",
    "    theta_path = np.linspace(0, 2*np.pi, 40)\n",
    "    radii = np.linspace(magnitude, 1.0, 10)[::-1]  # Decreasing radii\n",
    "    \n",
    "    # Draw precession path with decreasing radii to show decay\n",
    "    # Use fewer radii to improve performance\n",
    "    radii = np.linspace(magnitude, 1.0, 4)[::-1]  # Reduced from 10 to 4 points\n",
    "    \n",
    "    for r in radii:\n",
    "        # Use fewer points around the circle\n",
    "        theta_path = np.linspace(0, 2*np.pi, 20)  # Reduced from 40 to 20 points\n",
    "        x_path = r * np.cos(theta_path)\n",
    "        y_path = r * np.sin(theta_path)\n",
    "        z_path = np.zeros_like(theta_path)\n",
    "        alpha = 0.1 + 0.4 * (r/1.0)  # Fade out for smaller radii\n",
    "        ax1.plot(x_path, y_path, z_path, 'b--', alpha=alpha)\n",
    "    \n",
    "    # Add legend\n",
    "    ax1.legend(loc='upper right')\n",
    "    \n",
    "    # Calculate FID signal\n",
    "    # FID is proportional to derivative of the x-component of magnetization\n",
    "    # When M·A is maximum, derivative is zero; when M·A is zero, derivative is maximum\n",
    "    t_array = np.linspace(0, 3, time_points)  # Extended time range to show full decay\n",
    "    \n",
    "    # Magnetic flux through coil is proportional to cos(omega * t)\n",
    "    # Derivative of cos is -sin, so FID is proportional to sin(omega * t)\n",
    "    fid_signal = np.exp(-decay_rate * t_array) * np.sin(omega * t_array)\n",
    "    \n",
    "    # Convert the current time to an index in the t_array\n",
    "    current_index = min(int(time * (time_points - 1) / 3), time_points - 1)  # Adjusted for new time range\n",
    "    \n",
    "    # Plot FID signal\n",
    "    ax2.set_xlim(0, 3)  # Extended time range to show full decay\n",
    "    ax2.set_ylim(-1.1, 1.1)\n",
    "    ax2.set_xlabel('Time')\n",
    "    ax2.set_ylabel('Voltage')\n",
    "    ax2.set_title('Free Induction Decay (FID)')\n",
    "    \n",
    "    # Plot the FID signal as discrete points\n",
    "    colors = ['black'] * time_points\n",
    "    colors[current_index] = 'red'\n",
    "    \n",
    "    # Plot as bars with adjusted width for the extended time range\n",
    "    ax2.bar(t_array, fid_signal, width=2.4/time_points, color=colors, alpha=0.7)\n",
    "    \n",
    "    # Add annotations\n",
    "    ax2.axhline(y=0, color='gray', linestyle='-', alpha=0.5)\n",
    "    ax2.grid(True, alpha=0.3)\n",
    "    \n",
    "    # Add formulas to text box\n",
    "    formula_text = (\n",
    "        f\"$\\\\omega_0 = \\\\gamma B_0 = {B0:.1f}$\\n\\n\"\n",
    "        f\"$\\\\Phi = M \\\\cdot A = M_x$\\n\\n\"\n",
    "        f\"$V_{{\\mathrm{{induced}}}} = -\\\\frac{{d\\\\Phi}}{{dt}}$\\n\\n\"\n",
    "        f\"$= -\\\\frac{{d(M_x)}}{{dt}}$\\n\\n\"\n",
    "        f\"$\\\\propto e^{{-{decay_rate:.2f}t}} \\\\sin(\\\\omega_0 t)$\"\n",
    "    )\n",
    "    ax_text.text(0.1, 0.5, formula_text, fontsize=12, \n",
    "                 bbox=dict(facecolor='white', alpha=0.8, boxstyle='round,pad=0.5'),\n",
    "                 verticalalignment='center')\n",
    "    \n",
    "    plt.tight_layout()\n",
    "    plt.show()\n"
   ]
  },
  {
   "cell_type": "markdown",
   "id": "ab7b8673-cca6-44e0-ac5b-91c1c2d67f3b",
   "metadata": {},
   "source": [
    "### CODE\n",
    "* Use widgets.interact() to interactively explore how NMR signals are measured using the plot_fid() function.\n",
    "* It depends on three parameters - B0, decay_rate, and time.\n",
    "* B0 should be between 0.2 and 2.\n",
    "* decay_rate should be between 0.2 and 2.\n",
    "* time should be between 0 and 3. "
   ]
  },
  {
   "cell_type": "code",
   "execution_count": null,
   "id": "3165e140-368e-417c-9694-29223a39243e",
   "metadata": {},
   "outputs": [],
   "source": [
    "\n",
    "# use the provided argument for time, or else something might break\n",
    "# time=(0, 3, 0.05),      # Current time (extended range)"
   ]
  },
  {
   "cell_type": "markdown",
   "id": "557a7024-fcc2-4557-8962-03d8194ff21f",
   "metadata": {},
   "source": [
    "### SHORT RESPONSE QUESTIONS\n",
    "1. How does macroscopic magnetization behave similarly to spin magnetic moment? How is it different?\n",
    "2. What is the frequency of the induced voltage observed in our FID equal to? How is it related to the magnetic energy splitting of the nuclei?\n",
    "### ANSWERS"
   ]
  },
  {
   "cell_type": "markdown",
   "id": "5ec68c2e-87f1-400b-be00-4fdba5691c36",
   "metadata": {},
   "source": []
  },
  {
   "cell_type": "markdown",
   "id": "fe116398-520b-421f-882e-706882126d5d",
   "metadata": {},
   "source": [
    "<br/><br/>"
   ]
  },
  {
   "cell_type": "markdown",
   "id": "1d2b482b-75db-4ddb-83ad-c5f7ea7e2957",
   "metadata": {},
   "source": [
    "## T1 and T2 Relaxation\n",
    "\n",
    "For our NMR spectrum, the locations of peaks will depend on the energy required to excite a transition between the alpha and beta state of the nucleus, given by $\\Delta{}E = \\gamma(1-\\alpha)B_0$. However, the resolution and intensity of those peaks will depend on two other parameters: $T_1$ and $T_2$.\n",
    "\n",
    "#### Transverse Relaxation ($T_2$ Decay)\n",
    "\n",
    "In the previous section, we described the __free induction decay (FID)__ as a damped oscillation. The oscillation comes from precession at the Larmor frequency, but what causes the damping?\n",
    "\n",
    "The damping of the FID signal is primarily due to $T_2$ decay, which results from the __loss of phase coherence__ among spins.\n",
    "\n",
    "After a $90\\degree$ pulse, all spins start in phase. However, due to local field variations from neighboring spins, some precess slightly faster, others slower. Over time, they dephase, reducing net magnetization until they are all out of phase and the signal disappears. The FID follows:\n",
    "$$\n",
    "M_{xy}(t) = M_0e^{-t/T_2^*}cos(\\omega_0t)\n",
    "$$\n",
    "where $T_2^*$ includes both true $T_2$ effects and field inhomogeneities in $B_0$.\n",
    "\n",
    "__How $T_2$ affects an NMR spectrum:__\n",
    "- Short $T_2$ $\\rightarrow$ Rapid decay $\\rightarrow$ Broad peaks\n",
    "- Long $T_2$ $\\rightarrow$ Slow decay $\\rightarrow$ Sharp peaks\n",
    "This is a direct consequence of the __uncertainty principle__: A short FID (localized in time) leads to broader peaks (delocalized in frequency).\n",
    "#### Longitudinal Relaxation ($T_1$ Decay)\n",
    "\n",
    "$T_1$ relaxation describes the return of longitudinal magnetization $(M_z)$ to equilibrium. It occurs as spins exchange energy with the lattice, allowing them to relax to the lower-energy $\\alpha$ state. This is also called spin-lattice relaxation.\n",
    "\n",
    "__How $T_1$ affects an NMR spectrum:__\n",
    "- Does not affect linewidth but determines __peak intensity__ for some experiments involving multiple pulses.\n",
    "- Short $T_1$ $\\rightarrow$ Faster recovery $\\rightarrow$ Stronger signal.\n",
    "- Long $T_1$ $\\rightarrow$ Incomplete relaxation between pulses $\\rightarrow$ Weaker signal.\n",
    "\n",
    "Thus, $T_1$ is crucial for quantitative NMR, where peak heights reflect concentration, while $T_2$ is relevant for qualitative NMR, where peak positions and provide structure information.\n",
    "\n",
    "#### $T_1$ and $T_2$ Summary\n",
    "\n",
    "| Relaxation Type                    | Driven by                  | Affects        | Measurement                     |\n",
    "| ---------------------------------- | -------------------------- | -------------- | ------------------------------- |\n",
    "| $T_2$ (Transverse, spin-spin)      | Spin dephasing (entropy)   | Peak width     | Damping term in FID             |\n",
    "| $T_1$ (Longitudinal, spin-lattice) | Energy exchange (enthalpy) | Peak intensity | Measuring using pulse sequences |\n"
   ]
  },
  {
   "cell_type": "markdown",
   "id": "18f53b0d-20e1-49f7-9bd1-63a0b08631de",
   "metadata": {},
   "source": [
    "### GIVEN FUNCTIONS\n",
    "* Execute the blocks containing the given functions. Don't modify these."
   ]
  },
  {
   "cell_type": "code",
   "execution_count": null,
   "id": "e7934c9f-6ba8-4f5e-84e7-c49d86be85c0",
   "metadata": {},
   "outputs": [],
   "source": [
    "import numpy as np\n",
    "import matplotlib.pyplot as plt\n",
    "import ipywidgets as widgets\n",
    "from IPython.display import display, clear_output\n",
    "\n",
    "def plot_nmr_visualization(sigma=-0.0000005, T_2=1.0, T_1=1.0):\n",
    "    \"\"\"\n",
    "    Plot FID and NMR spectrum with adjustable parameters.\n",
    "    \n",
    "    Parameters:\n",
    "    sigma : float\n",
    "        Shielding constant\n",
    "    T_2 : float\n",
    "        Transverse relaxation time (affects peak width)\n",
    "    T_1 : float\n",
    "        Longitudinal relaxation time (affects peak intensity)\n",
    "    \"\"\"\n",
    "    # Clear previous output\n",
    "    clear_output(wait=True)\n",
    "    \n",
    "    # Calculate derived parameters\n",
    "    chemical_shift_ppm = sigma\n",
    "    linewidth = 1/(T_2 * 10) \n",
    "    line_height = 1/T_1\n",
    "    omega = (1-sigma) * 5\n",
    "    \n",
    "    # Create figure with custom layout\n",
    "    fig = plt.figure(figsize=(10, 8))\n",
    "    gs = fig.add_gridspec(2, 3, height_ratios=[1, 1], width_ratios=[1, 0.5, 1])\n",
    "    \n",
    "    # FID plot (top)\n",
    "    ax1 = fig.add_subplot(gs[0, :])\n",
    "    \n",
    "    # Spectrum plot (bottom)\n",
    "    ax2 = fig.add_subplot(gs[1, :])\n",
    "    \n",
    "    # Generate FID signal\n",
    "    time_points = 1000\n",
    "    t_array = np.linspace(0, 10, time_points)\n",
    "    fid_signal = np.exp(-t_array/T_2) * np.sin(omega * t_array)\n",
    "    \n",
    "    # Plot FID\n",
    "    ax1.bar(t_array, fid_signal, width=max(2.4/time_points, 0.01), color='black', alpha=0.7)\n",
    "    ax1.set_xlim(0, 10)\n",
    "    ax1.set_ylim(-1.1, 1.1)\n",
    "    ax1.set_xlabel('Time')\n",
    "    ax1.set_ylabel('Voltage')\n",
    "    ax1.set_title('Free Induction Decay (FID)')\n",
    "    ax1.axhline(y=0, color='gray', linestyle='-', alpha=0.5)\n",
    "    ax1.grid(True, alpha=0.3)\n",
    "    \n",
    "    # Generate NMR spectrum\n",
    "    def peak(x, chemical_shift, linewidth, line_height):\n",
    "        return line_height * np.exp(-(x - chemical_shift)**2/(2 * linewidth**2))\n",
    "    \n",
    "    x = np.array([0])\n",
    "    x = np.append(t_array,np.linspace(chemical_shift_ppm - linewidth * 4, chemical_shift_ppm + linewidth * 4, 50))\n",
    "    x = np.append(t_array,np.array([15]))\n",
    "    y = peak(x, chemical_shift_ppm, linewidth, line_height)\n",
    "    \n",
    "    # Plot spectrum\n",
    "    ax2.plot(x, y, 'r-')\n",
    "    ax2.set_xlim(15, 0)  # Inverted x-axis\n",
    "    ax2.set_ylim(0, 5)\n",
    "    ax2.set_xlabel('Chemical Shift (ppm)')\n",
    "    ax2.set_ylabel('Intensity')\n",
    "    ax2.set_title('NMR Spectrum')\n",
    "    ax2.grid(True, alpha=0.3)\n",
    "    \n",
    "    # Add text explaining parameters\n",
    "    text_info = (\n",
    "        f\"Chemical Shift: {chemical_shift_ppm:.2f} ppm\\n\"\n",
    "        f\"T₁ = {T_1:.2f} (affects peak intensity)\\n\"\n",
    "        f\"T₂ = {T_2:.2f} (affects peak width)\\n\\n\"\n",
    "        \"T₁ (longitudinal relaxation):\\n\"\n",
    "        \"↑ T₁ → slower recovery → lower intensity\\n\"\n",
    "        \"↓ T₁ → faster recovery → higher intensity\\n\\n\"\n",
    "        \"T₂ (transverse relaxation):\\n\"\n",
    "        \"↑ T₂ → slower decay → sharper peaks\\n\"\n",
    "        \"↓ T₂ → faster decay → broader peaks\"\n",
    "    )\n",
    "    \n",
    "    # Add formula for FID\n",
    "    formula_text = (\n",
    "        f\"$\\\\sigma = {sigma:.2f}\\\\times{{}}10^{{-6}}$\\n\"\n",
    "        f\"$FID(t) = e^{{-t/T_2}} \\\\sin(\\\\omega t)$\\n\"\n",
    "        f\"$\\\\omega_0 = \\\\gamma(1-\\\\sigma)B_0$ \\n\"\n",
    "        f\"Chemical shift = $-\\\\sigma \\\\cdot 10^6$\"\n",
    "    )\n",
    "    ax1.text(0.98, 0.95, formula_text, transform=ax1.transAxes,\n",
    "             fontsize=10, verticalalignment='top', horizontalalignment='right',\n",
    "             bbox=dict(facecolor='white', alpha=0.7))\n",
    "    \n",
    "    plt.tight_layout()\n",
    "    plt.show()\n",
    "    \n",
    "    # Display a note\n",
    "    print(\"Note: This visualization uses a simplified model of NMR spectra for educational purposes.\")"
   ]
  },
  {
   "cell_type": "markdown",
   "id": "66b390de-7891-44d3-b7cf-b0f2dac84e43",
   "metadata": {},
   "source": [
    "### CODE\n",
    "* Use widgets.interact() to interactively explore the effects of shielding, T1, and T2 using the plot_nmr_visualization() function.\n",
    "* It depends on three parameters - sigma, T_2, and T_1.\n",
    "* sigma should be between 0 and 15.\n",
    "* T_2 should be between 0.1 and 2.0.\n",
    "* T_1 should be between 0.1 and 2.0."
   ]
  },
  {
   "cell_type": "code",
   "execution_count": null,
   "id": "0f1adfdf-f35a-4ff3-a4a8-3f42d7b24a5c",
   "metadata": {},
   "outputs": [],
   "source": []
  },
  {
   "cell_type": "markdown",
   "id": "8ac47620-0a4c-443b-9c31-f02e832f760c",
   "metadata": {},
   "source": [
    "### SHORT RESPONSE QUESTIONS\n",
    "1. Which features of the spectrum do each of these three parameters correspond to?\n",
    "2. Why does a larger T2 result in sharper peaks?\n",
    "### ANSWERS"
   ]
  },
  {
   "cell_type": "markdown",
   "id": "566b1a30-93e8-47b8-a9d7-8943a6ffa202",
   "metadata": {},
   "source": []
  },
  {
   "cell_type": "markdown",
   "id": "dc7af281-62bb-49c0-8f22-b0f5f47bae2d",
   "metadata": {},
   "source": [
    "<br/><br/>"
   ]
  },
  {
   "cell_type": "markdown",
   "id": "f4917e13-4f23-4c34-8b52-71e7fa151cc7",
   "metadata": {},
   "source": [
    "# Reflection"
   ]
  },
  {
   "cell_type": "markdown",
   "id": "f7b7ae28-6c24-4d21-890f-11cb23b0adcf",
   "metadata": {},
   "source": [
    "### SHORT RESPONSE QUESTIONS\n",
    "1. What physical properties does NMR measure, and what information does it provide about a system?\n",
    "2. How is NMR connected to statistical mechanics? Describe the quantum-level principles of NMR (how individual nuclei behave) and the macroscopic, statistical principles observed experimentally. How do these two perspectives connect?\n",
    "### ANSWER"
   ]
  },
  {
   "cell_type": "markdown",
   "id": "0d806be8-12d5-40e5-8375-bfb60cff3909",
   "metadata": {},
   "source": []
  }
 ],
 "metadata": {
  "kernelspec": {
   "display_name": "Python 3 (ipykernel)",
   "language": "python",
   "name": "python3"
  },
  "language_info": {
   "codemirror_mode": {
    "name": "ipython",
    "version": 3
   },
   "file_extension": ".py",
   "mimetype": "text/x-python",
   "name": "python",
   "nbconvert_exporter": "python",
   "pygments_lexer": "ipython3",
   "version": "3.11.10"
  }
 },
 "nbformat": 4,
 "nbformat_minor": 5
}
