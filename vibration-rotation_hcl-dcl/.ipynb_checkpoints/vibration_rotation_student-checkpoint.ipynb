{
 "cells": [
  {
   "cell_type": "markdown",
   "id": "1bede9b6-0d2e-417c-9942-d925c22cddd5",
   "metadata": {},
   "source": [
    "# Libraries\n",
    "* Execute this cell before going any further.\n",
    "> You will need the `SymPy` library to complete this assignment. In your terminal, enter the following command:  \n",
    "> `conda install sympy`"
   ]
  },
  {
   "cell_type": "code",
   "execution_count": null,
   "id": "6998811b-34ec-4f9d-a422-5c256b3518cd",
   "metadata": {},
   "outputs": [],
   "source": [
    "import sympy as sp\n",
    "import numpy as np\n",
    "import pandas as pd\n",
    "import matplotlib.pyplot as plt\n",
    "import ipywidgets as widgets"
   ]
  },
  {
   "cell_type": "markdown",
   "id": "6fbac074-bcd8-4dfd-be37-b50c66217188",
   "metadata": {},
   "source": [
    "<br/><br/>"
   ]
  },
  {
   "cell_type": "markdown",
   "id": "94e2013a-d75b-4cb6-88bb-a36a629e23cf",
   "metadata": {},
   "source": [
    "# Warmup"
   ]
  },
  {
   "cell_type": "markdown",
   "id": "af66d235-4972-45f4-8a64-08eef8f61c7b",
   "metadata": {},
   "source": [
    "## Computer Algebra\n",
    "Thus far, all of the math we have done with Python has been __numerical__. However, computers can also perform __symbolic computing__, where expressions are manipulated algebraically instead of being evaluated to numbers.\n",
    "\n",
    "A widely used library for symbolic computing in Python is `SymPy`. It supports operations such as differentiation, integration, substitution, factoring, and limit evaluation. `SymPy` serves as a powerful conterpart to numerical computing libraries like `NumPy`, allowing us to work with exact expressions instead of approximations. \n",
    "\n",
    "In this warmup, we will explore some of the fundamentals of computer algebra using `SymPy`."
   ]
  },
  {
   "cell_type": "markdown",
   "id": "4c5121d3-8de6-4e7b-aa96-e13b274d86f4",
   "metadata": {},
   "source": [
    "### CODE\n",
    "* For each given example of a `SymPy` operation, try creating at least two additional examples to explore how it behaves."
   ]
  },
  {
   "cell_type": "markdown",
   "id": "d1821d55-aa01-4e5b-bb29-2da72b51bcaf",
   "metadata": {},
   "source": [
    "#### Defining symbols"
   ]
  },
  {
   "cell_type": "code",
   "execution_count": null,
   "id": "026e40ba-d118-4584-bcff-4b76d3a20562",
   "metadata": {},
   "outputs": [],
   "source": [
    "x = sp.Symbol('x')\n",
    "y, z = sp.symbols('y z')\n",
    "y"
   ]
  },
  {
   "cell_type": "markdown",
   "id": "a4655cd6-9ab4-4601-99b4-ed287d4c7a51",
   "metadata": {},
   "source": [
    "#### Defining expressions with multiple symbols"
   ]
  },
  {
   "cell_type": "code",
   "execution_count": null,
   "id": "3424b816-32d9-40f1-803c-5994e7e02c0a",
   "metadata": {},
   "outputs": [],
   "source": [
    "expr = x * ( y + 5)\n",
    "expr"
   ]
  },
  {
   "cell_type": "markdown",
   "id": "6734c051-827c-4921-a4ff-a4329eee76f4",
   "metadata": {},
   "source": [
    "#### Functions and built-in variables"
   ]
  },
  {
   "cell_type": "code",
   "execution_count": null,
   "id": "f3012b40-630a-49f2-ae3a-c1a809054236",
   "metadata": {},
   "outputs": [],
   "source": [
    "expo_expr = sp.exp(sp.I * x)\n",
    "expo_expr\n",
    "# see also sp.log (natural log), sp.cos, sp.sin, sp.pi, sp.oo (infinity)"
   ]
  },
  {
   "cell_type": "markdown",
   "id": "43decd0d-a9ae-4776-97e0-82fa48c7d1f9",
   "metadata": {},
   "source": [
    "#### Substitution"
   ]
  },
  {
   "cell_type": "code",
   "execution_count": null,
   "id": "650d778d-2f32-4bb2-8518-d625eee596f4",
   "metadata": {},
   "outputs": [],
   "source": [
    "expo_expr.subs(x,sp.pi)"
   ]
  },
  {
   "cell_type": "markdown",
   "id": "29ca4b06-9452-43f2-a62c-b078d0571ea4",
   "metadata": {},
   "source": [
    "#### Derivatives"
   ]
  },
  {
   "cell_type": "code",
   "execution_count": null,
   "id": "e0f95c43-2043-460e-a6ae-f7d57e959157",
   "metadata": {},
   "outputs": [],
   "source": [
    "expr = x * ( y + 5)\n",
    "sp.diff(expr,x)\n",
    "#try taking the derivative with respect to y, or the mixed partial derivative"
   ]
  },
  {
   "cell_type": "markdown",
   "id": "fc2af601-afe0-4980-8eb3-32ebaeead7b7",
   "metadata": {},
   "source": [
    "#### Definite and indefinite integrals"
   ]
  },
  {
   "cell_type": "code",
   "execution_count": null,
   "id": "3700755d-2b94-4c82-8b2d-30b8a15f875f",
   "metadata": {},
   "outputs": [],
   "source": [
    "expr_int = expr.integrate(x)\n",
    "expr_int"
   ]
  },
  {
   "cell_type": "code",
   "execution_count": null,
   "id": "18cf2f86-d0bf-4a80-b009-66b26d10217b",
   "metadata": {},
   "outputs": [],
   "source": [
    "expr_def_int = expr.integrate((x,0,2))\n",
    "expr_def_int\n",
    "#try integrating again!"
   ]
  },
  {
   "cell_type": "markdown",
   "id": "2441a5bc-a993-4e30-b5f0-80b8a782ff11",
   "metadata": {},
   "source": [
    "#### Evaluating expressions and type conversion"
   ]
  },
  {
   "cell_type": "code",
   "execution_count": null,
   "id": "a1b04164-5417-46d3-a97b-1130949422da",
   "metadata": {},
   "outputs": [],
   "source": [
    "expr_def_int_y10 = expr_def_int.subs(y,10)\n",
    "print(type(expr_def_int_y10.evalf()))\n",
    "expr_def_int_y10.evalf() "
   ]
  },
  {
   "cell_type": "code",
   "execution_count": null,
   "id": "06e10c81-5b8d-458c-801f-e9595bb3d4e7",
   "metadata": {},
   "outputs": [],
   "source": [
    "answer = float(expr_def_int_y10.evalf())\n",
    "print(type(answer)) # use float() to get a number we can use with other non-sympy functions\n",
    "answer"
   ]
  },
  {
   "cell_type": "markdown",
   "id": "f09fadaa-0d5b-4271-8ae5-716f88d1b1bb",
   "metadata": {},
   "source": [
    "<br/><br/>\n",
    "<br/><br/>"
   ]
  },
  {
   "cell_type": "markdown",
   "id": "f4b906a7-2eef-4953-be60-ecf702831f2f",
   "metadata": {},
   "source": [
    "# Vibrational and Rotational Motion\n"
   ]
  },
  {
   "cell_type": "markdown",
   "id": "0f74ff59-72ea-452a-afb6-ea0180ea3c5d",
   "metadata": {},
   "source": [
    "To fully understand the motion of quantum objects such as molecules, we must understand the quantum mechanics of __translational, vibrational, and rotational motion__.\n",
    "\n",
    "Previously, we explored translational motion using the particle-in-a-box model. This week, we will extend our understanding by studying vibrational and rotational motion, using the __quantum harmonic osciallator__ and __rigid rotor__ models, respectively."
   ]
  },
  {
   "cell_type": "markdown",
   "id": "cac99033-8f22-4e8d-ae04-72ebf89b5830",
   "metadata": {},
   "source": [
    "## Vibrational Motion - Quantum Harmonic Osciallator\n",
    "Chemical bonds are not rigid - they behave much like springs, oscillating around their equilibrium bond lengths. These __molecular vibrations__ have quantized energy levels, which make them fundamental for calculations involving infrared (IR) spectroscopy and thermodynamics.\n",
    "\n",
    "In the classical spring model, the restoring force $F$ of a spring displaced by $x$ from equilibrium is given by Hooke's Law:\n",
    "$$\n",
    "F = -kx\n",
    "$$\n",
    "where $k$ is the __spring constant__ with dimensions of force per unit distance ($N/m$). The corresponding potential energy function is:\n",
    "$$\n",
    "V(x) = \\frac{1}{2}kx^2\n",
    "$$\n",
    "To translate this into a quantum system, we incorporate the harmonic potential as the V(x) term in the Schrodinger equation:\n",
    "$$\n",
    "\\hat{H}\\psi(x) = - \\frac{\\hbar^2}{2m}\\frac{d^2}{dx^2}\\psi(x) + \\frac{1}{2}m\\omega^2x^2\\psi(x)\n",
    "$$\n",
    "where $\\hbar$ is the reduced Planck constant, $m$ is the mass of the oscillating particle, and $w$ is the angular frequency of the oscillator.\n",
    "\n",
    "To simplify our calculations, we will use a system of units where $\\hbar = 1$ and $m = 1$, and we will neglect normalization.\n",
    "\n"
   ]
  },
  {
   "cell_type": "markdown",
   "id": "cfeac16e-2c75-44fe-8090-ab44c108a442",
   "metadata": {},
   "source": [
    "### GIVEN FUNCTIONS\n",
    "* Execute the blocks containing the given functions. Don't modify these."
   ]
  },
  {
   "cell_type": "code",
   "execution_count": null,
   "id": "c522ee89-0d20-4b8c-b354-7f9028b2e19f",
   "metadata": {},
   "outputs": [],
   "source": [
    "def plot_qho(wavefunction):\n",
    "    psi = sp.Symbol('psi') #don't modify these\n",
    "    T_psi = - sp.Rational(1,2) * sp.Derivative(psi,x,2)\n",
    "    T_psi_eval = sp.lambdify(x,T_psi.subs(psi,wavefunction).doit().expand().subs(omega,1))\n",
    "    \n",
    "    V = (sp.Rational(1,2) * omega ** 2  * x ** 2 )\n",
    "    \n",
    "    V_eval = sp.lambdify(x,V.subs(omega,1))\n",
    "    V_psi = V * psi\n",
    "    V_psi_eval = sp.lambdify(x,V_psi.subs(psi,wavefunction).doit().expand().subs(omega,1))\n",
    "    \n",
    "    H_psi = T_psi + V_psi\n",
    "    H_psi_subs = H_psi.subs(psi,wavefunction).doit().expand()    \n",
    "    H_psi_eval = sp.lambdify(x,H_psi.subs(psi,wavefunction).doit().expand().subs(omega,1))\n",
    "\n",
    "    plt.figure(figsize=(4.5, 3)) \n",
    "    \n",
    "    x_array = np.linspace(-4,4,100)\n",
    "    \n",
    "    y_line = np.zeros_like(x_array)\n",
    "    plt.plot(x_array,y_line, color=r'grey')\n",
    "    \n",
    "    potential_array = V_eval(x_array)\n",
    "    plt.plot(x_array,potential_array,color = r'grey',label=r'$V(x)$')\n",
    "\n",
    "    wavefunction_eval = sp.lambdify(x,wavefunction.subs(omega,1))\n",
    "    y_wfn = wavefunction_eval(x_array)\n",
    "    plt.plot(x_array,y_wfn,color='black',label=r'$\\psi(x)$')\n",
    "    \n",
    "    y_operated_wfn = H_psi_eval(x_array)\n",
    "    plt.plot(x_array,y_operated_wfn,color='red',alpha=0.8,label=r'$\\hat{H}\\psi(x)$')\n",
    "    \n",
    "    y_pot_wfn = V_psi_eval(x_array)\n",
    "    plt.plot(x_array,y_pot_wfn,color='orange',alpha=0.8,label=r'$V(x)\\psi(x)$')\n",
    "\n",
    "    y_ke_wfn = T_psi_eval(x_array)\n",
    "    plt.plot(x_array,y_ke_wfn,color='blue',alpha=0.8,label=r'$\\hat{T}\\psi(x)$')    \n",
    "\n",
    "    _lambda = sp.Symbol('lambda')\n",
    "    equation = sp.Eq(H_psi_subs, _lambda * wavefunction)\n",
    "    solution = sp.solve(equation)\n",
    "    \n",
    "    if 'x' in str(solution[0][_lambda]):\n",
    "        eigenvalue = 'n/a'\n",
    "    else:\n",
    "        eigenvalue = solution[0][_lambda]\n",
    "        eigenvalue = str(eigenvalue).replace('omega','\\\\omega').replace('*','')\n",
    "    plt.plot([], [], ' ', label=f\"Energy: ${eigenvalue}$\")\n",
    "    \n",
    "    plt.legend(loc=2, prop={'size': 8})\n",
    "    plt.title('Wavefunctions in Harmonic Oscillator Potential')\n",
    "    plt.ylabel('Amplitude (arbitrary units)')\n",
    "    plt.xlabel('Position (arbitrary units)')\n",
    "    plt.show()"
   ]
  },
  {
   "cell_type": "markdown",
   "id": "a2e039a4-b023-4859-9f14-2a17b4abaa00",
   "metadata": {},
   "source": [
    "### CODE\n",
    "* Using SymPy, create five wavefunctions where the only variables are `x` and `omega`.\n",
    "* They should be in the form of $P(x) \\times e^{\\frac{\\omega{}x^2}{2}}$, where $P(x)$ is a polynomial. $1$ is an acceptible $P(x)$.\n",
    "* Three of the wavefunctions should be energy eigenfunctions of the harmonic osciallator potential and two should be non-eigenfunctions (feel free to look these up!).\n",
    "* Use the `plot_qho()` function to visualize each wavefunction."
   ]
  },
  {
   "cell_type": "code",
   "execution_count": null,
   "id": "318327cc-844b-44ef-8e1c-87e9b6f09cd0",
   "metadata": {},
   "outputs": [],
   "source": [
    "#define symbols x and omega here. "
   ]
  },
  {
   "cell_type": "code",
   "execution_count": null,
   "id": "d142b701-731e-4dfa-9182-bc03e9e8b8f5",
   "metadata": {},
   "outputs": [],
   "source": [
    "# eigenfunctions"
   ]
  },
  {
   "cell_type": "code",
   "execution_count": null,
   "id": "05e18e46-3443-40b9-b8a0-bbc35cf571c3",
   "metadata": {},
   "outputs": [],
   "source": [
    "#my_wavefunction =  sp.exp(-omega * x**2 / 2) #here's a freebie!\n",
    "#plot_qho(my_wavefunction)"
   ]
  },
  {
   "cell_type": "markdown",
   "id": "8df57010-4506-463f-a802-fe36d2916d1b",
   "metadata": {},
   "source": [
    "### SHORT RESPONSE QUESTIONS\n",
    "1. Can a wavefunction in a harmonic potential ever have zero energy? Why or why not?\n",
    "2. Compare the appearance of $\\hat{H}\\psi(x)$ and $\\psi(x)$. What do you notice about these two functions when the energy is clearly defined? When it isn't?\n",
    "3. What are the energy eigenvalues for the first few eigenfunctions of the harmonic osciallator potential? Write a formula relating the energy to the quantum number $n$ and the angular frequency $\\omega$.\n",
    "### ANSWERS"
   ]
  },
  {
   "cell_type": "markdown",
   "id": "9aeac3cd-b952-45db-b78e-2314b975355f",
   "metadata": {},
   "source": []
  },
  {
   "cell_type": "markdown",
   "id": "cda4c686-3fd3-457d-b6ca-6e6fb303722c",
   "metadata": {},
   "source": [
    "<br/><br/>"
   ]
  },
  {
   "cell_type": "markdown",
   "id": "61b9cba6-571d-46e0-abf7-659c8dac2a75",
   "metadata": {},
   "source": [
    "## Rotational Motion - Rigid Rotor\n",
    "Now that we have explored vibrational and translational motion, the final piece in understanding molecular motion is rotational motion. The simplest model for describing rotational motion is the __rigid rotor__, with the assumptions that the atoms in a molecule remain at fixed distances from one another, i.e. neglecting vibrational motion.\n",
    "\n",
    "Rotation occurs in three dimensions, so it is natural to describe it using __spherical coordinates__: $r$, $\\theta$,$\\phi$. The wavefunctions for a rigid rotor system are the __spherical harmonics__, denoted as:\n",
    "$$\n",
    "Y_J^m(\\theta,\\phi)\n",
    "$$\n",
    "Their full derivation is beyond the scope of this lab, but we can still explore their appearance, energy levels, and degeneracies. "
   ]
  },
  {
   "cell_type": "markdown",
   "id": "4c0e2581-0569-4ca1-a690-18d228c9e297",
   "metadata": {},
   "source": [
    "### LIBRARIES\n",
    "* Execute this cell before going any further."
   ]
  },
  {
   "cell_type": "code",
   "execution_count": null,
   "id": "5e4b5c27-5218-4f39-897a-36be7ab60792",
   "metadata": {},
   "outputs": [],
   "source": [
    "import matplotlib.colors as mcolors\n",
    "from scipy.special import sph_harm\n",
    "import matplotlib.cm as cm"
   ]
  },
  {
   "cell_type": "markdown",
   "id": "f988aeb0-0c2a-43ac-b17d-8cc2cc4cc052",
   "metadata": {},
   "source": [
    "### GIVEN FUNCTIONS\n",
    "* Execute the blocks containing the given functions. Don't modify these."
   ]
  },
  {
   "cell_type": "code",
   "execution_count": null,
   "id": "4fad7b1b-b562-4f0c-b55d-0fb3dd97a173",
   "metadata": {},
   "outputs": [],
   "source": [
    "def plot_rigid_rotor(J, m):\n",
    "    '''\n",
    "    Adapted from:  https://github.com/DalInar/schrodingers-snake\n",
    "    '''\n",
    "    thetas = np.linspace(0, np.pi, 100)\n",
    "    phis = np.linspace(0, 2 * np.pi, 100)\n",
    "    \n",
    "    Theta, Phi = np.meshgrid(thetas, phis)\n",
    "    s_harm = sph_harm(m, J, Phi, Theta) \n",
    "\n",
    "    R = np.abs(s_harm)  \n",
    "    X = R * np.sin(Theta) * np.cos(Phi)\n",
    "    Y = R * np.sin(Theta) * np.sin(Phi)\n",
    "    Z = R * np.cos(Theta)\n",
    "\n",
    "    phase = np.angle(s_harm)\n",
    "    phase_norm = (phase + np.pi) / (2 * np.pi) \n",
    "\n",
    "    cmap = cm.hsv\n",
    "    colors = cmap(phase_norm) \n",
    "    \n",
    "    fig = plt.figure(figsize=(9, 8)) \n",
    "    ax = fig.add_subplot(1, 1, 1, projection='3d')\n",
    "    surf = ax.plot_surface(X, Y, Z, rstride=1, cstride=1, \n",
    "                           facecolors=colors, linewidth=0, antialiased=False, alpha=0.8)\n",
    "\n",
    "    ax.set_box_aspect([1, 1, 1]) \n",
    "    x_limits = ax.get_xlim()\n",
    "    y_limits = ax.get_ylim()\n",
    "    z_limits = ax.get_zlim()\n",
    "    max_range = max(x_limits[1] - x_limits[0], \n",
    "                    y_limits[1] - y_limits[0], \n",
    "                    z_limits[1] - z_limits[0]) / 2\n",
    "    x_mid = np.mean(x_limits)\n",
    "    y_mid = np.mean(y_limits)\n",
    "    z_mid = np.mean(z_limits)\n",
    "    ax.set_xlim(x_mid - max_range, x_mid + max_range)\n",
    "    ax.set_ylim(y_mid - max_range, y_mid + max_range)\n",
    "    ax.set_zlim(z_mid - max_range, z_mid + max_range)\n",
    "    \n",
    "    sm = cm.ScalarMappable(cmap=cmap, norm=plt.Normalize(vmin=-np.pi, vmax=np.pi))\n",
    "    sm.set_array([])\n",
    "    cbar = plt.colorbar(sm, shrink=0.6, pad=0.05, ax=ax)\n",
    "\n",
    "    cbar.set_label(\"Phase\")\n",
    "    cbar.set_ticks([-np.pi, -np.pi/2, 0, np.pi/2, np.pi])\n",
    "    cbar.set_ticklabels([r'$-1$', r'$-i$', r'$1$', r'$i$', r'$-1$'])\n",
    "\n",
    "    energy = J * (J + 1) \n",
    "    title_text = (rf'Rigid Rotor Wavefunction ( J={J}, m={m} )')\n",
    "    plt.figtext(0.75, 0.20, f'$E ={energy} \\\\frac{{\\\\hbar^2}}{{2I}}$', ha='center', fontsize=14,color='red',\n",
    "            bbox=dict(facecolor='white', edgecolor='black', boxstyle='round,pad=0.3'))\n",
    "\n",
    "    plt.suptitle(title_text, fontsize=18, ha='center',y=0.85)\n",
    "\n",
    "    fig = plt.gcf()\n",
    "    fig.canvas.draw()  \n",
    "    line = plt.Line2D([0.18, 0.82], [0.81 , 0.81 ], \n",
    "                      color='black', linewidth=1, transform=fig.transFigure, clip_on=False)\n",
    "    fig.add_artist(line)\n",
    "\n",
    "    ax.set_xlabel(r'$x$')\n",
    "    ax.set_ylabel(r'$y$')\n",
    "    ax.set_zlabel(r'$z$')\n",
    "\n",
    "    plt.show()"
   ]
  },
  {
   "cell_type": "code",
   "execution_count": null,
   "id": "c0f50599-9ce2-4a0d-99d6-70f08dcfb6c1",
   "metadata": {},
   "outputs": [],
   "source": [
    "def plot_spherical_vector(r, theta, phi):\n",
    "    x = r * np.sin(theta) * np.cos(phi)\n",
    "    y = r * np.sin(theta) * np.sin(phi)\n",
    "    z = r * np.cos(theta)\n",
    "    \n",
    "    fig = plt.figure(figsize=(5,5))\n",
    "    ax = fig.add_subplot(111, projection='3d')\n",
    "    \n",
    "    u = np.linspace(0, 2*np.pi, 30)\n",
    "    v = np.linspace(0, np.pi, 30)\n",
    "    xs = r * np.outer(np.cos(u), np.sin(v))\n",
    "    ys = r * np.outer(np.sin(u), np.sin(v))\n",
    "    zs = r * np.outer(np.ones_like(u), np.cos(v))\n",
    "    ax.plot_surface(xs, ys, zs, rstride=2, cstride=2, color='cyan', alpha=0.1, \n",
    "                    edgecolor='black', linewidth=0.5)\n",
    "\n",
    "    ax.plot([0, x], [0, y], [0, z], color='red', linewidth=2, label='r')\n",
    "    ax.scatter(x, y, z, color='red', s=10)\n",
    "    \n",
    "    r_phi = 0.5  \n",
    "    phi_arc = np.linspace(0, phi, 100)\n",
    "    x_phi_arc = r_phi * np.cos(phi_arc)\n",
    "    y_phi_arc = r_phi * np.sin(phi_arc)\n",
    "    z_phi_arc = np.zeros_like(phi_arc)\n",
    "    ax.plot(x_phi_arc, y_phi_arc, z_phi_arc, color='blue', label=r'$\\phi$')\n",
    "    \n",
    "    r_theta = 0.5  \n",
    "    theta_arc = np.linspace(0, theta, 100)\n",
    "    x_theta_arc = r_theta * np.sin(theta_arc) * np.cos(phi)\n",
    "    y_theta_arc = r_theta * np.sin(theta_arc) * np.sin(phi)\n",
    "    z_theta_arc = r_theta * np.cos(theta_arc)\n",
    "    ax.plot(x_theta_arc, y_theta_arc, z_theta_arc, color='green', label=r'$\\theta$')\n",
    "\n",
    "    max_range = 1.5\n",
    "    ax.plot([0, max_range], [0, 0], [0, 0], color='black', linestyle=':')\n",
    "    ax.plot([0, 0], [0, max_range], [0, 0], color='black', linestyle=':')\n",
    "    ax.plot([0, 0], [0, 0], [0, max_range], color='black', linestyle=':')\n",
    "    ax.set_xlim([-max_range, max_range])\n",
    "    ax.set_ylim([-max_range, max_range])\n",
    "    ax.set_zlim([-max_range, max_range])\n",
    "\n",
    "    ax.legend(loc=6)\n",
    "    title_text = \"Spherical Coordinates\"\n",
    "    plt.suptitle(title_text, fontsize=18, ha='center',y=0.95,x=0.525)\n",
    "\n",
    "    fig = plt.gcf()\n",
    "    fig.canvas.draw()  \n",
    "    line = plt.Line2D([0.18, 0.84], [0.89 , 0.89 ], \n",
    "                      color='black', linewidth=1, transform=fig.transFigure, clip_on=False)\n",
    "    fig.add_artist(line)\n",
    "    ax.set_box_aspect([1, 1, 1])\n",
    "    ax.set_xlabel('X')\n",
    "    ax.set_ylabel('Y')\n",
    "    ax.set_zlabel('Z')\n",
    "    \n",
    "    plt.show()"
   ]
  },
  {
   "cell_type": "code",
   "execution_count": null,
   "id": "bf3d6b50-6a56-415c-9a88-1453ffb8bdb7",
   "metadata": {},
   "outputs": [],
   "source": [
    "def interactive_spherical_plot():\n",
    "    widgets.interact(plot_spherical_vector, \n",
    "         r=(0.6, 1.5, 0.05),\n",
    "         theta=(0, np.pi, 0.05),\n",
    "         phi=(0, 2*np.pi, 0.05))"
   ]
  },
  {
   "cell_type": "markdown",
   "id": "345857b4-aa15-45bf-a46e-b1535f79f96c",
   "metadata": {},
   "source": [
    "### CODE\n",
    "* Explore spherical coordinates using the `interactive_spherical_plot()` function.\n",
    "* Visualize the allowed rigid rotor wavefunctions using the `plot_rigid_rotor()` function."
   ]
  },
  {
   "cell_type": "code",
   "execution_count": null,
   "id": "1802f0d9-d746-4e21-abf5-a46ed846cf61",
   "metadata": {},
   "outputs": [],
   "source": []
  },
  {
   "cell_type": "code",
   "execution_count": null,
   "id": "15bc7f72-6ee5-4ff1-b040-8af3f5f7245a",
   "metadata": {},
   "outputs": [],
   "source": [
    "#plot_rigid_rotor accepts two arguments, J and m\n",
    "#you can go (fairly) high with these, have fun"
   ]
  },
  {
   "cell_type": "markdown",
   "id": "b1d3be2f-f996-4e4b-ad0c-7e1d13e6512b",
   "metadata": {},
   "source": [
    "### SHORT RESPONSE QUESTIONS\n",
    "1. What boundary conditions must the rigid rotor wavefunction satisfy?\n",
    "2. What do the values $m = 0$ and $m = \\pm J$ represent in terms of the particle's motion in spherical coordinates $\\theta$ and $\\phi$?\n",
    "3. What are the allowed energy levels of the rigid rotor, expressed as a function of $J$, $m$, or both?\n",
    "4. Write a function for the degeneracy (the number of states with the same energy) of the rigid rotor energy levels as a function of $J$, $m$, or both.\n",
    "### ANSWERS"
   ]
  },
  {
   "cell_type": "markdown",
   "id": "64229e96-d020-412e-b32b-9575d8a75f89",
   "metadata": {},
   "source": []
  },
  {
   "cell_type": "markdown",
   "id": "f2ae1fc6-9071-4b90-9358-32329103aac3",
   "metadata": {},
   "source": [
    "<br/><br/>\n",
    "<br/><br/>"
   ]
  },
  {
   "cell_type": "markdown",
   "id": "cebbbfd9-f213-4e7f-95e3-f7b0d50b2bf4",
   "metadata": {},
   "source": [
    "# Applications of Molecular Motions"
   ]
  },
  {
   "cell_type": "markdown",
   "id": "cd761f42-ec12-4067-870a-f45a99dd8974",
   "metadata": {},
   "source": [
    "Now that we have explored the fundamental motions of molecules, we can examine their practical applications. \n",
    "\n",
    "Translational, vibrational, and rotational motion are not just theoretical constructs—they are essential for accurately predicting __reaction thermodynamics__. Furthermore, vibrational motion is particularly important in __IR spectroscopy__. It is therefore important that we can compute these motions with a reasonable balance of cost and accuracy.\n",
    "\n",
    "Many quantum chemistry programs use the __Rigid Rotor Harmonic Oscillator (RRHO) approximation__, which treats these three types of motion independently using the mathematical models we have just explored. \n",
    "\n",
    "<!--rrho info:https://fb15.pages.uni-marburg.de/ag-von-domaros/teaching/fecomp/rrho.html -->"
   ]
  },
  {
   "cell_type": "markdown",
   "id": "5c967450-cd51-4b19-bc03-4309ca60c0c5",
   "metadata": {},
   "source": [
    "### LIBRARIES\n",
    "* Execute this cell before going any further."
   ]
  },
  {
   "cell_type": "code",
   "execution_count": null,
   "id": "fd7416d8-3578-4f93-90d3-0a0e2de56d03",
   "metadata": {},
   "outputs": [],
   "source": [
    "import psi4\n",
    "import rdkit\n",
    "from rdkit import Chem\n",
    "from rdkit.Chem import AllChem\n",
    "import py3Dmol"
   ]
  },
  {
   "cell_type": "markdown",
   "id": "97bf04c3-d4fa-48a9-a520-6abceeb36753",
   "metadata": {},
   "source": [
    "## Reaction Thermodynamics: OPT + FREQ\n",
    "One of the most common tasks in quantum chemistry is a __geometry optimization__ followed by a __frequency calculation__. Why do we do this? \n",
    "\n",
    "Frequencies describe vibrational motion within a molecule, but they are only meaningful when calculated around the equilibrium geometry, where forces on nuclei are minimized. If the geometry is not optimized, the computed frequencies will be unreliable. \n",
    "\n",
    "A single-point energy calculation provides only electronic energies, but to obtain thermodynamic properties like $\\Delta{}G$, $\\Delta{}H$, $\\Delta{}S$, which are necessary for predicting reaction outcomes, we _must_ perform a frequency calculation.\n",
    "\n",
    "We'll try it ourselves by exploring the Diels-alder reaction of ethene and butadiene."
   ]
  },
  {
   "cell_type": "markdown",
   "id": "69f1f093-970d-4e0b-ac95-a5432b5dcb96",
   "metadata": {},
   "source": [
    "### GIVEN FUNCTIONS\n",
    "* Execute the blocks containing the given functions. Don't modify these."
   ]
  },
  {
   "cell_type": "code",
   "execution_count": null,
   "id": "2e7c3ccf-93a4-4a3f-aeed-3dc598b5c1fd",
   "metadata": {},
   "outputs": [],
   "source": [
    "def xyz_from_smiles(smiles_string):\n",
    "    rdkit_molecule = Chem.MolFromSmiles(smiles_string)\n",
    "    rdkit_molecule = Chem.AddHs(rdkit_molecule)\n",
    "    result = AllChem.EmbedMolecule(rdkit_molecule)\n",
    "    if result != 0:\n",
    "        raise ValueError(\"Embedding failed for the molecule\")\n",
    "    result = AllChem.MMFFOptimizeMolecule(rdkit_molecule)\n",
    "    \n",
    "    if result != 0:\n",
    "        raise ValueError(\"Optimization failed for the molecule\")\n",
    "    \n",
    "    xyz = Chem.MolToXYZBlock(rdkit_molecule)\n",
    "    return xyz"
   ]
  },
  {
   "cell_type": "code",
   "execution_count": null,
   "id": "5d7dc840-b97f-4253-b0d6-6513cd7a263f",
   "metadata": {},
   "outputs": [],
   "source": [
    "def show_molecule(smiles_string):\n",
    "    xyz = xyz_from_smiles(smiles_string)\n",
    "    view = py3Dmol.view(width=200,height=200)\n",
    "    view.addModel(xyz,'xyz')\n",
    "    view.setStyle({'sphere':{'radius' : 0.3}, 'stick' : {'radius': 0.2}})\n",
    "    view.setStyle({'element': 'H'}, {'sphere': {'radius': 0.3, 'color': 'white'}})\n",
    "    view.zoomTo()\n",
    "    view.show()"
   ]
  },
  {
   "cell_type": "code",
   "execution_count": null,
   "id": "c1dfb923-2a31-459e-89c0-3287357867c7",
   "metadata": {},
   "outputs": [],
   "source": [
    "def create_psi4_molecule(smiles_string):\n",
    "    '''\n",
    "    INPUT:\n",
    "    xyz format molecule coordinates\n",
    "    OUTPUT:\n",
    "    psi4-compatible molecular geometry object\n",
    "    '''\n",
    "    xyz_block = xyz_from_smiles(smiles_string)\n",
    "    xyz_lines = xyz_block.split('\\n')\n",
    "    psi_coords = \"\\n\".join([\"0 1\"] + xyz_lines[2:])\n",
    "    psi4_molecule = psi4.geometry(psi_coords)\n",
    "    return psi4_molecule"
   ]
  },
  {
   "cell_type": "markdown",
   "id": "8d112c05-402c-450a-b214-6e2157f4ce92",
   "metadata": {},
   "source": [
    "### CODE\n",
    "* Create SMILES strings for ethene, butadiene, and cyclohexene.\n",
    "* Using Psi4, optimize the geometry of each molecule and compute $\\Delta{}E_{elec}^{rxn}$ (electronic reaction energy) for the Diels-Alder reaction.\n",
    "* Perform frequency calculations on the optimized structures, then compute $\\Delta{}G^{rxn}$ (Gibbs free energy) and $\\Delta{}H^{rxn}$ (enthalpy) for the reaction."
   ]
  },
  {
   "cell_type": "code",
   "execution_count": null,
   "id": "25bd3387-2ed9-4ae9-9e4f-5821e1e7644f",
   "metadata": {},
   "outputs": [],
   "source": [
    "#don't forget to floss"
   ]
  },
  {
   "cell_type": "code",
   "execution_count": null,
   "id": "71360b2b-c8c5-4476-92b9-5e4a31ec28a1",
   "metadata": {},
   "outputs": [],
   "source": [
    "psi4.set_memory('1 GB')\n",
    "my_theory = 'SCF/STO-3G'\n",
    "\n",
    "# more free stuff, wowie!\n",
    "#psi4.set_output_file('ethene.dat',False)\n",
    "#p4ethene = create_psi4_molecule(ethene)\n",
    "#ethene_energy, ethene_wfn = psi4.optimize(my_theory,return_wfn=True,molecule=p4ethene)"
   ]
  },
  {
   "cell_type": "code",
   "execution_count": null,
   "id": "046ac893-c96c-44eb-b86b-b87ab6576497",
   "metadata": {},
   "outputs": [],
   "source": [
    "#reaction_energy = cyclohexene_energy - (ethene_energy + butadiene_energy)\n",
    "#rxn_e_kj_mol = reaction_energy * 2625 #kJ/mol\n",
    "#print(f\"reaction (electronic) energy: {rxn_e_kj_mol:.1f} kJ/mol\")"
   ]
  },
  {
   "cell_type": "code",
   "execution_count": null,
   "id": "3eed0763-5833-42d3-97aa-71faf76279a5",
   "metadata": {
    "scrolled": true
   },
   "outputs": [],
   "source": [
    "# with frequencies\n",
    "#so psi4 remembers that you optimized the molecules and updates their coordinates, you\n",
    "#don't need to do it again.\n",
    "# psi4.set_output_file('ethene.dat',False)\n",
    "# ethene_energy, ethene_wfn = psi4.frequency(my_theory,return_wfn=True,molecule=p4ethene)\n",
    "# ethene_enthalpy = psi4.variable('enthalpy')\n",
    "# ethene_gibbs = psi4.variable('gibbs free energy')\n",
    "# print(f\"{ethene_enthalpy:.2f}  , {ethene_gibbs:.2f}\")"
   ]
  },
  {
   "cell_type": "markdown",
   "id": "2cfefde9-29c0-4b6a-bb4e-236ba121668e",
   "metadata": {},
   "source": [
    "### SHORT RESPONSE QUESTIONS\n",
    "1. Why is it important to optimize the geometry of the molecule before we calculate frequencies?\n",
    "2. Compare $\\Delta{}E_{elec}^{rxn}$ and $\\Delta{}G^{rxn}$. How large was the difference? What does this tell us about the role of vibrational energies in determining reaction thermodynamics?\n",
    "### ANSWERS"
   ]
  },
  {
   "cell_type": "markdown",
   "id": "c9dc82ec-f228-4ede-a0aa-644268757d3a",
   "metadata": {},
   "source": []
  },
  {
   "cell_type": "markdown",
   "id": "f1f2668a-36f9-4a6a-94ce-a68f214b4598",
   "metadata": {},
   "source": [
    "<br/><br/>"
   ]
  },
  {
   "cell_type": "markdown",
   "id": "7dfc8227-b909-4daa-81a4-fff27dcdd8ad",
   "metadata": {},
   "source": [
    "## IR Spectra: It's still OPT + FREQ\n",
    "One of the most intuitive applications of computing vibrational frequencies is simulating an IR spectrum. For complex molecules, experimental IR spectra can be difficult to interpret, but computationally predicted spectra provide a useful reference when exploring possible structures.\n",
    "\n",
    "In real IR spectra, peaks are broadened due to effects such as anharmonicity, thermal population of higher-energy geometries, and solvent interactions. Accurately modeling these effects requires more advanced techniques, but a reasonable approximation can be achieved by applying Gaussian broadening to a computed line spectrum. \n",
    "\n",
    "Let's explore this by plotting the frequencies we just calculated."
   ]
  },
  {
   "cell_type": "markdown",
   "id": "9b46431a-2080-4433-8c1b-702ba2a2108e",
   "metadata": {},
   "source": [
    "### LIBRARIES\n",
    "* Execute this cell before going any further."
   ]
  },
  {
   "cell_type": "code",
   "execution_count": null,
   "id": "2256cd99-4479-47a8-a503-e8856f87a053",
   "metadata": {},
   "outputs": [],
   "source": [
    "from scipy.stats import norm"
   ]
  },
  {
   "cell_type": "markdown",
   "id": "29b0aaf6-190e-42d3-b3e0-d4a599f1f8e6",
   "metadata": {},
   "source": [
    "### GIVEN FUNCTIONS\n",
    "* Execute the blocks containing the given functions. Don't modify these."
   ]
  },
  {
   "cell_type": "code",
   "execution_count": null,
   "id": "7613b1e1-8a2a-46ea-8618-b332e8eba9de",
   "metadata": {},
   "outputs": [],
   "source": [
    "def gaussian(x, mu, sigma, intensity):\n",
    "    return intensity * norm.pdf(x, mu, sigma)\n",
    "    \n",
    "def plot_spectrum(frequencies,intensities,title='Simulated IR Spectrum'):\n",
    "    x_range = np.linspace(400, 4000, 2000)  \n",
    "    spectrum = np.zeros_like(x_range)\n",
    "        \n",
    "    sigma = 10\n",
    "    for freq, inten in zip(np.real(frequencies), intensities):\n",
    "        \n",
    "        spectrum += gaussian(x_range, freq, sigma, inten)\n",
    "    \n",
    "    spectrum /= spectrum.max()\n",
    "    \n",
    "    plt.figure(figsize=(8, 5))\n",
    "    plt.plot(x_range, spectrum, color='black')\n",
    "    plt.fill_between(x_range, spectrum, alpha=0.3, color='gray')\n",
    "    plt.gca().invert_xaxis()  #for convention of higher values on the left in IR spectra\n",
    "    plt.xlabel(\"Wavenumber (cm$^{-1}$)\")\n",
    "    plt.ylabel(\"Transmittance (Relative)\")\n",
    "    plt.title(title)\n",
    "    plt.show()"
   ]
  },
  {
   "cell_type": "markdown",
   "id": "9ee7d03e-4bb8-420f-b45b-8e6705b9a968",
   "metadata": {},
   "source": [
    "### CODE\n",
    "* From each `psi4.wavefunction` object from the last part, access the `frequency_analysis` dictionary and extract the frequencies (`'omega'`) and IR intensities (`'IR_intensity'`).\n",
    "* Use the `plot_spectrum()` function with your extracted frequencies and intensities to generate and display a simulated IR spectrum for each molecule."
   ]
  },
  {
   "cell_type": "code",
   "execution_count": null,
   "id": "eb9e789c-a7b2-4058-afeb-f968cf626bd3",
   "metadata": {},
   "outputs": [],
   "source": [
    "# a gift from me to you\n",
    "# ethene_freq_dict = ethene_wfn.frequency_analysis\n",
    "# ethene_frequencies = ethene_freq_dict['omega'].data\n",
    "# ethene_intensities = ethene_freq_dict['IR_intensity'].data\n",
    "# plot_spectrum(ethene_frequencies,ethene_intensities,'Ethene IR')"
   ]
  },
  {
   "cell_type": "code",
   "execution_count": null,
   "id": "618e71fa-7524-4ce4-8b45-086845f257b0",
   "metadata": {},
   "outputs": [],
   "source": []
  },
  {
   "cell_type": "markdown",
   "id": "aeb69d65-0c23-44b7-8151-4ba9e46605a3",
   "metadata": {},
   "source": [
    "### SHORT RESPONSE QUESTIONS\n",
    "1. How might the ability to calculate theoretical IR spectra be useful?\n",
    "2. Look up real IR spectra for each of these three molecules. How accurate are the computational results? Why might there be discrepancies, and how might they impact the practical use of theoretical IR spectra?\n",
    "### ANSWERS"
   ]
  },
  {
   "cell_type": "markdown",
   "id": "ce606713-7393-49ce-b799-2139ebd22684",
   "metadata": {},
   "source": []
  },
  {
   "cell_type": "markdown",
   "id": "e9716684-a5ae-4e40-ada0-09d8eb8d3494",
   "metadata": {},
   "source": [
    "<br/><br/>\n",
    "<br/><br/>"
   ]
  },
  {
   "cell_type": "markdown",
   "id": "f4917e13-4f23-4c34-8b52-71e7fa151cc7",
   "metadata": {},
   "source": [
    "# Reflection"
   ]
  },
  {
   "cell_type": "markdown",
   "id": "f7b7ae28-6c24-4d21-890f-11cb23b0adcf",
   "metadata": {},
   "source": [
    "### SHORT RESPONSE QUESTIONS\n",
    "1. How do the shapes of potentials and the boundary conditions of a system determine the valid wavefunctions?\n",
    "2. How are molecular motions related to molecular energies and thermodynamics?\n",
    "3. How do the rigid rotor and quantum harmonic osciallator models apply to real-world chemistry problems?\n",
    "### ANSWERS"
   ]
  },
  {
   "cell_type": "markdown",
   "id": "0d806be8-12d5-40e5-8375-bfb60cff3909",
   "metadata": {},
   "source": []
  },
  {
   "cell_type": "markdown",
   "id": "df8299bd-4844-4652-9d35-9ffbdbffc7e4",
   "metadata": {},
   "source": [
    "<br/><br/>\n",
    "<br/><br/>\n"
   ]
  }
 ],
 "metadata": {
  "kernelspec": {
   "display_name": "Python 3 (ipykernel)",
   "language": "python",
   "name": "python3"
  },
  "language_info": {
   "codemirror_mode": {
    "name": "ipython",
    "version": 3
   },
   "file_extension": ".py",
   "mimetype": "text/x-python",
   "name": "python",
   "nbconvert_exporter": "python",
   "pygments_lexer": "ipython3",
   "version": "3.11.10"
  }
 },
 "nbformat": 4,
 "nbformat_minor": 5
}
