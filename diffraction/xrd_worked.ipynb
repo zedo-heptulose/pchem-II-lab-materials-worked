{
 "cells": [
  {
   "cell_type": "markdown",
   "id": "e96f4f11-c349-4504-ad16-d01a4c4c2e21",
   "metadata": {},
   "source": [
    "# LIBRARIES\n",
    "* Execute this cell before going any further.\n",
    "> If you run into issues with ipywidgets, run the following command in your Anaconda Prompt (Windows) or terminal (MacOS):  \n",
    "> `conda install ipywidgets widgetsnbextension`  "
   ]
  },
  {
   "cell_type": "code",
   "execution_count": 1,
   "id": "a3a09f7f-7195-4372-823d-b490ada84711",
   "metadata": {},
   "outputs": [],
   "source": [
    "import ipywidgets as widgets\n",
    "import matplotlib.pyplot as plt\n",
    "import numpy as np\n",
    "import pandas as pd"
   ]
  },
  {
   "cell_type": "markdown",
   "id": "906be93d-c21d-4db1-af32-8970d43ea148",
   "metadata": {},
   "source": [
    "<br/><br/>"
   ]
  },
  {
   "cell_type": "markdown",
   "id": "a2aacb26-66b8-475c-b644-99070406b70c",
   "metadata": {},
   "source": [
    "# Warmup"
   ]
  },
  {
   "cell_type": "markdown",
   "id": "acfa97d7-9962-4abc-bd43-96263f5f5e3a",
   "metadata": {},
   "source": [
    "## Interactive Computing and Visualization\n",
    "Being able to visualize and manipulate concepts in real time is a very powerful tool for gaining intuition about a concept or system you're working with. Throughout this assignment, we will use python to create interactive plots for just this purpose.\n",
    "\n",
    "For the warmup, you will make your own interactive plot - this should reveal that there is nothing especially mysterious about these, and make this more accessible as a tool for your own studies."
   ]
  },
  {
   "cell_type": "markdown",
   "id": "f698fc9c-f7d8-4446-a206-90faf06d1908",
   "metadata": {},
   "source": [
    "### CODE\n",
    "* Complete the `distance_between_points()` function to create a simple interactive graph for visualizing the distance between two points.\n",
    "* Complete the `interactive_distance_plot()` function to interact with the plotting function you've made.\n",
    "* Finally, call `interactive_distance_plot()` and use the sliders to explore the effects of changing x and y for the two points."
   ]
  },
  {
   "cell_type": "code",
   "execution_count": 2,
   "id": "8acf800c-0473-4c45-b53b-1a298f10eb18",
   "metadata": {},
   "outputs": [],
   "source": [
    "def distance_between_points(v1_x,v1_y,v2_x,v2_y):\n",
    "    '''\n",
    "    parameters:\n",
    "    v1_x, v1_y, v2_x, v2_y : scalar numbers, x and y components of the two points\n",
    "    outputs:\n",
    "    a plot showing the positions of the two points, \n",
    "    the distance between them, and the line connecting them.\n",
    "    '''\n",
    "\n",
    "    plt.scatter(v1_x,v1_y,color='red',label=f'v1: {v1_x:.2f},{v1_y:.2f}')\n",
    "    #finish the function\n",
    "    plt.scatter(v2_x,v2_y,color='orange',label=f'v2: {v2_x:.2f},{v2_y:.2f}')\n",
    "     \n",
    "    distance = np.sqrt( (v1_x - v2_x )**2 + (v1_y - v2_y)**2 )\n",
    "    x = (v1_x,v2_x)\n",
    "    y = (v1_y,v2_y)\n",
    "    plt.plot(x,y,color='blue',label=f'distance = {distance:.2f}')\n",
    "\n",
    "    plt.legend()\n",
    "\n",
    "    plt.title('Distance')\n",
    "    plt.xlim(-5,5)\n",
    "    plt.ylim(-5,5)\n",
    "    plt.show()\n"
   ]
  },
  {
   "cell_type": "code",
   "execution_count": 3,
   "id": "24be85fb-3358-4685-ab76-bdc87d374d79",
   "metadata": {},
   "outputs": [],
   "source": [
    "def interactive_distance_plot():\n",
    "    widgets.interact(distance_between_points, v1_x=(-5,5,0.01),v1_y=(-5,5,0.01),v2_x=(-5,5,0.01),v2_y=(-5,5,0.01))"
   ]
  },
  {
   "cell_type": "code",
   "execution_count": 4,
   "id": "f4a1ba96-2459-4d07-a125-fe3c7b419585",
   "metadata": {},
   "outputs": [
    {
     "data": {
      "application/vnd.jupyter.widget-view+json": {
       "model_id": "7ff53f8e85414e9e87be211b5b839bf9",
       "version_major": 2,
       "version_minor": 0
      },
      "text/plain": [
       "interactive(children=(FloatSlider(value=0.0, description='v1_x', max=5.0, min=-5.0, step=0.01), FloatSlider(va…"
      ]
     },
     "metadata": {},
     "output_type": "display_data"
    }
   ],
   "source": [
    "interactive_distance_plot()"
   ]
  },
  {
   "cell_type": "markdown",
   "id": "3f7505aa-5c1d-4db5-a495-3238122e5b9f",
   "metadata": {},
   "source": [
    "<br/><br/>\n",
    "<br/><br/>"
   ]
  },
  {
   "cell_type": "markdown",
   "id": "e45c8a1f-3032-4bd4-83bb-a9c4e1cf691d",
   "metadata": {},
   "source": [
    "# Basics of Diffraction"
   ]
  },
  {
   "cell_type": "markdown",
   "id": "b8beee35-436e-4ae2-9865-3dfa4ff0315e",
   "metadata": {},
   "source": [
    "## PART 1 - Wave Superposition\n",
    "An important principle of wave behavior is __superposition__ - When two waves combine, the resultant wave is simply their sum. Waves are not \"more than the sum of their parts\"—they _are_ the sum of their parts.\n",
    "\n",
    "Because of this, any waveform can be decomposed into a sum of pure sine and cosine waves of specific frequencies. This can be done using the __Fourier Transform__, which transforms a signal from the time domain to the frequency domain.\n",
    "\n",
    "> This descriptioin of the Fourier Transform is sufficient for our purposes.\n",
    "> If you are curious about the details, check out this excellent video:\n",
    "> [3Blue1Brown's Fourier Transform Explanation (YouTube)](https://www.youtube.com/watch?v=spUNpyF58BY&t=554s)"
   ]
  },
  {
   "cell_type": "markdown",
   "id": "b2798d03-699c-468b-9baf-e81fc469ff2a",
   "metadata": {},
   "source": [
    "### GIVEN FUNCTIONS\n",
    "* Execute the blocks containing the given functions. Don't modify these."
   ]
  },
  {
   "cell_type": "code",
   "execution_count": 10,
   "id": "9df2cfdf-d61e-4b05-b42c-a00577894fa0",
   "metadata": {},
   "outputs": [],
   "source": [
    "def superposition_plot(f1, p1, f2, p2):\n",
    "    fig, (ax1, ax2) = plt.subplots(2,1)\n",
    "    x, y_1, y_2, y_superposition = waves_and_superposition(f1,p1,f2,p2)\n",
    "\n",
    "    ax1.plot(x,y_1,label='First Wave',alpha=0.6,color='red')\n",
    "    ax1.plot(x,y_2,label='Second Wave',alpha=0.6,color='orange')\n",
    "    ax1.plot(x, y_superposition,label='Sum of waves',color='blue')\n",
    "    ax1.set_title('Wave Superposition')\n",
    "    ax1.set_xlabel('Time (s)')\n",
    "    ax1.set_ylabel('Amplitude')\n",
    "    ax1.set_ylim(-3, 3)\n",
    "    ax1.set_xlim(0,4)\n",
    "\n",
    "    fourier_x, fourier_y = fourier_transform(y_superposition)\n",
    "    ax2.plot(fourier_x,fourier_y)\n",
    "    ax2.set_title('Fourier Transform of Resulting Wave')\n",
    "    ax2.set_xlabel('Frequency (Hz)')\n",
    "    ax2.set_ylabel('Contribution')\n",
    "    ax2.set_xlim(0,6)\n",
    "    ax2.set_ylim(0,1.05)\n",
    "\n",
    "    plt.subplots_adjust(hspace=0.6)\n",
    "    plt.show()"
   ]
  },
  {
   "cell_type": "code",
   "execution_count": 11,
   "id": "41790d29-e8b0-4cbc-b465-9c767fd6638a",
   "metadata": {},
   "outputs": [],
   "source": [
    "def fourier_transform(signal):\n",
    "    sampling_rate = 64  \n",
    "    T = 1 / sampling_rate  \n",
    "    \n",
    "    n = len(signal)\n",
    "    fft_signal = np.fft.fft(signal)\n",
    "    fft_signal = fft_signal / n \n",
    "    \n",
    "    frequencies = np.fft.fftfreq(n, T)\n",
    "    \n",
    "    positive_frequencies = frequencies[:n // 2]\n",
    "    fft_signal_magnitude = np.abs(fft_signal[:n // 2])\n",
    "    return positive_frequencies, fft_signal_magnitude"
   ]
  },
  {
   "cell_type": "code",
   "execution_count": 12,
   "id": "61f99df6-fc29-4d4c-82ae-8b96e3903593",
   "metadata": {},
   "outputs": [],
   "source": [
    "def interactive_superposition_plot():\n",
    "    widgets.interact(superposition_plot, f1=(0,5,0.1), p1=(0,20,0.1),f2=(0,5,0.1),p2=(0,20,0.1))"
   ]
  },
  {
   "cell_type": "markdown",
   "id": "79e1550b-33c6-4536-bbfc-2c5e020f05a0",
   "metadata": {},
   "source": [
    "### CODE\n",
    "* Complete the `waves_and_superposition()` function to create two waves and their superposition from the frequencies and phases of each wave.\n",
    "* Call the `interactive_superposition_plot()` function to generate a plot with widgets.\n",
    "* Explore the results of changing the phase and frequencies of the two waves."
   ]
  },
  {
   "cell_type": "code",
   "execution_count": 13,
   "id": "4d47bf96-cd48-4058-9fcb-f3c6c21b91a7",
   "metadata": {},
   "outputs": [],
   "source": [
    "def waves_and_superposition(f1,p1,f2,p2):\n",
    "    #creating list of x values for use with our functions\n",
    "    x = np.linspace(0, 10, 640) \n",
    "    #transforming to angular frequencies for use in sine\n",
    "    w1 = 2 * np.pi * f1\n",
    "    w2 = 2 * np.pi * f2\n",
    "    #write this part!\n",
    "    y_1 = np.sin(w1 * x + p1)\n",
    "    y_2 = np.sin(w2 * x + p2)\n",
    "    y_superposition = y_1 + y_2\n",
    "    return x, y_1, y_2, y_superposition"
   ]
  },
  {
   "cell_type": "code",
   "execution_count": 14,
   "id": "3d819e1f-58ad-4ef8-9fb3-9d1c635f8b95",
   "metadata": {},
   "outputs": [
    {
     "data": {
      "application/vnd.jupyter.widget-view+json": {
       "model_id": "99f24e7fa90c46cf905070f9fcc569b6",
       "version_major": 2,
       "version_minor": 0
      },
      "text/plain": [
       "interactive(children=(FloatSlider(value=2.0, description='f1', max=5.0), FloatSlider(value=10.0, description='…"
      ]
     },
     "metadata": {},
     "output_type": "display_data"
    }
   ],
   "source": [
    "interactive_superposition_plot()"
   ]
  },
  {
   "cell_type": "markdown",
   "id": "c3c32035-3039-4c10-be84-d37919eee9dd",
   "metadata": {},
   "source": [
    "### SHORT RESPONSE QUESTIONS\n",
    "1. How do the frequencies of the component waves relate to the frequencies observed in the Fourier transform of their superposition?\n",
    "2. Does changing the phase of each wave affect this relationship?\n",
    "3. How is superposition related to constructive and destructive interference?\n",
    "### ANSWER"
   ]
  },
  {
   "cell_type": "markdown",
   "id": "9f53d98a-ab89-49d4-aa2f-754100efa7d7",
   "metadata": {},
   "source": [
    "1. We observe that the frequencies we set for each component wave are the same as the frequencies observed in the fourier transform of the wave made by adding them.\n",
    "2. This relationship does not change as we change the phase of each wave (*with the exception of the case where both waves have the same frequency and the phase causes complete destructive interference*).\n",
    "3. Constructive and destructive interference are the two cases of wave superposition, where the components of each wave have the same or different sign respectively."
   ]
  },
  {
   "cell_type": "markdown",
   "id": "c32ef20d-a05e-43d6-bce4-ff19670ba73e",
   "metadata": {},
   "source": [
    "<br/><br/>"
   ]
  },
  {
   "cell_type": "markdown",
   "id": "ddbb8864-61bf-4292-9abb-774ff938e999",
   "metadata": {},
   "source": [
    "## PART 2 - Intensity vs. Amplitude and the Double Slit Experiment\n",
    "The double slit experiment provides strong evidence that light behaves as a wave. \n",
    "\n",
    "When light passes through two closely spaced slits and illuminates a screen, the resultant pattern is _not_ the sum of the patterns from each individual slit. If light waves combine linearly, why don't light intensities? The reason lies in the nonlinear relationship between intensity and amplitude:\n",
    "$$\n",
    "I \\propto A^2\n",
    "$$\n",
    "In the double slit experiment, constructive interference occurs when:\n",
    "$$\n",
    "d \\cdot{}sin(\\theta) = n\\lambda\n",
    "$$\n",
    "where d is the distance between slits, $\\theta$ is the angle relative to the perpendicular, n is any integer, and $\\lambda$ is the wavelength.\n",
    "\n",
    "Conversely, destructive interference occurs when:\n",
    "$$d \\cdot{}sin(\\theta) = (n + \\frac{1}{2})\\lambda$$\n",
    "Try and prove this to yourself!\n"
   ]
  },
  {
   "cell_type": "markdown",
   "id": "db794a6b-7ec1-47cb-b99e-04aaaa55d795",
   "metadata": {},
   "source": [
    "### GIVEN FUNCTIONS\n",
    "\n",
    "* Execute the blocks containing the given functions. Don't modify these."
   ]
  },
  {
   "cell_type": "code",
   "execution_count": 15,
   "id": "06e98b73-65da-49c9-99d4-8989f860afcd",
   "metadata": {},
   "outputs": [],
   "source": [
    "def intensity_amplitude_plot(wavelength,amplitude):\n",
    "    wavenumber = 1/ wavelength\n",
    "    w = 2 * np.pi * wavenumber\n",
    "    x = np.linspace(-1000, 1000, 500)\n",
    "    y_wave = amplitude * np.sin(w * x)\n",
    "    y_intensity = y_wave **2\n",
    "    plt.plot(x,y_wave,label='Wave Amplitude')\n",
    "    plt.plot(x,y_intensity,label='Wave Intensity')\n",
    "    plt.axhline(0,color='grey')\n",
    "    plt.legend()\n",
    "    plt.ylabel('Intensity and Amplitude (not to scale)')\n",
    "    plt.xlabel('Position (nm)')\n",
    "    plt.title('Amplitude and Intensity')\n",
    "    plt.xlim(-1000,1000)\n",
    "    plt.ylim(-3,10)\n",
    "    plt.show()"
   ]
  },
  {
   "cell_type": "code",
   "execution_count": 16,
   "id": "e52a018d-6606-4ced-bb7f-e28216ff9381",
   "metadata": {},
   "outputs": [],
   "source": [
    "def interactive_intensity_plot():\n",
    "    widgets.interact(intensity_amplitude_plot, wavelength=(200,1000,10),amplitude=(0.5,3,0.5))"
   ]
  },
  {
   "cell_type": "code",
   "execution_count": 17,
   "id": "a35ea4db-e1bf-4013-ae3f-53d232db019e",
   "metadata": {},
   "outputs": [],
   "source": [
    "def plot_wave_interference(phases,wavelength,ax):\n",
    "    bounds = (-2.5*wavelength,2.5*wavelength)\n",
    "    wavenumber = 1/wavelength\n",
    "    w = 2 * np.pi * wavenumber \n",
    "    x = np.linspace(*bounds, 200)\n",
    "    y_1 = 0.5 * np.sin(w * x)\n",
    "    y_superposition = y_1\n",
    "    ax.plot(x,y_1,alpha=0.3)\n",
    "    for i, phase in enumerate(list(phases)):\n",
    "        phase = 2 * np.pi * phase\n",
    "        y_new =  0.5 * np.sin(w * x + phase)\n",
    "        y_superposition += y_new\n",
    "        plot_version = y_new.copy()\n",
    "        ax.plot(x,plot_version,alpha=0.3)\n",
    "    norm = (len(phases) / 2) if len(phases) > 1 else 1 \n",
    "    y_superposition /= norm\n",
    "    ax.plot(x, y_superposition)\n",
    "    ax.set_ylim(-2, 2)\n",
    "    return ax"
   ]
  },
  {
   "cell_type": "code",
   "execution_count": 18,
   "id": "d18d69f6-2a4e-40d7-b741-9768384ec434",
   "metadata": {},
   "outputs": [],
   "source": [
    "from matplotlib.gridspec import GridSpec\n",
    "def interference_plot_template(theta=0,d=1000,wavelength = 400,iterations=2,crystal=False,extra_vars=[]):\n",
    "    fig = plt.figure(figsize=(6,6))\n",
    "    gs = GridSpec(2, 3, figure=fig, height_ratios=[1, 1])\n",
    "    ax2 = fig.add_subplot(gs[1, :])\n",
    "    ax1 = fig.add_subplot(gs[0, 1:])\n",
    "    ax_text = fig.add_subplot(gs[0, 0])\n",
    "\n",
    "    if d != 0:\n",
    "        ax1.set_xlim([-d * 2, d* 2])\n",
    "        ax1.set_ylim([0, d * 3]) \n",
    "    ax1.set_aspect('equal', adjustable='box')\n",
    "    ax1.set_title(f'Path of parallel rays, $\\\\theta={np.degrees(theta):.1f}\\\\degree$')\n",
    "    ax1.set_xlabel('x (nm)')\n",
    "    ax1.set_ylabel('y (nm)')\n",
    "\n",
    "    if crystal:\n",
    "        L = 2 * d * np.sin(theta)\n",
    "    else:\n",
    "        L = d * np.sin(theta)\n",
    "    phase = L / wavelength\n",
    "    if iterations > 2:\n",
    "        orders = np.array([i for i in range(1,iterations)])\n",
    "        phases = orders * phase\n",
    "        ax2 = plot_wave_interference(phases,wavelength,ax2)\n",
    "    else:\n",
    "        ax2 = plot_wave_interference([phase],wavelength,ax2)\n",
    "        \n",
    "    ax2.set_xlim(-wavelength * 2.5,wavelength * 2.5)\n",
    "    ax2.set_ylim(-1.05,1.05)\n",
    "    ax2.set_title(f'Interference of parallel rays')\n",
    "    ax2.set_xlabel('Position (nm)')\n",
    "    ax2.set_ylabel('Amplitude (not to scale)')\n",
    "\n",
    "    ax_text.axis(\"off\") \n",
    "    variable_text = [\n",
    "        f'$\\\\lambda={wavelength}nm$',\n",
    "        f'$\\\\theta={np.degrees(theta):.1f}\\\\degree$',\n",
    "    ]\n",
    "    if crystal:\n",
    "        variable_text.append(f'$d={d:.3f}nm$')\n",
    "    else:\n",
    "        variable_text.append(f'$d={d:.0f}nm$')\n",
    "    if extra_vars:\n",
    "        variable_text.extend(extra_vars)\n",
    "    if crystal:\n",
    "        variable_text.append(f'$L=2d\\\\cdot{{}}sin(\\\\theta) = {L:.3f}nm$')\n",
    "        variable_text.append(f'$2\\\\theta={2*np.degrees(theta):.1f}\\\\degree$')\n",
    "    else:\n",
    "        variable_text.append(f'$L=d\\\\cdot{{}}sin(\\\\theta) = {L:.0f}nm$')\n",
    "    ax_text.text(0.25, 0.5, \"\\n\\n\".join(variable_text), fontsize=10, ha=\"center\", va=\"center\")\n",
    "    plt.subplots_adjust(hspace=0.4)\n",
    "\n",
    "    return fig, (ax1,ax2,ax_text)"
   ]
  },
  {
   "cell_type": "code",
   "execution_count": 24,
   "id": "bf64ef71-e347-4ac4-88fa-ed6121ad4358",
   "metadata": {},
   "outputs": [],
   "source": [
    "def interference_subplot(ax1,theta,d,iterations):\n",
    "    signed_angle = theta\n",
    "    theta = np.abs(theta)\n",
    "    height = d * 3\n",
    "    translations = range(-iterations//2,iterations//2)\n",
    "    phase_lengths = []\n",
    "    for i, translation in enumerate(translations):\n",
    "        origin = np.array([float(translation) * d,0.00])\n",
    "        p1 = origin + np.array([-d/2 , 0.0])\n",
    "        p2 = origin + np.array([d/2, 0.0])\n",
    "        p3_x = d * np.cos(theta) * np.cos(theta)\n",
    "        p3_y = d * np.cos(theta) * np.sin(theta)\n",
    "        p3 = p1 + np.array([p3_x,p3_y])\n",
    "        p45_trans = np.array([-np.tan(theta) * height,height])\n",
    "        p4 = p2 + p45_trans\n",
    "        points = [p1,p2,p3,p4]\n",
    "        x = np.array([point[0] for point in points])\n",
    "        y = np.array([point[1] for point in points])\n",
    "        phase_length = np.linalg.norm(p2-p3)\n",
    "        phase_lengths.append(phase_length)\n",
    "\n",
    "        if i == 0:\n",
    "            pairs = [(p2,p4)]\n",
    "        else:\n",
    "            pairs = [(p1,p3),(p2,p3),(p3,p4)]\n",
    "        for pair in pairs:\n",
    "            x = np.array([point[0] for point in pair if type(point) is np.ndarray])\n",
    "            y = np.array([point[1] for point in pair if type(point) is np.ndarray])\n",
    "\n",
    "            if signed_angle > 0:\n",
    "                ax1.plot(-x,y)\n",
    "            else:\n",
    "                ax1.plot(x,y)"
   ]
  },
  {
   "cell_type": "code",
   "execution_count": 25,
   "id": "becb6874-bb25-4ee8-924b-2fd9d328654a",
   "metadata": {},
   "outputs": [],
   "source": [
    "def plot_double_slit(theta):\n",
    "    d = 1000\n",
    "    wavelength = 400\n",
    "    theta = np.radians(theta)\n",
    "    fig, (ax1,ax2,ax_text) = interference_plot_template(theta,d,wavelength)\n",
    "    ax1 = interference_subplot(ax1,theta,d,2)\n",
    "\n",
    "    plt.show()"
   ]
  },
  {
   "cell_type": "code",
   "execution_count": 26,
   "id": "be08373b-c302-4be0-8de6-1a7f7108553f",
   "metadata": {},
   "outputs": [],
   "source": [
    "def interactive_double_slit_plot():\n",
    "    widgets.interact(plot_double_slit, theta=(-90,90,0.10))"
   ]
  },
  {
   "cell_type": "markdown",
   "id": "1a7f4223-0cf7-4919-946b-7860e814eb82",
   "metadata": {},
   "source": [
    "### CODE\n",
    "* Run the `interactive_intensity_plot()` function and explore the relationship between the intensity and amplitude of light.\n",
    "* Run the `interactive_double_slit_plot()` function and explore how the light rays passing through the slit interfere as the angle changes."
   ]
  },
  {
   "cell_type": "code",
   "execution_count": 27,
   "id": "7e657e24-c16e-4104-bd45-a30775d15d8b",
   "metadata": {},
   "outputs": [
    {
     "data": {
      "application/vnd.jupyter.widget-view+json": {
       "model_id": "edf00b3e13684315ab8822b9bb3f6d49",
       "version_major": 2,
       "version_minor": 0
      },
      "text/plain": [
       "interactive(children=(IntSlider(value=600, description='wavelength', max=1000, min=200, step=10), FloatSlider(…"
      ]
     },
     "metadata": {},
     "output_type": "display_data"
    }
   ],
   "source": [
    "interactive_intensity_plot()"
   ]
  },
  {
   "cell_type": "code",
   "execution_count": 28,
   "id": "1214ddbc-3b61-4360-9bd4-da01cf91babe",
   "metadata": {},
   "outputs": [
    {
     "data": {
      "application/vnd.jupyter.widget-view+json": {
       "model_id": "af3d3444aad84becbe28e6ce2003754a",
       "version_major": 2,
       "version_minor": 0
      },
      "text/plain": [
       "interactive(children=(FloatSlider(value=0.0, description='theta', max=90.0, min=-90.0), Output()), _dom_classe…"
      ]
     },
     "metadata": {},
     "output_type": "display_data"
    }
   ],
   "source": [
    "interactive_double_slit_plot()"
   ]
  },
  {
   "cell_type": "markdown",
   "id": "1985c418-12b9-47cb-93e6-44900626ec98",
   "metadata": {},
   "source": [
    "### SHORT RESPONSE QUESTIONS\n",
    "1. At what angles and path length differences was the greatest constructive interference observed?\n",
    "2.  How about for destructive interference?\n",
    "3. How are these angles and distances related to the wavelength of light passing through the slits?\n",
    "4. How is the relationship between light intensity and amplitude similar to the relationship between probability density and wavefunction amplitude for an electron?\n",
    "### ANSWER"
   ]
  },
  {
   "cell_type": "markdown",
   "id": "754a1ce6-95b9-4911-af6e-9bbec3180d51",
   "metadata": {},
   "source": [
    "1. We observed constructive interference at the following angles: 0 deg, 23.7 deg, 52.7 deg\n",
    "2. We observed destructive interference at the following angles: 11.6 deg, 37 deg, 90 deg\n",
    "3. For the angles where constructive interference occurs, the extra path length is equal to an integer times the wavelength of the light. For the angles where destructive interference occurs, the extra path length is a half-integer multiple of wavelength.\n",
    "4. It is actually the same relationship: $P(r) = \\psi{}^2(r)$"
   ]
  },
  {
   "cell_type": "markdown",
   "id": "cf4935b1-378b-45c9-b9ca-fd1c98df8ca9",
   "metadata": {},
   "source": [
    "<br/><br/>"
   ]
  },
  {
   "cell_type": "markdown",
   "id": "12bf258b-47de-4cab-96d6-876200765031",
   "metadata": {},
   "source": [
    "## Part 3 - Diffraction\n",
    "What if instead of two slits, we had hundreds or thousands? What kind of pattern would we see?\n",
    "\n",
    "When light passes through a large number of closely spaced slits, the result is __diffraction__—a pattern of sharp, bright spots separated by complete darkness, unlike the gradual transtions between light and dark observed for the double slit experiment.\n",
    "\n",
    "As with the double slit experiment, we constructive interference when:\n",
    "$$n\\lambda = d\\cdot{}sin(\\theta)$$\n",
    "\n",
    "But why does this happen? The answer lies in how waves from many slits combine, which you'll explore in the next steps."
   ]
  },
  {
   "cell_type": "markdown",
   "id": "7ef07a42-39de-443a-b000-5e0de018e686",
   "metadata": {},
   "source": [
    "### GIVEN FUNCTIONS\n",
    "\n",
    "* Execute the blocks containing the given functions. Don't modify these."
   ]
  },
  {
   "cell_type": "code",
   "execution_count": 29,
   "id": "aa5dbf33-931f-4f79-a692-b0d35a1fff67",
   "metadata": {},
   "outputs": [],
   "source": [
    "def plot_diffraction(theta):\n",
    "    d = 1000\n",
    "    wavelength = 400\n",
    "    theta = np.radians(theta)\n",
    "    fig, (ax1,ax2,ax_text) = interference_plot_template(theta,d,wavelength,iterations=25)\n",
    "    ax1 = interference_subplot(ax1,theta,d,25)\n",
    "\n",
    "    plt.show()"
   ]
  },
  {
   "cell_type": "code",
   "execution_count": 30,
   "id": "9f358ded-0163-4a39-b982-345bb4b3e515",
   "metadata": {},
   "outputs": [],
   "source": [
    "def interactive_diffraction_plot():\n",
    "    widgets.interact(plot_diffraction, theta=(-70,70,0.1))"
   ]
  },
  {
   "cell_type": "markdown",
   "id": "76f0937e-0a28-4918-89d0-2f7ce9b3f0a0",
   "metadata": {},
   "source": [
    "### CODE\n",
    "* Run the `interactive_diffraction_plot()` function to explore the interference pattern from 25 light waves passing through nearby slits."
   ]
  },
  {
   "cell_type": "code",
   "execution_count": 31,
   "id": "0ca6fef4-99a6-4c54-bcbd-e1eeaeb385ea",
   "metadata": {},
   "outputs": [
    {
     "data": {
      "application/vnd.jupyter.widget-view+json": {
       "model_id": "da98ba2ddf26461785919fa3e526d5b8",
       "version_major": 2,
       "version_minor": 0
      },
      "text/plain": [
       "interactive(children=(FloatSlider(value=0.0, description='theta', max=70.0, min=-70.0), Output()), _dom_classe…"
      ]
     },
     "metadata": {},
     "output_type": "display_data"
    }
   ],
   "source": [
    "interactive_diffraction_plot()"
   ]
  },
  {
   "cell_type": "markdown",
   "id": "0866ebf1-32b3-41a4-903d-48e34958c80b",
   "metadata": {},
   "source": [
    "### SHORT RESPONSE QUESTIONS\n",
    "1. Why does diffraction produce much sharper peaks compared to two-slit interference?\n",
    "2. How would the wave superposition plot (the lower image) change if we simulated an infinite number of slits instead of 25?\n",
    "3. How can we determine the slit spacing for a diffraction grating if it is unknown?\n",
    "### ANSWER"
   ]
  },
  {
   "cell_type": "markdown",
   "id": "e0f87030-6570-4288-af5c-075052195e5b",
   "metadata": {},
   "source": [
    "1. Diffraction produces sharper peaks because there are so many waves that, unless they are all lined up, for any given wave passing through one of the slits there is likely another wave that cancels it out. For an infinite number of slits, there _is_ another wave that cancels it out.\n",
    "2. For an infinite amount of slits, there would be complete destructive interference everywhere except at the points of complete constructive interference.\n",
    "3. We could pass light of a known wavelength through, measure at which angles constructive interference occurs, and use the equation $n\\lambda = d\\cdot{}sin(\\theta)$ to calculate this value."
   ]
  },
  {
   "cell_type": "markdown",
   "id": "24431773-209c-4ee8-8fc6-eaad3ad74a3a",
   "metadata": {},
   "source": [
    "<br/><br/>\n",
    "<br/><br/>"
   ]
  },
  {
   "cell_type": "markdown",
   "id": "49113862-8c54-4d37-a4bd-1495d81578d8",
   "metadata": {},
   "source": [
    "# X-Ray Crystallography"
   ]
  },
  {
   "cell_type": "markdown",
   "id": "908270a0-44aa-4f81-9129-9ab017bd582a",
   "metadata": {},
   "source": [
    "## Part 1 - The Crystal Lattice\n",
    "\n",
    "To understand X-ray crystallography, we need to explore crystals themselves. While a crystal may contain septillions of atoms, we can nonetheless efficiently describe its structure using __symmetry__.\n",
    "\n",
    "At minimum, 3D crystals exhibit __translational symmetry__ in three directions. This means we can define three vectors for which translating the lattice by any integer multiple of these vectors ($n\\vec{v}$) results in the same structure.\n",
    "\n",
    "Because of this, we can fully describe a crystal by specifying the region enclosed by these three vectors: the __unit cell__.\n",
    "\n",
    "Crystal structures are defined by __cell parameters__, which describe the magnitudes and relative angles of these vectors. For magnitudes we use $a,b,c$ and for angles we use $\\alpha,\\beta,\\gamma$.\n",
    "\n",
    "Using these parameters, we classify crystals into __seven crystal systems__ and __14 Bravais lattices__.\n",
    "\n",
    "Crystals can also exist in two dimensions, where only three cell parameters are needed: $a,b,\\gamma$. We will visualize 2D lattices and explore how changing the cell parameters shapes the resulting structure."
   ]
  },
  {
   "cell_type": "markdown",
   "id": "f98ac40c-56fb-42ff-8cb5-c9a05eca1663",
   "metadata": {},
   "source": [
    "### GIVEN FUNCTIONS\n",
    "\n",
    "* Execute the blocks containing the given functions. Don't modify these."
   ]
  },
  {
   "cell_type": "code",
   "execution_count": 35,
   "id": "29fc9cfa-e675-436a-a804-25fdaa318e14",
   "metadata": {},
   "outputs": [],
   "source": [
    "from matplotlib.patches import Arc\n",
    "def two_d_crystal_lattice(a,b,gamma,title='2D Crystal Lattice'):\n",
    "    fig,ax = plt.subplots(figsize=(3,3))\n",
    "    gamma=np.radians(gamma)\n",
    "    tv_b = np.array([b,0])\n",
    "    \n",
    "    x_a = a * np.cos(gamma)\n",
    "    y_a = a * np.sin(gamma)\n",
    "    tv_a = np.array([x_a,y_a])\n",
    "\n",
    "    origin = np.array([0.0,0.0])\n",
    "\n",
    "    tv_ab = tv_a + tv_b\n",
    "    unitcell_points = [tv_a,tv_ab,tv_b]\n",
    "    unit_x = [point[0] for point in unitcell_points]\n",
    "    unit_y = [point[1] for point in unitcell_points]\n",
    "    ax.plot(unit_x,unit_y,color='red')\n",
    "    ax.quiver(0, 0, tv_a[0], tv_a[1], color='b', angles='xy', \n",
    "              scale_units='xy', scale=1, width=0.015, label=f\"$a={a:.2f}\"+r\"\\AA$\")\n",
    "    ax.quiver(0, 0, tv_b[0], tv_b[1], color='r', angles='xy', \n",
    "              scale_units='xy', scale=1, width=0.015, label=f\"$b={b:.2f}\"+r\"\\AA$\")\n",
    "    arc = Arc((0, 0), width=0.5*a, height=0.5*a, angle=0, theta1=0, \n",
    "              theta2=np.degrees(gamma), color='black', linewidth=1.5,label=f'$\\\\gamma={np.degrees(gamma):.1f}\\\\degree$')\n",
    "    ax.add_patch(arc)\n",
    "    \n",
    "    translations = 10\n",
    "    points = []\n",
    "    for i in range(-translations,translations+1):\n",
    "        for j in range(-translations,translations+1):\n",
    "            a = i * tv_a\n",
    "            b = j * tv_b \n",
    "            point = a + b\n",
    "            points.append(point)\n",
    "        \n",
    "    x = np.array([point[0] for point in points])\n",
    "    y = np.array([point[1] for point in points])\n",
    "    ax.grid()\n",
    "    ax.scatter(x,y)\n",
    "    ax.set_xlim(-3,3)\n",
    "    ax.set_ylim(-3,3)\n",
    "    ax.set_title(title)\n",
    "    ax.set_xlabel('x (Angstrom)')\n",
    "    ax.set_ylabel('y (Angstrom)')\n",
    "    ax.set_aspect('equal')\n",
    "\n",
    "    ax.legend(loc=\"lower right\", bbox_to_anchor=(1, 0),markerscale=0.5)\n",
    "    plt.show()"
   ]
  },
  {
   "cell_type": "code",
   "execution_count": 36,
   "id": "171bd535-2b5f-4ed6-b5e7-a50eae5b8a5d",
   "metadata": {},
   "outputs": [],
   "source": [
    "def interactive_crystal_plot():\n",
    "    widgets.interact(two_d_crystal_lattice,\n",
    "                     a=(1,2,0.1),\n",
    "                     b=(1,2.0,0.1),\n",
    "                    gamma=(30,150,1)\n",
    "                    )"
   ]
  },
  {
   "cell_type": "markdown",
   "id": "44872773-c6da-4252-9547-214b5c9853d0",
   "metadata": {},
   "source": [
    "### CODE\n",
    "* Run the `interactive_crystal_plot()` function to explore how changing the lattice parameters of a 2D crystal results in different structures.\n",
    "* Use the `two_d_crystal_lattice()` function to create examples of all four primitive two dimensional Bravais lattices ([Wikipedia](https://en.wikipedia.org/wiki/Bravais_lattice#In_2_dimensions)) and title them accordingly. \n",
    "* Your solution should call this function 4 times to display 4 different outputs."
   ]
  },
  {
   "cell_type": "code",
   "execution_count": 37,
   "id": "17091511-f412-4880-9472-90392d366796",
   "metadata": {},
   "outputs": [
    {
     "data": {
      "application/vnd.jupyter.widget-view+json": {
       "model_id": "389ddd61cee343ffb8f2e3d74577f703",
       "version_major": 2,
       "version_minor": 0
      },
      "text/plain": [
       "interactive(children=(FloatSlider(value=1.0, description='a', max=2.0, min=1.0), FloatSlider(value=1.5, descri…"
      ]
     },
     "metadata": {},
     "output_type": "display_data"
    }
   ],
   "source": [
    "interactive_crystal_plot()"
   ]
  },
  {
   "cell_type": "code",
   "execution_count": 38,
   "id": "ec648149-8761-4f94-a17c-147bad9900d0",
   "metadata": {},
   "outputs": [
    {
     "data": {
      "image/png": "[encoded data removed]",
      "text/plain": [
       "<Figure size 300x300 with 1 Axes>"
      ]
     },
     "metadata": {},
     "output_type": "display_data"
    },
    {
     "data": {
      "image/png": "[encoded data removed]",
      "text/plain": [
       "<Figure size 300x300 with 1 Axes>"
      ]
     },
     "metadata": {},
     "output_type": "display_data"
    },
    {
     "data": {
      "image/png": "[encoded data removed]",
      "text/plain": [
       "<Figure size 300x300 with 1 Axes>"
      ]
     },
     "metadata": {},
     "output_type": "display_data"
    },
    {
     "data": {
      "image/png": "[encoded data removed]",
      "text/plain": [
       "<Figure size 300x300 with 1 Axes>"
      ]
     },
     "metadata": {},
     "output_type": "display_data"
    }
   ],
   "source": [
    "#here is where we show and label the four primitive 2D Bravais Lattices\n",
    "two_d_crystal_lattice(1,1.5,80,title='Oblique')\n",
    "two_d_crystal_lattice(1,1.5,90,title='Rectangular')\n",
    "two_d_crystal_lattice(1,1,90,title='Square')\n",
    "two_d_crystal_lattice(1,1,120,title='Hexagonal')"
   ]
  },
  {
   "cell_type": "markdown",
   "id": "68034872-d9e4-468b-b214-8807541c18b7",
   "metadata": {},
   "source": [
    "### SHORT RESPONSE QUESTIONS\n",
    "1. How does the translational symmetry of a crystal simplify our calculations?\n",
    "2. Why are we able to treat crystals as being infinite for our calculations, even though real-world crystals are not truly infinite?\n",
    "### ANSWER"
   ]
  },
  {
   "cell_type": "markdown",
   "id": "cce70ef7-2e1f-42c6-8bc2-e8a647082f64",
   "metadata": {},
   "source": [
    "1. Symmetry allows us to only need to consider a small subset of the crystal in our calculations, not the entire crystal lattice.\n",
    "2. We can treat crystals as being infinite because even in powder XRD the crystals we are dealing with contain very, very large numbers of atoms arranged periodically. Including boundary effects in our calculations would change the result imperceptibly but would make the math much more complicated."
   ]
  },
  {
   "cell_type": "markdown",
   "id": "0265ff14-89ef-495d-870f-4c7f3627952b",
   "metadata": {},
   "source": [
    "<br/><br/>\n",
    "  "
   ]
  },
  {
   "cell_type": "markdown",
   "id": "890e0151-943a-4092-adcf-a86dfabba6f0",
   "metadata": {},
   "source": [
    "## Part 2 - Bragg's Law and Diffraction by Reflection\n",
    "Now that we have a better understanding of crystals and diffraction, let's see how they come together.\n",
    "\n",
    "We don't observe diffraction in a crystal by light passing through gaps between atoms. Rather, we diffraction occurs in a crystal when light scatters off atoms. \n",
    "\n",
    "As with diffraction through a grating, we only need to consider light rays that travel parallel to one another for each angle. When we do this, we can treat the problem as involving _reflection_ instead of scattering.\n",
    "\n",
    "To understand how diffraction works, we first need to understand the interference of light reflecting off two nearby points.\n",
    "\n",
    "As with diffraction, we can write an equation to describe when constructive interference occurs: \n",
    "$$n\\lambda{} = 2 d \\cdot{}sin(\\theta)$$\n",
    "This $\\theta$ has a slightly different meaning here. Notice also a new factor of two. As you explore diffraction through a lattice, pay close attention to definition of $\\theta$ and try to deduce where the factor of two comes from."
   ]
  },
  {
   "cell_type": "markdown",
   "id": "5e9cb9d3-8e97-4219-9309-ad676c70660b",
   "metadata": {},
   "source": [
    "### GIVEN FUNCTIONS\n",
    "\n",
    "* Execute the blocks containing the given functions. Don't modify these."
   ]
  },
  {
   "cell_type": "code",
   "execution_count": 39,
   "id": "6b27d403-3b67-4200-9b0b-4f8c97aa6110",
   "metadata": {},
   "outputs": [],
   "source": [
    "def point_reflection_subplot(ax1,x1,y1,x2,y2,theta):\n",
    "    x = [x1,x2]\n",
    "    y = [y1,y2]\n",
    "    ax1.scatter(x,y)\n",
    "    \n",
    "    right_trans = 50 * np.array([np.cos(theta),np.sin(theta)])\n",
    "    left_trans = 50 * np.array([-np.cos(theta),np.sin(theta)])\n",
    "    p1 = np.array([x1,y1])\n",
    "    p2 = np.array([x2,y2])\n",
    "    points = [p1,p2]\n",
    "    colors = ['blue','orange']\n",
    "    for i, p in enumerate(points):\n",
    "        p_right = p + right_trans\n",
    "        p_left = p + left_trans\n",
    "        light_path = [p_right,p,p_left]\n",
    "        x_light = [xy[0] for xy in light_path]\n",
    "        y_light = [xy[1] for xy in light_path]\n",
    "        ax1.plot(x_light,y_light,color =colors[i])\n",
    "    return ax1"
   ]
  },
  {
   "cell_type": "code",
   "execution_count": 40,
   "id": "3b30eae0-5141-4f65-8a2d-e792d9bc486c",
   "metadata": {},
   "outputs": [],
   "source": [
    "def reflection_two_points(x2=0.0,y2=0.0,theta=45):\n",
    "    x1=0.0\n",
    "    y1=0.0\n",
    "    mirror_normal_distance = y1 - y2\n",
    "    d = mirror_normal_distance\n",
    "    phase_length = 2 * mirror_normal_distance * np.sin(theta) \n",
    "    theta = np.radians(theta)\n",
    "    wavelength = 0.154 #1.54A\n",
    "    variables = [f'$d_y={np.abs(y1-y2):.3f}nm$',\n",
    "                 f'$d_x={np.abs(x1-x2):.3f}nm$']\n",
    "    fig, (ax1,ax2,ax_text) = interference_plot_template(\n",
    "        theta,d,wavelength,crystal=True,extra_vars=variables\n",
    "    )\n",
    "    ax1 = point_reflection_subplot(ax1,x1,y1,x2,y2,theta)\n",
    "    ax1.set_xlim(-1,1)\n",
    "    ax1.set_ylim(-1,1)"
   ]
  },
  {
   "cell_type": "code",
   "execution_count": 41,
   "id": "538a088e-c452-438e-ab2f-12b1096b9d4b",
   "metadata": {},
   "outputs": [],
   "source": [
    "def self_similar_bragg(origin,D,theta,ax):\n",
    "    p_above = origin + np.array([0,D])\n",
    "    x_right = D * np.sin(theta) * np.cos(theta)\n",
    "    y_right = D * np.sin(theta) ** 2\n",
    "    p_right = np.array([x_right,y_right])\n",
    "    p_right_long = 1000 * p_right\n",
    "    p_left = np.array([-x_right,y_right])\n",
    "    p_left_long = 1000 * p_left\n",
    "    \n",
    "    p_right += origin\n",
    "    p_right_long += origin\n",
    "    p_left += origin\n",
    "    p_left_long += origin\n",
    "    \n",
    "    points = [\n",
    "        p_above, p_right, p_right_long, p_left, p_left_long,\n",
    "    ]\n",
    "    pairs = [\n",
    "        (origin,p_above,'black'),(origin,p_left,'orange'),(origin,p_right,'orange'),\n",
    "        (p_above,p_left,'green'),(p_above,p_right,'green'),(p_left,p_left_long,'blue'),\n",
    "        (p_right,p_right_long,'blue'),\n",
    "    ]    \n",
    "    for pair in pairs:\n",
    "        x = np.array([point[0] for point in pair if type(point) is np.ndarray])\n",
    "        y = np.array([point[1] for point in pair if type(point) is np.ndarray])\n",
    "        color = pair[2]  \n",
    "        ax.plot(x,y,color=color)\n",
    "        \n",
    "    ax.set_xlim([-2,2])\n",
    "    ax.set_ylim([-2,2])\n",
    "    \n",
    "    ax.set_aspect('equal', adjustable='box')\n",
    "    distance = 2 * D * np.sin(theta)\n",
    "    return ax, distance"
   ]
  },
  {
   "cell_type": "code",
   "execution_count": 42,
   "id": "ed964960-7aeb-4b3e-96a4-7b97fffa792d",
   "metadata": {},
   "outputs": [],
   "source": [
    "from matplotlib.ticker import MultipleLocator\n",
    "\n",
    "def bragg_plot(theta):\n",
    "    theta = np.radians(theta)\n",
    "    d = 0.2\n",
    "    wavelength = 0.154\n",
    "    fig, (ax1,ax2,ax_text) = interference_plot_template(\n",
    "        theta,d,wavelength,crystal=True\n",
    "    )\n",
    "    \n",
    "    mirror_normal_distance = 0.2\n",
    "    for i in range(-2,3):\n",
    "        distances = []\n",
    "        for j in range(-4,3):\n",
    "            x_trans = 0.3 * i\n",
    "            y_trans = mirror_normal_distance * j\n",
    "            origin = np.array([x_trans,y_trans])\n",
    "            ax1,distance = self_similar_bragg(origin,0.2,theta,ax1)\n",
    "            distances.append(distance)\n",
    "    ax1.set_xlim(-0.5,0.5)\n",
    "    ax1.set_ylim(-0.5,0.5)\n",
    "    ax1.xaxis.set_major_locator(MultipleLocator(0.3)) \n",
    "    ax1.yaxis.set_major_locator(MultipleLocator(0.2))\n"
   ]
  },
  {
   "cell_type": "code",
   "execution_count": 43,
   "id": "d4e214b0-6c0a-48e6-a8d7-05e6c3b6c632",
   "metadata": {},
   "outputs": [],
   "source": [
    "def interactive_reflection_plot():\n",
    "    widgets.interact(reflection_two_points,x2=(-1.0,1.0,0.01),y2=(-1.0,1.0,0.01),\n",
    "                   theta=(1,90,0.1))"
   ]
  },
  {
   "cell_type": "code",
   "execution_count": 44,
   "id": "9a2e9d74-1f25-4750-814c-aed55e3c1869",
   "metadata": {},
   "outputs": [],
   "source": [
    "def interactive_bragg_plot():\n",
    "    widgets.interact(bragg_plot, theta=(1,70,0.1))"
   ]
  },
  {
   "cell_type": "markdown",
   "id": "d6076130-4bdb-477c-92db-3385f511f786",
   "metadata": {},
   "source": [
    "### CODE\n",
    "* Run the `interactive_reflection_plot()` function and explore how light reflecting off two points interferes.\n",
    "* Run the `interactive_bragg_plot()` function and explore diffraction caused by scattering off a crystal lattice."
   ]
  },
  {
   "cell_type": "code",
   "execution_count": 45,
   "id": "9db1174a-6f1c-4ecb-94be-0f7630d9d74b",
   "metadata": {},
   "outputs": [
    {
     "data": {
      "application/vnd.jupyter.widget-view+json": {
       "model_id": "b62806eee59d4567bc9eb0418b85f693",
       "version_major": 2,
       "version_minor": 0
      },
      "text/plain": [
       "interactive(children=(FloatSlider(value=0.0, description='x2', max=1.0, min=-1.0, step=0.01), FloatSlider(valu…"
      ]
     },
     "metadata": {},
     "output_type": "display_data"
    }
   ],
   "source": [
    "interactive_reflection_plot()"
   ]
  },
  {
   "cell_type": "code",
   "execution_count": 46,
   "id": "4e5807e0-6da4-4f73-8cbe-1c596a4ad4a0",
   "metadata": {},
   "outputs": [
    {
     "data": {
      "application/vnd.jupyter.widget-view+json": {
       "model_id": "37102f4f404f450c9708d6dc7abc93a3",
       "version_major": 2,
       "version_minor": 0
      },
      "text/plain": [
       "interactive(children=(FloatSlider(value=35.0, description='theta', max=70.0, min=1.0), Output()), _dom_classes…"
      ]
     },
     "metadata": {},
     "output_type": "display_data"
    }
   ],
   "source": [
    "interactive_bragg_plot()"
   ]
  },
  {
   "cell_type": "markdown",
   "id": "7afcb6de-62d7-4c2c-9e2a-2df65d021c20",
   "metadata": {},
   "source": [
    "### SHORT RESPONSE QUESTIONS\n",
    "1. If we define the y axis as bisecting the angle of reflection, how does the interference of light reflecting off two points depend on their separation along the x-axis and y-axis? Why?\n",
    "2. In this case, is the variable $\\theta$ relative to the y-axis or x-axis?\n",
    "3. What information does diffraction provide about the structure of a crystal? For our example, how could we calculate the distance between atoms along the y-axis?\n",
    "### ANSWER"
   ]
  },
  {
   "cell_type": "markdown",
   "id": "e7d89958-8b56-4c83-94c2-e5afe8fd91c7",
   "metadata": {},
   "source": [
    "\n",
    "1. With this definition of the x and y axis, the interference of light reflecting off two nearby points _only_ depends on their separation along the y axis and not at all on the x axis. This makes sense if we consider two points at (0,0) and (1,0): however much longer light travels after reflecting off the 0,0 point, it travels just that much longer before reflecting off the 1,0 point.\n",
    "2. The angle theta here goes from the x axis, i.e. from the plane of reflection.\n",
    "4. Diffraction can tell us about the distances between atoms in a crystal. In our example, we could determine the distance between atoms by shining an x-ray beam of a given wavelength through our crystal and measuring for which angles constructive interference occurs, using the equation $n\\lambda{} = 2 d \\cdot{}sin(\\theta)$."
   ]
  },
  {
   "cell_type": "markdown",
   "id": "f6d5b90a-e6aa-4f5c-b789-155d4927e337",
   "metadata": {},
   "source": [
    "<br/><br/>"
   ]
  },
  {
   "cell_type": "markdown",
   "id": "2b6aaa1e-85d9-452c-9f28-d6d0aa06cac7",
   "metadata": {},
   "source": [
    "## Part 3 - Mirror Planes and HKL Indices \n",
    "Diffraction isn't limited to light reflecting off atoms arranged in a straight line. It occurs for _any set of parallel planes intersecting atoms_, as long as the plane spacing $d$ is large enought that $n\\lambda{} = 2 d \\cdot{}sin(\\theta)$ has a nonzero solution. (Does this make sense in light of how reflected light rays interfere?)\n",
    "\n",
    "These are called __mirror planes__, and we can classify them using the __Miller indices__ $h$, $k$, and $l$. These indices are $\\frac{1}{b_{i}}$, where $b_i$ is the intercept along the $x$, $y$, or $z$ axis, respectively. If a plane doesn't intercept an axis, the index will be $0$, corresponding to $\\frac{1}{\\infty}$.\n",
    "\n",
    "Recall the formula for constructive interference: \n",
    "$$\\lambda{} = 2 d \\cdot{}sin(\\theta)$$\n",
    "For a cubic lattice system, the distance between planes is given by:\n",
    "$$d = \\frac{a}{\\sqrt{h^2 + k^2 + l^2}}$$\n",
    "(Where $a$ is the unit cell dimension in the $x$, $y$, and $z$ directions)"
   ]
  },
  {
   "cell_type": "markdown",
   "id": "11641e6b-cd4d-4c9e-83ed-a0d0981ba607",
   "metadata": {},
   "source": [
    "### GIVEN FUNCTIONS\n",
    "\n",
    "* Execute the blocks containing the given functions. Don't modify these."
   ]
  },
  {
   "cell_type": "code",
   "execution_count": 48,
   "id": "71bff330-0978-492d-a45c-b6fa322305cb",
   "metadata": {},
   "outputs": [],
   "source": [
    "def plot_lattice(fig,ax,a=4.09):    \n",
    "    colors = ['red','green','blue']\n",
    "    for i in range(3):\n",
    "        points = []\n",
    "        for j in range(3):\n",
    "            for k in range(3):\n",
    "                points.append(a*np.array([j,i,k]))\n",
    "        x = [point[0] for point in points]\n",
    "        y = [point[1] for point in points]\n",
    "        z = [point[2] for point in points]\n",
    "        \n",
    "        ax.scatter(x,y,z,c=y,cmap='magma',vmin=0.0, vmax=3.0*a,s=100)\n",
    "\n",
    "    x_c = 0.5\n",
    "    y_c = 0.5\n",
    "    z_c = 0.5\n",
    "    points = []\n",
    "    translations = [-0.5,0,0.5]\n",
    "    for i in translations:\n",
    "        for j in translations:\n",
    "            for k in translations:\n",
    "                if sum(np.abs(np.array([i,j,k]))) == 0.5:\n",
    "                    points.append(np.array([x_c+i,y_c+j,z_c+k]))\n",
    "\n",
    "    new_points = []\n",
    "    for i in range(2):\n",
    "        for j in range(2):\n",
    "            for k in range(2):\n",
    "                for point in points:\n",
    "                    translation = np.array([i,j,k])\n",
    "                    new_point = translation + np.array(point)\n",
    "                    new_points.append(a*new_point)\n",
    "    \n",
    "    x = [point[0] for point in new_points]\n",
    "    y = [point[1] for point in new_points]\n",
    "    z = [point[2] for point in new_points]\n",
    "        \n",
    "    ax.scatter(x,y,z,c=y,cmap='magma',vmin=0.0, vmax=3.0*a,s=100)\n",
    "                \n",
    "\n",
    "    unitcell_edges = [\n",
    "        ([0,0,0],[a,0,0]),\n",
    "        ([0,0,0],[0,a,0]),\n",
    "        ([0,0,0],[0,0,a]),\n",
    "        ([a,0,0],[a,a,0]),\n",
    "        ([a,0,0],[a,0,a]),\n",
    "        ([0,a,0],[a,a,0]),\n",
    "        ([0,a,0],[0,a,a]),\n",
    "        ([0,0,a],[a,0,a]),\n",
    "        ([0,0,a],[0,a,a]),\n",
    "        ([a,a,0],[a,a,a]),\n",
    "        ([0,a,a],[a,a,a]),\n",
    "        ([a,0,a],[a,a,a]),\n",
    "    ]\n",
    "    unitcell_edges = [(np.array(edge[0]),np.array(edge[1])) for edge in unitcell_edges]\n",
    "    for edge in unitcell_edges:\n",
    "        x = [point[0] for point in edge]\n",
    "        y = [point[1] for point in edge]\n",
    "        z = [point[2] for point in edge]\n",
    "        ax.plot(x,y,z,color='black',alpha=0.5)\n",
    "    \n",
    "    outer_edges = [(2*edge[0],2*edge[1]) for edge in unitcell_edges]\n",
    "    for edge in outer_edges:\n",
    "        x = [point[0] for point in edge]\n",
    "        y = [point[1] for point in edge]\n",
    "        z = [point[2] for point in edge]\n",
    "        ax.plot(x,y,z,color='black',alpha=0.5)\n",
    "\n",
    "    return fig, ax"
   ]
  },
  {
   "cell_type": "code",
   "execution_count": 49,
   "id": "656c0090-0dc0-47d9-a5a3-9345b95f9e2b",
   "metadata": {},
   "outputs": [],
   "source": [
    "def truncate_points(xx,yy,zz,a=4.09):\n",
    "    bounds = (a,a,a)\n",
    "    outer_xx = []\n",
    "    outer_yy = []\n",
    "    outer_zz = []\n",
    "    for i in range(xx.shape[0]):\n",
    "        inner_xx = []\n",
    "        inner_yy = []\n",
    "        inner_zz = []\n",
    "        for j in range(yy.shape[1]):\n",
    "            x = xx[i,j]\n",
    "            y = yy[i,j]\n",
    "            z = zz[i,j]\n",
    "            cond1 = x >= 0 and x <= bounds[0]\n",
    "            cond2 = y >= 0 and y <= bounds[1]\n",
    "            cond3 = z >= 0 and z <= bounds[2]\n",
    "            if cond1 and cond2 and cond3:\n",
    "                point = np.array([x,y,z])\n",
    "                inner_xx.append(point[0])\n",
    "                inner_yy.append(point[1])\n",
    "                inner_zz.append(point[2])\n",
    "            else:\n",
    "                print(f'point {x,y,z} is out of bounds!')\n",
    "        outer_xx.append(inner_xx)\n",
    "        outer_yy.append(inner_yy)\n",
    "        outer_zz.append(inner_zz)\n",
    "        \n",
    "    new_xx = np.array(outer_xx)\n",
    "    new_yy = np.array(outer_yy)\n",
    "    new_zz = np.array(outer_zz)\n",
    "    return new_xx, new_yy, new_zz"
   ]
  },
  {
   "cell_type": "code",
   "execution_count": 79,
   "id": "5d6b54af-88e7-43f3-a0d6-66b81707a460",
   "metadata": {},
   "outputs": [],
   "source": [
    "def plot_planes(fig,ax,hkl,a=4.09):\n",
    "    h, k, l = hkl\n",
    "    wavelength = 1.54\n",
    "\n",
    "    if h != 0:\n",
    "        norm_x = 1 / h\n",
    "    else:\n",
    "        norm_x = 0\n",
    "    if k != 0:\n",
    "        norm_y = 1/k\n",
    "    else:\n",
    "        norm_y =  0\n",
    "    if l != 0:\n",
    "        norm_z = 1/l\n",
    "    else:\n",
    "        norm_z = 0\n",
    "\n",
    "\n",
    "    if not (h == 0 and k == 0 and l == 0):\n",
    "        mirror_vector = a * np.array([norm_x, norm_y, norm_z])\n",
    "        \n",
    "        d = a/np.sqrt(h**2 + k**2 + l**2)\n",
    "        normal_vector = mirror_vector / np.linalg.norm(mirror_vector)\n",
    "        translation_iterations = max((np.abs(h)+np.abs(k)+np.abs(l)) * 2,3) + 2\n",
    "        colormap = plt.get_cmap('viridis', translation_iterations)\n",
    "\n",
    "    else:\n",
    "        d = np.inf\n",
    "    \n",
    "    if l != 0:\n",
    "        theta_d_z = np.arccos(\n",
    "            np.linalg.norm(\n",
    "                np.dot(normal_vector,np.array([0,0,1]))\n",
    "            )\n",
    "        )\n",
    "        zz_translation = a / l  \n",
    "        \n",
    "        xx, yy = np.meshgrid(np.linspace(0, 2*a, 11), np.linspace(0, 2*a, 11))\n",
    "        for i in range(-translation_iterations,translation_iterations):\n",
    "            zz = -(h * xx + k * yy) / l + zz_translation * i \n",
    "            \n",
    "            mask = (zz >= -0.01) & (zz <= 2.01*a) & (xx >= -0.01) & (xx <= 2.01*a) & (yy >= -0.01) & (yy <= 2.01*a)\n",
    "            zz = np.where(mask,zz,np.nan)\n",
    "            \n",
    "            ax.plot_surface(xx, yy, zz, alpha=0.5, color=colormap(np.abs(i)))\n",
    "            ax.plot_wireframe(xx, yy, zz, alpha=0.5, color=colormap(np.abs(i)))\n",
    "\n",
    "    \n",
    "    elif k != 0:\n",
    "        theta_d_y = np.arccos(\n",
    "            np.linalg.norm(\n",
    "                np.dot(normal_vector,np.array([0,1,0]))\n",
    "            )\n",
    "        )\n",
    "        yy_translation = a / k\n",
    "        xx, zz = np.meshgrid(np.linspace(0, 2*a, 10), np.linspace(0, 2*a, 11))\n",
    "        for i in range(-translation_iterations,translation_iterations):\n",
    "            yy = -(h * xx) / k + yy_translation * i \n",
    "            mask = (zz >= -0.01) & (zz <= 2.01*a) & (xx >= -0.01) & (xx <= 2.01*a) & (yy >= -0.01) & (yy <= 2.01*a)\n",
    "            yy = np.where(mask,yy,np.nan)\n",
    "            ax.plot_surface(xx, yy, zz, alpha=0.5, color=colormap(np.abs(i)))\n",
    "            ax.plot_wireframe(xx, yy, zz, alpha=0.5, color=colormap(np.abs(i)))\n",
    "\n",
    "    elif h != 0:\n",
    "        xx_translation = a/h\n",
    "        \n",
    "        yy, zz = np.meshgrid(np.linspace(0, 2*a, 11), np.linspace(0, 2*a, 11))\n",
    "        \n",
    "        for i in range(-translation_iterations,translation_iterations):\n",
    "            xx = xx_translation * i \n",
    "            mask = (zz >= -0.01) & (zz <= 2.01*a) & (xx >= -0.01) & (xx <= 2.01*a) & (yy >= -0.01) & (yy <= 2.01*a)\n",
    "            xx = np.where(mask,xx,np.nan)\n",
    "            ax.plot_surface(xx, yy, zz, alpha=0.5, color=colormap(np.abs(i)))\n",
    "            ax.plot_wireframe(xx, yy, zz, alpha=0.5, color=colormap(np.abs(i)))\n",
    "    else:\n",
    "        pass\n",
    "    h_text = f'{h}' if h >= 0 else r'$\\overline{'+f'{abs(h)}'+r'}$'\n",
    "    k_text = f'{k}' if k >= 0 else r'$\\overline{'+f'{abs(k)}'+r'}$'\n",
    "    l_text = f'{l}' if l >= 0 else r'$\\overline{'+f'{abs(l)}'+r'}$'\n",
    "    ax.set_title(F'Mirror Planes | hkl=({h_text}{k_text}{l_text})')\n",
    "    ax.set_xlim(0,2*a)\n",
    "    ax.set_ylim(0,2*a)\n",
    "    ax.set_zlim(0,2*a)\n",
    "    ax.set_box_aspect([1, 1, 1])\n",
    "    \n",
    "    ax.set_xlabel('x (Angstrom)')\n",
    "    ax.set_ylabel('y (Angstrom)')\n",
    "    ax.set_zlabel('z (Angstrom)')\n",
    "    \n",
    "    theta_1 = np.degrees(np.arcsin(wavelength/(2*d))) \n",
    "    line_1 = f'$\\\\lambda = {wavelength} \\\\AA$'\n",
    "    line_2 = r'$d = \\frac{a}{\\sqrt{h^2+k^2+l^2}} = '+f'{d:.2f}$'\n",
    "    line_3 = r'$\\theta_1 = sin^{-1}(\\frac{\\lambda}{2d}) = '+f'{theta_1:.2f}\\\\degree$'\n",
    "    line_4 = r'$2\\theta = ' + f'{theta_1 * 2:.2f}\\\\degree$'\n",
    "    fig.text(0.1,0,'\\n'.join([line_1,line_2]))\n",
    "    fig.text(0.6,0,'\\n'.join([line_3,line_4]))\n",
    "\n",
    "    return fig, ax "
   ]
  },
  {
   "cell_type": "code",
   "execution_count": 80,
   "id": "2e434173-3c20-4b41-b41b-99d3e760aaeb",
   "metadata": {},
   "outputs": [],
   "source": [
    "def visualize_mirror_planes(h,k,l):\n",
    "    fig = plt.figure(figsize=(4,5))\n",
    "    a=4.0\n",
    "    ax = fig.add_subplot(projection='3d')\n",
    "    plot_lattice(fig,ax,a)\n",
    "    hkl = (h,k,l)\n",
    "    plot_planes(fig,ax,hkl,a)"
   ]
  },
  {
   "cell_type": "code",
   "execution_count": 81,
   "id": "f8af47b3-9b17-4fd6-85f1-0143799529c6",
   "metadata": {},
   "outputs": [],
   "source": [
    "def interactive_mirror_plot():\n",
    "    widgets.interact(visualize_mirror_planes,h=(-2,2,1),k=(-2,2,1),l=(-2,2,1))"
   ]
  },
  {
   "cell_type": "markdown",
   "id": "2c8d19c2-1910-441a-a338-b8e279f94c29",
   "metadata": {},
   "source": [
    "### CODE\n",
    "* Run the `interactive_mirror_plot()` function to explore how changing the Miller indices affects what sorts of planes you get, and the distances between them."
   ]
  },
  {
   "cell_type": "code",
   "execution_count": 82,
   "id": "afa754c7-1e4c-444f-8900-039adab6bccb",
   "metadata": {},
   "outputs": [
    {
     "data": {
      "application/vnd.jupyter.widget-view+json": {
       "model_id": "62f721ebd6814c4eaacd2912d17056d6",
       "version_major": 2,
       "version_minor": 0
      },
      "text/plain": [
       "interactive(children=(IntSlider(value=0, description='h', max=2, min=-2), IntSlider(value=0, description='k', …"
      ]
     },
     "metadata": {},
     "output_type": "display_data"
    }
   ],
   "source": [
    "interactive_mirror_plot()"
   ]
  },
  {
   "cell_type": "markdown",
   "id": "1d48e131-ec7e-4633-aae8-081c7ca8c112",
   "metadata": {},
   "source": [
    "### SHORT RESPONSE QUESTIONS\n",
    "1. What type of crystal is this? how can you tell?\n",
    "2. If our spectrum records of the intensity of light at angles $2\\theta$, how do these mirror planes relate to our spectrum?\n",
    "3. Based on your current understanding, what is X-ray diffraction actually measuring?\n",
    "### ANSWER"
   ]
  },
  {
   "cell_type": "markdown",
   "id": "1bff9c3c-e90c-43d2-9621-97b6877497f1",
   "metadata": {},
   "source": [
    "1. This is a face centered cubic crystal. There is a cubic unit cell with an atom at each corner, but there is also an atom centered at each face on the cube.\n",
    "2. These mirror planes are related to our spectrum because the distance between them is the \"d\" in $n\\lambda = 2d\\cdot{}sin(\\theta)$, so given a certain wavelength of x-rays these will determine the angles of constructive interference we observe.\n",
    "3. X-ray diffraction seems to be measuring the distances between parallel planes that contain atoms."
   ]
  },
  {
   "cell_type": "markdown",
   "id": "af85cd97-52e6-4c32-ad6b-b4eadda51a25",
   "metadata": {},
   "source": [
    "<br/><br/>\n"
   ]
  },
  {
   "cell_type": "markdown",
   "id": "c86f41e8-c3e8-484e-aa37-dee04bffb3db",
   "metadata": {},
   "source": [
    "## Part 4 - Characteristic Absences and Interpreting XRD Spectra\n",
    "\n",
    "Before diving deeper, let's clarify the distinction between powder and single-crystal X-ray diffraction (XRD). single-crystal XRD diffraction patterns are direction-dependent, varying with the X-ray beam's orientation relative to the crystal. The technique of powder XRD, however, involves shining the beam through many differently oriented samples of a crystal, resulting in an orientation-independent spectrum. Here, any set of mirror planes that produces constructive interference appears as concentric rings, with their angle from the center equal to $2\\theta$.\n",
    "\n",
    "Earlier, we examined mirror planes in a Face Centered Cubic (FCC) lattice, and their associated d and $2\\theta$ values. You might expect that the XRD spectrum of this crystal would show peaks for every $2\\theta$ value corresponding to the different combinations of $h$, $k$, and $l$. However, this is not the case.\n",
    "\n",
    "We observe _selection rules_ based on the symmetries present in each crystal. For different types of lattices, certain peaks corresponding to different sets of $h$, $k$, and $l$ values will be present or absent. For example:\n",
    "* __Simple cubic__: Peaks will be observed for all combinations of $h$, $k$, and $l$.\n",
    "* __Face-centered cubic__: $h$, $k$, and $l$ must be either all even or all odd for a peak to be observed.\n",
    "* __Body-centered cubic__: The sum $h + k + l$ must be even for a peak to be observed.\n",
    "\n",
    "Therefore, by indexing the peaks on our spectrum by their $h$, $k$, and $l$ values, we gain insight not only into the interplanar spacings but also the crystal's symmetry."
   ]
  },
  {
   "cell_type": "markdown",
   "id": "f206609d-d7ef-46db-a480-56e71d29a67e",
   "metadata": {},
   "source": [
    "### GIVEN FUNCTIONS\n",
    "\n",
    "* Execute the blocks containing the given functions. Don't modify these."
   ]
  },
  {
   "cell_type": "code",
   "execution_count": 89,
   "id": "a5b5a7fb-bf41-4b9d-bba3-81b986fa5709",
   "metadata": {},
   "outputs": [],
   "source": [
    "def pick_peaks(x,y):\n",
    "    peaks = []\n",
    "    intensities = []\n",
    "    thresh = 3\n",
    "    is_peak = False\n",
    "    max_intens = 0\n",
    "    max_index = 0\n",
    "    for i, intensity in enumerate(y):\n",
    "        if not is_peak:\n",
    "            if intensity > thresh:\n",
    "                is_peak = True\n",
    "                max_intens = intensity\n",
    "                max_index = i\n",
    "        if is_peak:\n",
    "            if intensity < thresh:\n",
    "                is_peak = False\n",
    "                peaks.append(x[max_index])\n",
    "                intensities.append(max_intens)\n",
    "                max_intens = 0\n",
    "            elif intensity > max_intens:\n",
    "                max_intens = intensity\n",
    "                max_index = i\n",
    "    return pd.DataFrame({\n",
    "        '2theta': peaks,\n",
    "        'intensity' : intensities,\n",
    "    })"
   ]
  },
  {
   "cell_type": "code",
   "execution_count": 90,
   "id": "b341b873-8dae-4a00-a1b3-021e523551b9",
   "metadata": {},
   "outputs": [],
   "source": [
    "def calculate_distances(two_theta,wavelength):\n",
    "    two_theta = np.radians(two_theta)\n",
    "    theta = two_theta / 2\n",
    "    d = wavelength / (2 * np.sin(theta))\n",
    "    return d"
   ]
  },
  {
   "cell_type": "code",
   "execution_count": 91,
   "id": "c6a8438c-7c8c-4435-9c6f-8c06d7e9c1b1",
   "metadata": {},
   "outputs": [],
   "source": [
    "def generate_r_series():\n",
    "    hkl_vals = [\n",
    "        (1,0,0),(1,1,0),(1,1,1),(2,0,0),\n",
    "        (2,1,0),(2,1,1),(2,2,0),(2,2,1),\n",
    "        (2,2,2),(3,0,0),(3,1,0),(3,1,1),\n",
    "        (3,2,0),(3,2,1),(3,2,2),(3,3,1),\n",
    "    ]\n",
    "    r_with_hkl = []\n",
    "    for hkl in hkl_vals:\n",
    "        h,k,l = hkl\n",
    "        r = 1 / np.sqrt(h**2+k**2+l**2)\n",
    "        r_with_hkl.append((r,hkl))\n",
    "    r_with_hkl.sort(key=lambda x: x[0],reverse=True)\n",
    "    r_series = np.array([r_hkl[0] for r_hkl in r_with_hkl])\n",
    "    hkl_series = [r_hkl[1] for r_hkl in r_with_hkl]\n",
    "    return r_series, hkl_series"
   ]
  },
  {
   "cell_type": "code",
   "execution_count": 92,
   "id": "8c736a17-d25d-43e9-85b8-4de308da7275",
   "metadata": {},
   "outputs": [],
   "source": [
    "def test_close(n1,n2,thresh=0.03):\n",
    "    diff = np.abs(n1 - n2)\n",
    "    if diff < thresh:\n",
    "        return True\n",
    "    return False"
   ]
  },
  {
   "cell_type": "code",
   "execution_count": 105,
   "id": "29cc75f9-acd4-4ea8-b3b0-ace0f588f8f1",
   "metadata": {},
   "outputs": [],
   "source": [
    "def index_hkl(d_points,starting_index=0):\n",
    "    if starting_index > 10:\n",
    "        raise ValueError('Could not converge on indices')\n",
    "    r_s,hkl_s = generate_r_series()\n",
    "    prop_factor = d_points[0] / r_s[starting_index]\n",
    "    r_s = r_s[starting_index:]\n",
    "    hkl_s = hkl_s[starting_index:]\n",
    "    r_prop = r_s * prop_factor \n",
    "    a = prop_factor\n",
    "    labeled_d_points = []\n",
    "    \n",
    "    for d in d_points:\n",
    "        for i, r in enumerate(r_prop):\n",
    "            if test_close(r,d):\n",
    "                labeled_d_points.append((d,hkl_s[i]))\n",
    "                break\n",
    "    d_vals = [point_label[0] for point_label in labeled_d_points]\n",
    "    list_hkl_tuples = [point_label[1] for point_label in labeled_d_points]\n",
    "    list_hkl = [int(f'{hkl[0]}{hkl[1]}{hkl[2]}') for hkl in list_hkl_tuples]\n",
    "    #recursion!\n",
    "    if len(labeled_d_points) != len(d_points):\n",
    "        list_hkl, a = index_hkl(d_points,starting_index+1)\n",
    "        #it's like a dream inside a dream inside a dream inside a ....\n",
    "\n",
    "    return list_hkl, a"
   ]
  },
  {
   "cell_type": "code",
   "execution_count": 106,
   "id": "8b7f1269-05c9-4741-94a2-ec5f71b8740b",
   "metadata": {},
   "outputs": [],
   "source": [
    "def classify_cubic_spectra(hkl_list):\n",
    "    could_be_bcc = True\n",
    "    could_be_fcc = True\n",
    "    for hkl in hkl_list:\n",
    "        if type(hkl) is int or type(hkl) is str:\n",
    "            hkl = [int(str(hkl)[i]) for i in range(3)]\n",
    "        hkl = np.array(hkl)\n",
    "        hkl_parity = hkl % 2\n",
    "        all_same_parity = False\n",
    "        if np.array_equal(hkl_parity,np.array([0,0,0])) or np.array_equal(hkl_parity,np.array([1,1,1])):\n",
    "            all_same_parity = True\n",
    "        if not all_same_parity:\n",
    "            could_be_fcc = False\n",
    "            \n",
    "        sum_hkl = hkl.sum()\n",
    "        sum_hkl_parity = sum_hkl % 2\n",
    "        if not sum_hkl_parity == 0:\n",
    "            could_be_bcc = False\n",
    "\n",
    "    if could_be_bcc and could_be_fcc:\n",
    "        raise ValueError(\"oh no\")\n",
    "    elif could_be_bcc:\n",
    "        result = 'body centered cubic'\n",
    "    elif could_be_fcc:\n",
    "        result = 'face centered cubic'\n",
    "    else:\n",
    "        result = 'simple cubic'\n",
    "    return result"
   ]
  },
  {
   "cell_type": "code",
   "execution_count": 107,
   "id": "e3589658-d120-447f-9ad3-6f8fb9c0dc38",
   "metadata": {},
   "outputs": [],
   "source": [
    "def plot_spectrum(x,y):\n",
    "    plt.plot(x,y)\n",
    "    plt.title('intensity vs $2\\\\theta$')\n",
    "    plt.xlabel('$2\\\\theta$')\n",
    "    plt.ylabel('intensity')\n",
    "    plt.show()"
   ]
  },
  {
   "cell_type": "markdown",
   "id": "0e25a7e3-0b0e-4029-97d1-a2325b13330d",
   "metadata": {},
   "source": [
    "### CODE\n",
    "* Ensure you have the following files in the same folder as this notebook:\n",
    "     * AuB2.xy \n",
    "     * AgB2.xy\n",
    "     * NbTa.xy\n",
    "     * Po.xy\n",
    "* For AgB2, use the provided code to process your spectrum.\n",
    "* Add comments explaining each line of code for this part.\n",
    "* Create a function called `process_spectrum()` to turn the provided routine into reuseable code.\n",
    "    * This function should accept one argument: a filename as a string.\n",
    "    * It should plot the spectrum and print the cell parameter $a$ and the crystal classification.\n",
    "    * It should return the pd.DataFrame object that the picked peaks, distances, and $hkl$ indices are stored in. \n",
    "* Use the `process_spectrum()` function you create to process the XRD spectra for AuB2, NbTa, and Po.\n",
    ">To understand this process, it's helpful to know about the `pd.DataFrame` object. A `DataFrame` is like a spreadsheet. We use `pd.read_csv()` to load a file into a `DataFrame`, which organizes data by rows and labeled columns. You can access a column of data using the _subscript operator_ (angle brackets), similar to accessing an element in a list or dictionary. You can create columns in the same way."
   ]
  },
  {
   "cell_type": "code",
   "execution_count": 108,
   "id": "a3f26878-1c23-4356-a796-09ce2e9a04c3",
   "metadata": {},
   "outputs": [
    {
     "data": {
      "text/html": [
       "<div>\n",
       "<style scoped>\n",
       "    .dataframe tbody tr th:only-of-type {\n",
       "        vertical-align: middle;\n",
       "    }\n",
       "\n",
       "    .dataframe tbody tr th {\n",
       "        vertical-align: top;\n",
       "    }\n",
       "\n",
       "    .dataframe thead th {\n",
       "        text-align: right;\n",
       "    }\n",
       "</style>\n",
       "<table border=\"1\" class=\"dataframe\">\n",
       "  <thead>\n",
       "    <tr style=\"text-align: right;\">\n",
       "      <th></th>\n",
       "      <th>2theta</th>\n",
       "      <th>intensity</th>\n",
       "      <th>_</th>\n",
       "    </tr>\n",
       "  </thead>\n",
       "  <tbody>\n",
       "    <tr>\n",
       "      <th>0</th>\n",
       "      <td>1.00</td>\n",
       "      <td>0.00000</td>\n",
       "      <td>0.0</td>\n",
       "    </tr>\n",
       "    <tr>\n",
       "      <th>1</th>\n",
       "      <td>1.01</td>\n",
       "      <td>0.44387</td>\n",
       "      <td>0.0</td>\n",
       "    </tr>\n",
       "    <tr>\n",
       "      <th>2</th>\n",
       "      <td>1.02</td>\n",
       "      <td>0.43533</td>\n",
       "      <td>0.0</td>\n",
       "    </tr>\n",
       "    <tr>\n",
       "      <th>3</th>\n",
       "      <td>1.03</td>\n",
       "      <td>0.42703</td>\n",
       "      <td>0.0</td>\n",
       "    </tr>\n",
       "    <tr>\n",
       "      <th>4</th>\n",
       "      <td>1.04</td>\n",
       "      <td>0.41898</td>\n",
       "      <td>0.0</td>\n",
       "    </tr>\n",
       "    <tr>\n",
       "      <th>...</th>\n",
       "      <td>...</td>\n",
       "      <td>...</td>\n",
       "      <td>...</td>\n",
       "    </tr>\n",
       "    <tr>\n",
       "      <th>11895</th>\n",
       "      <td>119.95</td>\n",
       "      <td>0.03020</td>\n",
       "      <td>0.0</td>\n",
       "    </tr>\n",
       "    <tr>\n",
       "      <th>11896</th>\n",
       "      <td>119.96</td>\n",
       "      <td>0.03003</td>\n",
       "      <td>0.0</td>\n",
       "    </tr>\n",
       "    <tr>\n",
       "      <th>11897</th>\n",
       "      <td>119.97</td>\n",
       "      <td>0.02987</td>\n",
       "      <td>0.0</td>\n",
       "    </tr>\n",
       "    <tr>\n",
       "      <th>11898</th>\n",
       "      <td>119.98</td>\n",
       "      <td>0.02970</td>\n",
       "      <td>0.0</td>\n",
       "    </tr>\n",
       "    <tr>\n",
       "      <th>11899</th>\n",
       "      <td>119.99</td>\n",
       "      <td>0.02954</td>\n",
       "      <td>0.0</td>\n",
       "    </tr>\n",
       "  </tbody>\n",
       "</table>\n",
       "<p>11900 rows × 3 columns</p>\n",
       "</div>"
      ],
      "text/plain": [
       "       2theta  intensity    _\n",
       "0        1.00    0.00000  0.0\n",
       "1        1.01    0.44387  0.0\n",
       "2        1.02    0.43533  0.0\n",
       "3        1.03    0.42703  0.0\n",
       "4        1.04    0.41898  0.0\n",
       "...       ...        ...  ...\n",
       "11895  119.95    0.03020  0.0\n",
       "11896  119.96    0.03003  0.0\n",
       "11897  119.97    0.02987  0.0\n",
       "11898  119.98    0.02970  0.0\n",
       "11899  119.99    0.02954  0.0\n",
       "\n",
       "[11900 rows x 3 columns]"
      ]
     },
     "execution_count": 108,
     "metadata": {},
     "output_type": "execute_result"
    }
   ],
   "source": [
    "#AuB2\n",
    "wavelength = 1.54 #1.54 angstrom wavelength x-rays used for all these\n",
    "spectrum = pd.read_csv('AgB2.xy',sep=r'\\s+',header=None,names=['2theta','intensity','_'])\n",
    "spectrum #typing a variable by itself in the last line of a block will show its contents"
   ]
  },
  {
   "cell_type": "code",
   "execution_count": 109,
   "id": "a5cc2315-028b-4a70-bb24-66d26959e696",
   "metadata": {},
   "outputs": [
    {
     "data": {
      "image/png": "[encoded data removed]",
      "text/plain": [
       "<Figure size 640x480 with 1 Axes>"
      ]
     },
     "metadata": {},
     "output_type": "display_data"
    }
   ],
   "source": [
    "plot_spectrum(spectrum['2theta'],spectrum['intensity'])"
   ]
  },
  {
   "cell_type": "code",
   "execution_count": 110,
   "id": "335b5c1d-5d98-4afa-a06b-56b762f60221",
   "metadata": {},
   "outputs": [
    {
     "data": {
      "text/html": [
       "<div>\n",
       "<style scoped>\n",
       "    .dataframe tbody tr th:only-of-type {\n",
       "        vertical-align: middle;\n",
       "    }\n",
       "\n",
       "    .dataframe tbody tr th {\n",
       "        vertical-align: top;\n",
       "    }\n",
       "\n",
       "    .dataframe thead th {\n",
       "        text-align: right;\n",
       "    }\n",
       "</style>\n",
       "<table border=\"1\" class=\"dataframe\">\n",
       "  <thead>\n",
       "    <tr style=\"text-align: right;\">\n",
       "      <th></th>\n",
       "      <th>2theta</th>\n",
       "      <th>intensity</th>\n",
       "    </tr>\n",
       "  </thead>\n",
       "  <tbody>\n",
       "    <tr>\n",
       "      <th>0</th>\n",
       "      <td>52.81</td>\n",
       "      <td>100.00000</td>\n",
       "    </tr>\n",
       "    <tr>\n",
       "      <th>1</th>\n",
       "      <td>61.80</td>\n",
       "      <td>41.38197</td>\n",
       "    </tr>\n",
       "    <tr>\n",
       "      <th>2</th>\n",
       "      <td>93.14</td>\n",
       "      <td>15.48053</td>\n",
       "    </tr>\n",
       "    <tr>\n",
       "      <th>3</th>\n",
       "      <td>93.44</td>\n",
       "      <td>8.11418</td>\n",
       "    </tr>\n",
       "    <tr>\n",
       "      <th>4</th>\n",
       "      <td>116.77</td>\n",
       "      <td>21.58009</td>\n",
       "    </tr>\n",
       "  </tbody>\n",
       "</table>\n",
       "</div>"
      ],
      "text/plain": [
       "   2theta  intensity\n",
       "0   52.81  100.00000\n",
       "1   61.80   41.38197\n",
       "2   93.14   15.48053\n",
       "3   93.44    8.11418\n",
       "4  116.77   21.58009"
      ]
     },
     "execution_count": 110,
     "metadata": {},
     "output_type": "execute_result"
    }
   ],
   "source": [
    "peaks = pick_peaks(spectrum['2theta'],spectrum['intensity'])\n",
    "peaks"
   ]
  },
  {
   "cell_type": "code",
   "execution_count": 111,
   "id": "06ce5a5a-3e17-4983-9135-2e8010b3943f",
   "metadata": {},
   "outputs": [
    {
     "data": {
      "text/html": [
       "<div>\n",
       "<style scoped>\n",
       "    .dataframe tbody tr th:only-of-type {\n",
       "        vertical-align: middle;\n",
       "    }\n",
       "\n",
       "    .dataframe tbody tr th {\n",
       "        vertical-align: top;\n",
       "    }\n",
       "\n",
       "    .dataframe thead th {\n",
       "        text-align: right;\n",
       "    }\n",
       "</style>\n",
       "<table border=\"1\" class=\"dataframe\">\n",
       "  <thead>\n",
       "    <tr style=\"text-align: right;\">\n",
       "      <th></th>\n",
       "      <th>2theta</th>\n",
       "      <th>intensity</th>\n",
       "      <th>d</th>\n",
       "    </tr>\n",
       "  </thead>\n",
       "  <tbody>\n",
       "    <tr>\n",
       "      <th>0</th>\n",
       "      <td>52.81</td>\n",
       "      <td>100.00000</td>\n",
       "      <td>1.731452</td>\n",
       "    </tr>\n",
       "    <tr>\n",
       "      <th>1</th>\n",
       "      <td>61.80</td>\n",
       "      <td>41.38197</td>\n",
       "      <td>1.499393</td>\n",
       "    </tr>\n",
       "    <tr>\n",
       "      <th>2</th>\n",
       "      <td>93.14</td>\n",
       "      <td>15.48053</td>\n",
       "      <td>1.060292</td>\n",
       "    </tr>\n",
       "    <tr>\n",
       "      <th>3</th>\n",
       "      <td>93.44</td>\n",
       "      <td>8.11418</td>\n",
       "      <td>1.057675</td>\n",
       "    </tr>\n",
       "    <tr>\n",
       "      <th>4</th>\n",
       "      <td>116.77</td>\n",
       "      <td>21.58009</td>\n",
       "      <td>0.904191</td>\n",
       "    </tr>\n",
       "  </tbody>\n",
       "</table>\n",
       "</div>"
      ],
      "text/plain": [
       "   2theta  intensity         d\n",
       "0   52.81  100.00000  1.731452\n",
       "1   61.80   41.38197  1.499393\n",
       "2   93.14   15.48053  1.060292\n",
       "3   93.44    8.11418  1.057675\n",
       "4  116.77   21.58009  0.904191"
      ]
     },
     "execution_count": 111,
     "metadata": {},
     "output_type": "execute_result"
    }
   ],
   "source": [
    "peaks['d'] = calculate_distances(peaks['2theta'],wavelength)\n",
    "peaks"
   ]
  },
  {
   "cell_type": "code",
   "execution_count": 112,
   "id": "5845f1d1-4a05-42eb-ac35-43e9c7134a0b",
   "metadata": {},
   "outputs": [
    {
     "data": {
      "text/html": [
       "<div>\n",
       "<style scoped>\n",
       "    .dataframe tbody tr th:only-of-type {\n",
       "        vertical-align: middle;\n",
       "    }\n",
       "\n",
       "    .dataframe tbody tr th {\n",
       "        vertical-align: top;\n",
       "    }\n",
       "\n",
       "    .dataframe thead th {\n",
       "        text-align: right;\n",
       "    }\n",
       "</style>\n",
       "<table border=\"1\" class=\"dataframe\">\n",
       "  <thead>\n",
       "    <tr style=\"text-align: right;\">\n",
       "      <th></th>\n",
       "      <th>2theta</th>\n",
       "      <th>intensity</th>\n",
       "      <th>d</th>\n",
       "      <th>hkl</th>\n",
       "    </tr>\n",
       "  </thead>\n",
       "  <tbody>\n",
       "    <tr>\n",
       "      <th>0</th>\n",
       "      <td>52.81</td>\n",
       "      <td>100.00000</td>\n",
       "      <td>1.731452</td>\n",
       "      <td>111</td>\n",
       "    </tr>\n",
       "    <tr>\n",
       "      <th>1</th>\n",
       "      <td>61.80</td>\n",
       "      <td>41.38197</td>\n",
       "      <td>1.499393</td>\n",
       "      <td>200</td>\n",
       "    </tr>\n",
       "    <tr>\n",
       "      <th>2</th>\n",
       "      <td>93.14</td>\n",
       "      <td>15.48053</td>\n",
       "      <td>1.060292</td>\n",
       "      <td>220</td>\n",
       "    </tr>\n",
       "    <tr>\n",
       "      <th>3</th>\n",
       "      <td>93.44</td>\n",
       "      <td>8.11418</td>\n",
       "      <td>1.057675</td>\n",
       "      <td>220</td>\n",
       "    </tr>\n",
       "    <tr>\n",
       "      <th>4</th>\n",
       "      <td>116.77</td>\n",
       "      <td>21.58009</td>\n",
       "      <td>0.904191</td>\n",
       "      <td>311</td>\n",
       "    </tr>\n",
       "  </tbody>\n",
       "</table>\n",
       "</div>"
      ],
      "text/plain": [
       "   2theta  intensity         d  hkl\n",
       "0   52.81  100.00000  1.731452  111\n",
       "1   61.80   41.38197  1.499393  200\n",
       "2   93.14   15.48053  1.060292  220\n",
       "3   93.44    8.11418  1.057675  220\n",
       "4  116.77   21.58009  0.904191  311"
      ]
     },
     "execution_count": 112,
     "metadata": {},
     "output_type": "execute_result"
    }
   ],
   "source": [
    "peaks['hkl'], cell_param_a = index_hkl(peaks['d'],0)\n",
    "peaks"
   ]
  },
  {
   "cell_type": "code",
   "execution_count": 113,
   "id": "71bb1e18-27f4-49ef-9ff2-e2b07e541042",
   "metadata": {},
   "outputs": [
    {
     "name": "stdout",
     "output_type": "stream",
     "text": [
      "a: 2.998964\n",
      "Classification: face centered cubic\n"
     ]
    }
   ],
   "source": [
    "print(f'a: {cell_param_a:3f}')\n",
    "classification = classify_cubic_spectra(peaks['hkl'])\n",
    "print(f'Classification: {classification}')"
   ]
  },
  {
   "cell_type": "code",
   "execution_count": 116,
   "id": "c4e4aab7-bed0-4ebf-b5d3-0884f843106c",
   "metadata": {},
   "outputs": [],
   "source": [
    "#define a function called process_spectrum() which accepts one argument: a filename.\n",
    "    #process the spectrum in the space below, using the given functions\n",
    "    #in the same order as before.\n",
    "\n",
    "    #print the cell parameter a and the classification. \n",
    "    #return the DataFrame peaks containing peak data.\n",
    "def process_spectrum(filename):\n",
    "    wavelength = 1.54 #1.54 angstrom wavelength x-rays used for all these\n",
    "    spectrum = pd.read_csv(filename,sep=r'\\s+',header=None,names=['2theta','intensity','~'])\n",
    "    plot_spectrum(spectrum['2theta'],spectrum['intensity'])\n",
    "    peaks = pick_peaks(spectrum['2theta'],spectrum['intensity'])\n",
    "    peaks['d'] = calculate_distances(peaks['2theta'],wavelength)\n",
    "    peaks['hkl'],a = index_hkl(peaks['d'])\n",
    "    classification = classify_cubic_spectra(peaks['hkl'])\n",
    "    print(f'a: {cell_param_a:3f}')\n",
    "    print(f'Classification: {classification}')\n",
    "    return peaks"
   ]
  },
  {
   "cell_type": "code",
   "execution_count": 117,
   "id": "a1551894-520e-432f-b12b-f6028b4ddca8",
   "metadata": {},
   "outputs": [
    {
     "data": {
      "image/png": "[encoded data removed]",
      "text/plain": [
       "<Figure size 640x480 with 1 Axes>"
      ]
     },
     "metadata": {},
     "output_type": "display_data"
    },
    {
     "name": "stdout",
     "output_type": "stream",
     "text": [
      "a: 2.998964\n",
      "Classification: face centered cubic\n"
     ]
    },
    {
     "data": {
      "text/html": [
       "<div>\n",
       "<style scoped>\n",
       "    .dataframe tbody tr th:only-of-type {\n",
       "        vertical-align: middle;\n",
       "    }\n",
       "\n",
       "    .dataframe tbody tr th {\n",
       "        vertical-align: top;\n",
       "    }\n",
       "\n",
       "    .dataframe thead th {\n",
       "        text-align: right;\n",
       "    }\n",
       "</style>\n",
       "<table border=\"1\" class=\"dataframe\">\n",
       "  <thead>\n",
       "    <tr style=\"text-align: right;\">\n",
       "      <th></th>\n",
       "      <th>2theta</th>\n",
       "      <th>intensity</th>\n",
       "      <th>d</th>\n",
       "      <th>hkl</th>\n",
       "    </tr>\n",
       "  </thead>\n",
       "  <tbody>\n",
       "    <tr>\n",
       "      <th>0</th>\n",
       "      <td>52.81</td>\n",
       "      <td>100.00000</td>\n",
       "      <td>1.731452</td>\n",
       "      <td>111</td>\n",
       "    </tr>\n",
       "    <tr>\n",
       "      <th>1</th>\n",
       "      <td>61.80</td>\n",
       "      <td>41.38197</td>\n",
       "      <td>1.499393</td>\n",
       "      <td>200</td>\n",
       "    </tr>\n",
       "    <tr>\n",
       "      <th>2</th>\n",
       "      <td>93.14</td>\n",
       "      <td>15.48053</td>\n",
       "      <td>1.060292</td>\n",
       "      <td>220</td>\n",
       "    </tr>\n",
       "    <tr>\n",
       "      <th>3</th>\n",
       "      <td>93.44</td>\n",
       "      <td>8.11418</td>\n",
       "      <td>1.057675</td>\n",
       "      <td>220</td>\n",
       "    </tr>\n",
       "    <tr>\n",
       "      <th>4</th>\n",
       "      <td>116.77</td>\n",
       "      <td>21.58009</td>\n",
       "      <td>0.904191</td>\n",
       "      <td>311</td>\n",
       "    </tr>\n",
       "  </tbody>\n",
       "</table>\n",
       "</div>"
      ],
      "text/plain": [
       "   2theta  intensity         d  hkl\n",
       "0   52.81  100.00000  1.731452  111\n",
       "1   61.80   41.38197  1.499393  200\n",
       "2   93.14   15.48053  1.060292  220\n",
       "3   93.44    8.11418  1.057675  220\n",
       "4  116.77   21.58009  0.904191  311"
      ]
     },
     "execution_count": 117,
     "metadata": {},
     "output_type": "execute_result"
    }
   ],
   "source": [
    "process_spectrum('AgB2.xy')"
   ]
  },
  {
   "cell_type": "code",
   "execution_count": 119,
   "id": "b80fdf08-2882-45c1-83ce-ae026731cd0a",
   "metadata": {},
   "outputs": [
    {
     "data": {
      "image/png": "[encoded data removed]",
      "text/plain": [
       "<Figure size 640x480 with 1 Axes>"
      ]
     },
     "metadata": {},
     "output_type": "display_data"
    },
    {
     "name": "stdout",
     "output_type": "stream",
     "text": [
      "a: 2.998964\n",
      "Classification: simple cubic\n"
     ]
    },
    {
     "data": {
      "text/html": [
       "<div>\n",
       "<style scoped>\n",
       "    .dataframe tbody tr th:only-of-type {\n",
       "        vertical-align: middle;\n",
       "    }\n",
       "\n",
       "    .dataframe tbody tr th {\n",
       "        vertical-align: top;\n",
       "    }\n",
       "\n",
       "    .dataframe thead th {\n",
       "        text-align: right;\n",
       "    }\n",
       "</style>\n",
       "<table border=\"1\" class=\"dataframe\">\n",
       "  <thead>\n",
       "    <tr style=\"text-align: right;\">\n",
       "      <th></th>\n",
       "      <th>2theta</th>\n",
       "      <th>intensity</th>\n",
       "      <th>d</th>\n",
       "      <th>hkl</th>\n",
       "    </tr>\n",
       "  </thead>\n",
       "  <tbody>\n",
       "    <tr>\n",
       "      <th>0</th>\n",
       "      <td>38.55</td>\n",
       "      <td>100.00000</td>\n",
       "      <td>2.332608</td>\n",
       "      <td>100</td>\n",
       "    </tr>\n",
       "    <tr>\n",
       "      <th>1</th>\n",
       "      <td>55.66</td>\n",
       "      <td>12.37520</td>\n",
       "      <td>1.649353</td>\n",
       "      <td>110</td>\n",
       "    </tr>\n",
       "    <tr>\n",
       "      <th>2</th>\n",
       "      <td>55.81</td>\n",
       "      <td>6.38289</td>\n",
       "      <td>1.645275</td>\n",
       "      <td>110</td>\n",
       "    </tr>\n",
       "    <tr>\n",
       "      <th>3</th>\n",
       "      <td>69.75</td>\n",
       "      <td>19.35729</td>\n",
       "      <td>1.346653</td>\n",
       "      <td>111</td>\n",
       "    </tr>\n",
       "    <tr>\n",
       "      <th>4</th>\n",
       "      <td>82.63</td>\n",
       "      <td>4.92853</td>\n",
       "      <td>1.166316</td>\n",
       "      <td>200</td>\n",
       "    </tr>\n",
       "    <tr>\n",
       "      <th>5</th>\n",
       "      <td>95.15</td>\n",
       "      <td>6.17045</td>\n",
       "      <td>1.043133</td>\n",
       "      <td>210</td>\n",
       "    </tr>\n",
       "    <tr>\n",
       "      <th>6</th>\n",
       "      <td>95.45</td>\n",
       "      <td>3.22817</td>\n",
       "      <td>1.040646</td>\n",
       "      <td>210</td>\n",
       "    </tr>\n",
       "  </tbody>\n",
       "</table>\n",
       "</div>"
      ],
      "text/plain": [
       "   2theta  intensity         d  hkl\n",
       "0   38.55  100.00000  2.332608  100\n",
       "1   55.66   12.37520  1.649353  110\n",
       "2   55.81    6.38289  1.645275  110\n",
       "3   69.75   19.35729  1.346653  111\n",
       "4   82.63    4.92853  1.166316  200\n",
       "5   95.15    6.17045  1.043133  210\n",
       "6   95.45    3.22817  1.040646  210"
      ]
     },
     "execution_count": 119,
     "metadata": {},
     "output_type": "execute_result"
    }
   ],
   "source": [
    "process_spectrum('NbTa.xy')"
   ]
  },
  {
   "cell_type": "code",
   "execution_count": 120,
   "id": "f471978d-6fa6-41f4-84dd-82edef7768be",
   "metadata": {},
   "outputs": [
    {
     "data": {
      "image/png": "[encoded data removed]",
      "text/plain": [
       "<Figure size 640x480 with 1 Axes>"
      ]
     },
     "metadata": {},
     "output_type": "display_data"
    },
    {
     "name": "stdout",
     "output_type": "stream",
     "text": [
      "a: 2.998964\n",
      "Classification: simple cubic\n"
     ]
    },
    {
     "data": {
      "text/html": [
       "<div>\n",
       "<style scoped>\n",
       "    .dataframe tbody tr th:only-of-type {\n",
       "        vertical-align: middle;\n",
       "    }\n",
       "\n",
       "    .dataframe tbody tr th {\n",
       "        vertical-align: top;\n",
       "    }\n",
       "\n",
       "    .dataframe thead th {\n",
       "        text-align: right;\n",
       "    }\n",
       "</style>\n",
       "<table border=\"1\" class=\"dataframe\">\n",
       "  <thead>\n",
       "    <tr style=\"text-align: right;\">\n",
       "      <th></th>\n",
       "      <th>2theta</th>\n",
       "      <th>intensity</th>\n",
       "      <th>d</th>\n",
       "      <th>hkl</th>\n",
       "    </tr>\n",
       "  </thead>\n",
       "  <tbody>\n",
       "    <tr>\n",
       "      <th>0</th>\n",
       "      <td>26.63</td>\n",
       "      <td>100.00000</td>\n",
       "      <td>3.343400</td>\n",
       "      <td>100</td>\n",
       "    </tr>\n",
       "    <tr>\n",
       "      <th>1</th>\n",
       "      <td>38.01</td>\n",
       "      <td>63.97598</td>\n",
       "      <td>2.364497</td>\n",
       "      <td>110</td>\n",
       "    </tr>\n",
       "    <tr>\n",
       "      <th>2</th>\n",
       "      <td>47.01</td>\n",
       "      <td>19.63319</td>\n",
       "      <td>1.930652</td>\n",
       "      <td>111</td>\n",
       "    </tr>\n",
       "    <tr>\n",
       "      <th>3</th>\n",
       "      <td>54.85</td>\n",
       "      <td>8.24286</td>\n",
       "      <td>1.671779</td>\n",
       "      <td>200</td>\n",
       "    </tr>\n",
       "    <tr>\n",
       "      <th>4</th>\n",
       "      <td>54.99</td>\n",
       "      <td>4.33906</td>\n",
       "      <td>1.667854</td>\n",
       "      <td>200</td>\n",
       "    </tr>\n",
       "    <tr>\n",
       "      <th>5</th>\n",
       "      <td>61.99</td>\n",
       "      <td>20.05835</td>\n",
       "      <td>1.495252</td>\n",
       "      <td>210</td>\n",
       "    </tr>\n",
       "    <tr>\n",
       "      <th>6</th>\n",
       "      <td>68.68</td>\n",
       "      <td>13.33781</td>\n",
       "      <td>1.365000</td>\n",
       "      <td>211</td>\n",
       "    </tr>\n",
       "    <tr>\n",
       "      <th>7</th>\n",
       "      <td>68.87</td>\n",
       "      <td>6.93285</td>\n",
       "      <td>1.361697</td>\n",
       "      <td>211</td>\n",
       "    </tr>\n",
       "    <tr>\n",
       "      <th>8</th>\n",
       "      <td>81.29</td>\n",
       "      <td>3.45592</td>\n",
       "      <td>1.182123</td>\n",
       "      <td>220</td>\n",
       "    </tr>\n",
       "    <tr>\n",
       "      <th>9</th>\n",
       "      <td>87.39</td>\n",
       "      <td>6.69659</td>\n",
       "      <td>1.114619</td>\n",
       "      <td>221</td>\n",
       "    </tr>\n",
       "    <tr>\n",
       "      <th>10</th>\n",
       "      <td>87.66</td>\n",
       "      <td>3.51792</td>\n",
       "      <td>1.111880</td>\n",
       "      <td>221</td>\n",
       "    </tr>\n",
       "    <tr>\n",
       "      <th>11</th>\n",
       "      <td>93.47</td>\n",
       "      <td>4.34177</td>\n",
       "      <td>1.057414</td>\n",
       "      <td>310</td>\n",
       "    </tr>\n",
       "    <tr>\n",
       "      <th>12</th>\n",
       "      <td>99.59</td>\n",
       "      <td>3.66138</td>\n",
       "      <td>1.008197</td>\n",
       "      <td>311</td>\n",
       "    </tr>\n",
       "    <tr>\n",
       "      <th>13</th>\n",
       "      <td>119.00</td>\n",
       "      <td>5.30902</td>\n",
       "      <td>0.893656</td>\n",
       "      <td>321</td>\n",
       "    </tr>\n",
       "  </tbody>\n",
       "</table>\n",
       "</div>"
      ],
      "text/plain": [
       "    2theta  intensity         d  hkl\n",
       "0    26.63  100.00000  3.343400  100\n",
       "1    38.01   63.97598  2.364497  110\n",
       "2    47.01   19.63319  1.930652  111\n",
       "3    54.85    8.24286  1.671779  200\n",
       "4    54.99    4.33906  1.667854  200\n",
       "5    61.99   20.05835  1.495252  210\n",
       "6    68.68   13.33781  1.365000  211\n",
       "7    68.87    6.93285  1.361697  211\n",
       "8    81.29    3.45592  1.182123  220\n",
       "9    87.39    6.69659  1.114619  221\n",
       "10   87.66    3.51792  1.111880  221\n",
       "11   93.47    4.34177  1.057414  310\n",
       "12   99.59    3.66138  1.008197  311\n",
       "13  119.00    5.30902  0.893656  321"
      ]
     },
     "execution_count": 120,
     "metadata": {},
     "output_type": "execute_result"
    }
   ],
   "source": [
    "process_spectrum('Po.xy')"
   ]
  },
  {
   "cell_type": "markdown",
   "id": "ee49d804-989a-4805-9082-8a1e92aab1d8",
   "metadata": {},
   "source": [
    "### SHORT RESPONSE QUESTIONS\n",
    "1. How does processing spectra in Python compare to processing spectra in Excel?\n",
    "2. How does the function classify each lattice? Look up the lattice type of each crystal - is the result correct? If it is incorrect, why might this be?\n",
    "3. Once again - In your current understanding, what is X-ray diffraction measuring?\n",
    "### ANSWER"
   ]
  },
  {
   "cell_type": "markdown",
   "id": "b6dd3336-f50b-464d-bce6-e270ce92a2d4",
   "metadata": {},
   "source": [
    "1. It is perhaps more difficult to process one spectrum in Python than in excel, but it is much easier and less tedious to process multiple spectra with Python. (This one is pretty open ended, just want them to consider it as a motivation for learning)\n",
    "2. face centered cubic, face centered cubic, simple cubic, simple cubic. In actuality, hexagonal, hexagonal, body centered cubic, simple cubic. Only the result for Polonium is correct. Our algorithm would fail for the hexagonal structures because it is only designed with cubic structures in mind, though it is interesting it matches so well. It may have failed for the BCC lattice because of thresholds set too loose. __(it is ok if they don't come to the same conclusions)__\n",
    "3. So far I understand that X-ray diffraction measures the distances between mirror planes present in the crystal, and also the symmetry elements of the crystal by which peaks are present or missing."
   ]
  },
  {
   "cell_type": "markdown",
   "id": "691fbaa4-71d4-4183-8b41-53631e6d8e8c",
   "metadata": {},
   "source": [
    "<br/><br/>\n",
    "<br/><br/>"
   ]
  },
  {
   "cell_type": "markdown",
   "id": "b63670c4-b200-4e16-ba56-d42de70c538d",
   "metadata": {},
   "source": [
    "# Reflection"
   ]
  },
  {
   "cell_type": "markdown",
   "id": "ebfdc9b5-0fd9-4a29-8ee0-bc833d20a18a",
   "metadata": {},
   "source": [
    "### SHORT RESPONSE QUESTIONS\n",
    "1. How does the ability to visualize data and mathematical concepts interactively make it easier for us to examine patterns and learn?\n",
    "10000000. How does examining a simplified version of a system (interference through two slits, reflection off two points) help us understand complex phenomena (diffraction through a grating or crystal)?\n",
    "0. How does x-ray diffraction help us decipher the structure of crystalline solids?\n",
    "### ANSWER"
   ]
  },
  {
   "cell_type": "markdown",
   "id": "6d9e1eed-69f6-46d3-a8e9-81e2d77f0949",
   "metadata": {},
   "source": [
    "1. When we can examine a concept with a visualization, we can use different parts of our brain to understand the concept than we would reading something, and this can give us a more complete intutition for something. __(this question is purposely open ended, no right answer)__\n",
    "2. Oftentimes, complex systems can be reduced to the interactions between many simple parts. If we understand eactly how each component works, it is much easier to understand how many of them will interact.\n",
    "3. (with just the information covered in this notebook, we know that) XRD gives us geometric constraints including the presence of planes intersecting atoms and symmetry elements, which massively narrows down what the structure could possibly be."
   ]
  },
  {
   "cell_type": "code",
   "execution_count": null,
   "id": "d5aa586e-9cad-4905-a175-75b743b66788",
   "metadata": {},
   "outputs": [],
   "source": []
  }
 ],
 "metadata": {
  "kernelspec": {
   "display_name": "Python 3 (ipykernel)",
   "language": "python",
   "name": "python3"
  },
  "language_info": {
   "codemirror_mode": {
    "name": "ipython",
    "version": 3
   },
   "file_extension": ".py",
   "mimetype": "text/x-python",
   "name": "python",
   "nbconvert_exporter": "python",
   "pygments_lexer": "ipython3",
   "version": "3.11.10"
  }
 },
 "nbformat": 4,
 "nbformat_minor": 5
}
