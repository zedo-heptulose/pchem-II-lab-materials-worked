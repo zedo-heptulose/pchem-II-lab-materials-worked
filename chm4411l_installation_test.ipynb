{
 "cells": [
  {
   "cell_type": "code",
   "execution_count": 1,
   "id": "89cfab49",
   "metadata": {},
   "outputs": [],
   "source": [
    "# widgets imports\n",
    "import ipywidgets as widgets\n",
    "from ipywidgets import interact, FloatSlider, IntSlider\n",
    "from IPython.display import display, clear_output"
   ]
  },
  {
   "cell_type": "code",
   "execution_count": 2,
   "id": "2ba7b6f6",
   "metadata": {},
   "outputs": [],
   "source": [
    "# math and data manipulation\n",
    "import numpy as np\n",
    "import sympy as sp\n",
    "import pandas as pd"
   ]
  },
  {
   "cell_type": "code",
   "execution_count": 3,
   "id": "9e05f6ff",
   "metadata": {},
   "outputs": [],
   "source": [
    "# scikit-learn\n",
    "from sklearn.linear_model import LogisticRegression\n",
    "from sklearn.ensemble import RandomForestClassifier\n",
    "from sklearn.model_selection import train_test_split\n",
    "from sklearn.metrics import accuracy_score, confusion_matrix"
   ]
  },
  {
   "cell_type": "code",
   "execution_count": 4,
   "id": "e5d5da56",
   "metadata": {},
   "outputs": [],
   "source": [
    "# utilities\n",
    "import shutil\n",
    "import os\n"
   ]
  },
  {
   "cell_type": "code",
   "execution_count": 5,
   "id": "24c6858f",
   "metadata": {},
   "outputs": [],
   "source": [
    "# scipy imports\n",
    "from scipy.optimize import curve_fit\n",
    "from scipy.special import sph_harm\n",
    "from scipy.fft import fft, ifft, fftfreq"
   ]
  },
  {
   "cell_type": "code",
   "execution_count": 6,
   "id": "110e4899",
   "metadata": {},
   "outputs": [],
   "source": [
    "# matplotlib imports\n",
    "import matplotlib.pyplot as plt\n",
    "from matplotlib.gridspec import GridSpec\n",
    "from matplotlib.patches import Arc\n",
    "from matplotlib.ticker import MultipleLocator\n",
    "from matplotlib import cm\n",
    "from mpl_toolkits.mplot3d import Axes3D\n",
    "from matplotlib.patches import FancyArrowPatch\n",
    "from mpl_toolkits.mplot3d import proj3d\n",
    "from matplotlib.widgets import Slider"
   ]
  },
  {
   "cell_type": "code",
   "execution_count": 7,
   "id": "fffd4d62",
   "metadata": {},
   "outputs": [],
   "source": [
    "# compchem imports\n",
    "import psi4\n",
    "import rdkit\n",
    "from rdkit import Chem\n",
    "from rdkit.Chem import AllChem\n",
    "import py3Dmol\n",
    "import fortecubeview"
   ]
  },
  {
   "cell_type": "code",
   "execution_count": 8,
   "id": "2fdd7468",
   "metadata": {},
   "outputs": [],
   "source": [
    "import numpy as np\n",
    "import matplotlib.pyplot as plt\n",
    "from mpl_toolkits.mplot3d import Axes3D\n",
    "import ipywidgets as widgets\n",
    "from IPython.display import display, clear_output\n",
    "\n",
    "def plot_fid(B0=1.0, decay_rate=0.5, time=0.0):\n",
    "    \"\"\"\n",
    "    Plot the macroscopic magnetization and FID signal.\n",
    "    \n",
    "    Parameters:\n",
    "    B0 : float\n",
    "        Strength of the magnetic field (relative scale)\n",
    "    decay_rate : float\n",
    "        Rate of decay for the FID signal\n",
    "    time : float\n",
    "        Current time (0-1 represents the duration of visualization)\n",
    "    time_points : int\n",
    "        Number of time points to display in the FID\n",
    "    \"\"\"\n",
    "    time_points=50\n",
    "    # Clear previous plot\n",
    "    clear_output(wait=True)\n",
    "    \n",
    "    # Create figure with custom layout\n",
    "    fig = plt.figure(figsize=(7, 6))\n",
    "    # Create a gridspec for more control over subplot sizes\n",
    "    gs = fig.add_gridspec(2, 3, height_ratios=[2, 1], width_ratios=[1, 0.5,1])\n",
    "    \n",
    "    # 3D axis for magnetization (top left)\n",
    "    ax1 = fig.add_subplot(gs[0, 0], projection='3d')\n",
    "    # Text box for equations (top right)\n",
    "    ax_text = fig.add_subplot(gs[0, -1])\n",
    "    ax_text.axis('off')  # Hide axes\n",
    "    # 2D axis for FID (bottom, spanning both columns)\n",
    "    ax2 = fig.add_subplot(gs[1, :])\n",
    "    \n",
    "    # Set up the magnetization plot\n",
    "    ax1.set_xlim(-1.2, 1.2)\n",
    "    ax1.set_ylim(-1.2, 1.2)\n",
    "    ax1.set_zlim(-0.2, 1.2)\n",
    "    ax1.set_xlabel('X')\n",
    "    ax1.set_ylabel('Y')\n",
    "    ax1.set_zlabel('Z')\n",
    "    ax1.set_title('Macroscopic Magnetization')\n",
    "    \n",
    "    # Draw B0 field vector\n",
    "    ax1.quiver(0, 0, 0, 0, 0, 1.0, color='blue', arrow_length_ratio=0.1, label='B₀')\n",
    "    \n",
    "    # Draw detection coil area vector (A)\n",
    "    ax1.quiver(0, 0, 0, 1.0, 0, 0, color='green', arrow_length_ratio=0.1, label='A (coil)')\n",
    "    \n",
    "    # Calculate precession\n",
    "    omega = 2 * np.pi * B0  # Larmor frequency (scaled)\n",
    "    current_angle = omega * time\n",
    "    \n",
    "    # Magnetization starts at 90° to B0 (in the y-axis)\n",
    "    # The magnetization decays exponentially\n",
    "    magnitude = np.exp(-decay_rate * time)\n",
    "    x_position = magnitude * np.sin(np.pi/2) * np.cos(current_angle)  # sin(90°) = 1\n",
    "    y_position = magnitude * np.sin(np.pi/2) * np.sin(current_angle)  # Initial position is along y\n",
    "    z_position = 0  # Magnetization is in the xy plane after 90° pulse\n",
    "    \n",
    "    # Draw magnetization vector\n",
    "    ax1.quiver(0, 0, 0, x_position, y_position, z_position, \n",
    "             color='red', arrow_length_ratio=0.1, label='M')\n",
    "    \n",
    "    # Draw the circular path for precession\n",
    "    theta_path = np.linspace(0, 2*np.pi, 40)\n",
    "    radii = np.linspace(magnitude, 1.0, 10)[::-1]  # Decreasing radii\n",
    "    \n",
    "    # Draw precession path with decreasing radii to show decay\n",
    "    # Use fewer radii to improve performance\n",
    "    radii = np.linspace(magnitude, 1.0, 4)[::-1]  # Reduced from 10 to 4 points\n",
    "    \n",
    "    for r in radii:\n",
    "        # Use fewer points around the circle\n",
    "        theta_path = np.linspace(0, 2*np.pi, 20)  # Reduced from 40 to 20 points\n",
    "        x_path = r * np.cos(theta_path)\n",
    "        y_path = r * np.sin(theta_path)\n",
    "        z_path = np.zeros_like(theta_path)\n",
    "        alpha = 0.1 + 0.4 * (r/1.0)  # Fade out for smaller radii\n",
    "        ax1.plot(x_path, y_path, z_path, 'b--', alpha=alpha)\n",
    "    \n",
    "    # Add legend\n",
    "    ax1.legend(loc='upper right')\n",
    "    \n",
    "    # Calculate FID signal\n",
    "    # FID is proportional to derivative of the x-component of magnetization\n",
    "    # When M·A is maximum, derivative is zero; when M·A is zero, derivative is maximum\n",
    "    t_array = np.linspace(0, 3, time_points)  # Extended time range to show full decay\n",
    "    \n",
    "    # Magnetic flux through coil is proportional to cos(omega * t)\n",
    "    # Derivative of cos is -sin, so FID is proportional to sin(omega * t)\n",
    "    fid_signal = np.exp(-decay_rate * t_array) * np.sin(omega * t_array)\n",
    "    \n",
    "    # Convert the current time to an index in the t_array\n",
    "    current_index = min(int(time * (time_points - 1) / 3), time_points - 1)  # Adjusted for new time range\n",
    "    \n",
    "    # Plot FID signal\n",
    "    ax2.set_xlim(0, 3)  # Extended time range to show full decay\n",
    "    ax2.set_ylim(-1.1, 1.1)\n",
    "    ax2.set_xlabel('Time')\n",
    "    ax2.set_ylabel('Voltage')\n",
    "    ax2.set_title('Free Induction Decay (FID)')\n",
    "    \n",
    "    # Plot the FID signal as discrete points\n",
    "    colors = ['black'] * time_points\n",
    "    colors[current_index] = 'red'\n",
    "    \n",
    "    # Plot as bars with adjusted width for the extended time range\n",
    "    ax2.bar(t_array, fid_signal, width=2.4/time_points, color=colors, alpha=0.7)\n",
    "    \n",
    "    # Add annotations\n",
    "    ax2.axhline(y=0, color='gray', linestyle='-', alpha=0.5)\n",
    "    ax2.grid(True, alpha=0.3)\n",
    "    \n",
    "    # Add formulas to text box\n",
    "    formula_text = (\n",
    "        f\"$\\\\omega_0 = \\\\gamma B_0 = {B0:.1f}$\\n\\n\"\n",
    "        f\"$\\\\Phi = M \\\\cdot A = M_x$\\n\\n\"\n",
    "        f\"$V_{{\\mathrm{{induced}}}} = -\\\\frac{{d\\\\Phi}}{{dt}}$\\n\\n\"\n",
    "        f\"$= -\\\\frac{{d(M_x)}}{{dt}}$\\n\\n\"\n",
    "        f\"$\\\\propto e^{{-{decay_rate:.2f}t}} \\\\sin(\\\\omega_0 t)$\"\n",
    "    )\n",
    "    ax_text.text(0.1, 0.5, formula_text, fontsize=12, \n",
    "                 bbox=dict(facecolor='white', alpha=0.8, boxstyle='round,pad=0.5'),\n",
    "                 verticalalignment='center')\n",
    "    \n",
    "    plt.tight_layout()\n",
    "    plt.show()\n"
   ]
  },
  {
   "cell_type": "code",
   "execution_count": 9,
   "id": "2f7eac72",
   "metadata": {},
   "outputs": [
    {
     "data": {
      "application/vnd.jupyter.widget-view+json": {
       "model_id": "e461afb522d646108e67a1d9654d7ce7",
       "version_major": 2,
       "version_minor": 0
      },
      "text/plain": [
       "interactive(children=(FloatSlider(value=1.0, description='B0', max=2.0, min=0.2, step=0.2), FloatSlider(value=…"
      ]
     },
     "metadata": {},
     "output_type": "display_data"
    }
   ],
   "source": [
    "# Use widgets.interact to create the interactive visualization\n",
    "widgets.interact(\n",
    "    plot_fid,\n",
    "    B0=(0.2, 2.0, 0.2),        # Controls Larmor frequency\n",
    "    decay_rate=(0.1, 2.0, 0.1), # Controls decay rate (default 2.0)\n",
    "    time=(0, 3, 0.05),      # Current time (extended range)\n",
    ");\n"
   ]
  },
  {
   "cell_type": "code",
   "execution_count": 10,
   "id": "4eac1e3b",
   "metadata": {},
   "outputs": [],
   "source": [
    "def xyz_from_smiles(smiles_string):\n",
    "    rdkit_molecule = Chem.MolFromSmiles(smiles_string)\n",
    "    rdkit_molecule = Chem.AddHs(rdkit_molecule)\n",
    "    result = AllChem.EmbedMolecule(rdkit_molecule, randomSeed=42)\n",
    "    if result != 0:\n",
    "        raise ValueError(\"Embedding failed for the molecule\")\n",
    "    result = AllChem.MMFFOptimizeMolecule(rdkit_molecule)\n",
    "    \n",
    "    if result != 0:\n",
    "        raise ValueError(\"Optimization failed for the molecule\")\n",
    "    \n",
    "    xyz = Chem.MolToXYZBlock(rdkit_molecule)\n",
    "    return xyz"
   ]
  },
  {
   "cell_type": "code",
   "execution_count": 11,
   "id": "49ba8d00",
   "metadata": {},
   "outputs": [],
   "source": [
    "def show_molecule(smiles_string):\n",
    "    xyz = xyz_from_smiles(smiles_string)\n",
    "    view = py3Dmol.view(width=400,height=400)\n",
    "    view.addModel(xyz,'xyz')\n",
    "    view.setStyle({'sphere':{'radius' : 0.3}, 'stick' : {'radius': 0.2}})\n",
    "    view.setStyle({'element': 'H'}, {'sphere': {'radius': 0.3, 'color': 'white'}})\n",
    "    view.zoomTo()\n",
    "    view.show()"
   ]
  },
  {
   "cell_type": "code",
   "execution_count": 12,
   "id": "ed017db4",
   "metadata": {},
   "outputs": [
    {
     "data": {
      "application/3dmoljs_load.v0": "<div id=\"3dmolviewer_1754342870938784\"  style=\"position: relative; width: 400px; height: 400px;\">\n        <p id=\"3dmolwarning_1754342870938784\" style=\"background-color:#ffcccc;color:black\">3Dmol.js failed to load for some reason.  Please check your browser console for error messages.<br></p>\n        </div>\n<script>\n\nvar loadScriptAsync = function(uri){\n  return new Promise((resolve, reject) => {\n    //this is to ignore the existence of requirejs amd\n    var savedexports, savedmodule;\n    if (typeof exports !== 'undefined') savedexports = exports;\n    else exports = {}\n    if (typeof module !== 'undefined') savedmodule = module;\n    else module = {}\n\n    var tag = document.createElement('script');\n    tag.src = uri;\n    tag.async = true;\n    tag.onload = () => {\n        exports = savedexports;\n        module = savedmodule;\n        resolve();\n    };\n  var firstScriptTag = document.getElementsByTagName('script')[0];\n  firstScriptTag.parentNode.insertBefore(tag, firstScriptTag);\n});\n};\n\nif(typeof $3Dmolpromise === 'undefined') {\n$3Dmolpromise = null;\n  $3Dmolpromise = loadScriptAsync('https://cdnjs.cloudflare.com/ajax/libs/3Dmol/2.4.0/3Dmol-min.js');\n}\n\nvar viewer_1754342870938784 = null;\nvar warn = document.getElementById(\"3dmolwarning_1754342870938784\");\nif(warn) {\n    warn.parentNode.removeChild(warn);\n}\n$3Dmolpromise.then(function() {\nviewer_1754342870938784 = $3Dmol.createViewer(document.getElementById(\"3dmolviewer_1754342870938784\"),{backgroundColor:\"white\"});\nviewer_1754342870938784.zoomTo();\n\tviewer_1754342870938784.addModel(\"12\\n\\nC      0.807728   -1.137001    0.018444\\nC      1.388666    0.130880   -0.004605\\nC      0.580937    1.267881   -0.023051\\nC     -0.807728    1.137001   -0.018440\\nC     -1.388664   -0.130879    0.004618\\nC     -0.580937   -1.267881    0.023058\\nH      1.437040   -2.022857    0.032799\\nH      2.470595    0.232848   -0.008207\\nH      1.033557    2.255704   -0.041026\\nH     -1.437044    2.022855   -0.032820\\nH     -2.470593   -0.232848    0.008209\\nH     -1.033556   -2.255703    0.041019\\n\",\"xyz\");\n\tviewer_1754342870938784.setStyle({\"sphere\": {\"radius\": 0.3}, \"stick\": {\"radius\": 0.2}});\n\tviewer_1754342870938784.setStyle({\"element\": \"H\"},{\"sphere\": {\"radius\": 0.3, \"color\": \"white\"}});\n\tviewer_1754342870938784.zoomTo();\nviewer_1754342870938784.render();\n});\n</script>",
      "text/html": [
       "<div id=\"3dmolviewer_1754342870938784\"  style=\"position: relative; width: 400px; height: 400px;\">\n",
       "        <p id=\"3dmolwarning_1754342870938784\" style=\"background-color:#ffcccc;color:black\">3Dmol.js failed to load for some reason.  Please check your browser console for error messages.<br></p>\n",
       "        </div>\n",
       "<script>\n",
       "\n",
       "var loadScriptAsync = function(uri){\n",
       "  return new Promise((resolve, reject) => {\n",
       "    //this is to ignore the existence of requirejs amd\n",
       "    var savedexports, savedmodule;\n",
       "    if (typeof exports !== 'undefined') savedexports = exports;\n",
       "    else exports = {}\n",
       "    if (typeof module !== 'undefined') savedmodule = module;\n",
       "    else module = {}\n",
       "\n",
       "    var tag = document.createElement('script');\n",
       "    tag.src = uri;\n",
       "    tag.async = true;\n",
       "    tag.onload = () => {\n",
       "        exports = savedexports;\n",
       "        module = savedmodule;\n",
       "        resolve();\n",
       "    };\n",
       "  var firstScriptTag = document.getElementsByTagName('script')[0];\n",
       "  firstScriptTag.parentNode.insertBefore(tag, firstScriptTag);\n",
       "});\n",
       "};\n",
       "\n",
       "if(typeof $3Dmolpromise === 'undefined') {\n",
       "$3Dmolpromise = null;\n",
       "  $3Dmolpromise = loadScriptAsync('https://cdnjs.cloudflare.com/ajax/libs/3Dmol/2.4.0/3Dmol-min.js');\n",
       "}\n",
       "\n",
       "var viewer_1754342870938784 = null;\n",
       "var warn = document.getElementById(\"3dmolwarning_1754342870938784\");\n",
       "if(warn) {\n",
       "    warn.parentNode.removeChild(warn);\n",
       "}\n",
       "$3Dmolpromise.then(function() {\n",
       "viewer_1754342870938784 = $3Dmol.createViewer(document.getElementById(\"3dmolviewer_1754342870938784\"),{backgroundColor:\"white\"});\n",
       "viewer_1754342870938784.zoomTo();\n",
       "\tviewer_1754342870938784.addModel(\"12\\n\\nC      0.807728   -1.137001    0.018444\\nC      1.388666    0.130880   -0.004605\\nC      0.580937    1.267881   -0.023051\\nC     -0.807728    1.137001   -0.018440\\nC     -1.388664   -0.130879    0.004618\\nC     -0.580937   -1.267881    0.023058\\nH      1.437040   -2.022857    0.032799\\nH      2.470595    0.232848   -0.008207\\nH      1.033557    2.255704   -0.041026\\nH     -1.437044    2.022855   -0.032820\\nH     -2.470593   -0.232848    0.008209\\nH     -1.033556   -2.255703    0.041019\\n\",\"xyz\");\n",
       "\tviewer_1754342870938784.setStyle({\"sphere\": {\"radius\": 0.3}, \"stick\": {\"radius\": 0.2}});\n",
       "\tviewer_1754342870938784.setStyle({\"element\": \"H\"},{\"sphere\": {\"radius\": 0.3, \"color\": \"white\"}});\n",
       "\tviewer_1754342870938784.zoomTo();\n",
       "viewer_1754342870938784.render();\n",
       "});\n",
       "</script>"
      ]
     },
     "metadata": {},
     "output_type": "display_data"
    }
   ],
   "source": [
    "show_molecule('C1=CC=CC=C1')"
   ]
  },
  {
   "cell_type": "code",
   "execution_count": 13,
   "id": "f6f2d88f",
   "metadata": {},
   "outputs": [],
   "source": [
    "def create_psi4_molecule(smiles_string):\n",
    "    '''\n",
    "    INPUT:\n",
    "    xyz format molecule coordinates\n",
    "    OUTPUT:\n",
    "    psi4-compatible molecular geometry object\n",
    "    '''\n",
    "    xyz_block = xyz_from_smiles(smiles_string)\n",
    "    xyz_lines = xyz_block.split('\\n')\n",
    "    psi_coords = \"\\n\".join([\"0 1\"] + xyz_lines[2:])\n",
    "    psi4_molecule = psi4.geometry(psi_coords)\n",
    "    return psi4_molecule"
   ]
  },
  {
   "cell_type": "code",
   "execution_count": 14,
   "id": "8fad8044",
   "metadata": {},
   "outputs": [],
   "source": [
    "octatetraene = 'C=CC=CC=CC=C'\n",
    "psi4_mol = create_psi4_molecule(octatetraene)\n",
    "psi4.set_output_file('output.dat',False)\n",
    "psi4.set_memory('1 GB')\n",
    "my_theory = 'SCF/STO-3G'\n",
    "energy, wfn = psi4.energy(my_theory,return_wfn=True,molecule=psi4_mol)"
   ]
  },
  {
   "cell_type": "code",
   "execution_count": 15,
   "id": "c1871b79",
   "metadata": {},
   "outputs": [
    {
     "data": {
      "image/png": "[encoded data removed]",
      "text/plain": [
       "<Figure size 640x480 with 1 Axes>"
      ]
     },
     "metadata": {},
     "output_type": "display_data"
    }
   ],
   "source": [
    "plt.scatter(range(len(wfn.epsilon_a().np)),wfn.epsilon_a().np)\n",
    "plt.title('Orbital Energies')\n",
    "plt.ylabel('Energy [a.u.]')\n",
    "plt.xlabel('Orbital Index')\n",
    "plt.xlim(10,50)\n",
    "plt.ylim(-2,2) #Try visualizing the plot with and without these limits.\n",
    "plt.show()"
   ]
  },
  {
   "cell_type": "code",
   "execution_count": 18,
   "id": "4c4a0ded",
   "metadata": {},
   "outputs": [],
   "source": [
    "os.mkdir('cubes')\n",
    "psi4.set_options({\n",
    "    'CUBEPROP_TASKS':  ['orbitals'],\n",
    "    'CUBEPROP_FILEPATH': 'cubes',\n",
    "    'CUBEPROP_ORBITALS' : list(range(25,35))\n",
    "})\n",
    "psi4.cubeprop(wfn)"
   ]
  },
  {
   "cell_type": "code",
   "execution_count": 19,
   "id": "9a53d5e2",
   "metadata": {},
   "outputs": [
    {
     "name": "stdout",
     "output_type": "stream",
     "text": [
      "CubeViewer: listing cube files from the directory cubes\n",
      "Reading 10 cube files\n"
     ]
    },
    {
     "data": {
      "application/vnd.jupyter.widget-view+json": {
       "model_id": "b7b7a04a3fea4967a36fc0c7606cf22d",
       "version_major": 2,
       "version_minor": 0
      },
      "text/plain": [
       "VBox(children=(HTML(value='<div align=\"center\" style=\"font-size:16px;font-family:Helvetica;font-weight: bold;\"…"
      ]
     },
     "metadata": {},
     "output_type": "display_data"
    },
    {
     "data": {
      "application/vnd.jupyter.widget-view+json": {
       "model_id": "90b3f74a49fd4ed5be9a6b87113363e0",
       "version_major": 2,
       "version_minor": 0
      },
      "text/plain": [
       "HTML(value='\\n        <style>\\n           .jupyter-widgets-output-area .output_scroll {\\n                heigh…"
      ]
     },
     "metadata": {},
     "output_type": "display_data"
    },
    {
     "data": {
      "application/vnd.jupyter.widget-view+json": {
       "model_id": "5a679c18135048e49ec9501434554153",
       "version_major": 2,
       "version_minor": 0
      },
      "text/plain": [
       "interactive(children=(Select(description='Cube files:', options=('MO   25a (25-A)', 'MO   26a (26-A)', 'MO   2…"
      ]
     },
     "metadata": {},
     "output_type": "display_data"
    }
   ],
   "source": [
    "view = fortecubeview.plot('cubes',colorscheme='wow')"
   ]
  },
  {
   "cell_type": "code",
   "execution_count": 2,
   "id": "1c61d098",
   "metadata": {},
   "outputs": [],
   "source": [
    "import shutil\n",
    "shutil.rmtree('cubes')"
   ]
  },
  {
   "cell_type": "code",
   "execution_count": null,
   "id": "851e3f66",
   "metadata": {},
   "outputs": [],
   "source": []
  }
 ],
 "metadata": {
  "kernelspec": {
   "display_name": "chm4411l",
   "language": "python",
   "name": "python3"
  },
  "language_info": {
   "codemirror_mode": {
    "name": "ipython",
    "version": 3
   },
   "file_extension": ".py",
   "mimetype": "text/x-python",
   "name": "python",
   "nbconvert_exporter": "python",
   "pygments_lexer": "ipython3",
   "version": "3.11.10"
  }
 },
 "nbformat": 4,
 "nbformat_minor": 5
}
