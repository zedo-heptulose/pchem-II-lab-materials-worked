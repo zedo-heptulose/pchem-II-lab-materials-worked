{
 "cells": [
  {
   "cell_type": "markdown",
   "id": "1bede9b6-0d2e-417c-9942-d925c22cddd5",
   "metadata": {},
   "source": [
    "# Libraries\n",
    "* Execute this cell before going any further."
   ]
  },
  {
   "cell_type": "code",
   "execution_count": null,
   "id": "6998811b-34ec-4f9d-a422-5c256b3518cd",
   "metadata": {},
   "outputs": [],
   "source": [
    "import ipywidgets as widgets\n",
    "import matplotlib.pyplot as plt\n",
    "import numpy as np\n",
    "import pandas as pd"
   ]
  },
  {
   "cell_type": "markdown",
   "id": "f09fadaa-0d5b-4271-8ae5-716f88d1b1bb",
   "metadata": {},
   "source": [
    "<br/><br/>\n",
    "<br/><br/>"
   ]
  },
  {
   "cell_type": "markdown",
   "id": "f4b906a7-2eef-4953-be60-ecf702831f2f",
   "metadata": {},
   "source": [
    "# Fluorescence properties of ruby"
   ]
  },
  {
   "cell_type": "markdown",
   "id": "0f74ff59-72ea-452a-afb6-ea0180ea3c5d",
   "metadata": {},
   "source": [
    "In this lab, we will explore one of the fundamental processes that make lasers possible, using the first-ever lasing medium—ruby! We'll explore the fluorescence of this crystal, along with the competing properties that affect its efficiency (and usefulness as a lasing medium). Before we start working with our data, it's worth putting it in context by talking about the basic physics of lasers.\n",
    "\n",
    "__Fundamental Physics__\n",
    "- __Bosons and Fermions__: These terms refer to particles with integer and half-integer spin, respectively. Photons are bosons and Electrons are fermions.\n",
    "- __The Exclusion Principle for Fermions__ : No two fermions can occupy the same state. This is why there can only be two electrons in an orbital (And why you don't fall through the floor!).\n",
    "- __Boson Bunching__: Bosons, however, actually prefer to occupy the same quantum state, and tend to \"clump together\".\n",
    "\n",
    "__Lasing__\n",
    "- Ruby (Al$_2$O$_3$ doped with Cr$^{3+}$) is placed in a cavity with partial mirrors on either end.\n",
    "- A pump light source is used to excite electrons in the Cr$^{3+}$ atoms.\n",
    "- The excited atoms undergo fluorescence, emitting photons (at a less energetic wavelength than the pump frequency).\n",
    "- When a fluorescent photon passes by another excited Cr${^3+}$ ion, it stimulates emission of an identical photon, with the same direction, phase, and polarity (due to boson bunching).\n",
    "- This cascading process converts incoherent pump light into coherent laser light.\n",
    "\n",
    "__In this Lab__\n",
    "We will:\n",
    "- Explore how the fluorescence lifetime of Ruby changes with temperature\n",
    "- Determine the rates of different radiative and non-radiative processes\n",
    "- Write Python code to process large amounts of data \n",
    "\n",
    "Understanding these relaxation pathways is necessary for determining the quantum yield of a lasing medium, which impacts its utility in laser applications.\n",
    "\n",
    "> For students interested in learning more:  [How Lasers Work - A Complete Guide](https://www.youtube.com/watch?v=_JOchLyNO_w)\n",
    "\n"
   ]
  },
  {
   "cell_type": "markdown",
   "id": "b5299fc7-f280-4a68-b147-4e3e270c8404",
   "metadata": {},
   "source": [
    "<br/><br/>"
   ]
  },
  {
   "cell_type": "markdown",
   "id": "cac99033-8f22-4e8d-ae04-72ebf89b5830",
   "metadata": {},
   "source": [
    "## PART 1 - Fluorescence lifetime\n",
    "\n",
    "### Ruby Fluorescence Process\n",
    "\n",
    "In our experiment, the fluorescence process in ruby follows these steps:\n",
    "\n",
    "- Our Nd:YAG laser excites Cr$^{3+}$ ions in the ruby lattice from the ground state (⁴A₂) to an excited state (⁴T₂)\n",
    "- From the ⁴T₂ state, rapid thermal relaxation occurs to the slightly lower energy ²E excited state\n",
    "- The ion then emits a photon and relaxes back to the ground state\n",
    "\n",
    "This emission pathway is the source of photons used in ruby lasers. However, competing processes can occur:\n",
    "\n",
    "- Radiative relaxation directly from the ⁴T₂ state\n",
    "- Non-radiative relaxation from the ⁴T₂ state (where energy is lost as heat)\n",
    "\n",
    "Both of these alternative pathways are temperature-dependent, which is why we'll examine how fluorescence lifetime changes with temperature.\n",
    "\n",
    "### Measuring Fluorescence Lifetime\n",
    "\n",
    "For a decaying exponential of the form e⁻ᵗ/ᵗᵃᵘ:\n",
    "\n",
    "- τ (tau) represents the fluorescence lifetime\n",
    "- This is the time required for the intensity to decay to 1/e (approximately 37%) of its initial value\n",
    "\n",
    "Our experimental data consists of fluorescence intensity versus time, which should follow this exponential decay pattern. To extract the lifetime:\n",
    "\n",
    "1. Convert the signal (intensity) to its natural logarithm\n",
    "2. Perform linear regression on the resulting straight line\n",
    "3. The negative reciprocal of the slope gives us τ\n",
    "\n",
    "Since we have collected nearly 100 such decay curves at different temperatures, we'll need to develop a function that can:\n",
    "\n",
    "- Process a single decay curve to extract the lifetime\n",
    "- Be applied systematically to our entire dataset\n",
    "\n",
    "This approach will allow us to efficiently analyze our data and determine how temperature affects the fluorescence lifetime of ruby.\n"
   ]
  },
  {
   "cell_type": "markdown",
   "id": "a2e039a4-b023-4859-9f14-2a17b4abaa00",
   "metadata": {},
   "source": [
    "### CODE\n",
    "- Load a dataset and plot the raw fluorescence decay curve\n",
    "- Process the data by adding an offset and taking the natural logarithm\n",
    "- Identify the linear region of the log plot for analysis\n",
    "- Use linear regression to extract the lifetime value from the slope"
   ]
  },
  {
   "cell_type": "code",
   "execution_count": null,
   "id": "7af10065-7457-4ad9-92d3-ad71a371fe21",
   "metadata": {},
   "outputs": [],
   "source": [
    "data = pd.read_csv('ruby-data-2/tek0001CH1.csv',skiprows=22)\n",
    "data\n",
    "#make sure row names are TIME and CH1\n",
    "#may need to adjust skiprows argument otherwise"
   ]
  },
  {
   "cell_type": "code",
   "execution_count": null,
   "id": "e3442fd7-0558-40e5-9b9a-1f60a08e7fd7",
   "metadata": {},
   "outputs": [],
   "source": [
    "plt.plot( #make a plot of this data\n",
    "    data['some column name'], #plot columns of the data\n",
    "    data['some other column name']\n",
    ")\n",
    "plt.title() #set these appropriately\n",
    "plt.xlabel()\n",
    "plt.ylabel()\n",
    "plt.show()"
   ]
  },
  {
   "cell_type": "code",
   "execution_count": null,
   "id": "e8af1634-f9e4-4ff5-96ae-7de8b0c683a4",
   "metadata": {},
   "outputs": [],
   "source": [
    "data['normalized ch1'] = data['CH1 (V)'] + abs(min(data['CH1 (V)'])) + 0.001\n",
    "data[#make a column for log norm ch1 = np.log(data['some column'])"
   ]
  },
  {
   "cell_type": "code",
   "execution_count": null,
   "id": "0dcc871f-9bfc-48aa-adef-4df28f1aa158",
   "metadata": {},
   "outputs": [],
   "source": [
    "plt.plot(data['TIME (s)'],data['ln(CH1+)'])\n",
    "plt.title() #set these appropriately\n",
    "plt.xlabel()\n",
    "plt.ylabel()\n",
    "plt.show()"
   ]
  },
  {
   "cell_type": "code",
   "execution_count": null,
   "id": "5d3d8085-938f-4d28-a7b4-891248957e05",
   "metadata": {},
   "outputs": [],
   "source": [
    "############# performing a linear fit on the valid range\n",
    "\n",
    "#set time and signal thresholds to filter our data with\n",
    "time_thresh = #???\n",
    "signal_thresh = #??? small positive number\n",
    "time_column_name = #???\n",
    "data = data[data['time key'] > time_thresh]\n",
    "data = data[data['normalized ch1'] > signal_thresh]\n",
    "\n",
    "x = # time column goes here (data[time_column])\n",
    "y = # logarithm column goes here (data[log_column])\n",
    "\n",
    "slope, intercept = np.polyfit(x,y,1) # use polyfit\n",
    "lifetime_tau = -1 / slope\n",
    "print(f'{lifetime_tau:.6f} s')"
   ]
  },
  {
   "cell_type": "code",
   "execution_count": null,
   "id": "bc4f10e1-8114-4be0-ab43-4724654ae861",
   "metadata": {},
   "outputs": [],
   "source": [
    "x_fit = np.linspace(0,x.max(),100)\n",
    "y_fit = # multiply x_fit by slope and add intercept to get predicted data points\n",
    "plt.plot( # plot x and y (time and logarithm)\n",
    "plt.plot(# plot x_fit and y_fit here\n",
    "plt.show()"
   ]
  },
  {
   "cell_type": "markdown",
   "id": "8df57010-4506-463f-a802-fe36d2916d1b",
   "metadata": {},
   "source": [
    "### SHORT RESPONSE QUESTIONS\n",
    "1. Why do we have to add the minimum value of our spectrum to every point before taking the logarithm? Will this offset affect our obtained lifetime values? Why or why not?\n",
    "2. The fluorescence lifetime (and thus the width of the linear region) will change for each run. How can we ensure that we are only choosing values in the linear region of an arbitrary run if we do not know what time interval it corresponds to?\n",
    "### ANSWERS"
   ]
  },
  {
   "cell_type": "markdown",
   "id": "9aeac3cd-b952-45db-b78e-2314b975355f",
   "metadata": {},
   "source": []
  },
  {
   "cell_type": "markdown",
   "id": "cda4c686-3fd3-457d-b6ca-6e6fb303722c",
   "metadata": {},
   "source": [
    "<br/><br/>"
   ]
  },
  {
   "cell_type": "markdown",
   "id": "198670bd-966f-42ed-bf66-e38bbfa7e413",
   "metadata": {},
   "source": [
    "## Automating the Process\n",
    "\n",
    "\n",
    "Now that we can extract the fluorescence lifetime from each decay curve, we can analyze how this lifetime varies with temperature. But what can we do with this information?\n",
    "\n",
    "The dependence of lifetime on temperature turns out to contain a surprising amount of information about the competing relaxation pathways of our excited Cr$^{3+}$ ions. Lifetime measurements are kinetic data. In our ruby system, we're considering three energy levels with three relaxation pathways, each with its own rate constant:\n",
    "\n",
    "- Radiative relaxation from the $^2E$ state (rate constant $A_E$)\n",
    "- Radiative relaxation from the $^4T_2$ state (rate constant $A_T$)\n",
    "- Nonradiative (thermal) relaxation from the $^4T_2$ state (rate constant $N(T)$)\n",
    "\n",
    "The observed fluorescence lifetime $\\tau$ is related to the overall relaxation rate by:\n",
    "$$\n",
    "A_{overall} = 1/\\tau\n",
    "$$\n",
    "How will these rate constants combine to give us the overall rate constant?\n",
    "\n",
    "If all the electrons were in the $^2E$ state:\n",
    "$$\n",
    "A_{overall} = A_E\n",
    "$$\n",
    "if all the electrons were in the $^4T_2$ state:\n",
    "$$\n",
    "A_{overall} = A_T + N(T)\n",
    "$$\n",
    "But due to thermal equilibrium, there will be some proportion of electrons in each state, given by the Boltzmann equation:\n",
    "$$\n",
    "\\frac{n_T}{n_E} = \\frac{g_T}{g_E}e^{-(E_T-E_E)/kT} = 8.311e^{-3380/T}\n",
    "$$\n",
    "Where $n_T$ and $n_E$ are the populations of each state, $g_T$ and $g_E$ are the degeneracies of each state, $E_T - E_E$ is the energy difference between the two states, $k$ is Boltzmann's constant, and T is temperature.\n",
    "\n",
    "Therefore, the overall relaxation rate will depend on the proportion of electrons in each state:\n",
    "$$\n",
    "1/\\tau = A_{overall} = \\frac{n_E}{n_E + n_T} \\times{}A_E + \\frac{n_T}{n_T + n_E}\\times{}[A_T + N(T)]\n",
    "$$\n",
    "We can simplify this into the following form, which will be most useful for our calculations:\n",
    "$$\n",
    "\\tau = \\frac{1 + \\frac{n_T}{n_E}}{A_E + [A_T + N(T)]\\frac{n_T}{n_E}}\n",
    "$$\n",
    "\n",
    "This is the model we will use to make sense of our lifetime versus temperature data, and it will allow us to determine $A_E$ and $A_T$, along with the activation energy and frequency factor of thermal relaxation.\n",
    "\n",
    "But first, we must obtain that data. "
   ]
  },
  {
   "cell_type": "markdown",
   "id": "4d019ab7-cdd6-4ddf-b98f-4db604cec77f",
   "metadata": {},
   "source": [
    "### CODE\n",
    "- Create a function to find lifetime given run number. This function should also accept an argument for whether to plot the data as it processes it (for quality assurance purposes)\n",
    "- Use this function with plotting enabled for four different trials, including the first and last trial\n",
    "- Process all of your spectra to get lifetime data for each of them, as an `np.array`\n",
    "- Create an `np.array` of temperature values corresponding to these lifetimes\n",
    "- Plot the relationship between lifetime and temperature\n",
    "- Debug your lifetime function if necessary "
   ]
  },
  {
   "cell_type": "code",
   "execution_count": null,
   "id": "0840b182-d584-404a-bb6f-278f4f2382f8",
   "metadata": {},
   "outputs": [],
   "source": [
    "###################### now turn this into a function!\n",
    "\n",
    "def find_lifetime(run_number,plot=False):\n",
    "    if run_number >= 10:\n",
    "        filename = f'folder/tek00{run_number}CH1.csv' #change folder part of filename as appropriate!\n",
    "    else:\n",
    "        filename = f'folder/tek000{run_number}CH1.csv'\n",
    "    \n",
    "    data = pd.read_csv(filename,skiprows=22) #make sure skiprows here is the same as earlier!\n",
    "\n",
    "    #use the code from before to calculate the lifetime! copy it here and change variable names\n",
    "    #as needed\n",
    "    #make sure we call the lifetime variable lifetime_tau\n",
    "    \n",
    "    if plot: #any plotting functions should go below, so that we only plot when wanted \n",
    "        ... \n",
    "        \n",
    "    return lifetime_tau #reeturn lifetime"
   ]
  },
  {
   "cell_type": "code",
   "execution_count": null,
   "id": "c8fcd59b-1cce-4435-bf30-80f5ea96eb08",
   "metadata": {},
   "outputs": [],
   "source": [
    "############## call your lifetime function for four different runs\n",
    "\n",
    "# need to make sure we're choosing the right range for our linear fit\n",
    "\n",
    "find_lifetime(1,plot=True)"
   ]
  },
  {
   "cell_type": "code",
   "execution_count": null,
   "id": "d36f768d-1437-47fb-91a5-ec315753e38b",
   "metadata": {},
   "outputs": [],
   "source": [
    "find_lifetime(# call it for a couple runs in the middle\n"
   ]
  },
  {
   "cell_type": "code",
   "execution_count": null,
   "id": "c424f83e-d8c3-4d9e-baeb-0bf46f8f849a",
   "metadata": {},
   "outputs": [],
   "source": [
    "find_lifetime(# call it for the last run here"
   ]
  },
  {
   "cell_type": "code",
   "execution_count": null,
   "id": "3010e4d4-ac73-42f9-a9e8-a42f18cf33fb",
   "metadata": {},
   "outputs": [],
   "source": [
    "############ obtaining temperature and lifetime arrays\n",
    "\n",
    "max_index = #??\n",
    "run_indices = [i for i in range(1,max_index)]\n",
    "temperature_difference = #?? #difference in temperature between successive runs\n",
    "min_temperature = #??\n",
    "temperatures = np.array([(i-1) * temperature_difference + min_temperature for i in run_indices])\n",
    "lifetimes = np.array([find_lifetime(i) for i in run_indices])"
   ]
  },
  {
   "cell_type": "code",
   "execution_count": null,
   "id": "07e955c4-0ddd-4a78-a4d4-f13202c7580e",
   "metadata": {},
   "outputs": [],
   "source": [
    "############ plotting\n",
    "\n",
    "plt.scatter(temperatures,lifetimes)\n",
    "plt.title('$\\\\tau$ vs T')\n",
    "plt.ylabel('$\\\\tau$ (s)')\n",
    "plt.xlabel('T (K)')\n",
    "plt.show()"
   ]
  },
  {
   "cell_type": "code",
   "execution_count": null,
   "id": "fad0d916-99de-4b11-a6bb-51e012b4e34a",
   "metadata": {},
   "outputs": [],
   "source": [
    "########## compare to decaying exponential\n",
    "\n",
    "from scipy.optimize import curve_fit\n",
    "\n",
    "def decaying_exp(x,A,a,b,c):\n",
    "    return A * np.exp(-a *( x -b)) +c"
   ]
  },
  {
   "cell_type": "code",
   "execution_count": null,
   "id": "ff19a11d-5442-44a8-b1ed-6325f0b89f40",
   "metadata": {},
   "outputs": [],
   "source": [
    "guess_params = [0.001,1,400,1] # this is a good first guess, adjust if it doesn't converge\n",
    "params, cov = curve_fit(decaying_exp,temperatures,lifetimes,guess_params)"
   ]
  },
  {
   "cell_type": "code",
   "execution_count": null,
   "id": "d1df518c-d409-419f-b5a0-72aa94156a13",
   "metadata": {},
   "outputs": [],
   "source": [
    "plt.plot(temperatures,lifetimes)\n",
    "x_fit = np.linspace(temperatures.min(),temperatures.max(),100)\n",
    "y_fit = decaying_exp(x_fit,*params)\n",
    "plt.plot(x_fit,y_fit,color='red')\n",
    "plt.show()"
   ]
  },
  {
   "cell_type": "markdown",
   "id": "a298c17c-549e-422a-a67e-fe84d6fb707e",
   "metadata": {},
   "source": [
    "### SHORT RESPONSE QUESTIONS\n",
    "1. What are the benefits of automatically processing all of our data with a function this way? What are the possible dangers?\n",
    "2. Did you run into any issues when applying this function to your whole dataset? If so, how did you fix them?\n",
    "### ANSWERS"
   ]
  },
  {
   "cell_type": "markdown",
   "id": "ee6c9892-f5a9-49a5-8fa6-21be0390086e",
   "metadata": {},
   "source": []
  },
  {
   "cell_type": "markdown",
   "id": "ceb0f643-19d4-41e2-8612-540e336e8208",
   "metadata": {},
   "source": [
    "<br/><br/>"
   ]
  },
  {
   "cell_type": "markdown",
   "id": "d876ec6c-2ab7-4dc4-a76a-6f9c2d18ce48",
   "metadata": {},
   "source": [
    "## Finding A_E and A_T\n",
    "\n",
    "Alright, now we have our $\\tau$ vs $T$ data, and we have an equation to make sense of it:\n",
    "$$\n",
    "\\tau = \\frac{1 + \\frac{n_T}{n_E}}{A_E + [A_T + N(T)]\\frac{n_T}{n_E}}\n",
    "$$\n",
    "\n",
    "But how could we use this to determine any of these parameters, since we don't already know any of them? \n",
    "\n",
    "Here is where we run into an important principle in applying mathematical tools to chemistry or physics. __The exact form of this equation gives us less information than an approximation does__.  \n",
    "\n",
    "If we're willing to cancel out small terms, we will find that $n_T/n_E$ is actually very nearly zero for the first few temperatures in our data set. This simplifies our equation to the much more managable:\n",
    "$$\n",
    "A_E = \\frac{1}{\\tau}\n",
    "$$\n",
    "This predicts that lifetime should not depend on temperature; we observe this to be a reasonable approximation for the first few data points, when T is less than 310K.\n",
    "\n",
    "Once we have calculated $A_E$ in this manner, how can we calculate A_T? We will use the same trick: N(T) depends on a process with a high activation energy, and should thus be very nearly zero for most points on our graph, up to around 600K.\n",
    "\n",
    "This gives us the following approximation (note: that's \"$\\frac{n_E}{n_T}$\", not \"$\\frac{n_T}{n_E}$\" there):\n",
    "$$\n",
    "A_T = \\frac{1 + \\frac{n_E}{n_T}}{\\tau} - \\frac{n_E}{n_T}A_E\n",
    "$$\n",
    "\n",
    "We will use these formulae to calculate average values of $A_E$ and $A_T$. \n",
    "\n",
    "Once this is done, we should also overlay our experimental data with the lifetimes predicted by our simplified model, to ensure that our values are reasonable.\n",
    "\n",
    "Python makes both of these tasks quite expedient."
   ]
  },
  {
   "cell_type": "markdown",
   "id": "d50b1d8a-2429-49ed-86ce-0c120061901a",
   "metadata": {},
   "source": [
    "### CODE\n",
    "- Calculate the radiative rate constant A_E using low-temperature data\n",
    "- Create a model function using only A_E and test its predictions\n",
    "- Define a function to calculate the Boltzmann population ratio\n",
    "- Calculate the radiative rate constant A_T using mid-temperature data\n",
    "- Create an improved model incorporating both A_E and A_T\n",
    "- Compare your model predictions with experimental data"
   ]
  },
  {
   "cell_type": "code",
   "execution_count": null,
   "id": "8b00387f-c450-40df-8eae-29e74cf9942c",
   "metadata": {},
   "outputs": [],
   "source": [
    "# define a function calc_AE (formulas above given for reference)\n",
    "def"
   ]
  },
  {
   "cell_type": "code",
   "execution_count": null,
   "id": "dbdfef15-f7bd-410f-9d4d-326196557bab",
   "metadata": {},
   "outputs": [],
   "source": [
    "# choose a temperature value below which the lifetimes appear flat and linear\n",
    "mask = temperatures < #threshold value\n",
    "AE = np.average(calc_AE(lifetimes[mask]))\n",
    "AE"
   ]
  },
  {
   "cell_type": "code",
   "execution_count": null,
   "id": "31fb1a36-b611-4d6b-8061-645075cce3c0",
   "metadata": {},
   "outputs": [],
   "source": [
    "def lifetime_model_AE_only(temperature,AE):\n",
    "    return temperature * 0 + #put your formula here. \n",
    "    #\"temperature * 0 +\" is necessary because it makes sure our result is an array with \n",
    "    #the same length as temperature"
   ]
  },
  {
   "cell_type": "code",
   "execution_count": null,
   "id": "e8e80b1b-22e5-4dfd-ab61-6c921b83fafa",
   "metadata": {},
   "outputs": [],
   "source": [
    "lifetimes_fit = lifetime_model_AE_only(temperatures,AE)\n",
    "# on the same plot, do the following\n",
    "# plot lifetimes vs temperatures\n",
    "# plot A_E model predicted lifetimes vs temperatures\n",
    "# use label=\"the label\" for each plt.plot() call, to differentiate these\n",
    "plt.legend() #plt.legend is required to show labels\n",
    "plt.show()"
   ]
  },
  {
   "cell_type": "code",
   "execution_count": null,
   "id": "0fd2f5ef-457d-43a1-b9a4-d18df4d2f6ba",
   "metadata": {},
   "outputs": [],
   "source": [
    "def population_ratio(temperature):\n",
    "    return 8.311*np.exp(-3380/temperature)"
   ]
  },
  {
   "cell_type": "code",
   "execution_count": null,
   "id": "d11dd43c-2cec-4a5a-ad94-a75f7beb52b0",
   "metadata": {},
   "outputs": [],
   "source": [
    "# define a function calc_AT that accepts tau and temperature as arguments.\n",
    "# this function should use the formula given above to calculate AT from AE and\n",
    "#the thermal population ratio.\n",
    "# might need to feed temperature into the population_ratio function!"
   ]
  },
  {
   "cell_type": "code",
   "execution_count": null,
   "id": "2582044a-9087-4341-bf68-12878a3ed8a5",
   "metadata": {},
   "outputs": [],
   "source": [
    "# choose reasonable min and max values to find A_T!\n",
    "# min should be wherever the max was for your A_E calculation\n",
    "# max should be before N(T) becomes major pathway (around 500K is fine)\n",
    "at_mask = (temperatures > #min val) & (temperatures < #max val)\n",
    "AT = np.average(calc_AT(lifetimes[at_mask],temperatures[at_mask]))\n",
    "AT"
   ]
  },
  {
   "cell_type": "code",
   "execution_count": null,
   "id": "6c418a41-db17-4ced-b2e8-64181da76da1",
   "metadata": {},
   "outputs": [],
   "source": [
    "def lifetime_model_AE_AT(temperature,AE,AT):\n",
    "    # might need to feed temperature into the population_ratio function!\n",
    "    return # use the model above that gives lifetime in terms of temperature, AT, and AE"
   ]
  },
  {
   "cell_type": "code",
   "execution_count": null,
   "id": "0c922f35-c80b-4a42-aadd-d4fb72f17e59",
   "metadata": {},
   "outputs": [],
   "source": [
    "lifetimes_ae_at = lifetime_model_AE_AT(temperatures,AE,AT)\n",
    "# plot experimental lifetimes and temperatures\n",
    "# on the same plot as lifetimes predicted with the A_T A_E only model\n",
    "plt.plot() #experimental lifetimes vs temperatures\n",
    "plt.plot() #lifetimes_ae_at vs temperatures\n",
    "plt.show()"
   ]
  },
  {
   "cell_type": "markdown",
   "id": "e7b82b78-b738-49a8-b3a5-72e29aa18b01",
   "metadata": {},
   "source": [
    "### SHORT RESPONSE QUESTIONS\n",
    "1. How does the asymptotic behavior of our model incorporating only radiative relaxation compare to the end behavior of the experimental data? What does this tell us about the radiative pathways in our crystal?\n",
    "### ANSWERS"
   ]
  },
  {
   "cell_type": "markdown",
   "id": "376573b4-32a3-464f-bf92-1a3a87bd611f",
   "metadata": {},
   "source": []
  },
  {
   "cell_type": "markdown",
   "id": "58a9c5c1-057b-4681-8d08-435adcb8d68d",
   "metadata": {},
   "source": [
    "<br/><br/>"
   ]
  },
  {
   "cell_type": "markdown",
   "id": "ef2221ad-bfdf-45ee-8e01-b9b8165f5155",
   "metadata": {},
   "source": [
    "## Calculating Nonradiative Relaxation Parameters\n",
    "\n",
    "If we've made it this far, we've calculated $A_E$ and $A_T$, and we're ready to examine the thermal relaxation pathway.\n",
    "Recall once more the formula \n",
    "$$\n",
    "\\tau = \\frac{1 + \\frac{n_T}{n_E}}{A_E + [A_T + N(T)]\\frac{n_T}{n_E}},\n",
    "$$\n",
    "Which we are finally able to use in its complete form. We will rearrange to solve for N(T):\n",
    "$$\n",
    "N(T) = \\frac{1 + \\frac{n_E}{n_T}}{\\tau} - \\frac{n_E}{n_T}A_E - A_T\n",
    "$$\n",
    "And we will be able to translate this into a Python function which we can use to calculate N(T) value for each temperature.\n",
    "\n",
    "Once we have obtained data for $N(T)$ versus $T$, we can expand N(T) into the Arrhenius equation and solve for the frequency factor and activation energy.\n",
    "$$\n",
    "N(T) = Ae^{-\\frac{E_a}{kT}}\n",
    "$$\n",
    "We would like to work with this equation in linear form, as taking a linear regression is a simpler task than fitting it in its current state. Rearranging:\n",
    "$$\n",
    "ln(N(T)) = ln(A) + (-\\frac{E_a}{k})(\\frac{1}{T})\n",
    "$$\n",
    "This means we should transform our axes from N(T) to ln(N(T)) and T to 1/T before taking our regression.\n",
    "The logarithm of the frequency factor will be our intercept, and the negative activation energy divided by Boltzmann's constant will be our slope."
   ]
  },
  {
   "cell_type": "markdown",
   "id": "1ee438b6-94e5-421e-9b0d-570721cbb81e",
   "metadata": {},
   "source": [
    "### CODE\n",
    "- Create a function to calculate nonradiative rate constant N(T)\n",
    "- Extract N(T) values from high-temperature data\n",
    "- Plot ln(N(T)) vs. 1/T and perform a linear fit to determine Arrhenius parameters\n",
    "- Calculate the activation energy and frequency factor\n",
    "- Create a complete model that includes all relaxation pathways\n",
    "- Compare the prediction made by your final model against the experimental data"
   ]
  },
  {
   "cell_type": "code",
   "execution_count": null,
   "id": "68659451-b99c-4397-9ff3-813c15491032",
   "metadata": {},
   "outputs": [],
   "source": [
    "# create a calc_NT function that accepts tau, temperature, AE, and AT as arguments\n",
    "def calc_NT(tau,temperature,AE,AT):\n",
    "    pop = population_ratio(temperature)\n",
    "    return # use the given formula!"
   ]
  },
  {
   "cell_type": "code",
   "execution_count": null,
   "id": "be4c5689-0d26-4d53-b689-d82e5f23263c",
   "metadata": {},
   "outputs": [],
   "source": [
    "# ~600 is a reasonable value here. as long as all NT values are positive in the plot\n",
    "nt_mask = temperatures > #set threshold\n",
    "\n",
    "NT_temperatures = temperatures[nt_mask]\n",
    "NT_lifetimes = lifetimes[nt_mask]\n",
    "\n",
    "NT_vals = #call your calc_NT function here to calculate NT from temperatures and lifetimes\n",
    "plt.plot(NT_temperatures,NT_vals)\n",
    "plt.title('N(T) vs T')\n",
    "plt.show()"
   ]
  },
  {
   "cell_type": "code",
   "execution_count": null,
   "id": "cefcee7e-2833-4862-8736-498f4aaff5e1",
   "metadata": {},
   "outputs": [],
   "source": [
    "log_NT = # take logarithm of NT values\n",
    "reciprocal_T = # take reciprocal of NT temperatures (1/T)\n",
    "\n",
    "slope,intercept= np.polyfit(reciprocal_T,log_NT,1)\n",
    "\n",
    "x_fit = np.linspace(reciprocal_T.min(),reciprocal_T.max(),100)\n",
    "y_fit = slope * x_fit + intercept\n",
    "\n",
    "plt.plot(reciprocal_T,log_NT,label='experimental data')\n",
    "plt.plot(x_fit,y_fit,label=f'linear fit: {slope:.2f} * x + {intercept:.2f}')\n",
    "plt.title('log(N(T)) vs 1/T')\n",
    "plt.xlabel('1/T')\n",
    "plt.ylabel('log(N(T))')\n",
    "plt.legend()\n",
    "\n",
    "plt.show()"
   ]
  },
  {
   "cell_type": "code",
   "execution_count": null,
   "id": "30bcf223-f4a7-49ca-8eef-915e0d9c5f62",
   "metadata": {},
   "outputs": [],
   "source": [
    "# one of these is given by ( - slope ) and one is given by np.exp(intercept). Which is which?\n",
    "E_trs_over_k = #?? \n",
    "freqfact = #??"
   ]
  },
  {
   "cell_type": "code",
   "execution_count": null,
   "id": "fcb05310-8572-4724-a1f9-5d589c00e595",
   "metadata": {},
   "outputs": [],
   "source": [
    "def NT_model(temperature,E_trs_over_k,freqfact):\n",
    "    # should calculate NT from temperature using the arrhenius equation\n",
    "    # with the parameters you just calculated\n",
    "\n",
    "def final_lifetime_model(temperature,AE,AT,E_trs_over_k,freqfact):\n",
    "    # pop_rat = population_ratio(temperature)\n",
    "    # N_T = NT_model(temperature,E_trs_over_k,freqfact)\n",
    "    #should use the full explicit form of the lifetime equation depending on all parameters"
   ]
  },
  {
   "cell_type": "code",
   "execution_count": null,
   "id": "4332bd77-94ce-4d92-b817-2ee92acf96cb",
   "metadata": {},
   "outputs": [],
   "source": [
    "# compare model predictions with experiment.\n",
    "final_pred_lifetimes = final_lifetime_model(temperature,AE,AT,E_trs_over_k,freqfact)\n",
    "plt.plot(temperatures,lifetimes,label='experimental')\n",
    "plt.plot(temperatures,final_pred_lifetimes,label='final model')\n",
    "plt.legend()\n",
    "plt.show()"
   ]
  },
  {
   "cell_type": "code",
   "execution_count": null,
   "id": "2d549950-c441-4718-a3fc-d9b6d22db1ec",
   "metadata": {},
   "outputs": [],
   "source": [
    "# calculate activation energy in cm^-1\n",
    "# the Boltzmann constant is 'k' in the Arrhenius equation\n",
    "BOLTZMANN_CONST = 0.695  # cm^-1/K \n",
    "\n",
    "E_trs = #how could you calcuate this?\n",
    "print(f\"Activation energy (cm^-1) : {E_trs:.0f}\")\n",
    "print(f\"frequency factor: {freqfact:.0f}\")"
   ]
  },
  {
   "cell_type": "markdown",
   "id": "514e7d33-61cd-40aa-be5a-895be4abc540",
   "metadata": {},
   "source": [
    "### SHORT RESPONSE QUESTIONS\n",
    "1. How does the behavior compare now? What does this say about this version of our model? What might account for any remaining discrepancies?\n",
    "2. Compare this final model to the initial decaying exponential you fit. What are the advantages of each model? When might you use each?"
   ]
  },
  {
   "cell_type": "markdown",
   "id": "1cea2f38-7529-4963-80de-d28db6e7cfcb",
   "metadata": {},
   "source": []
  },
  {
   "cell_type": "markdown",
   "id": "f2ae1fc6-9071-4b90-9358-32329103aac3",
   "metadata": {},
   "source": [
    "<br/><br/>\n",
    "<br/><br/>"
   ]
  },
  {
   "cell_type": "markdown",
   "id": "f4917e13-4f23-4c34-8b52-71e7fa151cc7",
   "metadata": {},
   "source": [
    "# Reflection"
   ]
  },
  {
   "cell_type": "markdown",
   "id": "f7b7ae28-6c24-4d21-890f-11cb23b0adcf",
   "metadata": {},
   "source": [
    "### SHORT RESPONSE QUESTIONS\n",
    "1. What values were you able to obtain, and what do they physically mean? Is it surprising that so much information is contained in such simple spectra?\n",
    "2. How did using coarse approximations enable us to gain more information than the full explicit forms of the equations?\n",
    "3. How did Python make this data processing task possible? Imagine for a moment, trying to do this by hand using Excel. How does the experience compare?\n",
    "### ANSWER"
   ]
  },
  {
   "cell_type": "markdown",
   "id": "0d806be8-12d5-40e5-8375-bfb60cff3909",
   "metadata": {},
   "source": []
  }
 ],
 "metadata": {
  "kernelspec": {
   "display_name": "Python 3 (ipykernel)",
   "language": "python",
   "name": "python3"
  },
  "language_info": {
   "codemirror_mode": {
    "name": "ipython",
    "version": 3
   },
   "file_extension": ".py",
   "mimetype": "text/x-python",
   "name": "python",
   "nbconvert_exporter": "python",
   "pygments_lexer": "ipython3",
   "version": "3.11.10"
  }
 },
 "nbformat": 4,
 "nbformat_minor": 5
}
