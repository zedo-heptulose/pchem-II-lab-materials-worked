{
 "cells": [
  {
   "cell_type": "code",
   "execution_count": 1,
   "id": "bd28bce1",
   "metadata": {},
   "outputs": [],
   "source": [
    "import os\n",
    "import shutil\n"
   ]
  },
  {
   "cell_type": "code",
   "execution_count": 3,
   "id": "c3020e72",
   "metadata": {},
   "outputs": [],
   "source": [
    "def get_filename(i):\n",
    "    if i < 10:\n",
    "        input = f'tek000{i}CH1.csv'\n",
    "    elif i >=10:\n",
    "        input = f'tek00{i}CH1.csv'\n",
    "    return input\n",
    "\n",
    "directory = 'GREATDATA'     \n",
    "for i in range(2,61):\n",
    "    shutil.move(os.path.join(directory,get_filename(i)),\n",
    "                os.path.join(directory,get_filename(i-1))\n",
    "                )\n",
    "    "
   ]
  },
  {
   "cell_type": "code",
   "execution_count": null,
   "id": "d2b8afcd",
   "metadata": {},
   "outputs": [],
   "source": []
  }
 ],
 "metadata": {
  "kernelspec": {
   "display_name": "Python 3",
   "language": "python",
   "name": "python3"
  },
  "language_info": {
   "codemirror_mode": {
    "name": "ipython",
    "version": 3
   },
   "file_extension": ".py",
   "mimetype": "text/x-python",
   "name": "python",
   "nbconvert_exporter": "python",
   "pygments_lexer": "ipython3",
   "version": "3.10.12"
  }
 },
 "nbformat": 4,
 "nbformat_minor": 5
}
