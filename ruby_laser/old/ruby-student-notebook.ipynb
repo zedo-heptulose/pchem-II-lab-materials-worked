{
 "cells": [
  {
   "cell_type": "markdown",
   "id": "1bede9b6-0d2e-417c-9942-d925c22cddd5",
   "metadata": {},
   "source": [
    "# Libraries\n",
    "* Execute this cell before going any further.\n",
    "> Here we can tell students about possible technical issues or warn them if they need to install anything:  \n",
    "> `conda install whatever-it-is`"
   ]
  },
  {
   "cell_type": "code",
   "execution_count": null,
   "id": "6998811b-34ec-4f9d-a422-5c256b3518cd",
   "metadata": {},
   "outputs": [],
   "source": [
    "import ipywidgets as widgets\n",
    "import matplotlib.pyplot as plt\n",
    "import numpy as np\n",
    "import pandas as pd"
   ]
  },
  {
   "cell_type": "markdown",
   "id": "f09fadaa-0d5b-4271-8ae5-716f88d1b1bb",
   "metadata": {},
   "source": [
    "<br/><br/>\n",
    "<br/><br/>"
   ]
  },
  {
   "cell_type": "markdown",
   "id": "f4b906a7-2eef-4953-be60-ecf702831f2f",
   "metadata": {},
   "source": [
    "# Fluorescence properties of ruby"
   ]
  },
  {
   "cell_type": "markdown",
   "id": "0f74ff59-72ea-452a-afb6-ea0180ea3c5d",
   "metadata": {},
   "source": [
    "In this lab, we will explore one of the fundamental processes that make lasers possible, using the first-ever lasing medium—ruby! We'll explore the fluorescence of this crystal, along with the competing properties that affect its efficiency (and usefulness as a lasing medium). Before we start working with our data, it's worth putting it in context by talking about the basic physics of lasers.\n",
    "\n",
    "__Fundamental Physics__\n",
    "- __Bosons and Fermions__: These terms refer to particles with integer and half-integer spin, respectively. Photons are bosons and electrons are fermions.\n",
    "- __The Exclusion Principle for Fermions__ : No two fermions can occupy the same state. This is why there can only be two electrons in an orbital (And why you don't fall through the floor!).\n",
    "- __Boson Bunching__: Bosons, however, actually prefer to occupy the same quantum state, and tend to \"clump together\".\n",
    "\n",
    "__Lasing__\n",
    "- Ruby (Al$_2$O$_3$ doped with Cr$^{3+}$) is placed in a cavity with partial mirrors on either end.\n",
    "- A pump light source is used to excite electrons in the Cr$^{3+}$ atoms.\n",
    "- The excited atoms undergo fluorescence, emitting photons (at a less energetic wavelength than the pump frequency).\n",
    "- When a fluorescent photon passes by another excited Cr${^3+}$ ion, it stimulates emission of an identical photon, with the same direction, phase, and polarity (due to boson bunching).\n",
    "- This cascading process converts incoherent pump light into coherent laser light.\n",
    "\n",
    "__In this Lab__\n",
    "We will:\n",
    "- Explore how the fluorescence lifetime of Ruby changes with temperature\n",
    "- Determine the rates of different radiative and non-radiative processes\n",
    "- Write Python code to process large amounts of data \n",
    "\n",
    "Understanding these relaxation pathways is necessary for determining the quantum yield of a lasing medium, which impacts its utility in laser applications.\n",
    "\n",
    "> For students interested in learning more:  [How Lasers Work - A Complete Guide](https://www.youtube.com/watch?v=_JOchLyNO_w)\n",
    "\n"
   ]
  },
  {
   "cell_type": "markdown",
   "id": "b5299fc7-f280-4a68-b147-4e3e270c8404",
   "metadata": {},
   "source": [
    "<br/><br/>"
   ]
  },
  {
   "cell_type": "markdown",
   "id": "cac99033-8f22-4e8d-ae04-72ebf89b5830",
   "metadata": {},
   "source": [
    "## PART 1 - Fluorescence lifetime\n",
    "\n",
    "### Ruby Fluorescence Process\n",
    "\n",
    "In our experiment, the fluorescence process in ruby follows these steps:\n",
    "\n",
    "- Our Nd:YAG laser excites Cr$^{3+}$ ions in the ruby lattice from the ground state (⁴A₂) to an excited state (⁴T₂)\n",
    "- From the ⁴T₂ state, rapid thermal relaxation occurs to the slightly lower energy ²E excited state\n",
    "- The ion then emits a photon and relaxes back to the ground state\n",
    "\n",
    "This emission pathway is the source of photons used in ruby lasers. However, competing processes can occur:\n",
    "\n",
    "- Radiative relaxation directly from the ⁴T₂ state\n",
    "- Non-radiative relaxation from the ⁴T₂ state (where energy is lost as heat)\n",
    "\n",
    "Both of these alternative pathways are temperature-dependent, which is why we'll examine how fluorescence lifetime changes with temperature.\n",
    "\n",
    "### Measuring Fluorescence Lifetime\n",
    "\n",
    "For a decaying exponential of the form e⁻ᵗ/ᵗᵃᵘ:\n",
    "\n",
    "- τ (tau) represents the fluorescence lifetime\n",
    "- This is the time required for the intensity to decay to 1/e (approximately 37%) of its initial value\n",
    "\n",
    "Our experimental data consists of fluorescence intensity versus time, which should follow this exponential decay pattern. To extract the lifetime:\n",
    "\n",
    "1. Convert the signal (intensity) to its natural logarithm\n",
    "2. Perform linear regression on the resulting straight line\n",
    "3. The negative reciprocal of the slope gives us τ\n",
    "\n",
    "Since we have collected nearly 100 such decay curves at different temperatures, we'll need to develop a function that can:\n",
    "\n",
    "- Process a single decay curve to extract the lifetime\n",
    "- Be applied systematically to our entire dataset\n",
    "\n",
    "This approach will allow us to efficiently analyze our data and determine how temperature affects the fluorescence lifetime of ruby.\n",
    "\n",
    "\n"
   ]
  },
  {
   "cell_type": "markdown",
   "id": "a2e039a4-b023-4859-9f14-2a17b4abaa00",
   "metadata": {},
   "source": [
    "### CODE\n",
    "- Load a dataset and plot the raw fluorescence decay curve\n",
    "- Process the data by adding an offset and taking the natural logarithm\n",
    "- Identify the linear region of the log plot for analysis\n",
    "- Use linear regression to extract the lifetime value from the slope\n",
    "- Create a function that automates this process for any dataset\n",
    "- Test your function on decay curves from different temperatures"
   ]
  },
  {
   "cell_type": "code",
   "execution_count": null,
   "id": "e64b916c-0888-4155-8cb7-8e29318936d8",
   "metadata": {},
   "outputs": [],
   "source": [
    "# Load the data from file\n",
    "# The skiprows parameter helps us skip the header information in the data file"
   ]
  },
  {
   "cell_type": "code",
   "execution_count": null,
   "id": "fe3e451d-4f12-48cb-9973-31005c752505",
   "metadata": {},
   "outputs": [],
   "source": [
    "# Plot the raw data to visualize the decay curve"
   ]
  },
  {
   "cell_type": "code",
   "execution_count": null,
   "id": "ccff9a08-d8c5-4826-a73d-fe230239fc2f",
   "metadata": {},
   "outputs": [],
   "source": [
    "# Add an offset to make all values positive for logarithm calculation\n",
    "# We need to add a small constant (e.g., 0.001) to avoid log(0)"
   ]
  },
  {
   "cell_type": "code",
   "execution_count": null,
   "id": "317f19d9-a1f0-4268-9189-ca357138d732",
   "metadata": {},
   "outputs": [],
   "source": [
    "# Calculate the natural logarithm of our offset values"
   ]
  },
  {
   "cell_type": "code",
   "execution_count": null,
   "id": "f6c3ea42-e2a3-49d4-9b58-3a82382d015d",
   "metadata": {},
   "outputs": [],
   "source": [
    "# Plot the logarithm values to visualize the linear region"
   ]
  },
  {
   "cell_type": "code",
   "execution_count": null,
   "id": "5db752a1-18bf-4363-870b-ceeeb3af00ef",
   "metadata": {},
   "outputs": [],
   "source": [
    "# Filter the data to select only the linear region for analysis\n",
    "# We might need to exclude early time points and very low signal values"
   ]
  },
  {
   "cell_type": "code",
   "execution_count": null,
   "id": "cdc8b27d-4932-4614-8f41-765f2d0affd6",
   "metadata": {},
   "outputs": [],
   "source": [
    "# Perform linear regression on the filtered data\n",
    "# Remember that for a decay, the slope will be negative\n",
    "# The lifetime tau is the negative reciprocal of the slope"
   ]
  },
  {
   "cell_type": "code",
   "execution_count": null,
   "id": "92d0d983-da57-4ea1-a83f-94f41a02c99a",
   "metadata": {},
   "outputs": [],
   "source": [
    "# Visualize the linear fit on our filtered data\n",
    "# Generate x values spanning our data range\n",
    "# Calculate corresponding y values using our slope and intercept"
   ]
  },
  {
   "cell_type": "code",
   "execution_count": null,
   "id": "8924cc0f-7bc1-4abc-9dfe-dcc2e648d56a",
   "metadata": {},
   "outputs": [],
   "source": [
    "# Create a function to automate this process\n",
    "# The function should take a run number and return the lifetime\n",
    "# Include an optional parameter to display plots"
   ]
  },
  {
   "cell_type": "code",
   "execution_count": null,
   "id": "265634d3-6f5d-4e3c-8cda-03b17a26419e",
   "metadata": {},
   "outputs": [],
   "source": [
    "# Test the function on run #1"
   ]
  },
  {
   "cell_type": "code",
   "execution_count": null,
   "id": "657c4753-e4ad-485f-8e36-8840351dc118",
   "metadata": {},
   "outputs": [],
   "source": [
    "# Test the function on run #30"
   ]
  },
  {
   "cell_type": "code",
   "execution_count": null,
   "id": "ccfa9177-ae21-47a3-9719-9c8b8655b541",
   "metadata": {},
   "outputs": [],
   "source": [
    "# Test the function on run #80"
   ]
  },
  {
   "cell_type": "markdown",
   "id": "8df57010-4506-463f-a802-fe36d2916d1b",
   "metadata": {},
   "source": [
    "### SHORT RESPONSE QUESTIONS\n",
    "1. Why do we have to add the minimum value of our spectrum to every point before taking the logarithm?\n",
    "2. How do our results change if we use a narrower or wider range for our linear regression? What thresholds did you find work best?\n",
    "### ANSWERS"
   ]
  },
  {
   "cell_type": "markdown",
   "id": "9aeac3cd-b952-45db-b78e-2314b975355f",
   "metadata": {},
   "source": []
  },
  {
   "cell_type": "markdown",
   "id": "cda4c686-3fd3-457d-b6ca-6e6fb303722c",
   "metadata": {},
   "source": [
    "<br/><br/>"
   ]
  },
  {
   "cell_type": "markdown",
   "id": "198670bd-966f-42ed-bf66-e38bbfa7e413",
   "metadata": {},
   "source": [
    "## Automating the Process\n",
    "\n",
    "\n",
    "Now that we can extract the fluorescence lifetime from each decay curve, we can analyze how this lifetime varies with temperature. But what can we do with this information?\n",
    "\n",
    "The dependence of lifetime on temperature turns out to contain a surprising amount of information about the competing relaxation pathways of our excited Cr$^{3+}$ ions. Lifetime measurements are kinetic data. In our ruby system, we're considering three energy levels with three relaxation pathways, each with its own rate constant:\n",
    "\n",
    "- Radiative relaxation from the $^2E$ state (rate constant $A_E$)\n",
    "- Radiative relaxation from the $^4T_2$ state (rate constant $A_T$)\n",
    "- Nonradiative (thermal) relaxation from the $^4T_2$ state (rate constant $N(T)$)\n",
    "\n",
    "The observed fluorescence lifetime $\\tau$ is related to the overall relaxation rate by:\n",
    "$$\n",
    "A_{overall} = 1/\\tau\n",
    "$$\n",
    "How will these rate constants combine to give us the overall rate constant?\n",
    "\n",
    "If all the electrons were in the $^2E$ state:\n",
    "$$\n",
    "A_{overall} = A_E\n",
    "$$\n",
    "if all the electrons were in the $^4T_2$ state:\n",
    "$$\n",
    "A_{overall} = A_T + N(T)\n",
    "$$\n",
    "But due to thermal equilibrium, there will be some proportion of electrons in each state, given by the Boltzmann equation:\n",
    "$$\n",
    "\\frac{n_T}{n_E} = \\frac{g_T}{g_E}e^{-(E_T-E_E)/kT} = 8.311e^{-3380/T}\n",
    "$$\n",
    "Where $n_T$ and $n_E$ are the populations of each state, $g_T$ and $g_E$ are the degeneracies of each state, $E_T - E_E$ is the energy difference between the two states, $k$ is Boltzmann's constant, and T is temperature.\n",
    "\n",
    "Therefore, the overall relaxation rate will depend on the proportion of electrons in each state:\n",
    "$$\n",
    "1/\\tau = A_{overall} = \\frac{n_E}{n_E + n_T} \\times{}A_E + \\frac{n_T}{n_T + n_E}\\times{}[A_T + N(T)]\n",
    "$$\n",
    "We can simplify this into the following form, which will be most useful for our calculations:\n",
    "$$\n",
    "\\tau = \\frac{1 + \\frac{n_T}{n_E}}{A_E + [A_T + N(T)]\\frac{n_T}{n_E}}\n",
    "$$\n",
    "\n",
    "This is the model we will use to make sense of our lifetime versus temperature data, and it will allow us to determine $A_E$ and $A_T$, along with the activation energy and frequency factor of thermal relaxation.\n",
    "\n",
    "But first, we must obtain that data. "
   ]
  },
  {
   "cell_type": "markdown",
   "id": "4d019ab7-cdd6-4ddf-b98f-4db604cec77f",
   "metadata": {},
   "source": [
    "### CODE\n",
    "- Process multiple datasets to get lifetime vs. temperature data\n",
    "- Create `np.array`s to store temperature values and corresponding lifetimes\n",
    "- Plot the relationship between lifetime and temperature\n",
    "- Fit the data with a simple exponential decay function"
   ]
  },
  {
   "cell_type": "code",
   "execution_count": null,
   "id": "a3bb393e-2421-4eff-a30c-aa6d9bcbf393",
   "metadata": {},
   "outputs": [],
   "source": [
    "# Create arrays for run indices and corresponding temperatures\n",
    "# Process all datasets to calculate lifetimes\n",
    "# Plot the lifetime vs temperature relationship"
   ]
  },
  {
   "cell_type": "code",
   "execution_count": null,
   "id": "cf97f49a-9a2e-4655-bd6c-d61eee922013",
   "metadata": {},
   "outputs": [],
   "source": [
    "# Import the curve_fit function for fitting our data to a model"
   ]
  },
  {
   "cell_type": "code",
   "execution_count": null,
   "id": "49024ec9-c1cd-40f1-acd4-4353ba1c1b16",
   "metadata": {},
   "outputs": [],
   "source": [
    "# Define a decay function to fit our data\n",
    "# Include parameters for amplitude, decay rate, offset, and vertical shift"
   ]
  },
  {
   "cell_type": "code",
   "execution_count": null,
   "id": "9591d873-8f76-4c4a-b12a-865be39893bd",
   "metadata": {},
   "outputs": [],
   "source": [
    "# Perform curve fitting to find the best parameters\n",
    "# Provide initial parameter guesses to help convergence"
   ]
  },
  {
   "cell_type": "code",
   "execution_count": null,
   "id": "2e817691-82b9-4747-a66a-8e2d3d6bf040",
   "metadata": {},
   "outputs": [],
   "source": [
    "# Plot the experimental data and the fitted curve\n",
    "# Generate a smooth curve using the fitted parameters"
   ]
  },
  {
   "cell_type": "markdown",
   "id": "a298c17c-549e-422a-a67e-fe84d6fb707e",
   "metadata": {},
   "source": [
    "### SHORT RESPONSE QUESTIONS\n",
    "1. How well does the decaying exponential approximate our results? If it is a good approximation (or not), how does this relate to the real formula for the kinetics of the system?\n",
    "### ANSWERS"
   ]
  },
  {
   "cell_type": "markdown",
   "id": "ee6c9892-f5a9-49a5-8fa6-21be0390086e",
   "metadata": {},
   "source": []
  },
  {
   "cell_type": "markdown",
   "id": "ceb0f643-19d4-41e2-8612-540e336e8208",
   "metadata": {},
   "source": [
    "<br/><br/>"
   ]
  },
  {
   "cell_type": "markdown",
   "id": "d876ec6c-2ab7-4dc4-a76a-6f9c2d18ce48",
   "metadata": {},
   "source": [
    "## Finding A_E and A_T\n",
    "\n",
    "Alright, now we have our $\\tau$ vs $T$ data, and we have an equation to make sense of it:\n",
    "$$\n",
    "\\tau = \\frac{1 + \\frac{n_T}{n_E}}{A_E + [A_T + N(T)]\\frac{n_T}{n_E}}\n",
    "$$\n",
    "\n",
    "But how could we use this to determine any of these parameters, since we don't already know any of them? \n",
    "\n",
    "Here is where we run into an important principle in applying mathematical tools to chemistry or physics. __The exact form of this equation gives us less information than an approximation does__.  \n",
    "\n",
    "If we're willing to cancel out small terms, we will find that $n_T/n_E$ is actually very nearly zero for the first few temperatures in our data set. This simplifies our equation to the much more managable:\n",
    "$$\n",
    "A_E = \\frac{1}{\\tau}\n",
    "$$\n",
    "This predicts that lifetime should not depend on temperature; we observe this to be a reasonable approximation for the first few data points, T < 310.\n",
    "\n",
    "Once we have calculated $A_E$ in this manner, how can we calculate A_T? We will use the same trick: N(T) depends on a process with a high activation energy, and should thus be very nearly zero for most points on our graph, up to around 500K. \n",
    "\n",
    "This gives us the following approximation (note: that's \"$\\frac{n_E}{n_T}$\", not \"$\\frac{n_T}{n_E}$\" there):\n",
    "$$\n",
    "A_T = \\frac{1 + \\frac{n_E}{n_T}}{\\tau} - \\frac{n_E}{n_T}A_E\n",
    "$$\n",
    "\n",
    "We will use these formulae to calculate average values of $A_E$ and $A_T$. \n",
    "\n",
    "Once this is done, we should also overlay our experimental data with the lifetimes predicted by our simplified model, to ensure that our values are reasonable.\n",
    "\n",
    "Python makes both of these tasks quite expedient."
   ]
  },
  {
   "cell_type": "markdown",
   "id": "d50b1d8a-2429-49ed-86ce-0c120061901a",
   "metadata": {},
   "source": [
    "### CODE\n",
    "- Calculate the radiative rate constant A_E using low-temperature data\n",
    "- Create a model function using only A_E and test its predictions\n",
    "- Define a function to calculate the Boltzmann population ratio\n",
    "- Calculate the radiative rate constant A_T using mid-temperature data\n",
    "- Create an improved model incorporating both A_E and A_T\n",
    "- Compare your model predictions with experimental data"
   ]
  },
  {
   "cell_type": "code",
   "execution_count": null,
   "id": "3374dbfc-2970-486b-8da0-db70da8a6f79",
   "metadata": {},
   "outputs": [],
   "source": [
    "# Define a function to calculate A_E from lifetime values"
   ]
  },
  {
   "cell_type": "code",
   "execution_count": null,
   "id": "44964b1e-dd5a-4fdc-9312-d30df36692ac",
   "metadata": {},
   "outputs": [],
   "source": [
    "# Create a mask for low-temperature data points (T < 310K)\n",
    "# Calculate the average A_E value using these points"
   ]
  },
  {
   "cell_type": "code",
   "execution_count": null,
   "id": "37ae79b3-e3e7-4f7b-a57a-fb117e4b0f3c",
   "metadata": {},
   "outputs": [],
   "source": [
    "# Define a simple model function using only A_E"
   ]
  },
  {
   "cell_type": "code",
   "execution_count": null,
   "id": "ded2468a-9851-4249-9ecc-60e7e419639c",
   "metadata": {},
   "outputs": [],
   "source": [
    "# Calculate predicted lifetimes using this model\n",
    "# Plot experimental data and model predictions for comparison"
   ]
  },
  {
   "cell_type": "code",
   "execution_count": null,
   "id": "4f8b67a7-e1bc-4ab3-a5a7-4d0847a0e599",
   "metadata": {},
   "outputs": [],
   "source": [
    "# Define a function to calculate the population ratio n_T/n_E\n",
    "# Create a function to calculate A_T using mid-temperature data"
   ]
  },
  {
   "cell_type": "code",
   "execution_count": null,
   "id": "2cf19283-a3b8-4458-8fa5-da577fca9c1b",
   "metadata": {},
   "outputs": [],
   "source": [
    "# Create a mask for mid-temperature data points\n",
    "# Calculate the average A_T value"
   ]
  },
  {
   "cell_type": "code",
   "execution_count": null,
   "id": "2ee7107d-ddd2-4da5-8240-31c898e6c80f",
   "metadata": {},
   "outputs": [],
   "source": [
    "# Define an improved model incorporating both A_E and A_T"
   ]
  },
  {
   "cell_type": "code",
   "execution_count": null,
   "id": "8b00387f-c450-40df-8eae-29e74cf9942c",
   "metadata": {},
   "outputs": [],
   "source": [
    "# Calculate predicted lifetimes using this improved model\n",
    "# Plot experimental data and model predictions for comparison"
   ]
  },
  {
   "cell_type": "markdown",
   "id": "e7b82b78-b738-49a8-b3a5-72e29aa18b01",
   "metadata": {},
   "source": [
    "### SHORT RESPONSE QUESTIONS\n",
    "1. How does the asymptotic behavior of our model incorporating only radiative relaxation compare to the end behavior of the experimental data? Why is this? What can we do to fix it?\n",
    "### ANSWERS"
   ]
  },
  {
   "cell_type": "markdown",
   "id": "376573b4-32a3-464f-bf92-1a3a87bd611f",
   "metadata": {},
   "source": []
  },
  {
   "cell_type": "markdown",
   "id": "58a9c5c1-057b-4681-8d08-435adcb8d68d",
   "metadata": {},
   "source": [
    "<br/><br/>"
   ]
  },
  {
   "cell_type": "markdown",
   "id": "ef2221ad-bfdf-45ee-8e01-b9b8165f5155",
   "metadata": {},
   "source": [
    "## Calculating Nonradiative Relaxation Parameters\n",
    "\n",
    "If we've made it this far, we've calculated $A_E$ and $A_T$, and we're ready to examine the thermal relaxation pathway.\n",
    "Recall once more the formula \n",
    "$$\n",
    "\\tau = \\frac{1 + \\frac{n_T}{n_E}}{A_E + [A_T + N(T)]\\frac{n_T}{n_E}},\n",
    "$$\n",
    "Which we are finally able to use in its complete form. We will rearrange to solve for N(T):\n",
    "$$\n",
    "N(T) = \\frac{1 + \\frac{n_E}{n_T}}{\\tau} - \\frac{n_E}{n_T}A_E - A_T\n",
    "$$\n",
    "And we will be able to translate this into a Python function which we can use to calculate N(T) value for each temperature.\n",
    "\n",
    "Once we have obtained data for $N(T)$ versus $T$, we can expand N(T) into the Arrhenius equation and solve for the frequency factor and activation energy.\n",
    "$$\n",
    "N(T) = Ae^{-\\frac{E_a}{kT}}\n",
    "$$\n",
    "We would like to work with this equation in linear form, as taking a linear regression is a simpler task than fitting it in its current state. Rearranging:\n",
    "$$\n",
    "ln(N(T)) = ln(A) + -\\frac{E_a}{k}(\\frac{1/T})\n",
    "$$\n",
    "This means we should transform our axes from N(T) to ln(N(T)) and T to 1/T before taking our regression.\n",
    "The logarithm of the frequency factor will be our intercept, and the negative activation energy divided by Boltzmann's constant will be our slope."
   ]
  },
  {
   "cell_type": "markdown",
   "id": "1ee438b6-94e5-421e-9b0d-570721cbb81e",
   "metadata": {},
   "source": [
    "### CODE\n",
    "-